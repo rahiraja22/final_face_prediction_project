{
  "cells": [
    {
      "cell_type": "markdown",
      "metadata": {
        "id": "view-in-github",
        "colab_type": "text"
      },
      "source": [
        "<a href=\"https://colab.research.google.com/github/rahiraja22/final_face_prediction_project/blob/main/YOLO8v.ipynb\" target=\"_parent\"><img src=\"https://colab.research.google.com/assets/colab-badge.svg\" alt=\"Open In Colab\"/></a>"
      ]
    },
    {
      "cell_type": "code",
      "execution_count": null,
      "metadata": {
        "colab": {
          "base_uri": "https://localhost:8080/"
        },
        "id": "_4gRbyNzrMdo",
        "outputId": "a8325cc0-8311-4866-9311-aabb906700ab"
      },
      "outputs": [
        {
          "name": "stdout",
          "output_type": "stream",
          "text": [
            "     image_name  width  height   x0   y0    x1   y1\n",
            "0  00001722.jpg   1333    2000  490  320   687  664\n",
            "1  00001044.jpg   2000    1333  791  119  1200  436\n",
            "2  00001050.jpg    667    1000  304  155   407  331\n",
            "3  00001736.jpg    626     417  147   14   519  303\n",
            "4  00003121.jpg    626     418  462   60   599  166\n",
            "Total rows: 3350\n"
          ]
        }
      ],
      "source": [
        "import pandas as pd\n",
        "\n",
        "\n",
        "# Load bounding box CSV\n",
        "df = pd.read_csv('faces.csv')\n",
        "\n",
        "# Show first 5 rows\n",
        "print(df.head())\n",
        "print(\"Total rows:\", len(df))"
      ]
    },
    {
      "cell_type": "code",
      "execution_count": null,
      "metadata": {
        "colab": {
          "base_uri": "https://localhost:8080/"
        },
        "id": "jGwfm51Yr7vZ",
        "outputId": "4ff7c528-2724-4012-8378-56c1f11c5c5d"
      },
      "outputs": [
        {
          "name": "stdout",
          "output_type": "stream",
          "text": [
            "✅ Extracted successfully!\n"
          ]
        }
      ],
      "source": [
        "import zipfile\n",
        "\n",
        "zip_path = \"images-20250718T053658Z-1-001.zip\"\n",
        "extract_path = \"/content/image/\"\n",
        "\n",
        "with zipfile.ZipFile(zip_path, 'r') as zip_ref:\n",
        "    zip_ref.extractall(extract_path)\n",
        "\n",
        "print(\"✅ Extracted successfully!\")"
      ]
    },
    {
      "cell_type": "code",
      "execution_count": null,
      "metadata": {
        "colab": {
          "base_uri": "https://localhost:8080/"
        },
        "id": "Al7BGWT8r83e",
        "outputId": "5e9633b4-4c36-4830-a8a2-5c413c5d872c"
      },
      "outputs": [
        {
          "name": "stdout",
          "output_type": "stream",
          "text": [
            "['00003017.jpg', '00001983.jpg', '00000353.jpg', '00002634.jpg', '00002276.jpg']\n"
          ]
        }
      ],
      "source": [
        "import os\n",
        "\n",
        "image_dir = '/content/image/images/'\n",
        "files = os.listdir(image_dir)\n",
        "print(files[:5])"
      ]
    },
    {
      "cell_type": "code",
      "execution_count": null,
      "metadata": {
        "colab": {
          "base_uri": "https://localhost:8080/",
          "height": 224
        },
        "id": "TFMnXHrQsCYY",
        "outputId": "6787faef-4b77-42e0-ffb8-272c38189d30"
      },
      "outputs": [
        {
          "name": "stdout",
          "output_type": "stream",
          "text": [
            "Total valid images: 3350\n"
          ]
        },
        {
          "data": {
            "application/vnd.google.colaboratory.intrinsic+json": {
              "summary": "{\n  \"name\": \"df\",\n  \"rows\": 3350,\n  \"fields\": [\n    {\n      \"column\": \"image_name\",\n      \"properties\": {\n        \"dtype\": \"string\",\n        \"num_unique_values\": 2204,\n        \"samples\": [\n          \"00000930.jpg\",\n          \"00001225.jpg\",\n          \"00001448.jpg\"\n        ],\n        \"semantic_type\": \"\",\n        \"description\": \"\"\n      }\n    },\n    {\n      \"column\": \"width\",\n      \"properties\": {\n        \"dtype\": \"number\",\n        \"std\": 651,\n        \"min\": 150,\n        \"max\": 8192,\n        \"num_unique_values\": 404,\n        \"samples\": [\n          504,\n          716,\n          994\n        ],\n        \"semantic_type\": \"\",\n        \"description\": \"\"\n      }\n    },\n    {\n      \"column\": \"height\",\n      \"properties\": {\n        \"dtype\": \"number\",\n        \"std\": 604,\n        \"min\": 115,\n        \"max\": 6680,\n        \"num_unique_values\": 523,\n        \"samples\": [\n          518,\n          776,\n          720\n        ],\n        \"semantic_type\": \"\",\n        \"description\": \"\"\n      }\n    },\n    {\n      \"column\": \"x0\",\n      \"properties\": {\n        \"dtype\": \"number\",\n        \"std\": 322,\n        \"min\": 1,\n        \"max\": 5212,\n        \"num_unique_values\": 917,\n        \"samples\": [\n          55,\n          486,\n          188\n        ],\n        \"semantic_type\": \"\",\n        \"description\": \"\"\n      }\n    },\n    {\n      \"column\": \"y0\",\n      \"properties\": {\n        \"dtype\": \"number\",\n        \"std\": 171,\n        \"min\": 1,\n        \"max\": 2375,\n        \"num_unique_values\": 538,\n        \"samples\": [\n          752,\n          140,\n          377\n        ],\n        \"semantic_type\": \"\",\n        \"description\": \"\"\n      }\n    },\n    {\n      \"column\": \"x1\",\n      \"properties\": {\n        \"dtype\": \"number\",\n        \"std\": 451,\n        \"min\": 49,\n        \"max\": 6815,\n        \"num_unique_values\": 1163,\n        \"samples\": [\n          1427,\n          483,\n          1101\n        ],\n        \"semantic_type\": \"\",\n        \"description\": \"\"\n      }\n    },\n    {\n      \"column\": \"y1\",\n      \"properties\": {\n        \"dtype\": \"number\",\n        \"std\": 314,\n        \"min\": 48,\n        \"max\": 4471,\n        \"num_unique_values\": 867,\n        \"samples\": [\n          332,\n          367,\n          854\n        ],\n        \"semantic_type\": \"\",\n        \"description\": \"\"\n      }\n    }\n  ]\n}",
              "type": "dataframe",
              "variable_name": "df"
            },
            "text/html": [
              "\n",
              "  <div id=\"df-ecbd9ffd-f378-4da8-b583-ce01b588a0ac\" class=\"colab-df-container\">\n",
              "    <div>\n",
              "<style scoped>\n",
              "    .dataframe tbody tr th:only-of-type {\n",
              "        vertical-align: middle;\n",
              "    }\n",
              "\n",
              "    .dataframe tbody tr th {\n",
              "        vertical-align: top;\n",
              "    }\n",
              "\n",
              "    .dataframe thead th {\n",
              "        text-align: right;\n",
              "    }\n",
              "</style>\n",
              "<table border=\"1\" class=\"dataframe\">\n",
              "  <thead>\n",
              "    <tr style=\"text-align: right;\">\n",
              "      <th></th>\n",
              "      <th>image_name</th>\n",
              "      <th>width</th>\n",
              "      <th>height</th>\n",
              "      <th>x0</th>\n",
              "      <th>y0</th>\n",
              "      <th>x1</th>\n",
              "      <th>y1</th>\n",
              "    </tr>\n",
              "  </thead>\n",
              "  <tbody>\n",
              "    <tr>\n",
              "      <th>0</th>\n",
              "      <td>00001722.jpg</td>\n",
              "      <td>1333</td>\n",
              "      <td>2000</td>\n",
              "      <td>490</td>\n",
              "      <td>320</td>\n",
              "      <td>687</td>\n",
              "      <td>664</td>\n",
              "    </tr>\n",
              "    <tr>\n",
              "      <th>1</th>\n",
              "      <td>00001044.jpg</td>\n",
              "      <td>2000</td>\n",
              "      <td>1333</td>\n",
              "      <td>791</td>\n",
              "      <td>119</td>\n",
              "      <td>1200</td>\n",
              "      <td>436</td>\n",
              "    </tr>\n",
              "    <tr>\n",
              "      <th>2</th>\n",
              "      <td>00001050.jpg</td>\n",
              "      <td>667</td>\n",
              "      <td>1000</td>\n",
              "      <td>304</td>\n",
              "      <td>155</td>\n",
              "      <td>407</td>\n",
              "      <td>331</td>\n",
              "    </tr>\n",
              "    <tr>\n",
              "      <th>3</th>\n",
              "      <td>00001736.jpg</td>\n",
              "      <td>626</td>\n",
              "      <td>417</td>\n",
              "      <td>147</td>\n",
              "      <td>14</td>\n",
              "      <td>519</td>\n",
              "      <td>303</td>\n",
              "    </tr>\n",
              "    <tr>\n",
              "      <th>4</th>\n",
              "      <td>00003121.jpg</td>\n",
              "      <td>626</td>\n",
              "      <td>418</td>\n",
              "      <td>462</td>\n",
              "      <td>60</td>\n",
              "      <td>599</td>\n",
              "      <td>166</td>\n",
              "    </tr>\n",
              "  </tbody>\n",
              "</table>\n",
              "</div>\n",
              "    <div class=\"colab-df-buttons\">\n",
              "\n",
              "  <div class=\"colab-df-container\">\n",
              "    <button class=\"colab-df-convert\" onclick=\"convertToInteractive('df-ecbd9ffd-f378-4da8-b583-ce01b588a0ac')\"\n",
              "            title=\"Convert this dataframe to an interactive table.\"\n",
              "            style=\"display:none;\">\n",
              "\n",
              "  <svg xmlns=\"http://www.w3.org/2000/svg\" height=\"24px\" viewBox=\"0 -960 960 960\">\n",
              "    <path d=\"M120-120v-720h720v720H120Zm60-500h600v-160H180v160Zm220 220h160v-160H400v160Zm0 220h160v-160H400v160ZM180-400h160v-160H180v160Zm440 0h160v-160H620v160ZM180-180h160v-160H180v160Zm440 0h160v-160H620v160Z\"/>\n",
              "  </svg>\n",
              "    </button>\n",
              "\n",
              "  <style>\n",
              "    .colab-df-container {\n",
              "      display:flex;\n",
              "      gap: 12px;\n",
              "    }\n",
              "\n",
              "    .colab-df-convert {\n",
              "      background-color: #E8F0FE;\n",
              "      border: none;\n",
              "      border-radius: 50%;\n",
              "      cursor: pointer;\n",
              "      display: none;\n",
              "      fill: #1967D2;\n",
              "      height: 32px;\n",
              "      padding: 0 0 0 0;\n",
              "      width: 32px;\n",
              "    }\n",
              "\n",
              "    .colab-df-convert:hover {\n",
              "      background-color: #E2EBFA;\n",
              "      box-shadow: 0px 1px 2px rgba(60, 64, 67, 0.3), 0px 1px 3px 1px rgba(60, 64, 67, 0.15);\n",
              "      fill: #174EA6;\n",
              "    }\n",
              "\n",
              "    .colab-df-buttons div {\n",
              "      margin-bottom: 4px;\n",
              "    }\n",
              "\n",
              "    [theme=dark] .colab-df-convert {\n",
              "      background-color: #3B4455;\n",
              "      fill: #D2E3FC;\n",
              "    }\n",
              "\n",
              "    [theme=dark] .colab-df-convert:hover {\n",
              "      background-color: #434B5C;\n",
              "      box-shadow: 0px 1px 3px 1px rgba(0, 0, 0, 0.15);\n",
              "      filter: drop-shadow(0px 1px 2px rgba(0, 0, 0, 0.3));\n",
              "      fill: #FFFFFF;\n",
              "    }\n",
              "  </style>\n",
              "\n",
              "    <script>\n",
              "      const buttonEl =\n",
              "        document.querySelector('#df-ecbd9ffd-f378-4da8-b583-ce01b588a0ac button.colab-df-convert');\n",
              "      buttonEl.style.display =\n",
              "        google.colab.kernel.accessAllowed ? 'block' : 'none';\n",
              "\n",
              "      async function convertToInteractive(key) {\n",
              "        const element = document.querySelector('#df-ecbd9ffd-f378-4da8-b583-ce01b588a0ac');\n",
              "        const dataTable =\n",
              "          await google.colab.kernel.invokeFunction('convertToInteractive',\n",
              "                                                    [key], {});\n",
              "        if (!dataTable) return;\n",
              "\n",
              "        const docLinkHtml = 'Like what you see? Visit the ' +\n",
              "          '<a target=\"_blank\" href=https://colab.research.google.com/notebooks/data_table.ipynb>data table notebook</a>'\n",
              "          + ' to learn more about interactive tables.';\n",
              "        element.innerHTML = '';\n",
              "        dataTable['output_type'] = 'display_data';\n",
              "        await google.colab.output.renderOutput(dataTable, element);\n",
              "        const docLink = document.createElement('div');\n",
              "        docLink.innerHTML = docLinkHtml;\n",
              "        element.appendChild(docLink);\n",
              "      }\n",
              "    </script>\n",
              "  </div>\n",
              "\n",
              "\n",
              "    <div id=\"df-f5c509de-62cc-4615-91bf-5df8072211d1\">\n",
              "      <button class=\"colab-df-quickchart\" onclick=\"quickchart('df-f5c509de-62cc-4615-91bf-5df8072211d1')\"\n",
              "                title=\"Suggest charts\"\n",
              "                style=\"display:none;\">\n",
              "\n",
              "<svg xmlns=\"http://www.w3.org/2000/svg\" height=\"24px\"viewBox=\"0 0 24 24\"\n",
              "     width=\"24px\">\n",
              "    <g>\n",
              "        <path d=\"M19 3H5c-1.1 0-2 .9-2 2v14c0 1.1.9 2 2 2h14c1.1 0 2-.9 2-2V5c0-1.1-.9-2-2-2zM9 17H7v-7h2v7zm4 0h-2V7h2v10zm4 0h-2v-4h2v4z\"/>\n",
              "    </g>\n",
              "</svg>\n",
              "      </button>\n",
              "\n",
              "<style>\n",
              "  .colab-df-quickchart {\n",
              "      --bg-color: #E8F0FE;\n",
              "      --fill-color: #1967D2;\n",
              "      --hover-bg-color: #E2EBFA;\n",
              "      --hover-fill-color: #174EA6;\n",
              "      --disabled-fill-color: #AAA;\n",
              "      --disabled-bg-color: #DDD;\n",
              "  }\n",
              "\n",
              "  [theme=dark] .colab-df-quickchart {\n",
              "      --bg-color: #3B4455;\n",
              "      --fill-color: #D2E3FC;\n",
              "      --hover-bg-color: #434B5C;\n",
              "      --hover-fill-color: #FFFFFF;\n",
              "      --disabled-bg-color: #3B4455;\n",
              "      --disabled-fill-color: #666;\n",
              "  }\n",
              "\n",
              "  .colab-df-quickchart {\n",
              "    background-color: var(--bg-color);\n",
              "    border: none;\n",
              "    border-radius: 50%;\n",
              "    cursor: pointer;\n",
              "    display: none;\n",
              "    fill: var(--fill-color);\n",
              "    height: 32px;\n",
              "    padding: 0;\n",
              "    width: 32px;\n",
              "  }\n",
              "\n",
              "  .colab-df-quickchart:hover {\n",
              "    background-color: var(--hover-bg-color);\n",
              "    box-shadow: 0 1px 2px rgba(60, 64, 67, 0.3), 0 1px 3px 1px rgba(60, 64, 67, 0.15);\n",
              "    fill: var(--button-hover-fill-color);\n",
              "  }\n",
              "\n",
              "  .colab-df-quickchart-complete:disabled,\n",
              "  .colab-df-quickchart-complete:disabled:hover {\n",
              "    background-color: var(--disabled-bg-color);\n",
              "    fill: var(--disabled-fill-color);\n",
              "    box-shadow: none;\n",
              "  }\n",
              "\n",
              "  .colab-df-spinner {\n",
              "    border: 2px solid var(--fill-color);\n",
              "    border-color: transparent;\n",
              "    border-bottom-color: var(--fill-color);\n",
              "    animation:\n",
              "      spin 1s steps(1) infinite;\n",
              "  }\n",
              "\n",
              "  @keyframes spin {\n",
              "    0% {\n",
              "      border-color: transparent;\n",
              "      border-bottom-color: var(--fill-color);\n",
              "      border-left-color: var(--fill-color);\n",
              "    }\n",
              "    20% {\n",
              "      border-color: transparent;\n",
              "      border-left-color: var(--fill-color);\n",
              "      border-top-color: var(--fill-color);\n",
              "    }\n",
              "    30% {\n",
              "      border-color: transparent;\n",
              "      border-left-color: var(--fill-color);\n",
              "      border-top-color: var(--fill-color);\n",
              "      border-right-color: var(--fill-color);\n",
              "    }\n",
              "    40% {\n",
              "      border-color: transparent;\n",
              "      border-right-color: var(--fill-color);\n",
              "      border-top-color: var(--fill-color);\n",
              "    }\n",
              "    60% {\n",
              "      border-color: transparent;\n",
              "      border-right-color: var(--fill-color);\n",
              "    }\n",
              "    80% {\n",
              "      border-color: transparent;\n",
              "      border-right-color: var(--fill-color);\n",
              "      border-bottom-color: var(--fill-color);\n",
              "    }\n",
              "    90% {\n",
              "      border-color: transparent;\n",
              "      border-bottom-color: var(--fill-color);\n",
              "    }\n",
              "  }\n",
              "</style>\n",
              "\n",
              "      <script>\n",
              "        async function quickchart(key) {\n",
              "          const quickchartButtonEl =\n",
              "            document.querySelector('#' + key + ' button');\n",
              "          quickchartButtonEl.disabled = true;  // To prevent multiple clicks.\n",
              "          quickchartButtonEl.classList.add('colab-df-spinner');\n",
              "          try {\n",
              "            const charts = await google.colab.kernel.invokeFunction(\n",
              "                'suggestCharts', [key], {});\n",
              "          } catch (error) {\n",
              "            console.error('Error during call to suggestCharts:', error);\n",
              "          }\n",
              "          quickchartButtonEl.classList.remove('colab-df-spinner');\n",
              "          quickchartButtonEl.classList.add('colab-df-quickchart-complete');\n",
              "        }\n",
              "        (() => {\n",
              "          let quickchartButtonEl =\n",
              "            document.querySelector('#df-f5c509de-62cc-4615-91bf-5df8072211d1 button');\n",
              "          quickchartButtonEl.style.display =\n",
              "            google.colab.kernel.accessAllowed ? 'block' : 'none';\n",
              "        })();\n",
              "      </script>\n",
              "    </div>\n",
              "\n",
              "    </div>\n",
              "  </div>\n"
            ],
            "text/plain": [
              "     image_name  width  height   x0   y0    x1   y1\n",
              "0  00001722.jpg   1333    2000  490  320   687  664\n",
              "1  00001044.jpg   2000    1333  791  119  1200  436\n",
              "2  00001050.jpg    667    1000  304  155   407  331\n",
              "3  00001736.jpg    626     417  147   14   519  303\n",
              "4  00003121.jpg    626     418  462   60   599  166"
            ]
          },
          "execution_count": 4,
          "metadata": {},
          "output_type": "execute_result"
        }
      ],
      "source": [
        "import pandas as pd\n",
        "import os\n",
        "\n",
        "# Load CSV\n",
        "df = pd.read_csv(\"/content/faces.csv\")\n",
        "\n",
        "# Remove duplicate rows\n",
        "df = df.drop_duplicates()\n",
        "\n",
        "# Remove entries with missing values or invalid file paths\n",
        "df = df.dropna()\n",
        "df = df[df['image_name'].apply(lambda x: os.path.exists(os.path.join(\"/content/image/images/\", x)))]\n",
        "\n",
        "print(\"Total valid images:\", len(df))\n",
        "df.head()"
      ]
    },
    {
      "cell_type": "code",
      "execution_count": null,
      "metadata": {
        "id": "Xt7EfuUWsHNW"
      },
      "outputs": [],
      "source": [
        "import cv2\n",
        "import numpy as np\n",
        "\n",
        "# Resize size\n",
        "IMG_SIZE = 224\n",
        "\n",
        "# Example image preprocessing function\n",
        "def preprocess_image(image_path):\n",
        "    image = cv2.imread(image_path)\n",
        "    image = cv2.resize(image, (640,640))           # Resize to 224x224\n",
        "    image = cv2.cvtColor(image, cv2.COLOR_BGR2RGB)            # Convert BGR to RGB\n",
        "    image = image.astype(\"float32\") / 255.0                   # Normalize 0-1\n",
        "    return image"
      ]
    },
    {
      "cell_type": "code",
      "execution_count": null,
      "metadata": {
        "colab": {
          "base_uri": "https://localhost:8080/"
        },
        "id": "AdpWXrlqsWU_",
        "outputId": "14e3d52e-22e8-4df2-dafc-1ed1cffc42bf"
      },
      "outputs": [
        {
          "name": "stderr",
          "output_type": "stream",
          "text": [
            "/usr/local/lib/python3.11/dist-packages/albumentations/core/validation.py:114: UserWarning: ShiftScaleRotate is a special case of Affine transform. Please use Affine transform instead.\n",
            "  original_init(self, **validated_kwargs)\n"
          ]
        }
      ],
      "source": [
        "import albumentations as A\n",
        "\n",
        "import albumentations as A\n",
        "\n",
        "augment = A.Compose([\n",
        "    A.HorizontalFlip(p=0.7),\n",
        "    A.RandomBrightnessContrast(p=0.5),\n",
        "    A.Rotate(limit=15, p=0.5),\n",
        "    A.ShiftScaleRotate(shift_limit=0.05, scale_limit=0.1, rotate_limit=10, p=0.3),\n",
        "    A.GaussianBlur(blur_limit=3, p=0.2),\n",
        "    A.CLAHE(p=0.3),  # Improves local contrast\n",
        "    A.CoarseDropout(p=0.2),  # Makes model more robust\n",
        "    A.RandomShadow(p=0.2),  # Simulates light conditions\n",
        "    A.HueSaturationValue(hue_shift_limit=10, sat_shift_limit=15, val_shift_limit=10, p=0.3),\n",
        "])\n",
        "\n",
        "\n",
        "def augment_image(image):\n",
        "    augmented = augment(image=image)\n",
        "    return augmented['image']"
      ]
    },
    {
      "cell_type": "code",
      "execution_count": null,
      "metadata": {
        "colab": {
          "base_uri": "https://localhost:8080/"
        },
        "id": "HRBtTa4dulrp",
        "outputId": "93a521c4-0d72-47f5-9af1-ceebfd2cc6fa"
      },
      "outputs": [
        {
          "name": "stdout",
          "output_type": "stream",
          "text": [
            "Removed blurry image: 00001587.jpg\n",
            "Removed blurry image: 00001756.jpg\n",
            "Removed blurry image: 00002970.jpg\n",
            "Removed blurry image: 00003127.jpg\n",
            "Removed blurry image: 00001676.jpg\n",
            "Removed blurry image: 00001056.jpg\n",
            "Removed blurry image: 00000584.jpg\n",
            "Removed blurry image: 00002556.jpg\n",
            "Removed blurry image: 00001247.jpg\n",
            "Removed blurry image: 00000703.jpg\n",
            "Removed blurry image: 00000174.jpg\n",
            "Removed blurry image: 00001655.jpg\n",
            "Removed blurry image: 00000910.jpg\n",
            "Removed blurry image: 00003061.jpg\n",
            "Removed blurry image: 00000472.jpg\n",
            "Removed blurry image: 00001340.jpg\n",
            "Removed blurry image: 00001470.jpg\n",
            "Removed blurry image: 00002538.jpg\n",
            "Removed blurry image: 00001010.jpg\n",
            "Removed blurry image: 00002081.jpg\n",
            "Removed blurry image: 00002565.jpg\n",
            "Removed blurry image: 00001770.jpg\n",
            "Removed blurry image: 00001477.jpg\n",
            "Removed blurry image: 00001900.jpg\n",
            "Removed blurry image: 00002393.jpg\n",
            "Removed blurry image: 00003003.jpg\n",
            "Removed blurry image: 00000387.jpg\n",
            "Removed blurry image: 00001387.jpg\n",
            "Removed blurry image: 00000992.jpg\n",
            "Removed blurry image: 00003113.jpg\n",
            "Removed blurry image: 00000103.jpg\n",
            "Removed blurry image: 00003068.jpg\n",
            "Removed blurry image: 00002892.jpg\n",
            "Removed blurry image: 00003336.jpg\n",
            "Removed blurry image: 00002018.jpg\n",
            "Removed blurry image: 00001353.jpg\n",
            "Removed blurry image: 00002979.jpg\n",
            "Removed blurry image: 00003256.jpg\n",
            "Removed blurry image: 00001637.jpg\n",
            "Removed blurry image: 00001809.jpg\n",
            "Removed blurry image: 00002265.jpg\n",
            "Removed blurry image: 00000088.jpg\n",
            "Removed blurry image: 00000459.jpg\n",
            "Removed blurry image: 00003059.jpg\n",
            "Removed blurry image: 00001091.jpg\n",
            "Removed blurry image: 00003070.jpg\n",
            "Removed blurry image: 00002855.jpg\n",
            "Removed blurry image: 00000601.jpg\n",
            "Removed blurry image: 00000847.jpg\n",
            "Removed blurry image: 00000990.jpg\n",
            "Removed blurry image: 00002631.jpg\n",
            "Removed blurry image: 00003228.jpg\n",
            "Removed blurry image: 00001275.jpg\n",
            "Removed blurry image: 00000579.jpg\n",
            "Removed blurry image: 00000665.jpg\n",
            "Removed blurry image: 00002122.jpg\n",
            "Removed blurry image: 00001373.jpg\n",
            "Removed blurry image: 00002643.jpg\n",
            "Removed blurry image: 00002225.jpg\n",
            "Removed blurry image: 00002918.jpg\n",
            "Removed blurry image: 00001792.jpg\n",
            "Removed blurry image: 00001542.jpg\n",
            "Removed blurry image: 00002874.jpg\n",
            "Removed blurry image: 00003337.jpg\n",
            "Removed blurry image: 00003197.jpg\n",
            "Removed blurry image: 00002904.jpg\n",
            "Removed blurry image: 00002914.jpg\n",
            "Removed blurry image: 00001548.jpg\n",
            "Removed blurry image: 00000203.jpg\n",
            "Removed blurry image: 00000706.jpg\n",
            "Removed blurry image: 00000866.jpg\n",
            "Removed blurry image: 00000567.jpg\n",
            "Removed blurry image: 00001354.jpg\n",
            "Removed blurry image: 00002976.jpg\n",
            "Removed blurry image: 00001862.jpg\n",
            "Removed blurry image: 00000011.jpg\n",
            "Removed blurry image: 00002379.jpg\n",
            "Removed blurry image: 00002786.jpg\n",
            "Removed blurry image: 00002613.jpg\n",
            "Removed blurry image: 00001571.jpg\n",
            "Removed blurry image: 00001406.jpg\n",
            "Removed blurry image: 00003312.jpg\n",
            "Removed blurry image: 00003042.jpg\n",
            "Removed blurry image: 00000854.jpg\n",
            "Removed blurry image: 00002822.jpg\n",
            "Removed blurry image: 00002218.jpg\n",
            "Removed blurry image: 00001299.jpg\n",
            "Removed blurry image: 00003418.jpg\n",
            "Removed blurry image: 00001910.jpg\n",
            "Removed blurry image: 00002118.jpg\n",
            "Removed blurry image: 00001881.jpg\n",
            "Removed blurry image: 00001717.jpg\n",
            "Removed blurry image: 00000583.jpg\n",
            "Removed blurry image: 00000820.jpg\n",
            "Removed blurry image: 00000536.jpg\n",
            "Removed blurry image: 00000643.jpg\n",
            "Removed blurry image: 00002702.jpg\n",
            "Removed blurry image: 00001734.jpg\n",
            "Removed blurry image: 00002883.jpg\n",
            "Removed blurry image: 00001925.jpg\n",
            "Removed blurry image: 00000836.jpg\n",
            "Removed blurry image: 00001931.jpg\n",
            "Removed blurry image: 00000894.jpg\n",
            "Removed blurry image: 00001311.jpg\n",
            "Removed blurry image: 00002691.jpg\n",
            "Removed blurry image: 00003100.jpg\n",
            "Removed blurry image: 00002365.jpg\n",
            "Removed blurry image: 00003365.jpg\n",
            "Removed blurry image: 00003093.jpg\n",
            "Removed blurry image: 00002722.jpg\n",
            "Removed blurry image: 00002759.jpg\n",
            "Removed blurry image: 00002433.jpg\n",
            "Removed blurry image: 00001556.jpg\n",
            "Removed blurry image: 00000789.jpg\n",
            "Removed blurry image: 00002366.jpg\n",
            "Removed blurry image: 00001698.jpg\n",
            "Removed blurry image: 00002912.jpg\n",
            "Removed blurry image: 00001628.jpg\n",
            "Removed blurry image: 00001380.jpg\n",
            "Removed blurry image: 00000879.jpg\n",
            "Removed blurry image: 00003081.jpg\n",
            "Removed blurry image: 00002704.jpg\n",
            "Removed blurry image: 00002201.jpg\n",
            "Removed blurry image: 00002995.jpg\n",
            "Removed blurry image: 00000517.jpg\n",
            "Removed blurry image: 00001709.jpg\n",
            "Removed blurry image: 00002869.jpg\n",
            "Removed blurry image: 00002597.jpg\n",
            "Removed blurry image: 00000682.jpg\n",
            "Removed blurry image: 00001205.jpg\n",
            "Removed blurry image: 00002852.jpg\n",
            "Removed blurry image: 00000339.jpg\n",
            "Removed blurry image: 00000561.jpg\n",
            "Removed blurry image: 00002867.jpg\n",
            "Removed blurry image: 00002242.jpg\n",
            "Removed blurry image: 00003076.jpg\n",
            "Removed blurry image: 00001244.jpg\n",
            "Removed blurry image: 00001621.jpg\n",
            "Removed blurry image: 00000381.jpg\n",
            "Removed blurry image: 00002563.jpg\n",
            "Removed blurry image: 00002920.jpg\n",
            "Removed blurry image: 00002436.jpg\n",
            "Removed blurry image: 00002260.jpg\n",
            "Removed blurry image: 00001344.jpg\n",
            "Removed blurry image: 00001772.jpg\n",
            "Removed blurry image: 00003115.jpg\n",
            "Removed blurry image: 00001690.jpg\n",
            "Removed blurry image: 00003302.jpg\n",
            "Removed blurry image: 00003444.jpg\n",
            "Removed blurry image: 00000705.jpg\n",
            "Removed blurry image: 00000427.jpg\n",
            "Removed blurry image: 00001740.jpg\n",
            "Removed blurry image: 00000941.jpg\n",
            "Removed blurry image: 00003310.jpg\n",
            "Removed blurry image: 00000896.jpg\n",
            "Removed blurry image: 00003314.jpg\n",
            "Removed blurry image: 00002880.jpg\n",
            "Removed blurry image: 00003140.jpg\n",
            "Removed blurry image: 00001392.jpg\n"
          ]
        }
      ],
      "source": [
        "import os\n",
        "import cv2\n",
        "\n",
        "def is_blurry(img_path):\n",
        "    image = cv2.imread(img_path, 0)\n",
        "    if image is None:\n",
        "        return False\n",
        "    score = cv2.Laplacian(image, cv2.CV_64F).var()\n",
        "    return score < 100\n",
        "\n",
        "folder_path = '/content/image/images'\n",
        "\n",
        "for f in os.listdir(folder_path):\n",
        "    if not f.lower().endswith(('.jpg', '.jpeg', '.png')):  # only images\n",
        "        continue\n",
        "    full_path = os.path.join(folder_path, f)\n",
        "    if is_blurry(full_path):\n",
        "        os.remove(full_path)\n",
        "        print(f\"Removed blurry image: {f}\")\n"
      ]
    },
    {
      "cell_type": "code",
      "execution_count": null,
      "metadata": {
        "id": "cfHEfpwCuqZZ"
      },
      "outputs": [],
      "source": [
        "def preprocess_image(img_path):\n",
        "    image = cv2.imread(img_path)\n",
        "    if image is None:\n",
        "        raise ValueError(f\"Image not found: {img_path}\")\n",
        "    image = cv2.resize(image, (224, 224))\n",
        "    image = image / 255.0\n",
        "    return image\n"
      ]
    },
    {
      "cell_type": "code",
      "execution_count": null,
      "metadata": {
        "colab": {
          "base_uri": "https://localhost:8080/"
        },
        "id": "tJFnlY2unfFp",
        "outputId": "41ab613f-84fe-407c-b85d-2d53b7832b86"
      },
      "outputs": [
        {
          "name": "stdout",
          "output_type": "stream",
          "text": [
            "Total processed images: 1653\n"
          ]
        }
      ],
      "source": [
        "preprocessed_images = []\n",
        "image_paths = []\n",
        "\n",
        "for idx, row in df.iterrows():\n",
        "    img_path = os.path.join(\"/content/image/images/\", row['image_name'])\n",
        "\n",
        "    try:\n",
        "        image = preprocess_image(img_path)\n",
        "        image = augment_image(image)  # Apply augmentations\n",
        "        preprocessed_images.append(image)\n",
        "        image_paths.append(img_path)\n",
        "    except:\n",
        "        continue  # skip errors\n",
        "\n",
        "print(f\"Total processed images: {len(preprocessed_images)}\")"
      ]
    },
    {
      "cell_type": "code",
      "execution_count": null,
      "metadata": {
        "id": "ZoNE5ow0snJI"
      },
      "outputs": [],
      "source": [
        "#Calculate Bounding Box Area (Face Size)\n",
        "df[\"face_width\"] = df[\"x1\"] - df[\"x0\"]\n",
        "df[\"face_height\"] = df[\"y1\"] - df[\"y0\"]\n",
        "df[\"face_area\"] = df[\"face_width\"] * df[\"face_height\"]"
      ]
    },
    {
      "cell_type": "code",
      "execution_count": null,
      "metadata": {
        "id": "2Ua4bG41ssJX"
      },
      "outputs": [],
      "source": [
        "#Histogram Equalization (Improving Image Contrast)\n",
        "def equalize_image(image_path):\n",
        "    img = cv2.imread(image_path, cv2.IMREAD_GRAYSCALE)\n",
        "    return cv2.equalizeHist(img)"
      ]
    },
    {
      "cell_type": "code",
      "execution_count": null,
      "metadata": {
        "colab": {
          "base_uri": "https://localhost:8080/"
        },
        "id": "RLnKQZFCs4V-",
        "outputId": "6684323e-1a63-45ce-b352-0ca75b03709a"
      },
      "outputs": [
        {
          "name": "stdout",
          "output_type": "stream",
          "text": [
            "Collecting ultralytics\n",
            "  Downloading ultralytics-8.3.172-py3-none-any.whl.metadata (37 kB)\n",
            "Requirement already satisfied: numpy>=1.23.0 in /usr/local/lib/python3.11/dist-packages (from ultralytics) (2.0.2)\n",
            "Requirement already satisfied: matplotlib>=3.3.0 in /usr/local/lib/python3.11/dist-packages (from ultralytics) (3.10.0)\n",
            "Requirement already satisfied: opencv-python>=4.6.0 in /usr/local/lib/python3.11/dist-packages (from ultralytics) (4.12.0.88)\n",
            "Requirement already satisfied: pillow>=7.1.2 in /usr/local/lib/python3.11/dist-packages (from ultralytics) (11.3.0)\n",
            "Requirement already satisfied: pyyaml>=5.3.1 in /usr/local/lib/python3.11/dist-packages (from ultralytics) (6.0.2)\n",
            "Requirement already satisfied: requests>=2.23.0 in /usr/local/lib/python3.11/dist-packages (from ultralytics) (2.32.3)\n",
            "Requirement already satisfied: scipy>=1.4.1 in /usr/local/lib/python3.11/dist-packages (from ultralytics) (1.16.0)\n",
            "Requirement already satisfied: torch>=1.8.0 in /usr/local/lib/python3.11/dist-packages (from ultralytics) (2.6.0+cu124)\n",
            "Requirement already satisfied: torchvision>=0.9.0 in /usr/local/lib/python3.11/dist-packages (from ultralytics) (0.21.0+cu124)\n",
            "Requirement already satisfied: tqdm>=4.64.0 in /usr/local/lib/python3.11/dist-packages (from ultralytics) (4.67.1)\n",
            "Requirement already satisfied: psutil in /usr/local/lib/python3.11/dist-packages (from ultralytics) (5.9.5)\n",
            "Requirement already satisfied: py-cpuinfo in /usr/local/lib/python3.11/dist-packages (from ultralytics) (9.0.0)\n",
            "Requirement already satisfied: pandas>=1.1.4 in /usr/local/lib/python3.11/dist-packages (from ultralytics) (2.2.2)\n",
            "Collecting ultralytics-thop>=2.0.0 (from ultralytics)\n",
            "  Downloading ultralytics_thop-2.0.14-py3-none-any.whl.metadata (9.4 kB)\n",
            "Requirement already satisfied: contourpy>=1.0.1 in /usr/local/lib/python3.11/dist-packages (from matplotlib>=3.3.0->ultralytics) (1.3.2)\n",
            "Requirement already satisfied: cycler>=0.10 in /usr/local/lib/python3.11/dist-packages (from matplotlib>=3.3.0->ultralytics) (0.12.1)\n",
            "Requirement already satisfied: fonttools>=4.22.0 in /usr/local/lib/python3.11/dist-packages (from matplotlib>=3.3.0->ultralytics) (4.59.0)\n",
            "Requirement already satisfied: kiwisolver>=1.3.1 in /usr/local/lib/python3.11/dist-packages (from matplotlib>=3.3.0->ultralytics) (1.4.8)\n",
            "Requirement already satisfied: packaging>=20.0 in /usr/local/lib/python3.11/dist-packages (from matplotlib>=3.3.0->ultralytics) (25.0)\n",
            "Requirement already satisfied: pyparsing>=2.3.1 in /usr/local/lib/python3.11/dist-packages (from matplotlib>=3.3.0->ultralytics) (3.2.3)\n",
            "Requirement already satisfied: python-dateutil>=2.7 in /usr/local/lib/python3.11/dist-packages (from matplotlib>=3.3.0->ultralytics) (2.9.0.post0)\n",
            "Requirement already satisfied: pytz>=2020.1 in /usr/local/lib/python3.11/dist-packages (from pandas>=1.1.4->ultralytics) (2025.2)\n",
            "Requirement already satisfied: tzdata>=2022.7 in /usr/local/lib/python3.11/dist-packages (from pandas>=1.1.4->ultralytics) (2025.2)\n",
            "Requirement already satisfied: charset-normalizer<4,>=2 in /usr/local/lib/python3.11/dist-packages (from requests>=2.23.0->ultralytics) (3.4.2)\n",
            "Requirement already satisfied: idna<4,>=2.5 in /usr/local/lib/python3.11/dist-packages (from requests>=2.23.0->ultralytics) (3.10)\n",
            "Requirement already satisfied: urllib3<3,>=1.21.1 in /usr/local/lib/python3.11/dist-packages (from requests>=2.23.0->ultralytics) (2.5.0)\n",
            "Requirement already satisfied: certifi>=2017.4.17 in /usr/local/lib/python3.11/dist-packages (from requests>=2.23.0->ultralytics) (2025.7.14)\n",
            "Requirement already satisfied: filelock in /usr/local/lib/python3.11/dist-packages (from torch>=1.8.0->ultralytics) (3.18.0)\n",
            "Requirement already satisfied: typing-extensions>=4.10.0 in /usr/local/lib/python3.11/dist-packages (from torch>=1.8.0->ultralytics) (4.14.1)\n",
            "Requirement already satisfied: networkx in /usr/local/lib/python3.11/dist-packages (from torch>=1.8.0->ultralytics) (3.5)\n",
            "Requirement already satisfied: jinja2 in /usr/local/lib/python3.11/dist-packages (from torch>=1.8.0->ultralytics) (3.1.6)\n",
            "Requirement already satisfied: fsspec in /usr/local/lib/python3.11/dist-packages (from torch>=1.8.0->ultralytics) (2025.3.0)\n",
            "Collecting nvidia-cuda-nvrtc-cu12==12.4.127 (from torch>=1.8.0->ultralytics)\n",
            "  Downloading nvidia_cuda_nvrtc_cu12-12.4.127-py3-none-manylinux2014_x86_64.whl.metadata (1.5 kB)\n",
            "Collecting nvidia-cuda-runtime-cu12==12.4.127 (from torch>=1.8.0->ultralytics)\n",
            "  Downloading nvidia_cuda_runtime_cu12-12.4.127-py3-none-manylinux2014_x86_64.whl.metadata (1.5 kB)\n",
            "Collecting nvidia-cuda-cupti-cu12==12.4.127 (from torch>=1.8.0->ultralytics)\n",
            "  Downloading nvidia_cuda_cupti_cu12-12.4.127-py3-none-manylinux2014_x86_64.whl.metadata (1.6 kB)\n",
            "Collecting nvidia-cudnn-cu12==9.1.0.70 (from torch>=1.8.0->ultralytics)\n",
            "  Downloading nvidia_cudnn_cu12-9.1.0.70-py3-none-manylinux2014_x86_64.whl.metadata (1.6 kB)\n",
            "Collecting nvidia-cublas-cu12==12.4.5.8 (from torch>=1.8.0->ultralytics)\n",
            "  Downloading nvidia_cublas_cu12-12.4.5.8-py3-none-manylinux2014_x86_64.whl.metadata (1.5 kB)\n",
            "Collecting nvidia-cufft-cu12==11.2.1.3 (from torch>=1.8.0->ultralytics)\n",
            "  Downloading nvidia_cufft_cu12-11.2.1.3-py3-none-manylinux2014_x86_64.whl.metadata (1.5 kB)\n",
            "Collecting nvidia-curand-cu12==10.3.5.147 (from torch>=1.8.0->ultralytics)\n",
            "  Downloading nvidia_curand_cu12-10.3.5.147-py3-none-manylinux2014_x86_64.whl.metadata (1.5 kB)\n",
            "Collecting nvidia-cusolver-cu12==11.6.1.9 (from torch>=1.8.0->ultralytics)\n",
            "  Downloading nvidia_cusolver_cu12-11.6.1.9-py3-none-manylinux2014_x86_64.whl.metadata (1.6 kB)\n",
            "Collecting nvidia-cusparse-cu12==12.3.1.170 (from torch>=1.8.0->ultralytics)\n",
            "  Downloading nvidia_cusparse_cu12-12.3.1.170-py3-none-manylinux2014_x86_64.whl.metadata (1.6 kB)\n",
            "Requirement already satisfied: nvidia-cusparselt-cu12==0.6.2 in /usr/local/lib/python3.11/dist-packages (from torch>=1.8.0->ultralytics) (0.6.2)\n",
            "Requirement already satisfied: nvidia-nccl-cu12==2.21.5 in /usr/local/lib/python3.11/dist-packages (from torch>=1.8.0->ultralytics) (2.21.5)\n",
            "Requirement already satisfied: nvidia-nvtx-cu12==12.4.127 in /usr/local/lib/python3.11/dist-packages (from torch>=1.8.0->ultralytics) (12.4.127)\n",
            "Collecting nvidia-nvjitlink-cu12==12.4.127 (from torch>=1.8.0->ultralytics)\n",
            "  Downloading nvidia_nvjitlink_cu12-12.4.127-py3-none-manylinux2014_x86_64.whl.metadata (1.5 kB)\n",
            "Requirement already satisfied: triton==3.2.0 in /usr/local/lib/python3.11/dist-packages (from torch>=1.8.0->ultralytics) (3.2.0)\n",
            "Requirement already satisfied: sympy==1.13.1 in /usr/local/lib/python3.11/dist-packages (from torch>=1.8.0->ultralytics) (1.13.1)\n",
            "Requirement already satisfied: mpmath<1.4,>=1.1.0 in /usr/local/lib/python3.11/dist-packages (from sympy==1.13.1->torch>=1.8.0->ultralytics) (1.3.0)\n",
            "Requirement already satisfied: six>=1.5 in /usr/local/lib/python3.11/dist-packages (from python-dateutil>=2.7->matplotlib>=3.3.0->ultralytics) (1.17.0)\n",
            "Requirement already satisfied: MarkupSafe>=2.0 in /usr/local/lib/python3.11/dist-packages (from jinja2->torch>=1.8.0->ultralytics) (3.0.2)\n",
            "Downloading ultralytics-8.3.172-py3-none-any.whl (1.0 MB)\n",
            "\u001b[2K   \u001b[90m━━━━━━━━━━━━━━━━━━━━━━━━━━━━━━━━━━━━━━━━\u001b[0m \u001b[32m1.0/1.0 MB\u001b[0m \u001b[31m17.1 MB/s\u001b[0m eta \u001b[36m0:00:00\u001b[0m\n",
            "\u001b[?25hDownloading nvidia_cublas_cu12-12.4.5.8-py3-none-manylinux2014_x86_64.whl (363.4 MB)\n",
            "\u001b[2K   \u001b[90m━━━━━━━━━━━━━━━━━━━━━━━━━━━━━━━━━━━━━━━━\u001b[0m \u001b[32m363.4/363.4 MB\u001b[0m \u001b[31m4.7 MB/s\u001b[0m eta \u001b[36m0:00:00\u001b[0m\n",
            "\u001b[?25hDownloading nvidia_cuda_cupti_cu12-12.4.127-py3-none-manylinux2014_x86_64.whl (13.8 MB)\n",
            "\u001b[2K   \u001b[90m━━━━━━━━━━━━━━━━━━━━━━━━━━━━━━━━━━━━━━━━\u001b[0m \u001b[32m13.8/13.8 MB\u001b[0m \u001b[31m91.6 MB/s\u001b[0m eta \u001b[36m0:00:00\u001b[0m\n",
            "\u001b[?25hDownloading nvidia_cuda_nvrtc_cu12-12.4.127-py3-none-manylinux2014_x86_64.whl (24.6 MB)\n",
            "\u001b[2K   \u001b[90m━━━━━━━━━━━━━━━━━━━━━━━━━━━━━━━━━━━━━━━━\u001b[0m \u001b[32m24.6/24.6 MB\u001b[0m \u001b[31m71.5 MB/s\u001b[0m eta \u001b[36m0:00:00\u001b[0m\n",
            "\u001b[?25hDownloading nvidia_cuda_runtime_cu12-12.4.127-py3-none-manylinux2014_x86_64.whl (883 kB)\n",
            "\u001b[2K   \u001b[90m━━━━━━━━━━━━━━━━━━━━━━━━━━━━━━━━━━━━━━━━\u001b[0m \u001b[32m883.7/883.7 kB\u001b[0m \u001b[31m43.9 MB/s\u001b[0m eta \u001b[36m0:00:00\u001b[0m\n",
            "\u001b[?25hDownloading nvidia_cudnn_cu12-9.1.0.70-py3-none-manylinux2014_x86_64.whl (664.8 MB)\n",
            "\u001b[2K   \u001b[90m━━━━━━━━━━━━━━━━━━━━━━━━━━━━━━━━━━━━━━━━\u001b[0m \u001b[32m664.8/664.8 MB\u001b[0m \u001b[31m3.0 MB/s\u001b[0m eta \u001b[36m0:00:00\u001b[0m\n",
            "\u001b[?25hDownloading nvidia_cufft_cu12-11.2.1.3-py3-none-manylinux2014_x86_64.whl (211.5 MB)\n",
            "\u001b[2K   \u001b[90m━━━━━━━━━━━━━━━━━━━━━━━━━━━━━━━━━━━━━━━━\u001b[0m \u001b[32m211.5/211.5 MB\u001b[0m \u001b[31m4.9 MB/s\u001b[0m eta \u001b[36m0:00:00\u001b[0m\n",
            "\u001b[?25hDownloading nvidia_curand_cu12-10.3.5.147-py3-none-manylinux2014_x86_64.whl (56.3 MB)\n",
            "\u001b[2K   \u001b[90m━━━━━━━━━━━━━━━━━━━━━━━━━━━━━━━━━━━━━━━━\u001b[0m \u001b[32m56.3/56.3 MB\u001b[0m \u001b[31m11.1 MB/s\u001b[0m eta \u001b[36m0:00:00\u001b[0m\n",
            "\u001b[?25hDownloading nvidia_cusolver_cu12-11.6.1.9-py3-none-manylinux2014_x86_64.whl (127.9 MB)\n",
            "\u001b[2K   \u001b[90m━━━━━━━━━━━━━━━━━━━━━━━━━━━━━━━━━━━━━━━━\u001b[0m \u001b[32m127.9/127.9 MB\u001b[0m \u001b[31m7.5 MB/s\u001b[0m eta \u001b[36m0:00:00\u001b[0m\n",
            "\u001b[?25hDownloading nvidia_cusparse_cu12-12.3.1.170-py3-none-manylinux2014_x86_64.whl (207.5 MB)\n",
            "\u001b[2K   \u001b[90m━━━━━━━━━━━━━━━━━━━━━━━━━━━━━━━━━━━━━━━━\u001b[0m \u001b[32m207.5/207.5 MB\u001b[0m \u001b[31m6.3 MB/s\u001b[0m eta \u001b[36m0:00:00\u001b[0m\n",
            "\u001b[?25hDownloading nvidia_nvjitlink_cu12-12.4.127-py3-none-manylinux2014_x86_64.whl (21.1 MB)\n",
            "\u001b[2K   \u001b[90m━━━━━━━━━━━━━━━━━━━━━━━━━━━━━━━━━━━━━━━━\u001b[0m \u001b[32m21.1/21.1 MB\u001b[0m \u001b[31m81.7 MB/s\u001b[0m eta \u001b[36m0:00:00\u001b[0m\n",
            "\u001b[?25hDownloading ultralytics_thop-2.0.14-py3-none-any.whl (26 kB)\n",
            "Installing collected packages: nvidia-nvjitlink-cu12, nvidia-curand-cu12, nvidia-cufft-cu12, nvidia-cuda-runtime-cu12, nvidia-cuda-nvrtc-cu12, nvidia-cuda-cupti-cu12, nvidia-cublas-cu12, nvidia-cusparse-cu12, nvidia-cudnn-cu12, nvidia-cusolver-cu12, ultralytics-thop, ultralytics\n",
            "  Attempting uninstall: nvidia-nvjitlink-cu12\n",
            "    Found existing installation: nvidia-nvjitlink-cu12 12.5.82\n",
            "    Uninstalling nvidia-nvjitlink-cu12-12.5.82:\n",
            "      Successfully uninstalled nvidia-nvjitlink-cu12-12.5.82\n",
            "  Attempting uninstall: nvidia-curand-cu12\n",
            "    Found existing installation: nvidia-curand-cu12 10.3.6.82\n",
            "    Uninstalling nvidia-curand-cu12-10.3.6.82:\n",
            "      Successfully uninstalled nvidia-curand-cu12-10.3.6.82\n",
            "  Attempting uninstall: nvidia-cufft-cu12\n",
            "    Found existing installation: nvidia-cufft-cu12 11.2.3.61\n",
            "    Uninstalling nvidia-cufft-cu12-11.2.3.61:\n",
            "      Successfully uninstalled nvidia-cufft-cu12-11.2.3.61\n",
            "  Attempting uninstall: nvidia-cuda-runtime-cu12\n",
            "    Found existing installation: nvidia-cuda-runtime-cu12 12.5.82\n",
            "    Uninstalling nvidia-cuda-runtime-cu12-12.5.82:\n",
            "      Successfully uninstalled nvidia-cuda-runtime-cu12-12.5.82\n",
            "  Attempting uninstall: nvidia-cuda-nvrtc-cu12\n",
            "    Found existing installation: nvidia-cuda-nvrtc-cu12 12.5.82\n",
            "    Uninstalling nvidia-cuda-nvrtc-cu12-12.5.82:\n",
            "      Successfully uninstalled nvidia-cuda-nvrtc-cu12-12.5.82\n",
            "  Attempting uninstall: nvidia-cuda-cupti-cu12\n",
            "    Found existing installation: nvidia-cuda-cupti-cu12 12.5.82\n",
            "    Uninstalling nvidia-cuda-cupti-cu12-12.5.82:\n",
            "      Successfully uninstalled nvidia-cuda-cupti-cu12-12.5.82\n",
            "  Attempting uninstall: nvidia-cublas-cu12\n",
            "    Found existing installation: nvidia-cublas-cu12 12.5.3.2\n",
            "    Uninstalling nvidia-cublas-cu12-12.5.3.2:\n",
            "      Successfully uninstalled nvidia-cublas-cu12-12.5.3.2\n",
            "  Attempting uninstall: nvidia-cusparse-cu12\n",
            "    Found existing installation: nvidia-cusparse-cu12 12.5.1.3\n",
            "    Uninstalling nvidia-cusparse-cu12-12.5.1.3:\n",
            "      Successfully uninstalled nvidia-cusparse-cu12-12.5.1.3\n",
            "  Attempting uninstall: nvidia-cudnn-cu12\n",
            "    Found existing installation: nvidia-cudnn-cu12 9.3.0.75\n",
            "    Uninstalling nvidia-cudnn-cu12-9.3.0.75:\n",
            "      Successfully uninstalled nvidia-cudnn-cu12-9.3.0.75\n",
            "  Attempting uninstall: nvidia-cusolver-cu12\n",
            "    Found existing installation: nvidia-cusolver-cu12 11.6.3.83\n",
            "    Uninstalling nvidia-cusolver-cu12-11.6.3.83:\n",
            "      Successfully uninstalled nvidia-cusolver-cu12-11.6.3.83\n",
            "Successfully installed nvidia-cublas-cu12-12.4.5.8 nvidia-cuda-cupti-cu12-12.4.127 nvidia-cuda-nvrtc-cu12-12.4.127 nvidia-cuda-runtime-cu12-12.4.127 nvidia-cudnn-cu12-9.1.0.70 nvidia-cufft-cu12-11.2.1.3 nvidia-curand-cu12-10.3.5.147 nvidia-cusolver-cu12-11.6.1.9 nvidia-cusparse-cu12-12.3.1.170 nvidia-nvjitlink-cu12-12.4.127 ultralytics-8.3.172 ultralytics-thop-2.0.14\n"
          ]
        }
      ],
      "source": [
        "!pip install ultralytics"
      ]
    },
    {
      "cell_type": "code",
      "execution_count": null,
      "metadata": {
        "id": "ZOemYO33s_rY"
      },
      "outputs": [],
      "source": [
        "from sklearn.model_selection import train_test_split\n",
        "import os\n",
        "import pandas as pd\n",
        "import shutil\n",
        "df = pd.read_csv('/content/faces.csv')"
      ]
    },
    {
      "cell_type": "code",
      "execution_count": null,
      "metadata": {
        "id": "1PWLXt6GtBMG"
      },
      "outputs": [],
      "source": [
        "#split into Train/Test (YOLO needs image + label for each set)\n",
        "train_df, val_df = train_test_split(df, test_size=0.2, random_state=42)\n",
        "\n",
        "# Make folders\n",
        "!mkdir -p /content/dataset/images/train /content/dataset/images/val\n",
        "!mkdir -p /content/dataset/labels/train /content/dataset/labels/val"
      ]
    },
    {
      "cell_type": "code",
      "execution_count": null,
      "metadata": {
        "id": "CJzFnFfutF6y"
      },
      "outputs": [],
      "source": [
        "from PIL import Image\n",
        "\n",
        "def convert_to_yolo_format(row, image_width, image_height):\n",
        "    class_id = 0  # You have only one class: face\n",
        "    x_center = (row['x0'] + row['x1']) / 2 / image_width\n",
        "    y_center = (row['y0'] + row['y1']) / 2 / image_height\n",
        "    width = (row['x1'] - row['x0']) / image_width\n",
        "    height = (row['y1'] - row['y0']) / image_height\n",
        "    return f\"{class_id} {x_center:.6f} {y_center:.6f} {width:.6f} {height:.6f}\""
      ]
    },
    {
      "cell_type": "code",
      "execution_count": null,
      "metadata": {
        "id": "NM2N8cc3yUuK"
      },
      "outputs": [],
      "source": [
        "def process_and_save(df_split, split_type):\n",
        "    for _, row in df_split.iterrows():\n",
        "        img_path = os.path.join('/content/image/images', row['image_name'])\n",
        "        try:\n",
        "            img = Image.open(img_path)\n",
        "            w, h = img.size\n",
        "\n",
        "            # Save image\n",
        "            shutil.copy(img_path, f\"/content/dataset/images/{split_type}/{row['image_name']}\")\n",
        "\n",
        "            # Create label file\n",
        "            yolo_txt = convert_to_yolo_format(row, w, h)\n",
        "            label_file = f\"/content/dataset/labels/{split_type}/{row['image_name'].split('.')[0]}.txt\"\n",
        "            with open(label_file, 'a') as f:\n",
        "                f.write(yolo_txt + '\\n')\n",
        "\n",
        "        except Exception as e:\n",
        "            print(f\"Error: {e}\")\n",
        "\n",
        "process_and_save(train_df, \"train\")\n",
        "process_and_save(val_df, \"val\")\n"
      ]
    },
    {
      "cell_type": "code",
      "execution_count": null,
      "metadata": {
        "id": "TMeKJsz7lLLl"
      },
      "outputs": [],
      "source": [
        "# ✅ Step 1: Get valid image names\n",
        "valid_images = set(os.listdir('/content/image/images'))\n",
        "\n",
        "# ✅ Step 2: Filter the DataFrames to keep only existing images\n",
        "train_df = train_df[train_df['image_name'].isin(valid_images)].reset_index(drop=True)\n",
        "val_df = val_df[val_df['image_name'].isin(valid_images)].reset_index(drop=True)\n",
        "\n",
        "# ✅ Step 3: Now call your function (this won't throw error now)\n",
        "process_and_save(train_df, \"train\")\n",
        "process_and_save(val_df, \"val\")"
      ]
    },
    {
      "cell_type": "code",
      "execution_count": null,
      "metadata": {
        "colab": {
          "base_uri": "https://localhost:8080/"
        },
        "id": "x1TtYj7K1EnB",
        "outputId": "650cd1e9-0988-44ca-ddd8-6bc12c556758"
      },
      "outputs": [
        {
          "name": "stdout",
          "output_type": "stream",
          "text": [
            "✅ Correct data.yaml file created!\n"
          ]
        }
      ],
      "source": [
        "import yaml\n",
        "\n",
        "data_yaml = {\n",
        "    'path': '/content/dataset',\n",
        "    'train': 'images/train',\n",
        "    'val': 'images/val',\n",
        "    'nc': 1,\n",
        "    'names': ['face']\n",
        "}\n",
        "\n",
        "with open('/content/dataset/data.yaml', 'w') as f:\n",
        "    yaml.dump(data_yaml, f)\n",
        "\n",
        "print(\"✅ Correct data.yaml file created!\")\n"
      ]
    },
    {
      "cell_type": "code",
      "execution_count": null,
      "metadata": {
        "colab": {
          "base_uri": "https://localhost:8080/"
        },
        "id": "sDMuwGim1JGg",
        "outputId": "367cca3b-7d42-45ae-da9e-c932ce57e71d"
      },
      "outputs": [
        {
          "name": "stdout",
          "output_type": "stream",
          "text": [
            "names:\n",
            "- face\n",
            "nc: 1\n",
            "path: /content/dataset\n",
            "train: images/train\n",
            "val: images/val\n",
            "\n"
          ]
        }
      ],
      "source": [
        "with open('/content/dataset/data.yaml', 'r') as f:\n",
        "    print(f.read())\n"
      ]
    },
    {
      "cell_type": "code",
      "execution_count": null,
      "metadata": {
        "colab": {
          "base_uri": "https://localhost:8080/"
        },
        "id": "HzGik_GduwkA",
        "outputId": "f29055b8-a41e-48d7-d47d-f3aae6c4fca1"
      },
      "outputs": [
        {
          "name": "stdout",
          "output_type": "stream",
          "text": [
            "{'names': ['face'], 'nc': 1, 'path': '/content/dataset', 'train': 'images/train', 'val': 'images/val'}\n"
          ]
        }
      ],
      "source": [
        "# Read and verify the YAML content\n",
        "import yaml\n",
        "\n",
        "with open(\"/content/dataset/data.yaml\", 'r') as f:\n",
        "    data = yaml.safe_load(f)\n",
        "print(data)"
      ]
    },
    {
      "cell_type": "code",
      "execution_count": null,
      "metadata": {
        "colab": {
          "base_uri": "https://localhost:8080/"
        },
        "id": "-zobt_zDvjtQ",
        "outputId": "d60ab49c-3e9c-4c49-f740-5474dde3d56d"
      },
      "outputs": [
        {
          "name": "stdout",
          "output_type": "stream",
          "text": [
            "Ultralytics 8.3.172 🚀 Python-3.11.13 torch-2.6.0+cu124 CUDA:0 (Tesla T4, 15095MiB)\n",
            "\u001b[34m\u001b[1mengine/trainer: \u001b[0magnostic_nms=False, amp=True, augment=False, auto_augment=randaugment, batch=16, bgr=0.0, box=7.5, cache=False, cfg=None, classes=None, close_mosaic=10, cls=0.5, conf=None, copy_paste=0.0, copy_paste_mode=flip, cos_lr=False, cutmix=0.0, data=/content/dataset/data.yaml, degrees=0.0, deterministic=True, device=None, dfl=1.5, dnn=False, dropout=0.0, dynamic=False, embed=None, epochs=100, erasing=0.4, exist_ok=False, fliplr=0.5, flipud=0.0, format=torchscript, fraction=1.0, freeze=None, half=False, hsv_h=0.015, hsv_s=0.7, hsv_v=0.4, imgsz=640, int8=False, iou=0.7, keras=False, kobj=1.0, line_width=None, lr0=0.01, lrf=0.01, mask_ratio=4, max_det=300, mixup=0.0, mode=train, model=yolov8n.pt, momentum=0.937, mosaic=1.0, multi_scale=False, name=train2, nbs=64, nms=False, opset=None, optimize=False, optimizer=auto, overlap_mask=True, patience=100, perspective=0.0, plots=True, pose=12.0, pretrained=True, profile=False, project=None, rect=False, resume=False, retina_masks=False, save=True, save_conf=False, save_crop=False, save_dir=runs/detect/train2, save_frames=False, save_json=False, save_period=-1, save_txt=False, scale=0.5, seed=0, shear=0.0, show=False, show_boxes=True, show_conf=True, show_labels=True, simplify=True, single_cls=False, source=None, split=val, stream_buffer=False, task=detect, time=None, tracker=botsort.yaml, translate=0.1, val=True, verbose=True, vid_stride=1, visualize=False, warmup_bias_lr=0.1, warmup_epochs=3.0, warmup_momentum=0.8, weight_decay=0.0005, workers=8, workspace=None\n",
            "Overriding model.yaml nc=80 with nc=1\n",
            "\n",
            "                   from  n    params  module                                       arguments                     \n",
            "  0                  -1  1       464  ultralytics.nn.modules.conv.Conv             [3, 16, 3, 2]                 \n",
            "  1                  -1  1      4672  ultralytics.nn.modules.conv.Conv             [16, 32, 3, 2]                \n",
            "  2                  -1  1      7360  ultralytics.nn.modules.block.C2f             [32, 32, 1, True]             \n",
            "  3                  -1  1     18560  ultralytics.nn.modules.conv.Conv             [32, 64, 3, 2]                \n",
            "  4                  -1  2     49664  ultralytics.nn.modules.block.C2f             [64, 64, 2, True]             \n",
            "  5                  -1  1     73984  ultralytics.nn.modules.conv.Conv             [64, 128, 3, 2]               \n",
            "  6                  -1  2    197632  ultralytics.nn.modules.block.C2f             [128, 128, 2, True]           \n",
            "  7                  -1  1    295424  ultralytics.nn.modules.conv.Conv             [128, 256, 3, 2]              \n",
            "  8                  -1  1    460288  ultralytics.nn.modules.block.C2f             [256, 256, 1, True]           \n",
            "  9                  -1  1    164608  ultralytics.nn.modules.block.SPPF            [256, 256, 5]                 \n",
            " 10                  -1  1         0  torch.nn.modules.upsampling.Upsample         [None, 2, 'nearest']          \n",
            " 11             [-1, 6]  1         0  ultralytics.nn.modules.conv.Concat           [1]                           \n",
            " 12                  -1  1    148224  ultralytics.nn.modules.block.C2f             [384, 128, 1]                 \n",
            " 13                  -1  1         0  torch.nn.modules.upsampling.Upsample         [None, 2, 'nearest']          \n",
            " 14             [-1, 4]  1         0  ultralytics.nn.modules.conv.Concat           [1]                           \n",
            " 15                  -1  1     37248  ultralytics.nn.modules.block.C2f             [192, 64, 1]                  \n",
            " 16                  -1  1     36992  ultralytics.nn.modules.conv.Conv             [64, 64, 3, 2]                \n",
            " 17            [-1, 12]  1         0  ultralytics.nn.modules.conv.Concat           [1]                           \n",
            " 18                  -1  1    123648  ultralytics.nn.modules.block.C2f             [192, 128, 1]                 \n",
            " 19                  -1  1    147712  ultralytics.nn.modules.conv.Conv             [128, 128, 3, 2]              \n",
            " 20             [-1, 9]  1         0  ultralytics.nn.modules.conv.Concat           [1]                           \n",
            " 21                  -1  1    493056  ultralytics.nn.modules.block.C2f             [384, 256, 1]                 \n",
            " 22        [15, 18, 21]  1    751507  ultralytics.nn.modules.head.Detect           [1, [64, 128, 256]]           \n",
            "Model summary: 129 layers, 3,011,043 parameters, 3,011,027 gradients, 8.2 GFLOPs\n",
            "\n",
            "Transferred 319/355 items from pretrained weights\n",
            "Freezing layer 'model.22.dfl.conv.weight'\n",
            "\u001b[34m\u001b[1mAMP: \u001b[0mrunning Automatic Mixed Precision (AMP) checks...\n",
            "\u001b[34m\u001b[1mAMP: \u001b[0mchecks passed ✅\n",
            "\u001b[34m\u001b[1mtrain: \u001b[0mFast image access ✅ (ping: 0.0±0.0 ms, read: 1336.2±546.5 MB/s, size: 67.7 KB)\n"
          ]
        },
        {
          "name": "stderr",
          "output_type": "stream",
          "text": [
            "\u001b[34m\u001b[1mtrain: \u001b[0mScanning /content/dataset/labels/train... 1722 images, 0 backgrounds, 0 corrupt: 100%|██████████| 1722/1722 [00:01<00:00, 1503.31it/s]"
          ]
        },
        {
          "name": "stdout",
          "output_type": "stream",
          "text": [
            "\u001b[34m\u001b[1mtrain: \u001b[0m/content/dataset/images/train/00000003.jpg: 4 duplicate labels removed\n",
            "\u001b[34m\u001b[1mtrain: \u001b[0m/content/dataset/images/train/00000004.jpg: 4 duplicate labels removed\n",
            "\u001b[34m\u001b[1mtrain: \u001b[0m/content/dataset/images/train/00000006.jpg: 4 duplicate labels removed\n",
            "\u001b[34m\u001b[1mtrain: \u001b[0m/content/dataset/images/train/00000012.jpg: 4 duplicate labels removed\n",
            "\u001b[34m\u001b[1mtrain: \u001b[0m/content/dataset/images/train/00000015.jpg: 4 duplicate labels removed\n",
            "\u001b[34m\u001b[1mtrain: \u001b[0m/content/dataset/images/train/00000020.jpg: 4 duplicate labels removed\n",
            "\u001b[34m\u001b[1mtrain: \u001b[0m/content/dataset/images/train/00000022.jpg: 4 duplicate labels removed\n",
            "\u001b[34m\u001b[1mtrain: \u001b[0m/content/dataset/images/train/00000024.jpg: 8 duplicate labels removed\n",
            "\u001b[34m\u001b[1mtrain: \u001b[0m/content/dataset/images/train/00000026.jpg: 8 duplicate labels removed\n",
            "\u001b[34m\u001b[1mtrain: \u001b[0m/content/dataset/images/train/00000031.jpg: 4 duplicate labels removed\n",
            "\u001b[34m\u001b[1mtrain: \u001b[0m/content/dataset/images/train/00000032.jpg: 4 duplicate labels removed\n",
            "\u001b[34m\u001b[1mtrain: \u001b[0m/content/dataset/images/train/00000041.jpg: 4 duplicate labels removed\n",
            "\u001b[34m\u001b[1mtrain: \u001b[0m/content/dataset/images/train/00000044.jpg: 4 duplicate labels removed\n",
            "\u001b[34m\u001b[1mtrain: \u001b[0m/content/dataset/images/train/00000045.jpg: 4 duplicate labels removed\n",
            "\u001b[34m\u001b[1mtrain: \u001b[0m/content/dataset/images/train/00000047.jpg: 8 duplicate labels removed\n",
            "\u001b[34m\u001b[1mtrain: \u001b[0m/content/dataset/images/train/00000050.jpg: 4 duplicate labels removed\n",
            "\u001b[34m\u001b[1mtrain: \u001b[0m/content/dataset/images/train/00000051.jpg: 4 duplicate labels removed\n",
            "\u001b[34m\u001b[1mtrain: \u001b[0m/content/dataset/images/train/00000055.jpg: 4 duplicate labels removed\n",
            "\u001b[34m\u001b[1mtrain: \u001b[0m/content/dataset/images/train/00000058.jpg: 4 duplicate labels removed\n",
            "\u001b[34m\u001b[1mtrain: \u001b[0m/content/dataset/images/train/00000061.jpg: 4 duplicate labels removed\n",
            "\u001b[34m\u001b[1mtrain: \u001b[0m/content/dataset/images/train/00000067.jpg: 4 duplicate labels removed\n",
            "\u001b[34m\u001b[1mtrain: \u001b[0m/content/dataset/images/train/00000068.jpg: 12 duplicate labels removed\n",
            "\u001b[34m\u001b[1mtrain: \u001b[0m/content/dataset/images/train/00000069.jpg: 4 duplicate labels removed\n",
            "\u001b[34m\u001b[1mtrain: \u001b[0m/content/dataset/images/train/00000072.jpg: 4 duplicate labels removed\n",
            "\u001b[34m\u001b[1mtrain: \u001b[0m/content/dataset/images/train/00000074.jpg: 4 duplicate labels removed\n",
            "\u001b[34m\u001b[1mtrain: \u001b[0m/content/dataset/images/train/00000075.jpg: 4 duplicate labels removed\n",
            "\u001b[34m\u001b[1mtrain: \u001b[0m/content/dataset/images/train/00000077.jpg: 4 duplicate labels removed\n",
            "\u001b[34m\u001b[1mtrain: \u001b[0m/content/dataset/images/train/00000082.jpg: 4 duplicate labels removed\n",
            "\u001b[34m\u001b[1mtrain: \u001b[0m/content/dataset/images/train/00000085.jpg: 4 duplicate labels removed\n",
            "\u001b[34m\u001b[1mtrain: \u001b[0m/content/dataset/images/train/00000086.jpg: 4 duplicate labels removed\n",
            "\u001b[34m\u001b[1mtrain: \u001b[0m/content/dataset/images/train/00000087.jpg: 8 duplicate labels removed\n",
            "\u001b[34m\u001b[1mtrain: \u001b[0m/content/dataset/images/train/00000091.jpg: 4 duplicate labels removed\n",
            "\u001b[34m\u001b[1mtrain: \u001b[0m/content/dataset/images/train/00000094.jpg: 4 duplicate labels removed\n",
            "\u001b[34m\u001b[1mtrain: \u001b[0m/content/dataset/images/train/00000095.jpg: 4 duplicate labels removed\n",
            "\u001b[34m\u001b[1mtrain: \u001b[0m/content/dataset/images/train/00000097.jpg: 4 duplicate labels removed\n",
            "\u001b[34m\u001b[1mtrain: \u001b[0m/content/dataset/images/train/00000099.jpg: 12 duplicate labels removed\n",
            "\u001b[34m\u001b[1mtrain: \u001b[0m/content/dataset/images/train/00000104.jpg: 4 duplicate labels removed\n",
            "\u001b[34m\u001b[1mtrain: \u001b[0m/content/dataset/images/train/00000105.jpg: 4 duplicate labels removed\n",
            "\u001b[34m\u001b[1mtrain: \u001b[0m/content/dataset/images/train/00000107.jpg: 4 duplicate labels removed\n",
            "\u001b[34m\u001b[1mtrain: \u001b[0m/content/dataset/images/train/00000110.jpg: 4 duplicate labels removed\n",
            "\u001b[34m\u001b[1mtrain: \u001b[0m/content/dataset/images/train/00000114.jpg: 4 duplicate labels removed\n",
            "\u001b[34m\u001b[1mtrain: \u001b[0m/content/dataset/images/train/00000115.jpg: 4 duplicate labels removed\n",
            "\u001b[34m\u001b[1mtrain: \u001b[0m/content/dataset/images/train/00000118.jpg: 4 duplicate labels removed\n",
            "\u001b[34m\u001b[1mtrain: \u001b[0m/content/dataset/images/train/00000119.jpg: 4 duplicate labels removed\n",
            "\u001b[34m\u001b[1mtrain: \u001b[0m/content/dataset/images/train/00000123.jpg: 4 duplicate labels removed\n",
            "\u001b[34m\u001b[1mtrain: \u001b[0m/content/dataset/images/train/00000128.jpg: 4 duplicate labels removed\n",
            "\u001b[34m\u001b[1mtrain: \u001b[0m/content/dataset/images/train/00000129.jpg: 4 duplicate labels removed\n",
            "\u001b[34m\u001b[1mtrain: \u001b[0m/content/dataset/images/train/00000135.jpg: 8 duplicate labels removed\n",
            "\u001b[34m\u001b[1mtrain: \u001b[0m/content/dataset/images/train/00000136.jpg: 4 duplicate labels removed\n",
            "\u001b[34m\u001b[1mtrain: \u001b[0m/content/dataset/images/train/00000137.jpg: 4 duplicate labels removed\n",
            "\u001b[34m\u001b[1mtrain: \u001b[0m/content/dataset/images/train/00000138.jpg: 4 duplicate labels removed\n",
            "\u001b[34m\u001b[1mtrain: \u001b[0m/content/dataset/images/train/00000141.jpg: 8 duplicate labels removed\n",
            "\u001b[34m\u001b[1mtrain: \u001b[0m/content/dataset/images/train/00000142.jpg: 4 duplicate labels removed\n",
            "\u001b[34m\u001b[1mtrain: \u001b[0m/content/dataset/images/train/00000143.jpg: 4 duplicate labels removed\n",
            "\u001b[34m\u001b[1mtrain: \u001b[0m/content/dataset/images/train/00000145.jpg: 4 duplicate labels removed\n",
            "\u001b[34m\u001b[1mtrain: \u001b[0m/content/dataset/images/train/00000146.jpg: 4 duplicate labels removed\n",
            "\u001b[34m\u001b[1mtrain: \u001b[0m/content/dataset/images/train/00000150.jpg: 4 duplicate labels removed\n",
            "\u001b[34m\u001b[1mtrain: \u001b[0m/content/dataset/images/train/00000151.jpg: 4 duplicate labels removed\n",
            "\u001b[34m\u001b[1mtrain: \u001b[0m/content/dataset/images/train/00000153.jpg: 8 duplicate labels removed\n",
            "\u001b[34m\u001b[1mtrain: \u001b[0m/content/dataset/images/train/00000154.jpg: 4 duplicate labels removed\n",
            "\u001b[34m\u001b[1mtrain: \u001b[0m/content/dataset/images/train/00000155.jpg: 4 duplicate labels removed\n",
            "\u001b[34m\u001b[1mtrain: \u001b[0m/content/dataset/images/train/00000159.jpg: 12 duplicate labels removed\n",
            "\u001b[34m\u001b[1mtrain: \u001b[0m/content/dataset/images/train/00000162.jpg: 4 duplicate labels removed\n",
            "\u001b[34m\u001b[1mtrain: \u001b[0m/content/dataset/images/train/00000165.jpg: 4 duplicate labels removed\n",
            "\u001b[34m\u001b[1mtrain: \u001b[0m/content/dataset/images/train/00000166.jpg: 4 duplicate labels removed\n",
            "\u001b[34m\u001b[1mtrain: \u001b[0m/content/dataset/images/train/00000168.jpg: 4 duplicate labels removed\n",
            "\u001b[34m\u001b[1mtrain: \u001b[0m/content/dataset/images/train/00000169.jpg: 4 duplicate labels removed\n",
            "\u001b[34m\u001b[1mtrain: \u001b[0m/content/dataset/images/train/00000170.jpg: 8 duplicate labels removed\n",
            "\u001b[34m\u001b[1mtrain: \u001b[0m/content/dataset/images/train/00000172.jpg: 4 duplicate labels removed\n",
            "\u001b[34m\u001b[1mtrain: \u001b[0m/content/dataset/images/train/00000175.jpg: 4 duplicate labels removed\n",
            "\u001b[34m\u001b[1mtrain: \u001b[0m/content/dataset/images/train/00000179.jpg: 4 duplicate labels removed\n",
            "\u001b[34m\u001b[1mtrain: \u001b[0m/content/dataset/images/train/00000180.jpg: 4 duplicate labels removed\n",
            "\u001b[34m\u001b[1mtrain: \u001b[0m/content/dataset/images/train/00000181.jpg: 4 duplicate labels removed\n",
            "\u001b[34m\u001b[1mtrain: \u001b[0m/content/dataset/images/train/00000182.jpg: 4 duplicate labels removed\n",
            "\u001b[34m\u001b[1mtrain: \u001b[0m/content/dataset/images/train/00000188.jpg: 4 duplicate labels removed\n",
            "\u001b[34m\u001b[1mtrain: \u001b[0m/content/dataset/images/train/00000191.jpg: 8 duplicate labels removed\n",
            "\u001b[34m\u001b[1mtrain: \u001b[0m/content/dataset/images/train/00000193.jpg: 4 duplicate labels removed\n",
            "\u001b[34m\u001b[1mtrain: \u001b[0m/content/dataset/images/train/00000194.jpg: 4 duplicate labels removed\n",
            "\u001b[34m\u001b[1mtrain: \u001b[0m/content/dataset/images/train/00000196.jpg: 4 duplicate labels removed\n",
            "\u001b[34m\u001b[1mtrain: \u001b[0m/content/dataset/images/train/00000204.jpg: 4 duplicate labels removed\n",
            "\u001b[34m\u001b[1mtrain: \u001b[0m/content/dataset/images/train/00000206.jpg: 4 duplicate labels removed\n",
            "\u001b[34m\u001b[1mtrain: \u001b[0m/content/dataset/images/train/00000211.jpg: 4 duplicate labels removed\n",
            "\u001b[34m\u001b[1mtrain: \u001b[0m/content/dataset/images/train/00000213.jpg: 4 duplicate labels removed\n",
            "\u001b[34m\u001b[1mtrain: \u001b[0m/content/dataset/images/train/00000219.jpg: 4 duplicate labels removed\n",
            "\u001b[34m\u001b[1mtrain: \u001b[0m/content/dataset/images/train/00000220.jpg: 12 duplicate labels removed\n",
            "\u001b[34m\u001b[1mtrain: \u001b[0m/content/dataset/images/train/00000230.jpg: 4 duplicate labels removed\n",
            "\u001b[34m\u001b[1mtrain: \u001b[0m/content/dataset/images/train/00000233.jpg: 4 duplicate labels removed\n",
            "\u001b[34m\u001b[1mtrain: \u001b[0m/content/dataset/images/train/00000235.jpg: 4 duplicate labels removed\n",
            "\u001b[34m\u001b[1mtrain: \u001b[0m/content/dataset/images/train/00000238.jpg: 4 duplicate labels removed\n",
            "\u001b[34m\u001b[1mtrain: \u001b[0m/content/dataset/images/train/00000239.jpg: 12 duplicate labels removed\n",
            "\u001b[34m\u001b[1mtrain: \u001b[0m/content/dataset/images/train/00000240.jpg: 4 duplicate labels removed\n",
            "\u001b[34m\u001b[1mtrain: \u001b[0m/content/dataset/images/train/00000243.jpg: 4 duplicate labels removed\n",
            "\u001b[34m\u001b[1mtrain: \u001b[0m/content/dataset/images/train/00000249.jpg: 4 duplicate labels removed\n",
            "\u001b[34m\u001b[1mtrain: \u001b[0m/content/dataset/images/train/00000254.jpg: 4 duplicate labels removed\n",
            "\u001b[34m\u001b[1mtrain: \u001b[0m/content/dataset/images/train/00000255.jpg: 8 duplicate labels removed\n",
            "\u001b[34m\u001b[1mtrain: \u001b[0m/content/dataset/images/train/00000256.jpg: 8 duplicate labels removed\n",
            "\u001b[34m\u001b[1mtrain: \u001b[0m/content/dataset/images/train/00000263.jpg: 12 duplicate labels removed\n",
            "\u001b[34m\u001b[1mtrain: \u001b[0m/content/dataset/images/train/00000266.jpg: 4 duplicate labels removed\n",
            "\u001b[34m\u001b[1mtrain: \u001b[0m/content/dataset/images/train/00000272.jpg: 4 duplicate labels removed\n",
            "\u001b[34m\u001b[1mtrain: \u001b[0m/content/dataset/images/train/00000275.jpg: 4 duplicate labels removed\n",
            "\u001b[34m\u001b[1mtrain: \u001b[0m/content/dataset/images/train/00000280.jpg: 16 duplicate labels removed\n",
            "\u001b[34m\u001b[1mtrain: \u001b[0m/content/dataset/images/train/00000281.jpg: 4 duplicate labels removed\n",
            "\u001b[34m\u001b[1mtrain: \u001b[0m/content/dataset/images/train/00000282.jpg: 4 duplicate labels removed\n",
            "\u001b[34m\u001b[1mtrain: \u001b[0m/content/dataset/images/train/00000285.jpg: 4 duplicate labels removed\n",
            "\u001b[34m\u001b[1mtrain: \u001b[0m/content/dataset/images/train/00000298.jpg: 4 duplicate labels removed\n",
            "\u001b[34m\u001b[1mtrain: \u001b[0m/content/dataset/images/train/00000300.jpg: 4 duplicate labels removed\n",
            "\u001b[34m\u001b[1mtrain: \u001b[0m/content/dataset/images/train/00000303.jpg: 8 duplicate labels removed\n",
            "\u001b[34m\u001b[1mtrain: \u001b[0m/content/dataset/images/train/00000305.jpg: 4 duplicate labels removed\n",
            "\u001b[34m\u001b[1mtrain: \u001b[0m/content/dataset/images/train/00000309.jpg: 4 duplicate labels removed\n",
            "\u001b[34m\u001b[1mtrain: \u001b[0m/content/dataset/images/train/00000315.jpg: 4 duplicate labels removed\n",
            "\u001b[34m\u001b[1mtrain: \u001b[0m/content/dataset/images/train/00000317.jpg: 8 duplicate labels removed\n",
            "\u001b[34m\u001b[1mtrain: \u001b[0m/content/dataset/images/train/00000321.jpg: 16 duplicate labels removed\n",
            "\u001b[34m\u001b[1mtrain: \u001b[0m/content/dataset/images/train/00000322.jpg: 4 duplicate labels removed\n",
            "\u001b[34m\u001b[1mtrain: \u001b[0m/content/dataset/images/train/00000323.jpg: 4 duplicate labels removed\n",
            "\u001b[34m\u001b[1mtrain: \u001b[0m/content/dataset/images/train/00000325.jpg: 4 duplicate labels removed\n",
            "\u001b[34m\u001b[1mtrain: \u001b[0m/content/dataset/images/train/00000328.jpg: 4 duplicate labels removed\n",
            "\u001b[34m\u001b[1mtrain: \u001b[0m/content/dataset/images/train/00000331.jpg: 4 duplicate labels removed\n",
            "\u001b[34m\u001b[1mtrain: \u001b[0m/content/dataset/images/train/00000333.jpg: 4 duplicate labels removed\n",
            "\u001b[34m\u001b[1mtrain: \u001b[0m/content/dataset/images/train/00000337.jpg: 4 duplicate labels removed\n",
            "\u001b[34m\u001b[1mtrain: \u001b[0m/content/dataset/images/train/00000338.jpg: 8 duplicate labels removed\n",
            "\u001b[34m\u001b[1mtrain: \u001b[0m/content/dataset/images/train/00000348.jpg: 4 duplicate labels removed\n",
            "\u001b[34m\u001b[1mtrain: \u001b[0m/content/dataset/images/train/00000351.jpg: 4 duplicate labels removed\n",
            "\u001b[34m\u001b[1mtrain: \u001b[0m/content/dataset/images/train/00000353.jpg: 4 duplicate labels removed\n",
            "\u001b[34m\u001b[1mtrain: \u001b[0m/content/dataset/images/train/00000361.jpg: 4 duplicate labels removed\n",
            "\u001b[34m\u001b[1mtrain: \u001b[0m/content/dataset/images/train/00000362.jpg: 4 duplicate labels removed\n",
            "\u001b[34m\u001b[1mtrain: \u001b[0m/content/dataset/images/train/00000363.jpg: 4 duplicate labels removed\n",
            "\u001b[34m\u001b[1mtrain: \u001b[0m/content/dataset/images/train/00000365.jpg: 4 duplicate labels removed\n",
            "\u001b[34m\u001b[1mtrain: \u001b[0m/content/dataset/images/train/00000366.jpg: 8 duplicate labels removed\n",
            "\u001b[34m\u001b[1mtrain: \u001b[0m/content/dataset/images/train/00000377.jpg: 16 duplicate labels removed\n",
            "\u001b[34m\u001b[1mtrain: \u001b[0m/content/dataset/images/train/00000380.jpg: 4 duplicate labels removed\n",
            "\u001b[34m\u001b[1mtrain: \u001b[0m/content/dataset/images/train/00000386.jpg: 4 duplicate labels removed\n",
            "\u001b[34m\u001b[1mtrain: \u001b[0m/content/dataset/images/train/00000396.jpg: 4 duplicate labels removed\n",
            "\u001b[34m\u001b[1mtrain: \u001b[0m/content/dataset/images/train/00000400.jpg: 4 duplicate labels removed\n",
            "\u001b[34m\u001b[1mtrain: \u001b[0m/content/dataset/images/train/00000406.jpg: 4 duplicate labels removed\n",
            "\u001b[34m\u001b[1mtrain: \u001b[0m/content/dataset/images/train/00000409.jpg: 4 duplicate labels removed\n",
            "\u001b[34m\u001b[1mtrain: \u001b[0m/content/dataset/images/train/00000411.jpg: 4 duplicate labels removed\n",
            "\u001b[34m\u001b[1mtrain: \u001b[0m/content/dataset/images/train/00000413.jpg: 4 duplicate labels removed\n",
            "\u001b[34m\u001b[1mtrain: \u001b[0m/content/dataset/images/train/00000422.jpg: 4 duplicate labels removed\n",
            "\u001b[34m\u001b[1mtrain: \u001b[0m/content/dataset/images/train/00000429.jpg: 4 duplicate labels removed\n",
            "\u001b[34m\u001b[1mtrain: \u001b[0m/content/dataset/images/train/00000430.jpg: 4 duplicate labels removed\n",
            "\u001b[34m\u001b[1mtrain: \u001b[0m/content/dataset/images/train/00000432.jpg: 4 duplicate labels removed\n",
            "\u001b[34m\u001b[1mtrain: \u001b[0m/content/dataset/images/train/00000436.jpg: 4 duplicate labels removed\n",
            "\u001b[34m\u001b[1mtrain: \u001b[0m/content/dataset/images/train/00000442.jpg: 4 duplicate labels removed\n",
            "\u001b[34m\u001b[1mtrain: \u001b[0m/content/dataset/images/train/00000445.jpg: 16 duplicate labels removed\n",
            "\u001b[34m\u001b[1mtrain: \u001b[0m/content/dataset/images/train/00000448.jpg: 12 duplicate labels removed\n",
            "\u001b[34m\u001b[1mtrain: \u001b[0m/content/dataset/images/train/00000452.jpg: 4 duplicate labels removed\n",
            "\u001b[34m\u001b[1mtrain: \u001b[0m/content/dataset/images/train/00000453.jpg: 12 duplicate labels removed\n",
            "\u001b[34m\u001b[1mtrain: \u001b[0m/content/dataset/images/train/00000460.jpg: 4 duplicate labels removed\n",
            "\u001b[34m\u001b[1mtrain: \u001b[0m/content/dataset/images/train/00000466.jpg: 4 duplicate labels removed\n",
            "\u001b[34m\u001b[1mtrain: \u001b[0m/content/dataset/images/train/00000469.jpg: 4 duplicate labels removed\n",
            "\u001b[34m\u001b[1mtrain: \u001b[0m/content/dataset/images/train/00000470.jpg: 4 duplicate labels removed\n",
            "\u001b[34m\u001b[1mtrain: \u001b[0m/content/dataset/images/train/00000478.jpg: 4 duplicate labels removed\n",
            "\u001b[34m\u001b[1mtrain: \u001b[0m/content/dataset/images/train/00000480.jpg: 4 duplicate labels removed\n",
            "\u001b[34m\u001b[1mtrain: \u001b[0m/content/dataset/images/train/00000486.jpg: 4 duplicate labels removed\n",
            "\u001b[34m\u001b[1mtrain: \u001b[0m/content/dataset/images/train/00000489.jpg: 4 duplicate labels removed\n",
            "\u001b[34m\u001b[1mtrain: \u001b[0m/content/dataset/images/train/00000492.jpg: 4 duplicate labels removed\n",
            "\u001b[34m\u001b[1mtrain: \u001b[0m/content/dataset/images/train/00000496.jpg: 4 duplicate labels removed\n",
            "\u001b[34m\u001b[1mtrain: \u001b[0m/content/dataset/images/train/00000502.jpg: 20 duplicate labels removed\n",
            "\u001b[34m\u001b[1mtrain: \u001b[0m/content/dataset/images/train/00000503.jpg: 24 duplicate labels removed\n",
            "\u001b[34m\u001b[1mtrain: \u001b[0m/content/dataset/images/train/00000504.jpg: 12 duplicate labels removed\n",
            "\u001b[34m\u001b[1mtrain: \u001b[0m/content/dataset/images/train/00000506.jpg: 12 duplicate labels removed\n",
            "\u001b[34m\u001b[1mtrain: \u001b[0m/content/dataset/images/train/00000507.jpg: 20 duplicate labels removed\n",
            "\u001b[34m\u001b[1mtrain: \u001b[0m/content/dataset/images/train/00000508.jpg: 28 duplicate labels removed\n",
            "\u001b[34m\u001b[1mtrain: \u001b[0m/content/dataset/images/train/00000509.jpg: 16 duplicate labels removed\n",
            "\u001b[34m\u001b[1mtrain: \u001b[0m/content/dataset/images/train/00000510.jpg: 8 duplicate labels removed\n",
            "\u001b[34m\u001b[1mtrain: \u001b[0m/content/dataset/images/train/00000516.jpg: 16 duplicate labels removed\n",
            "\u001b[34m\u001b[1mtrain: \u001b[0m/content/dataset/images/train/00000518.jpg: 4 duplicate labels removed\n",
            "\u001b[34m\u001b[1mtrain: \u001b[0m/content/dataset/images/train/00000519.jpg: 12 duplicate labels removed\n",
            "\u001b[34m\u001b[1mtrain: \u001b[0m/content/dataset/images/train/00000520.jpg: 16 duplicate labels removed\n",
            "\u001b[34m\u001b[1mtrain: \u001b[0m/content/dataset/images/train/00000521.jpg: 16 duplicate labels removed\n",
            "\u001b[34m\u001b[1mtrain: \u001b[0m/content/dataset/images/train/00000522.jpg: 24 duplicate labels removed\n",
            "\u001b[34m\u001b[1mtrain: \u001b[0m/content/dataset/images/train/00000523.jpg: 20 duplicate labels removed\n",
            "\u001b[34m\u001b[1mtrain: \u001b[0m/content/dataset/images/train/00000524.jpg: 4 duplicate labels removed\n",
            "\u001b[34m\u001b[1mtrain: \u001b[0m/content/dataset/images/train/00000525.jpg: 8 duplicate labels removed\n",
            "\u001b[34m\u001b[1mtrain: \u001b[0m/content/dataset/images/train/00000527.jpg: 20 duplicate labels removed\n",
            "\u001b[34m\u001b[1mtrain: \u001b[0m/content/dataset/images/train/00000528.jpg: 4 duplicate labels removed\n",
            "\u001b[34m\u001b[1mtrain: \u001b[0m/content/dataset/images/train/00000530.jpg: 16 duplicate labels removed\n",
            "\u001b[34m\u001b[1mtrain: \u001b[0m/content/dataset/images/train/00000532.jpg: 12 duplicate labels removed\n",
            "\u001b[34m\u001b[1mtrain: \u001b[0m/content/dataset/images/train/00000533.jpg: 24 duplicate labels removed\n",
            "\u001b[34m\u001b[1mtrain: \u001b[0m/content/dataset/images/train/00000535.jpg: 12 duplicate labels removed\n",
            "\u001b[34m\u001b[1mtrain: \u001b[0m/content/dataset/images/train/00000538.jpg: 4 duplicate labels removed\n",
            "\u001b[34m\u001b[1mtrain: \u001b[0m/content/dataset/images/train/00000539.jpg: 24 duplicate labels removed\n",
            "\u001b[34m\u001b[1mtrain: \u001b[0m/content/dataset/images/train/00000540.jpg: 24 duplicate labels removed\n",
            "\u001b[34m\u001b[1mtrain: \u001b[0m/content/dataset/images/train/00000543.jpg: 8 duplicate labels removed\n",
            "\u001b[34m\u001b[1mtrain: \u001b[0m/content/dataset/images/train/00000545.jpg: 8 duplicate labels removed\n",
            "\u001b[34m\u001b[1mtrain: \u001b[0m/content/dataset/images/train/00000547.jpg: 8 duplicate labels removed\n",
            "\u001b[34m\u001b[1mtrain: \u001b[0m/content/dataset/images/train/00000548.jpg: 28 duplicate labels removed\n",
            "\u001b[34m\u001b[1mtrain: \u001b[0m/content/dataset/images/train/00000549.jpg: 12 duplicate labels removed\n",
            "\u001b[34m\u001b[1mtrain: \u001b[0m/content/dataset/images/train/00000550.jpg: 20 duplicate labels removed\n",
            "\u001b[34m\u001b[1mtrain: \u001b[0m/content/dataset/images/train/00000551.jpg: 16 duplicate labels removed\n",
            "\u001b[34m\u001b[1mtrain: \u001b[0m/content/dataset/images/train/00000553.jpg: 12 duplicate labels removed\n",
            "\u001b[34m\u001b[1mtrain: \u001b[0m/content/dataset/images/train/00000556.jpg: 12 duplicate labels removed\n",
            "\u001b[34m\u001b[1mtrain: \u001b[0m/content/dataset/images/train/00000558.jpg: 8 duplicate labels removed\n",
            "\u001b[34m\u001b[1mtrain: \u001b[0m/content/dataset/images/train/00000559.jpg: 12 duplicate labels removed\n",
            "\u001b[34m\u001b[1mtrain: \u001b[0m/content/dataset/images/train/00000560.jpg: 12 duplicate labels removed\n",
            "\u001b[34m\u001b[1mtrain: \u001b[0m/content/dataset/images/train/00000562.jpg: 8 duplicate labels removed\n",
            "\u001b[34m\u001b[1mtrain: \u001b[0m/content/dataset/images/train/00000563.jpg: 12 duplicate labels removed\n",
            "\u001b[34m\u001b[1mtrain: \u001b[0m/content/dataset/images/train/00000564.jpg: 16 duplicate labels removed\n",
            "\u001b[34m\u001b[1mtrain: \u001b[0m/content/dataset/images/train/00000565.jpg: 20 duplicate labels removed\n",
            "\u001b[34m\u001b[1mtrain: \u001b[0m/content/dataset/images/train/00000566.jpg: 4 duplicate labels removed\n",
            "\u001b[34m\u001b[1mtrain: \u001b[0m/content/dataset/images/train/00000569.jpg: 16 duplicate labels removed\n",
            "\u001b[34m\u001b[1mtrain: \u001b[0m/content/dataset/images/train/00000571.jpg: 4 duplicate labels removed\n",
            "\u001b[34m\u001b[1mtrain: \u001b[0m/content/dataset/images/train/00000576.jpg: 24 duplicate labels removed\n",
            "\u001b[34m\u001b[1mtrain: \u001b[0m/content/dataset/images/train/00000577.jpg: 20 duplicate labels removed\n",
            "\u001b[34m\u001b[1mtrain: \u001b[0m/content/dataset/images/train/00000578.jpg: 36 duplicate labels removed\n",
            "\u001b[34m\u001b[1mtrain: \u001b[0m/content/dataset/images/train/00000580.jpg: 20 duplicate labels removed\n",
            "\u001b[34m\u001b[1mtrain: \u001b[0m/content/dataset/images/train/00000582.jpg: 4 duplicate labels removed\n",
            "\u001b[34m\u001b[1mtrain: \u001b[0m/content/dataset/images/train/00000585.jpg: 8 duplicate labels removed\n",
            "\u001b[34m\u001b[1mtrain: \u001b[0m/content/dataset/images/train/00000588.jpg: 4 duplicate labels removed\n",
            "\u001b[34m\u001b[1mtrain: \u001b[0m/content/dataset/images/train/00000589.jpg: 12 duplicate labels removed\n",
            "\u001b[34m\u001b[1mtrain: \u001b[0m/content/dataset/images/train/00000590.jpg: 8 duplicate labels removed\n",
            "\u001b[34m\u001b[1mtrain: \u001b[0m/content/dataset/images/train/00000592.jpg: 4 duplicate labels removed\n",
            "\u001b[34m\u001b[1mtrain: \u001b[0m/content/dataset/images/train/00000593.jpg: 20 duplicate labels removed\n",
            "\u001b[34m\u001b[1mtrain: \u001b[0m/content/dataset/images/train/00000598.jpg: 4 duplicate labels removed\n",
            "\u001b[34m\u001b[1mtrain: \u001b[0m/content/dataset/images/train/00000602.jpg: 12 duplicate labels removed\n",
            "\u001b[34m\u001b[1mtrain: \u001b[0m/content/dataset/images/train/00000603.jpg: 8 duplicate labels removed\n",
            "\u001b[34m\u001b[1mtrain: \u001b[0m/content/dataset/images/train/00000604.jpg: 8 duplicate labels removed\n",
            "\u001b[34m\u001b[1mtrain: \u001b[0m/content/dataset/images/train/00000605.jpg: 16 duplicate labels removed\n",
            "\u001b[34m\u001b[1mtrain: \u001b[0m/content/dataset/images/train/00000609.jpg: 28 duplicate labels removed\n",
            "\u001b[34m\u001b[1mtrain: \u001b[0m/content/dataset/images/train/00000610.jpg: 8 duplicate labels removed\n",
            "\u001b[34m\u001b[1mtrain: \u001b[0m/content/dataset/images/train/00000612.jpg: 8 duplicate labels removed\n",
            "\u001b[34m\u001b[1mtrain: \u001b[0m/content/dataset/images/train/00000615.jpg: 8 duplicate labels removed\n",
            "\u001b[34m\u001b[1mtrain: \u001b[0m/content/dataset/images/train/00000616.jpg: 4 duplicate labels removed\n",
            "\u001b[34m\u001b[1mtrain: \u001b[0m/content/dataset/images/train/00000617.jpg: 20 duplicate labels removed\n",
            "\u001b[34m\u001b[1mtrain: \u001b[0m/content/dataset/images/train/00000618.jpg: 4 duplicate labels removed\n",
            "\u001b[34m\u001b[1mtrain: \u001b[0m/content/dataset/images/train/00000619.jpg: 12 duplicate labels removed\n",
            "\u001b[34m\u001b[1mtrain: \u001b[0m/content/dataset/images/train/00000621.jpg: 12 duplicate labels removed\n",
            "\u001b[34m\u001b[1mtrain: \u001b[0m/content/dataset/images/train/00000623.jpg: 20 duplicate labels removed\n",
            "\u001b[34m\u001b[1mtrain: \u001b[0m/content/dataset/images/train/00000625.jpg: 4 duplicate labels removed\n",
            "\u001b[34m\u001b[1mtrain: \u001b[0m/content/dataset/images/train/00000626.jpg: 16 duplicate labels removed\n",
            "\u001b[34m\u001b[1mtrain: \u001b[0m/content/dataset/images/train/00000637.jpg: 20 duplicate labels removed\n",
            "\u001b[34m\u001b[1mtrain: \u001b[0m/content/dataset/images/train/00000640.jpg: 20 duplicate labels removed\n",
            "\u001b[34m\u001b[1mtrain: \u001b[0m/content/dataset/images/train/00000641.jpg: 32 duplicate labels removed\n",
            "\u001b[34m\u001b[1mtrain: \u001b[0m/content/dataset/images/train/00000642.jpg: 28 duplicate labels removed\n",
            "\u001b[34m\u001b[1mtrain: \u001b[0m/content/dataset/images/train/00000644.jpg: 12 duplicate labels removed\n",
            "\u001b[34m\u001b[1mtrain: \u001b[0m/content/dataset/images/train/00000645.jpg: 12 duplicate labels removed\n",
            "\u001b[34m\u001b[1mtrain: \u001b[0m/content/dataset/images/train/00000652.jpg: 4 duplicate labels removed\n",
            "\u001b[34m\u001b[1mtrain: \u001b[0m/content/dataset/images/train/00000653.jpg: 12 duplicate labels removed\n",
            "\u001b[34m\u001b[1mtrain: \u001b[0m/content/dataset/images/train/00000656.jpg: 20 duplicate labels removed\n",
            "\u001b[34m\u001b[1mtrain: \u001b[0m/content/dataset/images/train/00000657.jpg: 40 duplicate labels removed\n",
            "\u001b[34m\u001b[1mtrain: \u001b[0m/content/dataset/images/train/00000661.jpg: 8 duplicate labels removed\n",
            "\u001b[34m\u001b[1mtrain: \u001b[0m/content/dataset/images/train/00000664.jpg: 12 duplicate labels removed\n",
            "\u001b[34m\u001b[1mtrain: \u001b[0m/content/dataset/images/train/00000667.jpg: 24 duplicate labels removed\n",
            "\u001b[34m\u001b[1mtrain: \u001b[0m/content/dataset/images/train/00000670.jpg: 12 duplicate labels removed\n",
            "\u001b[34m\u001b[1mtrain: \u001b[0m/content/dataset/images/train/00000672.jpg: 16 duplicate labels removed\n",
            "\u001b[34m\u001b[1mtrain: \u001b[0m/content/dataset/images/train/00000675.jpg: 8 duplicate labels removed\n",
            "\u001b[34m\u001b[1mtrain: \u001b[0m/content/dataset/images/train/00000677.jpg: 8 duplicate labels removed\n",
            "\u001b[34m\u001b[1mtrain: \u001b[0m/content/dataset/images/train/00000678.jpg: 4 duplicate labels removed\n",
            "\u001b[34m\u001b[1mtrain: \u001b[0m/content/dataset/images/train/00000679.jpg: 20 duplicate labels removed\n",
            "\u001b[34m\u001b[1mtrain: \u001b[0m/content/dataset/images/train/00000681.jpg: 12 duplicate labels removed\n",
            "\u001b[34m\u001b[1mtrain: \u001b[0m/content/dataset/images/train/00000684.jpg: 4 duplicate labels removed\n",
            "\u001b[34m\u001b[1mtrain: \u001b[0m/content/dataset/images/train/00000697.jpg: 8 duplicate labels removed\n",
            "\u001b[34m\u001b[1mtrain: \u001b[0m/content/dataset/images/train/00000699.jpg: 8 duplicate labels removed\n",
            "\u001b[34m\u001b[1mtrain: \u001b[0m/content/dataset/images/train/00000701.jpg: 8 duplicate labels removed\n",
            "\u001b[34m\u001b[1mtrain: \u001b[0m/content/dataset/images/train/00000702.jpg: 16 duplicate labels removed\n",
            "\u001b[34m\u001b[1mtrain: \u001b[0m/content/dataset/images/train/00000704.jpg: 12 duplicate labels removed\n",
            "\u001b[34m\u001b[1mtrain: \u001b[0m/content/dataset/images/train/00000707.jpg: 16 duplicate labels removed\n",
            "\u001b[34m\u001b[1mtrain: \u001b[0m/content/dataset/images/train/00000711.jpg: 12 duplicate labels removed\n",
            "\u001b[34m\u001b[1mtrain: \u001b[0m/content/dataset/images/train/00000713.jpg: 8 duplicate labels removed\n",
            "\u001b[34m\u001b[1mtrain: \u001b[0m/content/dataset/images/train/00000715.jpg: 12 duplicate labels removed\n",
            "\u001b[34m\u001b[1mtrain: \u001b[0m/content/dataset/images/train/00000717.jpg: 12 duplicate labels removed\n",
            "\u001b[34m\u001b[1mtrain: \u001b[0m/content/dataset/images/train/00000718.jpg: 28 duplicate labels removed\n",
            "\u001b[34m\u001b[1mtrain: \u001b[0m/content/dataset/images/train/00000719.jpg: 24 duplicate labels removed\n",
            "\u001b[34m\u001b[1mtrain: \u001b[0m/content/dataset/images/train/00000723.jpg: 16 duplicate labels removed\n",
            "\u001b[34m\u001b[1mtrain: \u001b[0m/content/dataset/images/train/00000724.jpg: 8 duplicate labels removed\n",
            "\u001b[34m\u001b[1mtrain: \u001b[0m/content/dataset/images/train/00000726.jpg: 20 duplicate labels removed\n",
            "\u001b[34m\u001b[1mtrain: \u001b[0m/content/dataset/images/train/00000729.jpg: 24 duplicate labels removed\n",
            "\u001b[34m\u001b[1mtrain: \u001b[0m/content/dataset/images/train/00000734.jpg: 8 duplicate labels removed\n",
            "\u001b[34m\u001b[1mtrain: \u001b[0m/content/dataset/images/train/00000735.jpg: 4 duplicate labels removed\n",
            "\u001b[34m\u001b[1mtrain: \u001b[0m/content/dataset/images/train/00000737.jpg: 24 duplicate labels removed\n",
            "\u001b[34m\u001b[1mtrain: \u001b[0m/content/dataset/images/train/00000738.jpg: 16 duplicate labels removed\n",
            "\u001b[34m\u001b[1mtrain: \u001b[0m/content/dataset/images/train/00000741.jpg: 16 duplicate labels removed\n",
            "\u001b[34m\u001b[1mtrain: \u001b[0m/content/dataset/images/train/00000751.jpg: 4 duplicate labels removed\n",
            "\u001b[34m\u001b[1mtrain: \u001b[0m/content/dataset/images/train/00000752.jpg: 4 duplicate labels removed\n",
            "\u001b[34m\u001b[1mtrain: \u001b[0m/content/dataset/images/train/00000753.jpg: 4 duplicate labels removed\n",
            "\u001b[34m\u001b[1mtrain: \u001b[0m/content/dataset/images/train/00000754.jpg: 4 duplicate labels removed\n",
            "\u001b[34m\u001b[1mtrain: \u001b[0m/content/dataset/images/train/00000757.jpg: 4 duplicate labels removed\n",
            "\u001b[34m\u001b[1mtrain: \u001b[0m/content/dataset/images/train/00000758.jpg: 4 duplicate labels removed\n",
            "\u001b[34m\u001b[1mtrain: \u001b[0m/content/dataset/images/train/00000760.jpg: 4 duplicate labels removed\n",
            "\u001b[34m\u001b[1mtrain: \u001b[0m/content/dataset/images/train/00000761.jpg: 4 duplicate labels removed\n",
            "\u001b[34m\u001b[1mtrain: \u001b[0m/content/dataset/images/train/00000762.jpg: 4 duplicate labels removed\n",
            "\u001b[34m\u001b[1mtrain: \u001b[0m/content/dataset/images/train/00000763.jpg: 4 duplicate labels removed\n",
            "\u001b[34m\u001b[1mtrain: \u001b[0m/content/dataset/images/train/00000764.jpg: 4 duplicate labels removed\n",
            "\u001b[34m\u001b[1mtrain: \u001b[0m/content/dataset/images/train/00000765.jpg: 4 duplicate labels removed\n",
            "\u001b[34m\u001b[1mtrain: \u001b[0m/content/dataset/images/train/00000767.jpg: 4 duplicate labels removed\n",
            "\u001b[34m\u001b[1mtrain: \u001b[0m/content/dataset/images/train/00000770.jpg: 4 duplicate labels removed\n",
            "\u001b[34m\u001b[1mtrain: \u001b[0m/content/dataset/images/train/00000772.jpg: 4 duplicate labels removed\n",
            "\u001b[34m\u001b[1mtrain: \u001b[0m/content/dataset/images/train/00000774.jpg: 4 duplicate labels removed\n",
            "\u001b[34m\u001b[1mtrain: \u001b[0m/content/dataset/images/train/00000778.jpg: 4 duplicate labels removed\n",
            "\u001b[34m\u001b[1mtrain: \u001b[0m/content/dataset/images/train/00000779.jpg: 4 duplicate labels removed\n",
            "\u001b[34m\u001b[1mtrain: \u001b[0m/content/dataset/images/train/00000783.jpg: 4 duplicate labels removed\n",
            "\u001b[34m\u001b[1mtrain: \u001b[0m/content/dataset/images/train/00000784.jpg: 4 duplicate labels removed\n",
            "\u001b[34m\u001b[1mtrain: \u001b[0m/content/dataset/images/train/00000785.jpg: 4 duplicate labels removed\n",
            "\u001b[34m\u001b[1mtrain: \u001b[0m/content/dataset/images/train/00000786.jpg: 4 duplicate labels removed\n",
            "\u001b[34m\u001b[1mtrain: \u001b[0m/content/dataset/images/train/00000787.jpg: 4 duplicate labels removed\n",
            "\u001b[34m\u001b[1mtrain: \u001b[0m/content/dataset/images/train/00000792.jpg: 4 duplicate labels removed\n",
            "\u001b[34m\u001b[1mtrain: \u001b[0m/content/dataset/images/train/00000793.jpg: 4 duplicate labels removed\n",
            "\u001b[34m\u001b[1mtrain: \u001b[0m/content/dataset/images/train/00000794.jpg: 4 duplicate labels removed\n",
            "\u001b[34m\u001b[1mtrain: \u001b[0m/content/dataset/images/train/00000798.jpg: 4 duplicate labels removed\n",
            "\u001b[34m\u001b[1mtrain: \u001b[0m/content/dataset/images/train/00000800.jpg: 4 duplicate labels removed\n",
            "\u001b[34m\u001b[1mtrain: \u001b[0m/content/dataset/images/train/00000801.jpg: 4 duplicate labels removed\n",
            "\u001b[34m\u001b[1mtrain: \u001b[0m/content/dataset/images/train/00000802.jpg: 4 duplicate labels removed\n",
            "\u001b[34m\u001b[1mtrain: \u001b[0m/content/dataset/images/train/00000803.jpg: 4 duplicate labels removed\n",
            "\u001b[34m\u001b[1mtrain: \u001b[0m/content/dataset/images/train/00000805.jpg: 4 duplicate labels removed\n",
            "\u001b[34m\u001b[1mtrain: \u001b[0m/content/dataset/images/train/00000809.jpg: 4 duplicate labels removed\n",
            "\u001b[34m\u001b[1mtrain: \u001b[0m/content/dataset/images/train/00000811.jpg: 4 duplicate labels removed\n",
            "\u001b[34m\u001b[1mtrain: \u001b[0m/content/dataset/images/train/00000813.jpg: 4 duplicate labels removed\n",
            "\u001b[34m\u001b[1mtrain: \u001b[0m/content/dataset/images/train/00000814.jpg: 4 duplicate labels removed\n",
            "\u001b[34m\u001b[1mtrain: \u001b[0m/content/dataset/images/train/00000816.jpg: 4 duplicate labels removed\n",
            "\u001b[34m\u001b[1mtrain: \u001b[0m/content/dataset/images/train/00000819.jpg: 4 duplicate labels removed\n",
            "\u001b[34m\u001b[1mtrain: \u001b[0m/content/dataset/images/train/00000826.jpg: 4 duplicate labels removed\n",
            "\u001b[34m\u001b[1mtrain: \u001b[0m/content/dataset/images/train/00000828.jpg: 4 duplicate labels removed\n",
            "\u001b[34m\u001b[1mtrain: \u001b[0m/content/dataset/images/train/00000829.jpg: 4 duplicate labels removed\n",
            "\u001b[34m\u001b[1mtrain: \u001b[0m/content/dataset/images/train/00000830.jpg: 4 duplicate labels removed\n",
            "\u001b[34m\u001b[1mtrain: \u001b[0m/content/dataset/images/train/00000831.jpg: 4 duplicate labels removed\n",
            "\u001b[34m\u001b[1mtrain: \u001b[0m/content/dataset/images/train/00000832.jpg: 4 duplicate labels removed\n",
            "\u001b[34m\u001b[1mtrain: \u001b[0m/content/dataset/images/train/00000833.jpg: 4 duplicate labels removed\n",
            "\u001b[34m\u001b[1mtrain: \u001b[0m/content/dataset/images/train/00000834.jpg: 4 duplicate labels removed\n",
            "\u001b[34m\u001b[1mtrain: \u001b[0m/content/dataset/images/train/00000835.jpg: 4 duplicate labels removed\n",
            "\u001b[34m\u001b[1mtrain: \u001b[0m/content/dataset/images/train/00000837.jpg: 4 duplicate labels removed\n",
            "\u001b[34m\u001b[1mtrain: \u001b[0m/content/dataset/images/train/00000838.jpg: 4 duplicate labels removed\n",
            "\u001b[34m\u001b[1mtrain: \u001b[0m/content/dataset/images/train/00000839.jpg: 4 duplicate labels removed\n",
            "\u001b[34m\u001b[1mtrain: \u001b[0m/content/dataset/images/train/00000840.jpg: 4 duplicate labels removed\n",
            "\u001b[34m\u001b[1mtrain: \u001b[0m/content/dataset/images/train/00000841.jpg: 4 duplicate labels removed\n",
            "\u001b[34m\u001b[1mtrain: \u001b[0m/content/dataset/images/train/00000842.jpg: 4 duplicate labels removed\n",
            "\u001b[34m\u001b[1mtrain: \u001b[0m/content/dataset/images/train/00000844.jpg: 4 duplicate labels removed\n",
            "\u001b[34m\u001b[1mtrain: \u001b[0m/content/dataset/images/train/00000845.jpg: 4 duplicate labels removed\n",
            "\u001b[34m\u001b[1mtrain: \u001b[0m/content/dataset/images/train/00000848.jpg: 4 duplicate labels removed\n",
            "\u001b[34m\u001b[1mtrain: \u001b[0m/content/dataset/images/train/00000849.jpg: 4 duplicate labels removed\n",
            "\u001b[34m\u001b[1mtrain: \u001b[0m/content/dataset/images/train/00000850.jpg: 4 duplicate labels removed\n",
            "\u001b[34m\u001b[1mtrain: \u001b[0m/content/dataset/images/train/00000853.jpg: 4 duplicate labels removed\n",
            "\u001b[34m\u001b[1mtrain: \u001b[0m/content/dataset/images/train/00000856.jpg: 4 duplicate labels removed\n",
            "\u001b[34m\u001b[1mtrain: \u001b[0m/content/dataset/images/train/00000857.jpg: 4 duplicate labels removed\n",
            "\u001b[34m\u001b[1mtrain: \u001b[0m/content/dataset/images/train/00000858.jpg: 4 duplicate labels removed\n",
            "\u001b[34m\u001b[1mtrain: \u001b[0m/content/dataset/images/train/00000859.jpg: 4 duplicate labels removed\n",
            "\u001b[34m\u001b[1mtrain: \u001b[0m/content/dataset/images/train/00000860.jpg: 4 duplicate labels removed\n",
            "\u001b[34m\u001b[1mtrain: \u001b[0m/content/dataset/images/train/00000869.jpg: 4 duplicate labels removed\n",
            "\u001b[34m\u001b[1mtrain: \u001b[0m/content/dataset/images/train/00000870.jpg: 4 duplicate labels removed\n",
            "\u001b[34m\u001b[1mtrain: \u001b[0m/content/dataset/images/train/00000872.jpg: 4 duplicate labels removed\n",
            "\u001b[34m\u001b[1mtrain: \u001b[0m/content/dataset/images/train/00000874.jpg: 4 duplicate labels removed\n",
            "\u001b[34m\u001b[1mtrain: \u001b[0m/content/dataset/images/train/00000882.jpg: 4 duplicate labels removed\n",
            "\u001b[34m\u001b[1mtrain: \u001b[0m/content/dataset/images/train/00000884.jpg: 4 duplicate labels removed\n",
            "\u001b[34m\u001b[1mtrain: \u001b[0m/content/dataset/images/train/00000885.jpg: 4 duplicate labels removed\n",
            "\u001b[34m\u001b[1mtrain: \u001b[0m/content/dataset/images/train/00000886.jpg: 4 duplicate labels removed\n",
            "\u001b[34m\u001b[1mtrain: \u001b[0m/content/dataset/images/train/00000889.jpg: 4 duplicate labels removed\n",
            "\u001b[34m\u001b[1mtrain: \u001b[0m/content/dataset/images/train/00000891.jpg: 4 duplicate labels removed\n",
            "\u001b[34m\u001b[1mtrain: \u001b[0m/content/dataset/images/train/00000893.jpg: 4 duplicate labels removed\n",
            "\u001b[34m\u001b[1mtrain: \u001b[0m/content/dataset/images/train/00000897.jpg: 4 duplicate labels removed\n",
            "\u001b[34m\u001b[1mtrain: \u001b[0m/content/dataset/images/train/00000898.jpg: 4 duplicate labels removed\n",
            "\u001b[34m\u001b[1mtrain: \u001b[0m/content/dataset/images/train/00000901.jpg: 4 duplicate labels removed\n",
            "\u001b[34m\u001b[1mtrain: \u001b[0m/content/dataset/images/train/00000902.jpg: 4 duplicate labels removed\n",
            "\u001b[34m\u001b[1mtrain: \u001b[0m/content/dataset/images/train/00000903.jpg: 4 duplicate labels removed\n",
            "\u001b[34m\u001b[1mtrain: \u001b[0m/content/dataset/images/train/00000913.jpg: 4 duplicate labels removed\n",
            "\u001b[34m\u001b[1mtrain: \u001b[0m/content/dataset/images/train/00000916.jpg: 4 duplicate labels removed\n",
            "\u001b[34m\u001b[1mtrain: \u001b[0m/content/dataset/images/train/00000917.jpg: 4 duplicate labels removed\n",
            "\u001b[34m\u001b[1mtrain: \u001b[0m/content/dataset/images/train/00000920.jpg: 4 duplicate labels removed\n",
            "\u001b[34m\u001b[1mtrain: \u001b[0m/content/dataset/images/train/00000921.jpg: 4 duplicate labels removed\n",
            "\u001b[34m\u001b[1mtrain: \u001b[0m/content/dataset/images/train/00000924.jpg: 4 duplicate labels removed\n",
            "\u001b[34m\u001b[1mtrain: \u001b[0m/content/dataset/images/train/00000926.jpg: 4 duplicate labels removed\n",
            "\u001b[34m\u001b[1mtrain: \u001b[0m/content/dataset/images/train/00000928.jpg: 4 duplicate labels removed\n",
            "\u001b[34m\u001b[1mtrain: \u001b[0m/content/dataset/images/train/00000930.jpg: 4 duplicate labels removed\n",
            "\u001b[34m\u001b[1mtrain: \u001b[0m/content/dataset/images/train/00000931.jpg: 4 duplicate labels removed\n",
            "\u001b[34m\u001b[1mtrain: \u001b[0m/content/dataset/images/train/00000932.jpg: 4 duplicate labels removed\n",
            "\u001b[34m\u001b[1mtrain: \u001b[0m/content/dataset/images/train/00000933.jpg: 4 duplicate labels removed\n",
            "\u001b[34m\u001b[1mtrain: \u001b[0m/content/dataset/images/train/00000935.jpg: 4 duplicate labels removed\n",
            "\u001b[34m\u001b[1mtrain: \u001b[0m/content/dataset/images/train/00000936.jpg: 4 duplicate labels removed\n",
            "\u001b[34m\u001b[1mtrain: \u001b[0m/content/dataset/images/train/00000939.jpg: 4 duplicate labels removed\n",
            "\u001b[34m\u001b[1mtrain: \u001b[0m/content/dataset/images/train/00000943.jpg: 4 duplicate labels removed\n",
            "\u001b[34m\u001b[1mtrain: \u001b[0m/content/dataset/images/train/00000944.jpg: 4 duplicate labels removed\n",
            "\u001b[34m\u001b[1mtrain: \u001b[0m/content/dataset/images/train/00000947.jpg: 4 duplicate labels removed\n",
            "\u001b[34m\u001b[1mtrain: \u001b[0m/content/dataset/images/train/00000948.jpg: 8 duplicate labels removed\n",
            "\u001b[34m\u001b[1mtrain: \u001b[0m/content/dataset/images/train/00000951.jpg: 4 duplicate labels removed\n",
            "\u001b[34m\u001b[1mtrain: \u001b[0m/content/dataset/images/train/00000952.jpg: 4 duplicate labels removed\n",
            "\u001b[34m\u001b[1mtrain: \u001b[0m/content/dataset/images/train/00000953.jpg: 4 duplicate labels removed\n",
            "\u001b[34m\u001b[1mtrain: \u001b[0m/content/dataset/images/train/00000955.jpg: 4 duplicate labels removed\n",
            "\u001b[34m\u001b[1mtrain: \u001b[0m/content/dataset/images/train/00000956.jpg: 4 duplicate labels removed\n",
            "\u001b[34m\u001b[1mtrain: \u001b[0m/content/dataset/images/train/00000957.jpg: 4 duplicate labels removed\n",
            "\u001b[34m\u001b[1mtrain: \u001b[0m/content/dataset/images/train/00000958.jpg: 4 duplicate labels removed\n",
            "\u001b[34m\u001b[1mtrain: \u001b[0m/content/dataset/images/train/00000962.jpg: 4 duplicate labels removed\n",
            "\u001b[34m\u001b[1mtrain: \u001b[0m/content/dataset/images/train/00000963.jpg: 4 duplicate labels removed\n",
            "\u001b[34m\u001b[1mtrain: \u001b[0m/content/dataset/images/train/00000965.jpg: 4 duplicate labels removed\n",
            "\u001b[34m\u001b[1mtrain: \u001b[0m/content/dataset/images/train/00000966.jpg: 4 duplicate labels removed\n",
            "\u001b[34m\u001b[1mtrain: \u001b[0m/content/dataset/images/train/00000968.jpg: 4 duplicate labels removed\n",
            "\u001b[34m\u001b[1mtrain: \u001b[0m/content/dataset/images/train/00000972.jpg: 4 duplicate labels removed\n",
            "\u001b[34m\u001b[1mtrain: \u001b[0m/content/dataset/images/train/00000973.jpg: 4 duplicate labels removed\n",
            "\u001b[34m\u001b[1mtrain: \u001b[0m/content/dataset/images/train/00000974.jpg: 4 duplicate labels removed\n",
            "\u001b[34m\u001b[1mtrain: \u001b[0m/content/dataset/images/train/00000976.jpg: 4 duplicate labels removed\n",
            "\u001b[34m\u001b[1mtrain: \u001b[0m/content/dataset/images/train/00000981.jpg: 4 duplicate labels removed\n",
            "\u001b[34m\u001b[1mtrain: \u001b[0m/content/dataset/images/train/00000983.jpg: 4 duplicate labels removed\n",
            "\u001b[34m\u001b[1mtrain: \u001b[0m/content/dataset/images/train/00000985.jpg: 4 duplicate labels removed\n",
            "\u001b[34m\u001b[1mtrain: \u001b[0m/content/dataset/images/train/00000986.jpg: 4 duplicate labels removed\n",
            "\u001b[34m\u001b[1mtrain: \u001b[0m/content/dataset/images/train/00000987.jpg: 4 duplicate labels removed\n",
            "\u001b[34m\u001b[1mtrain: \u001b[0m/content/dataset/images/train/00000988.jpg: 4 duplicate labels removed\n",
            "\u001b[34m\u001b[1mtrain: \u001b[0m/content/dataset/images/train/00000989.jpg: 4 duplicate labels removed\n",
            "\u001b[34m\u001b[1mtrain: \u001b[0m/content/dataset/images/train/00000993.jpg: 4 duplicate labels removed\n",
            "\u001b[34m\u001b[1mtrain: \u001b[0m/content/dataset/images/train/00000994.jpg: 4 duplicate labels removed\n",
            "\u001b[34m\u001b[1mtrain: \u001b[0m/content/dataset/images/train/00000996.jpg: 8 duplicate labels removed\n",
            "\u001b[34m\u001b[1mtrain: \u001b[0m/content/dataset/images/train/00000999.jpg: 4 duplicate labels removed\n",
            "\u001b[34m\u001b[1mtrain: \u001b[0m/content/dataset/images/train/00001003.jpg: 4 duplicate labels removed\n",
            "\u001b[34m\u001b[1mtrain: \u001b[0m/content/dataset/images/train/00001007.jpg: 4 duplicate labels removed\n",
            "\u001b[34m\u001b[1mtrain: \u001b[0m/content/dataset/images/train/00001008.jpg: 4 duplicate labels removed\n",
            "\u001b[34m\u001b[1mtrain: \u001b[0m/content/dataset/images/train/00001011.jpg: 4 duplicate labels removed\n",
            "\u001b[34m\u001b[1mtrain: \u001b[0m/content/dataset/images/train/00001012.jpg: 4 duplicate labels removed\n",
            "\u001b[34m\u001b[1mtrain: \u001b[0m/content/dataset/images/train/00001013.jpg: 4 duplicate labels removed\n",
            "\u001b[34m\u001b[1mtrain: \u001b[0m/content/dataset/images/train/00001014.jpg: 4 duplicate labels removed\n",
            "\u001b[34m\u001b[1mtrain: \u001b[0m/content/dataset/images/train/00001015.jpg: 4 duplicate labels removed\n",
            "\u001b[34m\u001b[1mtrain: \u001b[0m/content/dataset/images/train/00001016.jpg: 4 duplicate labels removed\n",
            "\u001b[34m\u001b[1mtrain: \u001b[0m/content/dataset/images/train/00001017.jpg: 4 duplicate labels removed\n",
            "\u001b[34m\u001b[1mtrain: \u001b[0m/content/dataset/images/train/00001019.jpg: 4 duplicate labels removed\n",
            "\u001b[34m\u001b[1mtrain: \u001b[0m/content/dataset/images/train/00001026.jpg: 4 duplicate labels removed\n",
            "\u001b[34m\u001b[1mtrain: \u001b[0m/content/dataset/images/train/00001028.jpg: 4 duplicate labels removed\n",
            "\u001b[34m\u001b[1mtrain: \u001b[0m/content/dataset/images/train/00001032.jpg: 4 duplicate labels removed\n",
            "\u001b[34m\u001b[1mtrain: \u001b[0m/content/dataset/images/train/00001033.jpg: 4 duplicate labels removed\n",
            "\u001b[34m\u001b[1mtrain: \u001b[0m/content/dataset/images/train/00001034.jpg: 4 duplicate labels removed\n",
            "\u001b[34m\u001b[1mtrain: \u001b[0m/content/dataset/images/train/00001039.jpg: 4 duplicate labels removed\n",
            "\u001b[34m\u001b[1mtrain: \u001b[0m/content/dataset/images/train/00001041.jpg: 4 duplicate labels removed\n",
            "\u001b[34m\u001b[1mtrain: \u001b[0m/content/dataset/images/train/00001042.jpg: 4 duplicate labels removed\n",
            "\u001b[34m\u001b[1mtrain: \u001b[0m/content/dataset/images/train/00001043.jpg: 4 duplicate labels removed\n",
            "\u001b[34m\u001b[1mtrain: \u001b[0m/content/dataset/images/train/00001044.jpg: 4 duplicate labels removed\n",
            "\u001b[34m\u001b[1mtrain: \u001b[0m/content/dataset/images/train/00001046.jpg: 4 duplicate labels removed\n",
            "\u001b[34m\u001b[1mtrain: \u001b[0m/content/dataset/images/train/00001047.jpg: 4 duplicate labels removed\n",
            "\u001b[34m\u001b[1mtrain: \u001b[0m/content/dataset/images/train/00001048.jpg: 4 duplicate labels removed\n",
            "\u001b[34m\u001b[1mtrain: \u001b[0m/content/dataset/images/train/00001049.jpg: 4 duplicate labels removed\n",
            "\u001b[34m\u001b[1mtrain: \u001b[0m/content/dataset/images/train/00001050.jpg: 4 duplicate labels removed\n",
            "\u001b[34m\u001b[1mtrain: \u001b[0m/content/dataset/images/train/00001051.jpg: 4 duplicate labels removed\n",
            "\u001b[34m\u001b[1mtrain: \u001b[0m/content/dataset/images/train/00001052.jpg: 4 duplicate labels removed\n",
            "\u001b[34m\u001b[1mtrain: \u001b[0m/content/dataset/images/train/00001055.jpg: 4 duplicate labels removed\n",
            "\u001b[34m\u001b[1mtrain: \u001b[0m/content/dataset/images/train/00001057.jpg: 4 duplicate labels removed\n",
            "\u001b[34m\u001b[1mtrain: \u001b[0m/content/dataset/images/train/00001060.jpg: 4 duplicate labels removed\n",
            "\u001b[34m\u001b[1mtrain: \u001b[0m/content/dataset/images/train/00001061.jpg: 4 duplicate labels removed\n",
            "\u001b[34m\u001b[1mtrain: \u001b[0m/content/dataset/images/train/00001063.jpg: 4 duplicate labels removed\n",
            "\u001b[34m\u001b[1mtrain: \u001b[0m/content/dataset/images/train/00001065.jpg: 8 duplicate labels removed\n",
            "\u001b[34m\u001b[1mtrain: \u001b[0m/content/dataset/images/train/00001066.jpg: 4 duplicate labels removed\n",
            "\u001b[34m\u001b[1mtrain: \u001b[0m/content/dataset/images/train/00001067.jpg: 4 duplicate labels removed\n",
            "\u001b[34m\u001b[1mtrain: \u001b[0m/content/dataset/images/train/00001071.jpg: 4 duplicate labels removed\n",
            "\u001b[34m\u001b[1mtrain: \u001b[0m/content/dataset/images/train/00001072.jpg: 4 duplicate labels removed\n",
            "\u001b[34m\u001b[1mtrain: \u001b[0m/content/dataset/images/train/00001073.jpg: 4 duplicate labels removed\n",
            "\u001b[34m\u001b[1mtrain: \u001b[0m/content/dataset/images/train/00001074.jpg: 4 duplicate labels removed\n",
            "\u001b[34m\u001b[1mtrain: \u001b[0m/content/dataset/images/train/00001075.jpg: 4 duplicate labels removed\n",
            "\u001b[34m\u001b[1mtrain: \u001b[0m/content/dataset/images/train/00001079.jpg: 4 duplicate labels removed\n",
            "\u001b[34m\u001b[1mtrain: \u001b[0m/content/dataset/images/train/00001081.jpg: 4 duplicate labels removed\n",
            "\u001b[34m\u001b[1mtrain: \u001b[0m/content/dataset/images/train/00001085.jpg: 4 duplicate labels removed\n",
            "\u001b[34m\u001b[1mtrain: \u001b[0m/content/dataset/images/train/00001086.jpg: 4 duplicate labels removed\n",
            "\u001b[34m\u001b[1mtrain: \u001b[0m/content/dataset/images/train/00001087.jpg: 4 duplicate labels removed\n",
            "\u001b[34m\u001b[1mtrain: \u001b[0m/content/dataset/images/train/00001088.jpg: 4 duplicate labels removed\n",
            "\u001b[34m\u001b[1mtrain: \u001b[0m/content/dataset/images/train/00001089.jpg: 4 duplicate labels removed\n",
            "\u001b[34m\u001b[1mtrain: \u001b[0m/content/dataset/images/train/00001090.jpg: 4 duplicate labels removed\n",
            "\u001b[34m\u001b[1mtrain: \u001b[0m/content/dataset/images/train/00001092.jpg: 4 duplicate labels removed\n",
            "\u001b[34m\u001b[1mtrain: \u001b[0m/content/dataset/images/train/00001095.jpg: 4 duplicate labels removed\n",
            "\u001b[34m\u001b[1mtrain: \u001b[0m/content/dataset/images/train/00001097.jpg: 4 duplicate labels removed\n",
            "\u001b[34m\u001b[1mtrain: \u001b[0m/content/dataset/images/train/00001106.jpg: 4 duplicate labels removed\n",
            "\u001b[34m\u001b[1mtrain: \u001b[0m/content/dataset/images/train/00001107.jpg: 4 duplicate labels removed\n",
            "\u001b[34m\u001b[1mtrain: \u001b[0m/content/dataset/images/train/00001108.jpg: 4 duplicate labels removed\n",
            "\u001b[34m\u001b[1mtrain: \u001b[0m/content/dataset/images/train/00001109.jpg: 4 duplicate labels removed\n",
            "\u001b[34m\u001b[1mtrain: \u001b[0m/content/dataset/images/train/00001112.jpg: 4 duplicate labels removed\n",
            "\u001b[34m\u001b[1mtrain: \u001b[0m/content/dataset/images/train/00001113.jpg: 4 duplicate labels removed\n",
            "\u001b[34m\u001b[1mtrain: \u001b[0m/content/dataset/images/train/00001114.jpg: 4 duplicate labels removed\n",
            "\u001b[34m\u001b[1mtrain: \u001b[0m/content/dataset/images/train/00001117.jpg: 4 duplicate labels removed\n",
            "\u001b[34m\u001b[1mtrain: \u001b[0m/content/dataset/images/train/00001119.jpg: 4 duplicate labels removed\n",
            "\u001b[34m\u001b[1mtrain: \u001b[0m/content/dataset/images/train/00001120.jpg: 4 duplicate labels removed\n",
            "\u001b[34m\u001b[1mtrain: \u001b[0m/content/dataset/images/train/00001121.jpg: 4 duplicate labels removed\n",
            "\u001b[34m\u001b[1mtrain: \u001b[0m/content/dataset/images/train/00001124.jpg: 4 duplicate labels removed\n",
            "\u001b[34m\u001b[1mtrain: \u001b[0m/content/dataset/images/train/00001125.jpg: 4 duplicate labels removed\n",
            "\u001b[34m\u001b[1mtrain: \u001b[0m/content/dataset/images/train/00001129.jpg: 4 duplicate labels removed\n",
            "\u001b[34m\u001b[1mtrain: \u001b[0m/content/dataset/images/train/00001130.jpg: 4 duplicate labels removed\n",
            "\u001b[34m\u001b[1mtrain: \u001b[0m/content/dataset/images/train/00001131.jpg: 4 duplicate labels removed\n",
            "\u001b[34m\u001b[1mtrain: \u001b[0m/content/dataset/images/train/00001132.jpg: 4 duplicate labels removed\n",
            "\u001b[34m\u001b[1mtrain: \u001b[0m/content/dataset/images/train/00001133.jpg: 4 duplicate labels removed\n",
            "\u001b[34m\u001b[1mtrain: \u001b[0m/content/dataset/images/train/00001137.jpg: 4 duplicate labels removed\n",
            "\u001b[34m\u001b[1mtrain: \u001b[0m/content/dataset/images/train/00001138.jpg: 4 duplicate labels removed\n",
            "\u001b[34m\u001b[1mtrain: \u001b[0m/content/dataset/images/train/00001139.jpg: 4 duplicate labels removed\n",
            "\u001b[34m\u001b[1mtrain: \u001b[0m/content/dataset/images/train/00001140.jpg: 4 duplicate labels removed\n",
            "\u001b[34m\u001b[1mtrain: \u001b[0m/content/dataset/images/train/00001144.jpg: 4 duplicate labels removed\n",
            "\u001b[34m\u001b[1mtrain: \u001b[0m/content/dataset/images/train/00001147.jpg: 4 duplicate labels removed\n",
            "\u001b[34m\u001b[1mtrain: \u001b[0m/content/dataset/images/train/00001148.jpg: 4 duplicate labels removed\n",
            "\u001b[34m\u001b[1mtrain: \u001b[0m/content/dataset/images/train/00001149.jpg: 4 duplicate labels removed\n",
            "\u001b[34m\u001b[1mtrain: \u001b[0m/content/dataset/images/train/00001151.jpg: 4 duplicate labels removed\n",
            "\u001b[34m\u001b[1mtrain: \u001b[0m/content/dataset/images/train/00001154.jpg: 4 duplicate labels removed\n",
            "\u001b[34m\u001b[1mtrain: \u001b[0m/content/dataset/images/train/00001155.jpg: 4 duplicate labels removed\n",
            "\u001b[34m\u001b[1mtrain: \u001b[0m/content/dataset/images/train/00001158.jpg: 4 duplicate labels removed\n",
            "\u001b[34m\u001b[1mtrain: \u001b[0m/content/dataset/images/train/00001159.jpg: 4 duplicate labels removed\n",
            "\u001b[34m\u001b[1mtrain: \u001b[0m/content/dataset/images/train/00001163.jpg: 4 duplicate labels removed\n",
            "\u001b[34m\u001b[1mtrain: \u001b[0m/content/dataset/images/train/00001164.jpg: 4 duplicate labels removed\n",
            "\u001b[34m\u001b[1mtrain: \u001b[0m/content/dataset/images/train/00001165.jpg: 16 duplicate labels removed\n",
            "\u001b[34m\u001b[1mtrain: \u001b[0m/content/dataset/images/train/00001167.jpg: 4 duplicate labels removed\n",
            "\u001b[34m\u001b[1mtrain: \u001b[0m/content/dataset/images/train/00001168.jpg: 4 duplicate labels removed\n",
            "\u001b[34m\u001b[1mtrain: \u001b[0m/content/dataset/images/train/00001169.jpg: 4 duplicate labels removed\n",
            "\u001b[34m\u001b[1mtrain: \u001b[0m/content/dataset/images/train/00001170.jpg: 4 duplicate labels removed\n",
            "\u001b[34m\u001b[1mtrain: \u001b[0m/content/dataset/images/train/00001171.jpg: 4 duplicate labels removed\n",
            "\u001b[34m\u001b[1mtrain: \u001b[0m/content/dataset/images/train/00001175.jpg: 4 duplicate labels removed\n",
            "\u001b[34m\u001b[1mtrain: \u001b[0m/content/dataset/images/train/00001176.jpg: 4 duplicate labels removed\n",
            "\u001b[34m\u001b[1mtrain: \u001b[0m/content/dataset/images/train/00001177.jpg: 4 duplicate labels removed\n",
            "\u001b[34m\u001b[1mtrain: \u001b[0m/content/dataset/images/train/00001178.jpg: 4 duplicate labels removed\n",
            "\u001b[34m\u001b[1mtrain: \u001b[0m/content/dataset/images/train/00001179.jpg: 4 duplicate labels removed\n",
            "\u001b[34m\u001b[1mtrain: \u001b[0m/content/dataset/images/train/00001184.jpg: 4 duplicate labels removed\n",
            "\u001b[34m\u001b[1mtrain: \u001b[0m/content/dataset/images/train/00001186.jpg: 4 duplicate labels removed\n",
            "\u001b[34m\u001b[1mtrain: \u001b[0m/content/dataset/images/train/00001188.jpg: 4 duplicate labels removed\n",
            "\u001b[34m\u001b[1mtrain: \u001b[0m/content/dataset/images/train/00001190.jpg: 4 duplicate labels removed\n",
            "\u001b[34m\u001b[1mtrain: \u001b[0m/content/dataset/images/train/00001191.jpg: 4 duplicate labels removed\n",
            "\u001b[34m\u001b[1mtrain: \u001b[0m/content/dataset/images/train/00001192.jpg: 4 duplicate labels removed\n",
            "\u001b[34m\u001b[1mtrain: \u001b[0m/content/dataset/images/train/00001193.jpg: 4 duplicate labels removed\n",
            "\u001b[34m\u001b[1mtrain: \u001b[0m/content/dataset/images/train/00001196.jpg: 4 duplicate labels removed\n",
            "\u001b[34m\u001b[1mtrain: \u001b[0m/content/dataset/images/train/00001198.jpg: 4 duplicate labels removed\n",
            "\u001b[34m\u001b[1mtrain: \u001b[0m/content/dataset/images/train/00001199.jpg: 4 duplicate labels removed\n",
            "\u001b[34m\u001b[1mtrain: \u001b[0m/content/dataset/images/train/00001203.jpg: 4 duplicate labels removed\n",
            "\u001b[34m\u001b[1mtrain: \u001b[0m/content/dataset/images/train/00001204.jpg: 4 duplicate labels removed\n",
            "\u001b[34m\u001b[1mtrain: \u001b[0m/content/dataset/images/train/00001208.jpg: 4 duplicate labels removed\n",
            "\u001b[34m\u001b[1mtrain: \u001b[0m/content/dataset/images/train/00001209.jpg: 4 duplicate labels removed\n",
            "\u001b[34m\u001b[1mtrain: \u001b[0m/content/dataset/images/train/00001210.jpg: 4 duplicate labels removed\n",
            "\u001b[34m\u001b[1mtrain: \u001b[0m/content/dataset/images/train/00001212.jpg: 4 duplicate labels removed\n",
            "\u001b[34m\u001b[1mtrain: \u001b[0m/content/dataset/images/train/00001215.jpg: 4 duplicate labels removed\n",
            "\u001b[34m\u001b[1mtrain: \u001b[0m/content/dataset/images/train/00001216.jpg: 4 duplicate labels removed\n",
            "\u001b[34m\u001b[1mtrain: \u001b[0m/content/dataset/images/train/00001219.jpg: 4 duplicate labels removed\n",
            "\u001b[34m\u001b[1mtrain: \u001b[0m/content/dataset/images/train/00001223.jpg: 4 duplicate labels removed\n",
            "\u001b[34m\u001b[1mtrain: \u001b[0m/content/dataset/images/train/00001225.jpg: 4 duplicate labels removed\n",
            "\u001b[34m\u001b[1mtrain: \u001b[0m/content/dataset/images/train/00001228.jpg: 4 duplicate labels removed\n",
            "\u001b[34m\u001b[1mtrain: \u001b[0m/content/dataset/images/train/00001233.jpg: 4 duplicate labels removed\n",
            "\u001b[34m\u001b[1mtrain: \u001b[0m/content/dataset/images/train/00001234.jpg: 4 duplicate labels removed\n",
            "\u001b[34m\u001b[1mtrain: \u001b[0m/content/dataset/images/train/00001237.jpg: 4 duplicate labels removed\n",
            "\u001b[34m\u001b[1mtrain: \u001b[0m/content/dataset/images/train/00001238.jpg: 4 duplicate labels removed\n",
            "\u001b[34m\u001b[1mtrain: \u001b[0m/content/dataset/images/train/00001239.jpg: 4 duplicate labels removed\n",
            "\u001b[34m\u001b[1mtrain: \u001b[0m/content/dataset/images/train/00001240.jpg: 4 duplicate labels removed\n",
            "\u001b[34m\u001b[1mtrain: \u001b[0m/content/dataset/images/train/00001248.jpg: 4 duplicate labels removed\n",
            "\u001b[34m\u001b[1mtrain: \u001b[0m/content/dataset/images/train/00001249.jpg: 4 duplicate labels removed\n",
            "\u001b[34m\u001b[1mtrain: \u001b[0m/content/dataset/images/train/00001252.jpg: 4 duplicate labels removed\n",
            "\u001b[34m\u001b[1mtrain: \u001b[0m/content/dataset/images/train/00001253.jpg: 4 duplicate labels removed\n",
            "\u001b[34m\u001b[1mtrain: \u001b[0m/content/dataset/images/train/00001254.jpg: 4 duplicate labels removed\n",
            "\u001b[34m\u001b[1mtrain: \u001b[0m/content/dataset/images/train/00001259.jpg: 4 duplicate labels removed\n",
            "\u001b[34m\u001b[1mtrain: \u001b[0m/content/dataset/images/train/00001260.jpg: 4 duplicate labels removed\n",
            "\u001b[34m\u001b[1mtrain: \u001b[0m/content/dataset/images/train/00001264.jpg: 4 duplicate labels removed\n",
            "\u001b[34m\u001b[1mtrain: \u001b[0m/content/dataset/images/train/00001266.jpg: 4 duplicate labels removed\n",
            "\u001b[34m\u001b[1mtrain: \u001b[0m/content/dataset/images/train/00001267.jpg: 4 duplicate labels removed\n",
            "\u001b[34m\u001b[1mtrain: \u001b[0m/content/dataset/images/train/00001272.jpg: 4 duplicate labels removed\n",
            "\u001b[34m\u001b[1mtrain: \u001b[0m/content/dataset/images/train/00001276.jpg: 4 duplicate labels removed\n",
            "\u001b[34m\u001b[1mtrain: \u001b[0m/content/dataset/images/train/00001277.jpg: 4 duplicate labels removed\n",
            "\u001b[34m\u001b[1mtrain: \u001b[0m/content/dataset/images/train/00001278.jpg: 4 duplicate labels removed\n",
            "\u001b[34m\u001b[1mtrain: \u001b[0m/content/dataset/images/train/00001279.jpg: 4 duplicate labels removed\n",
            "\u001b[34m\u001b[1mtrain: \u001b[0m/content/dataset/images/train/00001280.jpg: 4 duplicate labels removed\n",
            "\u001b[34m\u001b[1mtrain: \u001b[0m/content/dataset/images/train/00001282.jpg: 4 duplicate labels removed\n",
            "\u001b[34m\u001b[1mtrain: \u001b[0m/content/dataset/images/train/00001288.jpg: 4 duplicate labels removed\n",
            "\u001b[34m\u001b[1mtrain: \u001b[0m/content/dataset/images/train/00001295.jpg: 16 duplicate labels removed\n",
            "\u001b[34m\u001b[1mtrain: \u001b[0m/content/dataset/images/train/00001296.jpg: 4 duplicate labels removed\n",
            "\u001b[34m\u001b[1mtrain: \u001b[0m/content/dataset/images/train/00001297.jpg: 4 duplicate labels removed\n",
            "\u001b[34m\u001b[1mtrain: \u001b[0m/content/dataset/images/train/00001301.jpg: 4 duplicate labels removed\n",
            "\u001b[34m\u001b[1mtrain: \u001b[0m/content/dataset/images/train/00001302.jpg: 4 duplicate labels removed\n",
            "\u001b[34m\u001b[1mtrain: \u001b[0m/content/dataset/images/train/00001305.jpg: 8 duplicate labels removed\n",
            "\u001b[34m\u001b[1mtrain: \u001b[0m/content/dataset/images/train/00001306.jpg: 4 duplicate labels removed\n",
            "\u001b[34m\u001b[1mtrain: \u001b[0m/content/dataset/images/train/00001307.jpg: 4 duplicate labels removed\n",
            "\u001b[34m\u001b[1mtrain: \u001b[0m/content/dataset/images/train/00001308.jpg: 4 duplicate labels removed\n",
            "\u001b[34m\u001b[1mtrain: \u001b[0m/content/dataset/images/train/00001312.jpg: 4 duplicate labels removed\n",
            "\u001b[34m\u001b[1mtrain: \u001b[0m/content/dataset/images/train/00001313.jpg: 4 duplicate labels removed\n",
            "\u001b[34m\u001b[1mtrain: \u001b[0m/content/dataset/images/train/00001315.jpg: 4 duplicate labels removed\n",
            "\u001b[34m\u001b[1mtrain: \u001b[0m/content/dataset/images/train/00001316.jpg: 4 duplicate labels removed\n",
            "\u001b[34m\u001b[1mtrain: \u001b[0m/content/dataset/images/train/00001317.jpg: 4 duplicate labels removed\n",
            "\u001b[34m\u001b[1mtrain: \u001b[0m/content/dataset/images/train/00001323.jpg: 4 duplicate labels removed\n",
            "\u001b[34m\u001b[1mtrain: \u001b[0m/content/dataset/images/train/00001324.jpg: 4 duplicate labels removed\n",
            "\u001b[34m\u001b[1mtrain: \u001b[0m/content/dataset/images/train/00001326.jpg: 4 duplicate labels removed\n",
            "\u001b[34m\u001b[1mtrain: \u001b[0m/content/dataset/images/train/00001329.jpg: 4 duplicate labels removed\n",
            "\u001b[34m\u001b[1mtrain: \u001b[0m/content/dataset/images/train/00001330.jpg: 4 duplicate labels removed\n",
            "\u001b[34m\u001b[1mtrain: \u001b[0m/content/dataset/images/train/00001332.jpg: 4 duplicate labels removed\n",
            "\u001b[34m\u001b[1mtrain: \u001b[0m/content/dataset/images/train/00001333.jpg: 4 duplicate labels removed\n",
            "\u001b[34m\u001b[1mtrain: \u001b[0m/content/dataset/images/train/00001335.jpg: 4 duplicate labels removed\n",
            "\u001b[34m\u001b[1mtrain: \u001b[0m/content/dataset/images/train/00001337.jpg: 4 duplicate labels removed\n",
            "\u001b[34m\u001b[1mtrain: \u001b[0m/content/dataset/images/train/00001339.jpg: 4 duplicate labels removed\n",
            "\u001b[34m\u001b[1mtrain: \u001b[0m/content/dataset/images/train/00001341.jpg: 4 duplicate labels removed\n",
            "\u001b[34m\u001b[1mtrain: \u001b[0m/content/dataset/images/train/00001343.jpg: 4 duplicate labels removed\n",
            "\u001b[34m\u001b[1mtrain: \u001b[0m/content/dataset/images/train/00001347.jpg: 4 duplicate labels removed\n",
            "\u001b[34m\u001b[1mtrain: \u001b[0m/content/dataset/images/train/00001348.jpg: 4 duplicate labels removed\n",
            "\u001b[34m\u001b[1mtrain: \u001b[0m/content/dataset/images/train/00001350.jpg: 4 duplicate labels removed\n",
            "\u001b[34m\u001b[1mtrain: \u001b[0m/content/dataset/images/train/00001351.jpg: 4 duplicate labels removed\n",
            "\u001b[34m\u001b[1mtrain: \u001b[0m/content/dataset/images/train/00001352.jpg: 4 duplicate labels removed\n",
            "\u001b[34m\u001b[1mtrain: \u001b[0m/content/dataset/images/train/00001356.jpg: 4 duplicate labels removed\n",
            "\u001b[34m\u001b[1mtrain: \u001b[0m/content/dataset/images/train/00001357.jpg: 8 duplicate labels removed\n",
            "\u001b[34m\u001b[1mtrain: \u001b[0m/content/dataset/images/train/00001358.jpg: 4 duplicate labels removed\n",
            "\u001b[34m\u001b[1mtrain: \u001b[0m/content/dataset/images/train/00001359.jpg: 4 duplicate labels removed\n",
            "\u001b[34m\u001b[1mtrain: \u001b[0m/content/dataset/images/train/00001360.jpg: 4 duplicate labels removed\n",
            "\u001b[34m\u001b[1mtrain: \u001b[0m/content/dataset/images/train/00001363.jpg: 8 duplicate labels removed\n",
            "\u001b[34m\u001b[1mtrain: \u001b[0m/content/dataset/images/train/00001364.jpg: 4 duplicate labels removed\n",
            "\u001b[34m\u001b[1mtrain: \u001b[0m/content/dataset/images/train/00001365.jpg: 4 duplicate labels removed\n",
            "\u001b[34m\u001b[1mtrain: \u001b[0m/content/dataset/images/train/00001366.jpg: 4 duplicate labels removed\n",
            "\u001b[34m\u001b[1mtrain: \u001b[0m/content/dataset/images/train/00001369.jpg: 4 duplicate labels removed\n",
            "\u001b[34m\u001b[1mtrain: \u001b[0m/content/dataset/images/train/00001370.jpg: 4 duplicate labels removed\n",
            "\u001b[34m\u001b[1mtrain: \u001b[0m/content/dataset/images/train/00001371.jpg: 4 duplicate labels removed\n",
            "\u001b[34m\u001b[1mtrain: \u001b[0m/content/dataset/images/train/00001372.jpg: 4 duplicate labels removed\n",
            "\u001b[34m\u001b[1mtrain: \u001b[0m/content/dataset/images/train/00001374.jpg: 4 duplicate labels removed\n",
            "\u001b[34m\u001b[1mtrain: \u001b[0m/content/dataset/images/train/00001377.jpg: 4 duplicate labels removed\n",
            "\u001b[34m\u001b[1mtrain: \u001b[0m/content/dataset/images/train/00001379.jpg: 4 duplicate labels removed\n",
            "\u001b[34m\u001b[1mtrain: \u001b[0m/content/dataset/images/train/00001381.jpg: 4 duplicate labels removed\n",
            "\u001b[34m\u001b[1mtrain: \u001b[0m/content/dataset/images/train/00001382.jpg: 4 duplicate labels removed\n",
            "\u001b[34m\u001b[1mtrain: \u001b[0m/content/dataset/images/train/00001383.jpg: 4 duplicate labels removed\n",
            "\u001b[34m\u001b[1mtrain: \u001b[0m/content/dataset/images/train/00001384.jpg: 4 duplicate labels removed\n",
            "\u001b[34m\u001b[1mtrain: \u001b[0m/content/dataset/images/train/00001385.jpg: 4 duplicate labels removed\n",
            "\u001b[34m\u001b[1mtrain: \u001b[0m/content/dataset/images/train/00001386.jpg: 4 duplicate labels removed\n",
            "\u001b[34m\u001b[1mtrain: \u001b[0m/content/dataset/images/train/00001388.jpg: 4 duplicate labels removed\n",
            "\u001b[34m\u001b[1mtrain: \u001b[0m/content/dataset/images/train/00001389.jpg: 4 duplicate labels removed\n",
            "\u001b[34m\u001b[1mtrain: \u001b[0m/content/dataset/images/train/00001390.jpg: 4 duplicate labels removed\n",
            "\u001b[34m\u001b[1mtrain: \u001b[0m/content/dataset/images/train/00001391.jpg: 4 duplicate labels removed\n",
            "\u001b[34m\u001b[1mtrain: \u001b[0m/content/dataset/images/train/00001395.jpg: 4 duplicate labels removed\n",
            "\u001b[34m\u001b[1mtrain: \u001b[0m/content/dataset/images/train/00001396.jpg: 4 duplicate labels removed\n",
            "\u001b[34m\u001b[1mtrain: \u001b[0m/content/dataset/images/train/00001397.jpg: 4 duplicate labels removed\n",
            "\u001b[34m\u001b[1mtrain: \u001b[0m/content/dataset/images/train/00001398.jpg: 4 duplicate labels removed\n",
            "\u001b[34m\u001b[1mtrain: \u001b[0m/content/dataset/images/train/00001400.jpg: 4 duplicate labels removed\n",
            "\u001b[34m\u001b[1mtrain: \u001b[0m/content/dataset/images/train/00001401.jpg: 4 duplicate labels removed\n",
            "\u001b[34m\u001b[1mtrain: \u001b[0m/content/dataset/images/train/00001402.jpg: 4 duplicate labels removed\n",
            "\u001b[34m\u001b[1mtrain: \u001b[0m/content/dataset/images/train/00001403.jpg: 4 duplicate labels removed\n",
            "\u001b[34m\u001b[1mtrain: \u001b[0m/content/dataset/images/train/00001404.jpg: 4 duplicate labels removed\n",
            "\u001b[34m\u001b[1mtrain: \u001b[0m/content/dataset/images/train/00001405.jpg: 4 duplicate labels removed\n",
            "\u001b[34m\u001b[1mtrain: \u001b[0m/content/dataset/images/train/00001407.jpg: 4 duplicate labels removed\n",
            "\u001b[34m\u001b[1mtrain: \u001b[0m/content/dataset/images/train/00001409.jpg: 4 duplicate labels removed\n",
            "\u001b[34m\u001b[1mtrain: \u001b[0m/content/dataset/images/train/00001411.jpg: 4 duplicate labels removed\n",
            "\u001b[34m\u001b[1mtrain: \u001b[0m/content/dataset/images/train/00001413.jpg: 4 duplicate labels removed\n",
            "\u001b[34m\u001b[1mtrain: \u001b[0m/content/dataset/images/train/00001415.jpg: 4 duplicate labels removed\n",
            "\u001b[34m\u001b[1mtrain: \u001b[0m/content/dataset/images/train/00001416.jpg: 4 duplicate labels removed\n",
            "\u001b[34m\u001b[1mtrain: \u001b[0m/content/dataset/images/train/00001417.jpg: 4 duplicate labels removed\n",
            "\u001b[34m\u001b[1mtrain: \u001b[0m/content/dataset/images/train/00001418.jpg: 4 duplicate labels removed\n",
            "\u001b[34m\u001b[1mtrain: \u001b[0m/content/dataset/images/train/00001419.jpg: 4 duplicate labels removed\n",
            "\u001b[34m\u001b[1mtrain: \u001b[0m/content/dataset/images/train/00001421.jpg: 4 duplicate labels removed\n",
            "\u001b[34m\u001b[1mtrain: \u001b[0m/content/dataset/images/train/00001422.jpg: 4 duplicate labels removed\n",
            "\u001b[34m\u001b[1mtrain: \u001b[0m/content/dataset/images/train/00001423.jpg: 4 duplicate labels removed\n",
            "\u001b[34m\u001b[1mtrain: \u001b[0m/content/dataset/images/train/00001424.jpg: 4 duplicate labels removed\n",
            "\u001b[34m\u001b[1mtrain: \u001b[0m/content/dataset/images/train/00001425.jpg: 4 duplicate labels removed\n",
            "\u001b[34m\u001b[1mtrain: \u001b[0m/content/dataset/images/train/00001426.jpg: 4 duplicate labels removed\n",
            "\u001b[34m\u001b[1mtrain: \u001b[0m/content/dataset/images/train/00001427.jpg: 4 duplicate labels removed\n",
            "\u001b[34m\u001b[1mtrain: \u001b[0m/content/dataset/images/train/00001428.jpg: 4 duplicate labels removed\n",
            "\u001b[34m\u001b[1mtrain: \u001b[0m/content/dataset/images/train/00001430.jpg: 4 duplicate labels removed\n",
            "\u001b[34m\u001b[1mtrain: \u001b[0m/content/dataset/images/train/00001431.jpg: 4 duplicate labels removed\n",
            "\u001b[34m\u001b[1mtrain: \u001b[0m/content/dataset/images/train/00001432.jpg: 4 duplicate labels removed\n",
            "\u001b[34m\u001b[1mtrain: \u001b[0m/content/dataset/images/train/00001436.jpg: 4 duplicate labels removed\n",
            "\u001b[34m\u001b[1mtrain: \u001b[0m/content/dataset/images/train/00001438.jpg: 4 duplicate labels removed\n",
            "\u001b[34m\u001b[1mtrain: \u001b[0m/content/dataset/images/train/00001440.jpg: 4 duplicate labels removed\n",
            "\u001b[34m\u001b[1mtrain: \u001b[0m/content/dataset/images/train/00001441.jpg: 4 duplicate labels removed\n",
            "\u001b[34m\u001b[1mtrain: \u001b[0m/content/dataset/images/train/00001442.jpg: 4 duplicate labels removed\n",
            "\u001b[34m\u001b[1mtrain: \u001b[0m/content/dataset/images/train/00001443.jpg: 4 duplicate labels removed\n",
            "\u001b[34m\u001b[1mtrain: \u001b[0m/content/dataset/images/train/00001445.jpg: 4 duplicate labels removed\n",
            "\u001b[34m\u001b[1mtrain: \u001b[0m/content/dataset/images/train/00001446.jpg: 4 duplicate labels removed\n",
            "\u001b[34m\u001b[1mtrain: \u001b[0m/content/dataset/images/train/00001450.jpg: 4 duplicate labels removed\n",
            "\u001b[34m\u001b[1mtrain: \u001b[0m/content/dataset/images/train/00001452.jpg: 4 duplicate labels removed\n",
            "\u001b[34m\u001b[1mtrain: \u001b[0m/content/dataset/images/train/00001453.jpg: 4 duplicate labels removed\n",
            "\u001b[34m\u001b[1mtrain: \u001b[0m/content/dataset/images/train/00001455.jpg: 4 duplicate labels removed\n",
            "\u001b[34m\u001b[1mtrain: \u001b[0m/content/dataset/images/train/00001456.jpg: 4 duplicate labels removed\n",
            "\u001b[34m\u001b[1mtrain: \u001b[0m/content/dataset/images/train/00001457.jpg: 4 duplicate labels removed\n",
            "\u001b[34m\u001b[1mtrain: \u001b[0m/content/dataset/images/train/00001458.jpg: 4 duplicate labels removed\n",
            "\u001b[34m\u001b[1mtrain: \u001b[0m/content/dataset/images/train/00001459.jpg: 4 duplicate labels removed\n",
            "\u001b[34m\u001b[1mtrain: \u001b[0m/content/dataset/images/train/00001460.jpg: 4 duplicate labels removed\n",
            "\u001b[34m\u001b[1mtrain: \u001b[0m/content/dataset/images/train/00001461.jpg: 8 duplicate labels removed\n",
            "\u001b[34m\u001b[1mtrain: \u001b[0m/content/dataset/images/train/00001465.jpg: 4 duplicate labels removed\n",
            "\u001b[34m\u001b[1mtrain: \u001b[0m/content/dataset/images/train/00001468.jpg: 4 duplicate labels removed\n",
            "\u001b[34m\u001b[1mtrain: \u001b[0m/content/dataset/images/train/00001472.jpg: 4 duplicate labels removed\n",
            "\u001b[34m\u001b[1mtrain: \u001b[0m/content/dataset/images/train/00001473.jpg: 4 duplicate labels removed\n",
            "\u001b[34m\u001b[1mtrain: \u001b[0m/content/dataset/images/train/00001474.jpg: 20 duplicate labels removed\n",
            "\u001b[34m\u001b[1mtrain: \u001b[0m/content/dataset/images/train/00001475.jpg: 4 duplicate labels removed\n",
            "\u001b[34m\u001b[1mtrain: \u001b[0m/content/dataset/images/train/00001476.jpg: 4 duplicate labels removed\n",
            "\u001b[34m\u001b[1mtrain: \u001b[0m/content/dataset/images/train/00001480.jpg: 4 duplicate labels removed\n",
            "\u001b[34m\u001b[1mtrain: \u001b[0m/content/dataset/images/train/00001481.jpg: 4 duplicate labels removed\n",
            "\u001b[34m\u001b[1mtrain: \u001b[0m/content/dataset/images/train/00001482.jpg: 4 duplicate labels removed\n",
            "\u001b[34m\u001b[1mtrain: \u001b[0m/content/dataset/images/train/00001483.jpg: 4 duplicate labels removed\n",
            "\u001b[34m\u001b[1mtrain: \u001b[0m/content/dataset/images/train/00001484.jpg: 4 duplicate labels removed\n",
            "\u001b[34m\u001b[1mtrain: \u001b[0m/content/dataset/images/train/00001485.jpg: 4 duplicate labels removed\n",
            "\u001b[34m\u001b[1mtrain: \u001b[0m/content/dataset/images/train/00001487.jpg: 4 duplicate labels removed\n",
            "\u001b[34m\u001b[1mtrain: \u001b[0m/content/dataset/images/train/00001488.jpg: 4 duplicate labels removed\n",
            "\u001b[34m\u001b[1mtrain: \u001b[0m/content/dataset/images/train/00001491.jpg: 4 duplicate labels removed\n",
            "\u001b[34m\u001b[1mtrain: \u001b[0m/content/dataset/images/train/00001492.jpg: 12 duplicate labels removed\n",
            "\u001b[34m\u001b[1mtrain: \u001b[0m/content/dataset/images/train/00001493.jpg: 4 duplicate labels removed\n",
            "\u001b[34m\u001b[1mtrain: \u001b[0m/content/dataset/images/train/00001497.jpg: 4 duplicate labels removed\n",
            "\u001b[34m\u001b[1mtrain: \u001b[0m/content/dataset/images/train/00001501.jpg: 4 duplicate labels removed\n",
            "\u001b[34m\u001b[1mtrain: \u001b[0m/content/dataset/images/train/00001506.jpg: 4 duplicate labels removed\n",
            "\u001b[34m\u001b[1mtrain: \u001b[0m/content/dataset/images/train/00001507.jpg: 4 duplicate labels removed\n",
            "\u001b[34m\u001b[1mtrain: \u001b[0m/content/dataset/images/train/00001510.jpg: 4 duplicate labels removed\n",
            "\u001b[34m\u001b[1mtrain: \u001b[0m/content/dataset/images/train/00001517.jpg: 4 duplicate labels removed\n",
            "\u001b[34m\u001b[1mtrain: \u001b[0m/content/dataset/images/train/00001519.jpg: 4 duplicate labels removed\n",
            "\u001b[34m\u001b[1mtrain: \u001b[0m/content/dataset/images/train/00001520.jpg: 12 duplicate labels removed\n",
            "\u001b[34m\u001b[1mtrain: \u001b[0m/content/dataset/images/train/00001522.jpg: 4 duplicate labels removed\n",
            "\u001b[34m\u001b[1mtrain: \u001b[0m/content/dataset/images/train/00001523.jpg: 4 duplicate labels removed\n",
            "\u001b[34m\u001b[1mtrain: \u001b[0m/content/dataset/images/train/00001525.jpg: 4 duplicate labels removed\n",
            "\u001b[34m\u001b[1mtrain: \u001b[0m/content/dataset/images/train/00001526.jpg: 4 duplicate labels removed\n",
            "\u001b[34m\u001b[1mtrain: \u001b[0m/content/dataset/images/train/00001527.jpg: 4 duplicate labels removed\n",
            "\u001b[34m\u001b[1mtrain: \u001b[0m/content/dataset/images/train/00001528.jpg: 4 duplicate labels removed\n",
            "\u001b[34m\u001b[1mtrain: \u001b[0m/content/dataset/images/train/00001529.jpg: 4 duplicate labels removed\n",
            "\u001b[34m\u001b[1mtrain: \u001b[0m/content/dataset/images/train/00001530.jpg: 4 duplicate labels removed\n",
            "\u001b[34m\u001b[1mtrain: \u001b[0m/content/dataset/images/train/00001531.jpg: 4 duplicate labels removed\n",
            "\u001b[34m\u001b[1mtrain: \u001b[0m/content/dataset/images/train/00001532.jpg: 4 duplicate labels removed\n",
            "\u001b[34m\u001b[1mtrain: \u001b[0m/content/dataset/images/train/00001536.jpg: 4 duplicate labels removed\n",
            "\u001b[34m\u001b[1mtrain: \u001b[0m/content/dataset/images/train/00001539.jpg: 4 duplicate labels removed\n",
            "\u001b[34m\u001b[1mtrain: \u001b[0m/content/dataset/images/train/00001540.jpg: 4 duplicate labels removed\n",
            "\u001b[34m\u001b[1mtrain: \u001b[0m/content/dataset/images/train/00001541.jpg: 8 duplicate labels removed\n",
            "\u001b[34m\u001b[1mtrain: \u001b[0m/content/dataset/images/train/00001543.jpg: 4 duplicate labels removed\n",
            "\u001b[34m\u001b[1mtrain: \u001b[0m/content/dataset/images/train/00001545.jpg: 4 duplicate labels removed\n",
            "\u001b[34m\u001b[1mtrain: \u001b[0m/content/dataset/images/train/00001547.jpg: 4 duplicate labels removed\n",
            "\u001b[34m\u001b[1mtrain: \u001b[0m/content/dataset/images/train/00001549.jpg: 4 duplicate labels removed\n",
            "\u001b[34m\u001b[1mtrain: \u001b[0m/content/dataset/images/train/00001550.jpg: 4 duplicate labels removed\n",
            "\u001b[34m\u001b[1mtrain: \u001b[0m/content/dataset/images/train/00001551.jpg: 4 duplicate labels removed\n",
            "\u001b[34m\u001b[1mtrain: \u001b[0m/content/dataset/images/train/00001552.jpg: 4 duplicate labels removed\n",
            "\u001b[34m\u001b[1mtrain: \u001b[0m/content/dataset/images/train/00001554.jpg: 4 duplicate labels removed\n",
            "\u001b[34m\u001b[1mtrain: \u001b[0m/content/dataset/images/train/00001558.jpg: 4 duplicate labels removed\n",
            "\u001b[34m\u001b[1mtrain: \u001b[0m/content/dataset/images/train/00001560.jpg: 4 duplicate labels removed\n",
            "\u001b[34m\u001b[1mtrain: \u001b[0m/content/dataset/images/train/00001561.jpg: 4 duplicate labels removed\n",
            "\u001b[34m\u001b[1mtrain: \u001b[0m/content/dataset/images/train/00001562.jpg: 4 duplicate labels removed\n",
            "\u001b[34m\u001b[1mtrain: \u001b[0m/content/dataset/images/train/00001563.jpg: 4 duplicate labels removed\n",
            "\u001b[34m\u001b[1mtrain: \u001b[0m/content/dataset/images/train/00001564.jpg: 4 duplicate labels removed\n",
            "\u001b[34m\u001b[1mtrain: \u001b[0m/content/dataset/images/train/00001566.jpg: 4 duplicate labels removed\n",
            "\u001b[34m\u001b[1mtrain: \u001b[0m/content/dataset/images/train/00001567.jpg: 4 duplicate labels removed\n",
            "\u001b[34m\u001b[1mtrain: \u001b[0m/content/dataset/images/train/00001569.jpg: 4 duplicate labels removed\n",
            "\u001b[34m\u001b[1mtrain: \u001b[0m/content/dataset/images/train/00001570.jpg: 4 duplicate labels removed\n",
            "\u001b[34m\u001b[1mtrain: \u001b[0m/content/dataset/images/train/00001576.jpg: 4 duplicate labels removed\n",
            "\u001b[34m\u001b[1mtrain: \u001b[0m/content/dataset/images/train/00001577.jpg: 4 duplicate labels removed\n",
            "\u001b[34m\u001b[1mtrain: \u001b[0m/content/dataset/images/train/00001578.jpg: 4 duplicate labels removed\n",
            "\u001b[34m\u001b[1mtrain: \u001b[0m/content/dataset/images/train/00001580.jpg: 4 duplicate labels removed\n",
            "\u001b[34m\u001b[1mtrain: \u001b[0m/content/dataset/images/train/00001581.jpg: 4 duplicate labels removed\n",
            "\u001b[34m\u001b[1mtrain: \u001b[0m/content/dataset/images/train/00001582.jpg: 8 duplicate labels removed\n",
            "\u001b[34m\u001b[1mtrain: \u001b[0m/content/dataset/images/train/00001583.jpg: 4 duplicate labels removed\n",
            "\u001b[34m\u001b[1mtrain: \u001b[0m/content/dataset/images/train/00001584.jpg: 4 duplicate labels removed\n",
            "\u001b[34m\u001b[1mtrain: \u001b[0m/content/dataset/images/train/00001586.jpg: 4 duplicate labels removed\n",
            "\u001b[34m\u001b[1mtrain: \u001b[0m/content/dataset/images/train/00001589.jpg: 4 duplicate labels removed\n",
            "\u001b[34m\u001b[1mtrain: \u001b[0m/content/dataset/images/train/00001590.jpg: 8 duplicate labels removed\n",
            "\u001b[34m\u001b[1mtrain: \u001b[0m/content/dataset/images/train/00001593.jpg: 4 duplicate labels removed\n",
            "\u001b[34m\u001b[1mtrain: \u001b[0m/content/dataset/images/train/00001594.jpg: 4 duplicate labels removed\n",
            "\u001b[34m\u001b[1mtrain: \u001b[0m/content/dataset/images/train/00001597.jpg: 4 duplicate labels removed\n",
            "\u001b[34m\u001b[1mtrain: \u001b[0m/content/dataset/images/train/00001599.jpg: 4 duplicate labels removed\n",
            "\u001b[34m\u001b[1mtrain: \u001b[0m/content/dataset/images/train/00001600.jpg: 4 duplicate labels removed\n",
            "\u001b[34m\u001b[1mtrain: \u001b[0m/content/dataset/images/train/00001601.jpg: 4 duplicate labels removed\n",
            "\u001b[34m\u001b[1mtrain: \u001b[0m/content/dataset/images/train/00001602.jpg: 4 duplicate labels removed\n",
            "\u001b[34m\u001b[1mtrain: \u001b[0m/content/dataset/images/train/00001603.jpg: 4 duplicate labels removed\n",
            "\u001b[34m\u001b[1mtrain: \u001b[0m/content/dataset/images/train/00001605.jpg: 4 duplicate labels removed\n",
            "\u001b[34m\u001b[1mtrain: \u001b[0m/content/dataset/images/train/00001606.jpg: 4 duplicate labels removed\n",
            "\u001b[34m\u001b[1mtrain: \u001b[0m/content/dataset/images/train/00001608.jpg: 4 duplicate labels removed\n",
            "\u001b[34m\u001b[1mtrain: \u001b[0m/content/dataset/images/train/00001609.jpg: 4 duplicate labels removed\n",
            "\u001b[34m\u001b[1mtrain: \u001b[0m/content/dataset/images/train/00001611.jpg: 4 duplicate labels removed\n",
            "\u001b[34m\u001b[1mtrain: \u001b[0m/content/dataset/images/train/00001613.jpg: 4 duplicate labels removed\n",
            "\u001b[34m\u001b[1mtrain: \u001b[0m/content/dataset/images/train/00001617.jpg: 4 duplicate labels removed\n",
            "\u001b[34m\u001b[1mtrain: \u001b[0m/content/dataset/images/train/00001620.jpg: 4 duplicate labels removed\n",
            "\u001b[34m\u001b[1mtrain: \u001b[0m/content/dataset/images/train/00001622.jpg: 4 duplicate labels removed\n",
            "\u001b[34m\u001b[1mtrain: \u001b[0m/content/dataset/images/train/00001623.jpg: 4 duplicate labels removed\n",
            "\u001b[34m\u001b[1mtrain: \u001b[0m/content/dataset/images/train/00001624.jpg: 4 duplicate labels removed\n",
            "\u001b[34m\u001b[1mtrain: \u001b[0m/content/dataset/images/train/00001627.jpg: 4 duplicate labels removed\n",
            "\u001b[34m\u001b[1mtrain: \u001b[0m/content/dataset/images/train/00001629.jpg: 4 duplicate labels removed\n",
            "\u001b[34m\u001b[1mtrain: \u001b[0m/content/dataset/images/train/00001630.jpg: 4 duplicate labels removed\n",
            "\u001b[34m\u001b[1mtrain: \u001b[0m/content/dataset/images/train/00001631.jpg: 4 duplicate labels removed\n",
            "\u001b[34m\u001b[1mtrain: \u001b[0m/content/dataset/images/train/00001632.jpg: 4 duplicate labels removed\n",
            "\u001b[34m\u001b[1mtrain: \u001b[0m/content/dataset/images/train/00001633.jpg: 4 duplicate labels removed\n",
            "\u001b[34m\u001b[1mtrain: \u001b[0m/content/dataset/images/train/00001634.jpg: 4 duplicate labels removed\n",
            "\u001b[34m\u001b[1mtrain: \u001b[0m/content/dataset/images/train/00001639.jpg: 4 duplicate labels removed\n",
            "\u001b[34m\u001b[1mtrain: \u001b[0m/content/dataset/images/train/00001642.jpg: 4 duplicate labels removed\n",
            "\u001b[34m\u001b[1mtrain: \u001b[0m/content/dataset/images/train/00001643.jpg: 8 duplicate labels removed\n",
            "\u001b[34m\u001b[1mtrain: \u001b[0m/content/dataset/images/train/00001644.jpg: 4 duplicate labels removed\n",
            "\u001b[34m\u001b[1mtrain: \u001b[0m/content/dataset/images/train/00001648.jpg: 4 duplicate labels removed\n",
            "\u001b[34m\u001b[1mtrain: \u001b[0m/content/dataset/images/train/00001650.jpg: 4 duplicate labels removed\n",
            "\u001b[34m\u001b[1mtrain: \u001b[0m/content/dataset/images/train/00001651.jpg: 4 duplicate labels removed\n",
            "\u001b[34m\u001b[1mtrain: \u001b[0m/content/dataset/images/train/00001652.jpg: 4 duplicate labels removed\n",
            "\u001b[34m\u001b[1mtrain: \u001b[0m/content/dataset/images/train/00001653.jpg: 4 duplicate labels removed\n",
            "\u001b[34m\u001b[1mtrain: \u001b[0m/content/dataset/images/train/00001656.jpg: 4 duplicate labels removed\n",
            "\u001b[34m\u001b[1mtrain: \u001b[0m/content/dataset/images/train/00001657.jpg: 4 duplicate labels removed\n",
            "\u001b[34m\u001b[1mtrain: \u001b[0m/content/dataset/images/train/00001659.jpg: 4 duplicate labels removed\n",
            "\u001b[34m\u001b[1mtrain: \u001b[0m/content/dataset/images/train/00001660.jpg: 4 duplicate labels removed\n",
            "\u001b[34m\u001b[1mtrain: \u001b[0m/content/dataset/images/train/00001661.jpg: 4 duplicate labels removed\n",
            "\u001b[34m\u001b[1mtrain: \u001b[0m/content/dataset/images/train/00001663.jpg: 4 duplicate labels removed\n",
            "\u001b[34m\u001b[1mtrain: \u001b[0m/content/dataset/images/train/00001668.jpg: 4 duplicate labels removed\n",
            "\u001b[34m\u001b[1mtrain: \u001b[0m/content/dataset/images/train/00001669.jpg: 4 duplicate labels removed\n",
            "\u001b[34m\u001b[1mtrain: \u001b[0m/content/dataset/images/train/00001670.jpg: 4 duplicate labels removed\n",
            "\u001b[34m\u001b[1mtrain: \u001b[0m/content/dataset/images/train/00001672.jpg: 4 duplicate labels removed\n",
            "\u001b[34m\u001b[1mtrain: \u001b[0m/content/dataset/images/train/00001673.jpg: 4 duplicate labels removed\n",
            "\u001b[34m\u001b[1mtrain: \u001b[0m/content/dataset/images/train/00001674.jpg: 4 duplicate labels removed\n",
            "\u001b[34m\u001b[1mtrain: \u001b[0m/content/dataset/images/train/00001675.jpg: 4 duplicate labels removed\n",
            "\u001b[34m\u001b[1mtrain: \u001b[0m/content/dataset/images/train/00001678.jpg: 4 duplicate labels removed\n",
            "\u001b[34m\u001b[1mtrain: \u001b[0m/content/dataset/images/train/00001679.jpg: 4 duplicate labels removed\n",
            "\u001b[34m\u001b[1mtrain: \u001b[0m/content/dataset/images/train/00001680.jpg: 4 duplicate labels removed\n",
            "\u001b[34m\u001b[1mtrain: \u001b[0m/content/dataset/images/train/00001681.jpg: 4 duplicate labels removed\n",
            "\u001b[34m\u001b[1mtrain: \u001b[0m/content/dataset/images/train/00001682.jpg: 4 duplicate labels removed\n",
            "\u001b[34m\u001b[1mtrain: \u001b[0m/content/dataset/images/train/00001684.jpg: 4 duplicate labels removed\n",
            "\u001b[34m\u001b[1mtrain: \u001b[0m/content/dataset/images/train/00001685.jpg: 4 duplicate labels removed\n",
            "\u001b[34m\u001b[1mtrain: \u001b[0m/content/dataset/images/train/00001686.jpg: 4 duplicate labels removed\n",
            "\u001b[34m\u001b[1mtrain: \u001b[0m/content/dataset/images/train/00001688.jpg: 4 duplicate labels removed\n",
            "\u001b[34m\u001b[1mtrain: \u001b[0m/content/dataset/images/train/00001691.jpg: 8 duplicate labels removed\n",
            "\u001b[34m\u001b[1mtrain: \u001b[0m/content/dataset/images/train/00001692.jpg: 8 duplicate labels removed\n",
            "\u001b[34m\u001b[1mtrain: \u001b[0m/content/dataset/images/train/00001693.jpg: 4 duplicate labels removed\n",
            "\u001b[34m\u001b[1mtrain: \u001b[0m/content/dataset/images/train/00001694.jpg: 4 duplicate labels removed\n",
            "\u001b[34m\u001b[1mtrain: \u001b[0m/content/dataset/images/train/00001695.jpg: 4 duplicate labels removed\n",
            "\u001b[34m\u001b[1mtrain: \u001b[0m/content/dataset/images/train/00001696.jpg: 4 duplicate labels removed\n",
            "\u001b[34m\u001b[1mtrain: \u001b[0m/content/dataset/images/train/00001697.jpg: 4 duplicate labels removed\n",
            "\u001b[34m\u001b[1mtrain: \u001b[0m/content/dataset/images/train/00001701.jpg: 4 duplicate labels removed\n",
            "\u001b[34m\u001b[1mtrain: \u001b[0m/content/dataset/images/train/00001703.jpg: 4 duplicate labels removed\n",
            "\u001b[34m\u001b[1mtrain: \u001b[0m/content/dataset/images/train/00001705.jpg: 4 duplicate labels removed\n",
            "\u001b[34m\u001b[1mtrain: \u001b[0m/content/dataset/images/train/00001706.jpg: 4 duplicate labels removed\n",
            "\u001b[34m\u001b[1mtrain: \u001b[0m/content/dataset/images/train/00001707.jpg: 4 duplicate labels removed\n",
            "\u001b[34m\u001b[1mtrain: \u001b[0m/content/dataset/images/train/00001710.jpg: 4 duplicate labels removed\n",
            "\u001b[34m\u001b[1mtrain: \u001b[0m/content/dataset/images/train/00001713.jpg: 4 duplicate labels removed\n",
            "\u001b[34m\u001b[1mtrain: \u001b[0m/content/dataset/images/train/00001718.jpg: 4 duplicate labels removed\n",
            "\u001b[34m\u001b[1mtrain: \u001b[0m/content/dataset/images/train/00001719.jpg: 4 duplicate labels removed\n",
            "\u001b[34m\u001b[1mtrain: \u001b[0m/content/dataset/images/train/00001721.jpg: 4 duplicate labels removed\n",
            "\u001b[34m\u001b[1mtrain: \u001b[0m/content/dataset/images/train/00001724.jpg: 4 duplicate labels removed\n",
            "\u001b[34m\u001b[1mtrain: \u001b[0m/content/dataset/images/train/00001726.jpg: 4 duplicate labels removed\n",
            "\u001b[34m\u001b[1mtrain: \u001b[0m/content/dataset/images/train/00001727.jpg: 4 duplicate labels removed\n",
            "\u001b[34m\u001b[1mtrain: \u001b[0m/content/dataset/images/train/00001731.jpg: 4 duplicate labels removed\n",
            "\u001b[34m\u001b[1mtrain: \u001b[0m/content/dataset/images/train/00001733.jpg: 4 duplicate labels removed\n",
            "\u001b[34m\u001b[1mtrain: \u001b[0m/content/dataset/images/train/00001735.jpg: 4 duplicate labels removed\n",
            "\u001b[34m\u001b[1mtrain: \u001b[0m/content/dataset/images/train/00001736.jpg: 4 duplicate labels removed\n",
            "\u001b[34m\u001b[1mtrain: \u001b[0m/content/dataset/images/train/00001737.jpg: 4 duplicate labels removed\n",
            "\u001b[34m\u001b[1mtrain: \u001b[0m/content/dataset/images/train/00001738.jpg: 4 duplicate labels removed\n",
            "\u001b[34m\u001b[1mtrain: \u001b[0m/content/dataset/images/train/00001743.jpg: 4 duplicate labels removed\n",
            "\u001b[34m\u001b[1mtrain: \u001b[0m/content/dataset/images/train/00001745.jpg: 4 duplicate labels removed\n",
            "\u001b[34m\u001b[1mtrain: \u001b[0m/content/dataset/images/train/00001746.jpg: 4 duplicate labels removed\n",
            "\u001b[34m\u001b[1mtrain: \u001b[0m/content/dataset/images/train/00001747.jpg: 4 duplicate labels removed\n",
            "\u001b[34m\u001b[1mtrain: \u001b[0m/content/dataset/images/train/00001752.jpg: 4 duplicate labels removed\n",
            "\u001b[34m\u001b[1mtrain: \u001b[0m/content/dataset/images/train/00001753.jpg: 4 duplicate labels removed\n",
            "\u001b[34m\u001b[1mtrain: \u001b[0m/content/dataset/images/train/00001754.jpg: 4 duplicate labels removed\n",
            "\u001b[34m\u001b[1mtrain: \u001b[0m/content/dataset/images/train/00001755.jpg: 4 duplicate labels removed\n",
            "\u001b[34m\u001b[1mtrain: \u001b[0m/content/dataset/images/train/00001757.jpg: 4 duplicate labels removed\n",
            "\u001b[34m\u001b[1mtrain: \u001b[0m/content/dataset/images/train/00001760.jpg: 4 duplicate labels removed\n",
            "\u001b[34m\u001b[1mtrain: \u001b[0m/content/dataset/images/train/00001762.jpg: 4 duplicate labels removed\n",
            "\u001b[34m\u001b[1mtrain: \u001b[0m/content/dataset/images/train/00001763.jpg: 4 duplicate labels removed\n",
            "\u001b[34m\u001b[1mtrain: \u001b[0m/content/dataset/images/train/00001764.jpg: 4 duplicate labels removed\n",
            "\u001b[34m\u001b[1mtrain: \u001b[0m/content/dataset/images/train/00001766.jpg: 8 duplicate labels removed\n",
            "\u001b[34m\u001b[1mtrain: \u001b[0m/content/dataset/images/train/00001768.jpg: 4 duplicate labels removed\n",
            "\u001b[34m\u001b[1mtrain: \u001b[0m/content/dataset/images/train/00001769.jpg: 4 duplicate labels removed\n",
            "\u001b[34m\u001b[1mtrain: \u001b[0m/content/dataset/images/train/00001771.jpg: 4 duplicate labels removed\n",
            "\u001b[34m\u001b[1mtrain: \u001b[0m/content/dataset/images/train/00001773.jpg: 4 duplicate labels removed\n",
            "\u001b[34m\u001b[1mtrain: \u001b[0m/content/dataset/images/train/00001775.jpg: 4 duplicate labels removed\n",
            "\u001b[34m\u001b[1mtrain: \u001b[0m/content/dataset/images/train/00001776.jpg: 4 duplicate labels removed\n",
            "\u001b[34m\u001b[1mtrain: \u001b[0m/content/dataset/images/train/00001778.jpg: 4 duplicate labels removed\n",
            "\u001b[34m\u001b[1mtrain: \u001b[0m/content/dataset/images/train/00001779.jpg: 4 duplicate labels removed\n",
            "\u001b[34m\u001b[1mtrain: \u001b[0m/content/dataset/images/train/00001781.jpg: 4 duplicate labels removed\n",
            "\u001b[34m\u001b[1mtrain: \u001b[0m/content/dataset/images/train/00001782.jpg: 4 duplicate labels removed\n",
            "\u001b[34m\u001b[1mtrain: \u001b[0m/content/dataset/images/train/00001786.jpg: 4 duplicate labels removed\n",
            "\u001b[34m\u001b[1mtrain: \u001b[0m/content/dataset/images/train/00001787.jpg: 4 duplicate labels removed\n",
            "\u001b[34m\u001b[1mtrain: \u001b[0m/content/dataset/images/train/00001788.jpg: 4 duplicate labels removed\n",
            "\u001b[34m\u001b[1mtrain: \u001b[0m/content/dataset/images/train/00001789.jpg: 4 duplicate labels removed\n",
            "\u001b[34m\u001b[1mtrain: \u001b[0m/content/dataset/images/train/00001790.jpg: 4 duplicate labels removed\n",
            "\u001b[34m\u001b[1mtrain: \u001b[0m/content/dataset/images/train/00001791.jpg: 4 duplicate labels removed\n",
            "\u001b[34m\u001b[1mtrain: \u001b[0m/content/dataset/images/train/00001794.jpg: 4 duplicate labels removed\n",
            "\u001b[34m\u001b[1mtrain: \u001b[0m/content/dataset/images/train/00001795.jpg: 4 duplicate labels removed\n",
            "\u001b[34m\u001b[1mtrain: \u001b[0m/content/dataset/images/train/00001797.jpg: 4 duplicate labels removed\n",
            "\u001b[34m\u001b[1mtrain: \u001b[0m/content/dataset/images/train/00001798.jpg: 4 duplicate labels removed\n",
            "\u001b[34m\u001b[1mtrain: \u001b[0m/content/dataset/images/train/00001799.jpg: 4 duplicate labels removed\n",
            "\u001b[34m\u001b[1mtrain: \u001b[0m/content/dataset/images/train/00001801.jpg: 8 duplicate labels removed\n",
            "\u001b[34m\u001b[1mtrain: \u001b[0m/content/dataset/images/train/00001802.jpg: 4 duplicate labels removed\n",
            "\u001b[34m\u001b[1mtrain: \u001b[0m/content/dataset/images/train/00001805.jpg: 4 duplicate labels removed\n",
            "\u001b[34m\u001b[1mtrain: \u001b[0m/content/dataset/images/train/00001806.jpg: 4 duplicate labels removed\n",
            "\u001b[34m\u001b[1mtrain: \u001b[0m/content/dataset/images/train/00001808.jpg: 4 duplicate labels removed\n",
            "\u001b[34m\u001b[1mtrain: \u001b[0m/content/dataset/images/train/00001810.jpg: 4 duplicate labels removed\n",
            "\u001b[34m\u001b[1mtrain: \u001b[0m/content/dataset/images/train/00001811.jpg: 4 duplicate labels removed\n",
            "\u001b[34m\u001b[1mtrain: \u001b[0m/content/dataset/images/train/00001813.jpg: 4 duplicate labels removed\n",
            "\u001b[34m\u001b[1mtrain: \u001b[0m/content/dataset/images/train/00001814.jpg: 12 duplicate labels removed\n",
            "\u001b[34m\u001b[1mtrain: \u001b[0m/content/dataset/images/train/00001815.jpg: 4 duplicate labels removed\n",
            "\u001b[34m\u001b[1mtrain: \u001b[0m/content/dataset/images/train/00001817.jpg: 4 duplicate labels removed\n",
            "\u001b[34m\u001b[1mtrain: \u001b[0m/content/dataset/images/train/00001819.jpg: 4 duplicate labels removed\n",
            "\u001b[34m\u001b[1mtrain: \u001b[0m/content/dataset/images/train/00001820.jpg: 4 duplicate labels removed\n",
            "\u001b[34m\u001b[1mtrain: \u001b[0m/content/dataset/images/train/00001821.jpg: 4 duplicate labels removed\n",
            "\u001b[34m\u001b[1mtrain: \u001b[0m/content/dataset/images/train/00001822.jpg: 4 duplicate labels removed\n",
            "\u001b[34m\u001b[1mtrain: \u001b[0m/content/dataset/images/train/00001823.jpg: 4 duplicate labels removed\n",
            "\u001b[34m\u001b[1mtrain: \u001b[0m/content/dataset/images/train/00001824.jpg: 4 duplicate labels removed\n",
            "\u001b[34m\u001b[1mtrain: \u001b[0m/content/dataset/images/train/00001825.jpg: 4 duplicate labels removed\n",
            "\u001b[34m\u001b[1mtrain: \u001b[0m/content/dataset/images/train/00001826.jpg: 4 duplicate labels removed\n",
            "\u001b[34m\u001b[1mtrain: \u001b[0m/content/dataset/images/train/00001827.jpg: 4 duplicate labels removed\n",
            "\u001b[34m\u001b[1mtrain: \u001b[0m/content/dataset/images/train/00001830.jpg: 4 duplicate labels removed\n",
            "\u001b[34m\u001b[1mtrain: \u001b[0m/content/dataset/images/train/00001832.jpg: 4 duplicate labels removed\n",
            "\u001b[34m\u001b[1mtrain: \u001b[0m/content/dataset/images/train/00001833.jpg: 4 duplicate labels removed\n",
            "\u001b[34m\u001b[1mtrain: \u001b[0m/content/dataset/images/train/00001834.jpg: 4 duplicate labels removed\n",
            "\u001b[34m\u001b[1mtrain: \u001b[0m/content/dataset/images/train/00001835.jpg: 4 duplicate labels removed\n",
            "\u001b[34m\u001b[1mtrain: \u001b[0m/content/dataset/images/train/00001836.jpg: 4 duplicate labels removed\n",
            "\u001b[34m\u001b[1mtrain: \u001b[0m/content/dataset/images/train/00001837.jpg: 4 duplicate labels removed\n",
            "\u001b[34m\u001b[1mtrain: \u001b[0m/content/dataset/images/train/00001838.jpg: 4 duplicate labels removed\n",
            "\u001b[34m\u001b[1mtrain: \u001b[0m/content/dataset/images/train/00001840.jpg: 4 duplicate labels removed\n",
            "\u001b[34m\u001b[1mtrain: \u001b[0m/content/dataset/images/train/00001841.jpg: 4 duplicate labels removed\n",
            "\u001b[34m\u001b[1mtrain: \u001b[0m/content/dataset/images/train/00001842.jpg: 4 duplicate labels removed\n",
            "\u001b[34m\u001b[1mtrain: \u001b[0m/content/dataset/images/train/00001843.jpg: 4 duplicate labels removed\n",
            "\u001b[34m\u001b[1mtrain: \u001b[0m/content/dataset/images/train/00001844.jpg: 8 duplicate labels removed\n",
            "\u001b[34m\u001b[1mtrain: \u001b[0m/content/dataset/images/train/00001846.jpg: 4 duplicate labels removed\n",
            "\u001b[34m\u001b[1mtrain: \u001b[0m/content/dataset/images/train/00001847.jpg: 4 duplicate labels removed\n",
            "\u001b[34m\u001b[1mtrain: \u001b[0m/content/dataset/images/train/00001851.jpg: 4 duplicate labels removed\n",
            "\u001b[34m\u001b[1mtrain: \u001b[0m/content/dataset/images/train/00001852.jpg: 4 duplicate labels removed\n",
            "\u001b[34m\u001b[1mtrain: \u001b[0m/content/dataset/images/train/00001853.jpg: 8 duplicate labels removed\n",
            "\u001b[34m\u001b[1mtrain: \u001b[0m/content/dataset/images/train/00001854.jpg: 4 duplicate labels removed\n",
            "\u001b[34m\u001b[1mtrain: \u001b[0m/content/dataset/images/train/00001855.jpg: 4 duplicate labels removed\n",
            "\u001b[34m\u001b[1mtrain: \u001b[0m/content/dataset/images/train/00001858.jpg: 4 duplicate labels removed\n",
            "\u001b[34m\u001b[1mtrain: \u001b[0m/content/dataset/images/train/00001859.jpg: 4 duplicate labels removed\n",
            "\u001b[34m\u001b[1mtrain: \u001b[0m/content/dataset/images/train/00001860.jpg: 4 duplicate labels removed\n",
            "\u001b[34m\u001b[1mtrain: \u001b[0m/content/dataset/images/train/00001864.jpg: 4 duplicate labels removed\n",
            "\u001b[34m\u001b[1mtrain: \u001b[0m/content/dataset/images/train/00001865.jpg: 4 duplicate labels removed\n",
            "\u001b[34m\u001b[1mtrain: \u001b[0m/content/dataset/images/train/00001866.jpg: 4 duplicate labels removed\n",
            "\u001b[34m\u001b[1mtrain: \u001b[0m/content/dataset/images/train/00001868.jpg: 4 duplicate labels removed\n",
            "\u001b[34m\u001b[1mtrain: \u001b[0m/content/dataset/images/train/00001870.jpg: 4 duplicate labels removed\n",
            "\u001b[34m\u001b[1mtrain: \u001b[0m/content/dataset/images/train/00001871.jpg: 4 duplicate labels removed\n",
            "\u001b[34m\u001b[1mtrain: \u001b[0m/content/dataset/images/train/00001872.jpg: 4 duplicate labels removed\n",
            "\u001b[34m\u001b[1mtrain: \u001b[0m/content/dataset/images/train/00001873.jpg: 4 duplicate labels removed\n",
            "\u001b[34m\u001b[1mtrain: \u001b[0m/content/dataset/images/train/00001874.jpg: 4 duplicate labels removed\n",
            "\u001b[34m\u001b[1mtrain: \u001b[0m/content/dataset/images/train/00001877.jpg: 4 duplicate labels removed\n",
            "\u001b[34m\u001b[1mtrain: \u001b[0m/content/dataset/images/train/00001878.jpg: 4 duplicate labels removed\n",
            "\u001b[34m\u001b[1mtrain: \u001b[0m/content/dataset/images/train/00001879.jpg: 4 duplicate labels removed\n",
            "\u001b[34m\u001b[1mtrain: \u001b[0m/content/dataset/images/train/00001882.jpg: 12 duplicate labels removed\n",
            "\u001b[34m\u001b[1mtrain: \u001b[0m/content/dataset/images/train/00001883.jpg: 4 duplicate labels removed\n",
            "\u001b[34m\u001b[1mtrain: \u001b[0m/content/dataset/images/train/00001888.jpg: 4 duplicate labels removed\n",
            "\u001b[34m\u001b[1mtrain: \u001b[0m/content/dataset/images/train/00001889.jpg: 4 duplicate labels removed\n",
            "\u001b[34m\u001b[1mtrain: \u001b[0m/content/dataset/images/train/00001890.jpg: 4 duplicate labels removed\n",
            "\u001b[34m\u001b[1mtrain: \u001b[0m/content/dataset/images/train/00001892.jpg: 4 duplicate labels removed\n",
            "\u001b[34m\u001b[1mtrain: \u001b[0m/content/dataset/images/train/00001893.jpg: 4 duplicate labels removed\n",
            "\u001b[34m\u001b[1mtrain: \u001b[0m/content/dataset/images/train/00001894.jpg: 4 duplicate labels removed\n",
            "\u001b[34m\u001b[1mtrain: \u001b[0m/content/dataset/images/train/00001897.jpg: 4 duplicate labels removed\n",
            "\u001b[34m\u001b[1mtrain: \u001b[0m/content/dataset/images/train/00001901.jpg: 4 duplicate labels removed\n",
            "\u001b[34m\u001b[1mtrain: \u001b[0m/content/dataset/images/train/00001904.jpg: 4 duplicate labels removed\n",
            "\u001b[34m\u001b[1mtrain: \u001b[0m/content/dataset/images/train/00001905.jpg: 4 duplicate labels removed\n",
            "\u001b[34m\u001b[1mtrain: \u001b[0m/content/dataset/images/train/00001906.jpg: 4 duplicate labels removed\n",
            "\u001b[34m\u001b[1mtrain: \u001b[0m/content/dataset/images/train/00001907.jpg: 4 duplicate labels removed\n",
            "\u001b[34m\u001b[1mtrain: \u001b[0m/content/dataset/images/train/00001911.jpg: 12 duplicate labels removed\n",
            "\u001b[34m\u001b[1mtrain: \u001b[0m/content/dataset/images/train/00001912.jpg: 4 duplicate labels removed\n",
            "\u001b[34m\u001b[1mtrain: \u001b[0m/content/dataset/images/train/00001914.jpg: 4 duplicate labels removed\n",
            "\u001b[34m\u001b[1mtrain: \u001b[0m/content/dataset/images/train/00001917.jpg: 4 duplicate labels removed\n",
            "\u001b[34m\u001b[1mtrain: \u001b[0m/content/dataset/images/train/00001918.jpg: 4 duplicate labels removed\n",
            "\u001b[34m\u001b[1mtrain: \u001b[0m/content/dataset/images/train/00001920.jpg: 4 duplicate labels removed\n",
            "\u001b[34m\u001b[1mtrain: \u001b[0m/content/dataset/images/train/00001921.jpg: 4 duplicate labels removed\n",
            "\u001b[34m\u001b[1mtrain: \u001b[0m/content/dataset/images/train/00001922.jpg: 4 duplicate labels removed\n",
            "\u001b[34m\u001b[1mtrain: \u001b[0m/content/dataset/images/train/00001923.jpg: 4 duplicate labels removed\n",
            "\u001b[34m\u001b[1mtrain: \u001b[0m/content/dataset/images/train/00001924.jpg: 4 duplicate labels removed\n",
            "\u001b[34m\u001b[1mtrain: \u001b[0m/content/dataset/images/train/00001926.jpg: 4 duplicate labels removed\n",
            "\u001b[34m\u001b[1mtrain: \u001b[0m/content/dataset/images/train/00001930.jpg: 4 duplicate labels removed\n",
            "\u001b[34m\u001b[1mtrain: \u001b[0m/content/dataset/images/train/00001934.jpg: 4 duplicate labels removed\n",
            "\u001b[34m\u001b[1mtrain: \u001b[0m/content/dataset/images/train/00001935.jpg: 4 duplicate labels removed\n",
            "\u001b[34m\u001b[1mtrain: \u001b[0m/content/dataset/images/train/00001937.jpg: 4 duplicate labels removed\n",
            "\u001b[34m\u001b[1mtrain: \u001b[0m/content/dataset/images/train/00001938.jpg: 4 duplicate labels removed\n",
            "\u001b[34m\u001b[1mtrain: \u001b[0m/content/dataset/images/train/00001939.jpg: 4 duplicate labels removed\n",
            "\u001b[34m\u001b[1mtrain: \u001b[0m/content/dataset/images/train/00001940.jpg: 4 duplicate labels removed\n",
            "\u001b[34m\u001b[1mtrain: \u001b[0m/content/dataset/images/train/00001941.jpg: 4 duplicate labels removed\n",
            "\u001b[34m\u001b[1mtrain: \u001b[0m/content/dataset/images/train/00001943.jpg: 20 duplicate labels removed\n",
            "\u001b[34m\u001b[1mtrain: \u001b[0m/content/dataset/images/train/00001944.jpg: 4 duplicate labels removed\n",
            "\u001b[34m\u001b[1mtrain: \u001b[0m/content/dataset/images/train/00001948.jpg: 4 duplicate labels removed\n",
            "\u001b[34m\u001b[1mtrain: \u001b[0m/content/dataset/images/train/00001951.jpg: 4 duplicate labels removed\n",
            "\u001b[34m\u001b[1mtrain: \u001b[0m/content/dataset/images/train/00001954.jpg: 4 duplicate labels removed\n",
            "\u001b[34m\u001b[1mtrain: \u001b[0m/content/dataset/images/train/00001957.jpg: 4 duplicate labels removed\n",
            "\u001b[34m\u001b[1mtrain: \u001b[0m/content/dataset/images/train/00001959.jpg: 4 duplicate labels removed\n",
            "\u001b[34m\u001b[1mtrain: \u001b[0m/content/dataset/images/train/00001960.jpg: 4 duplicate labels removed\n",
            "\u001b[34m\u001b[1mtrain: \u001b[0m/content/dataset/images/train/00001961.jpg: 4 duplicate labels removed\n",
            "\u001b[34m\u001b[1mtrain: \u001b[0m/content/dataset/images/train/00001962.jpg: 4 duplicate labels removed\n",
            "\u001b[34m\u001b[1mtrain: \u001b[0m/content/dataset/images/train/00001964.jpg: 8 duplicate labels removed\n",
            "\u001b[34m\u001b[1mtrain: \u001b[0m/content/dataset/images/train/00001966.jpg: 4 duplicate labels removed\n",
            "\u001b[34m\u001b[1mtrain: \u001b[0m/content/dataset/images/train/00001967.jpg: 4 duplicate labels removed\n",
            "\u001b[34m\u001b[1mtrain: \u001b[0m/content/dataset/images/train/00001968.jpg: 4 duplicate labels removed\n",
            "\u001b[34m\u001b[1mtrain: \u001b[0m/content/dataset/images/train/00001969.jpg: 4 duplicate labels removed\n",
            "\u001b[34m\u001b[1mtrain: \u001b[0m/content/dataset/images/train/00001971.jpg: 4 duplicate labels removed\n",
            "\u001b[34m\u001b[1mtrain: \u001b[0m/content/dataset/images/train/00001972.jpg: 4 duplicate labels removed\n",
            "\u001b[34m\u001b[1mtrain: \u001b[0m/content/dataset/images/train/00001973.jpg: 4 duplicate labels removed\n",
            "\u001b[34m\u001b[1mtrain: \u001b[0m/content/dataset/images/train/00001976.jpg: 4 duplicate labels removed\n",
            "\u001b[34m\u001b[1mtrain: \u001b[0m/content/dataset/images/train/00001977.jpg: 4 duplicate labels removed\n",
            "\u001b[34m\u001b[1mtrain: \u001b[0m/content/dataset/images/train/00001978.jpg: 4 duplicate labels removed\n",
            "\u001b[34m\u001b[1mtrain: \u001b[0m/content/dataset/images/train/00001979.jpg: 4 duplicate labels removed\n",
            "\u001b[34m\u001b[1mtrain: \u001b[0m/content/dataset/images/train/00001981.jpg: 4 duplicate labels removed\n",
            "\u001b[34m\u001b[1mtrain: \u001b[0m/content/dataset/images/train/00001982.jpg: 4 duplicate labels removed\n",
            "\u001b[34m\u001b[1mtrain: \u001b[0m/content/dataset/images/train/00001983.jpg: 4 duplicate labels removed\n",
            "\u001b[34m\u001b[1mtrain: \u001b[0m/content/dataset/images/train/00001984.jpg: 4 duplicate labels removed\n",
            "\u001b[34m\u001b[1mtrain: \u001b[0m/content/dataset/images/train/00001985.jpg: 4 duplicate labels removed\n",
            "\u001b[34m\u001b[1mtrain: \u001b[0m/content/dataset/images/train/00001986.jpg: 4 duplicate labels removed\n",
            "\u001b[34m\u001b[1mtrain: \u001b[0m/content/dataset/images/train/00001987.jpg: 4 duplicate labels removed\n",
            "\u001b[34m\u001b[1mtrain: \u001b[0m/content/dataset/images/train/00001989.jpg: 4 duplicate labels removed\n",
            "\u001b[34m\u001b[1mtrain: \u001b[0m/content/dataset/images/train/00001991.jpg: 4 duplicate labels removed\n",
            "\u001b[34m\u001b[1mtrain: \u001b[0m/content/dataset/images/train/00001993.jpg: 4 duplicate labels removed\n",
            "\u001b[34m\u001b[1mtrain: \u001b[0m/content/dataset/images/train/00001994.jpg: 4 duplicate labels removed\n",
            "\u001b[34m\u001b[1mtrain: \u001b[0m/content/dataset/images/train/00001996.jpg: 4 duplicate labels removed\n",
            "\u001b[34m\u001b[1mtrain: \u001b[0m/content/dataset/images/train/00001997.jpg: 4 duplicate labels removed\n",
            "\u001b[34m\u001b[1mtrain: \u001b[0m/content/dataset/images/train/00001999.jpg: 4 duplicate labels removed\n",
            "\u001b[34m\u001b[1mtrain: \u001b[0m/content/dataset/images/train/00002000.jpg: 8 duplicate labels removed\n",
            "\u001b[34m\u001b[1mtrain: \u001b[0m/content/dataset/images/train/00002002.jpg: 4 duplicate labels removed\n",
            "\u001b[34m\u001b[1mtrain: \u001b[0m/content/dataset/images/train/00002003.jpg: 4 duplicate labels removed\n",
            "\u001b[34m\u001b[1mtrain: \u001b[0m/content/dataset/images/train/00002004.jpg: 4 duplicate labels removed\n",
            "\u001b[34m\u001b[1mtrain: \u001b[0m/content/dataset/images/train/00002005.jpg: 4 duplicate labels removed\n",
            "\u001b[34m\u001b[1mtrain: \u001b[0m/content/dataset/images/train/00002006.jpg: 4 duplicate labels removed\n",
            "\u001b[34m\u001b[1mtrain: \u001b[0m/content/dataset/images/train/00002007.jpg: 4 duplicate labels removed\n",
            "\u001b[34m\u001b[1mtrain: \u001b[0m/content/dataset/images/train/00002008.jpg: 4 duplicate labels removed\n",
            "\u001b[34m\u001b[1mtrain: \u001b[0m/content/dataset/images/train/00002009.jpg: 4 duplicate labels removed\n",
            "\u001b[34m\u001b[1mtrain: \u001b[0m/content/dataset/images/train/00002010.jpg: 4 duplicate labels removed\n",
            "\u001b[34m\u001b[1mtrain: \u001b[0m/content/dataset/images/train/00002011.jpg: 4 duplicate labels removed\n",
            "\u001b[34m\u001b[1mtrain: \u001b[0m/content/dataset/images/train/00002012.jpg: 4 duplicate labels removed\n",
            "\u001b[34m\u001b[1mtrain: \u001b[0m/content/dataset/images/train/00002015.jpg: 4 duplicate labels removed\n",
            "\u001b[34m\u001b[1mtrain: \u001b[0m/content/dataset/images/train/00002016.jpg: 4 duplicate labels removed\n",
            "\u001b[34m\u001b[1mtrain: \u001b[0m/content/dataset/images/train/00002019.jpg: 8 duplicate labels removed\n",
            "\u001b[34m\u001b[1mtrain: \u001b[0m/content/dataset/images/train/00002020.jpg: 4 duplicate labels removed\n",
            "\u001b[34m\u001b[1mtrain: \u001b[0m/content/dataset/images/train/00002021.jpg: 4 duplicate labels removed\n",
            "\u001b[34m\u001b[1mtrain: \u001b[0m/content/dataset/images/train/00002022.jpg: 4 duplicate labels removed\n",
            "\u001b[34m\u001b[1mtrain: \u001b[0m/content/dataset/images/train/00002023.jpg: 4 duplicate labels removed\n",
            "\u001b[34m\u001b[1mtrain: \u001b[0m/content/dataset/images/train/00002024.jpg: 4 duplicate labels removed\n",
            "\u001b[34m\u001b[1mtrain: \u001b[0m/content/dataset/images/train/00002028.jpg: 4 duplicate labels removed\n",
            "\u001b[34m\u001b[1mtrain: \u001b[0m/content/dataset/images/train/00002030.jpg: 28 duplicate labels removed\n",
            "\u001b[34m\u001b[1mtrain: \u001b[0m/content/dataset/images/train/00002032.jpg: 4 duplicate labels removed\n",
            "\u001b[34m\u001b[1mtrain: \u001b[0m/content/dataset/images/train/00002033.jpg: 4 duplicate labels removed\n",
            "\u001b[34m\u001b[1mtrain: \u001b[0m/content/dataset/images/train/00002034.jpg: 8 duplicate labels removed\n",
            "\u001b[34m\u001b[1mtrain: \u001b[0m/content/dataset/images/train/00002038.jpg: 8 duplicate labels removed\n",
            "\u001b[34m\u001b[1mtrain: \u001b[0m/content/dataset/images/train/00002042.jpg: 4 duplicate labels removed\n",
            "\u001b[34m\u001b[1mtrain: \u001b[0m/content/dataset/images/train/00002044.jpg: 4 duplicate labels removed\n",
            "\u001b[34m\u001b[1mtrain: \u001b[0m/content/dataset/images/train/00002045.jpg: 16 duplicate labels removed\n",
            "\u001b[34m\u001b[1mtrain: \u001b[0m/content/dataset/images/train/00002046.jpg: 4 duplicate labels removed\n",
            "\u001b[34m\u001b[1mtrain: \u001b[0m/content/dataset/images/train/00002048.jpg: 4 duplicate labels removed\n",
            "\u001b[34m\u001b[1mtrain: \u001b[0m/content/dataset/images/train/00002049.jpg: 4 duplicate labels removed\n",
            "\u001b[34m\u001b[1mtrain: \u001b[0m/content/dataset/images/train/00002051.jpg: 4 duplicate labels removed\n",
            "\u001b[34m\u001b[1mtrain: \u001b[0m/content/dataset/images/train/00002052.jpg: 4 duplicate labels removed\n",
            "\u001b[34m\u001b[1mtrain: \u001b[0m/content/dataset/images/train/00002053.jpg: 4 duplicate labels removed\n",
            "\u001b[34m\u001b[1mtrain: \u001b[0m/content/dataset/images/train/00002057.jpg: 4 duplicate labels removed\n",
            "\u001b[34m\u001b[1mtrain: \u001b[0m/content/dataset/images/train/00002058.jpg: 8 duplicate labels removed\n",
            "\u001b[34m\u001b[1mtrain: \u001b[0m/content/dataset/images/train/00002059.jpg: 4 duplicate labels removed\n",
            "\u001b[34m\u001b[1mtrain: \u001b[0m/content/dataset/images/train/00002060.jpg: 8 duplicate labels removed\n",
            "\u001b[34m\u001b[1mtrain: \u001b[0m/content/dataset/images/train/00002062.jpg: 4 duplicate labels removed\n",
            "\u001b[34m\u001b[1mtrain: \u001b[0m/content/dataset/images/train/00002063.jpg: 4 duplicate labels removed\n",
            "\u001b[34m\u001b[1mtrain: \u001b[0m/content/dataset/images/train/00002066.jpg: 4 duplicate labels removed\n",
            "\u001b[34m\u001b[1mtrain: \u001b[0m/content/dataset/images/train/00002067.jpg: 4 duplicate labels removed\n",
            "\u001b[34m\u001b[1mtrain: \u001b[0m/content/dataset/images/train/00002068.jpg: 4 duplicate labels removed\n",
            "\u001b[34m\u001b[1mtrain: \u001b[0m/content/dataset/images/train/00002069.jpg: 4 duplicate labels removed\n",
            "\u001b[34m\u001b[1mtrain: \u001b[0m/content/dataset/images/train/00002073.jpg: 4 duplicate labels removed\n",
            "\u001b[34m\u001b[1mtrain: \u001b[0m/content/dataset/images/train/00002075.jpg: 4 duplicate labels removed\n",
            "\u001b[34m\u001b[1mtrain: \u001b[0m/content/dataset/images/train/00002076.jpg: 4 duplicate labels removed\n",
            "\u001b[34m\u001b[1mtrain: \u001b[0m/content/dataset/images/train/00002077.jpg: 4 duplicate labels removed\n",
            "\u001b[34m\u001b[1mtrain: \u001b[0m/content/dataset/images/train/00002080.jpg: 4 duplicate labels removed\n",
            "\u001b[34m\u001b[1mtrain: \u001b[0m/content/dataset/images/train/00002084.jpg: 4 duplicate labels removed\n",
            "\u001b[34m\u001b[1mtrain: \u001b[0m/content/dataset/images/train/00002085.jpg: 4 duplicate labels removed\n",
            "\u001b[34m\u001b[1mtrain: \u001b[0m/content/dataset/images/train/00002086.jpg: 4 duplicate labels removed\n",
            "\u001b[34m\u001b[1mtrain: \u001b[0m/content/dataset/images/train/00002087.jpg: 4 duplicate labels removed\n",
            "\u001b[34m\u001b[1mtrain: \u001b[0m/content/dataset/images/train/00002092.jpg: 4 duplicate labels removed\n",
            "\u001b[34m\u001b[1mtrain: \u001b[0m/content/dataset/images/train/00002094.jpg: 4 duplicate labels removed\n",
            "\u001b[34m\u001b[1mtrain: \u001b[0m/content/dataset/images/train/00002095.jpg: 4 duplicate labels removed\n",
            "\u001b[34m\u001b[1mtrain: \u001b[0m/content/dataset/images/train/00002096.jpg: 4 duplicate labels removed\n",
            "\u001b[34m\u001b[1mtrain: \u001b[0m/content/dataset/images/train/00002098.jpg: 4 duplicate labels removed\n",
            "\u001b[34m\u001b[1mtrain: \u001b[0m/content/dataset/images/train/00002099.jpg: 4 duplicate labels removed\n",
            "\u001b[34m\u001b[1mtrain: \u001b[0m/content/dataset/images/train/00002101.jpg: 8 duplicate labels removed\n",
            "\u001b[34m\u001b[1mtrain: \u001b[0m/content/dataset/images/train/00002102.jpg: 4 duplicate labels removed\n",
            "\u001b[34m\u001b[1mtrain: \u001b[0m/content/dataset/images/train/00002105.jpg: 4 duplicate labels removed\n",
            "\u001b[34m\u001b[1mtrain: \u001b[0m/content/dataset/images/train/00002106.jpg: 4 duplicate labels removed\n",
            "\u001b[34m\u001b[1mtrain: \u001b[0m/content/dataset/images/train/00002110.jpg: 8 duplicate labels removed\n",
            "\u001b[34m\u001b[1mtrain: \u001b[0m/content/dataset/images/train/00002111.jpg: 4 duplicate labels removed\n",
            "\u001b[34m\u001b[1mtrain: \u001b[0m/content/dataset/images/train/00002113.jpg: 4 duplicate labels removed\n",
            "\u001b[34m\u001b[1mtrain: \u001b[0m/content/dataset/images/train/00002114.jpg: 8 duplicate labels removed\n",
            "\u001b[34m\u001b[1mtrain: \u001b[0m/content/dataset/images/train/00002115.jpg: 4 duplicate labels removed\n",
            "\u001b[34m\u001b[1mtrain: \u001b[0m/content/dataset/images/train/00002116.jpg: 4 duplicate labels removed\n",
            "\u001b[34m\u001b[1mtrain: \u001b[0m/content/dataset/images/train/00002117.jpg: 8 duplicate labels removed\n",
            "\u001b[34m\u001b[1mtrain: \u001b[0m/content/dataset/images/train/00002119.jpg: 4 duplicate labels removed\n",
            "\u001b[34m\u001b[1mtrain: \u001b[0m/content/dataset/images/train/00002120.jpg: 4 duplicate labels removed\n",
            "\u001b[34m\u001b[1mtrain: \u001b[0m/content/dataset/images/train/00002121.jpg: 4 duplicate labels removed\n",
            "\u001b[34m\u001b[1mtrain: \u001b[0m/content/dataset/images/train/00002123.jpg: 4 duplicate labels removed\n",
            "\u001b[34m\u001b[1mtrain: \u001b[0m/content/dataset/images/train/00002124.jpg: 4 duplicate labels removed\n",
            "\u001b[34m\u001b[1mtrain: \u001b[0m/content/dataset/images/train/00002127.jpg: 8 duplicate labels removed\n",
            "\u001b[34m\u001b[1mtrain: \u001b[0m/content/dataset/images/train/00002128.jpg: 4 duplicate labels removed\n",
            "\u001b[34m\u001b[1mtrain: \u001b[0m/content/dataset/images/train/00002129.jpg: 4 duplicate labels removed\n",
            "\u001b[34m\u001b[1mtrain: \u001b[0m/content/dataset/images/train/00002130.jpg: 4 duplicate labels removed\n",
            "\u001b[34m\u001b[1mtrain: \u001b[0m/content/dataset/images/train/00002131.jpg: 4 duplicate labels removed\n",
            "\u001b[34m\u001b[1mtrain: \u001b[0m/content/dataset/images/train/00002133.jpg: 4 duplicate labels removed\n",
            "\u001b[34m\u001b[1mtrain: \u001b[0m/content/dataset/images/train/00002134.jpg: 4 duplicate labels removed\n",
            "\u001b[34m\u001b[1mtrain: \u001b[0m/content/dataset/images/train/00002135.jpg: 8 duplicate labels removed\n",
            "\u001b[34m\u001b[1mtrain: \u001b[0m/content/dataset/images/train/00002136.jpg: 8 duplicate labels removed\n",
            "\u001b[34m\u001b[1mtrain: \u001b[0m/content/dataset/images/train/00002137.jpg: 4 duplicate labels removed\n",
            "\u001b[34m\u001b[1mtrain: \u001b[0m/content/dataset/images/train/00002138.jpg: 4 duplicate labels removed\n",
            "\u001b[34m\u001b[1mtrain: \u001b[0m/content/dataset/images/train/00002139.jpg: 4 duplicate labels removed\n",
            "\u001b[34m\u001b[1mtrain: \u001b[0m/content/dataset/images/train/00002140.jpg: 4 duplicate labels removed\n",
            "\u001b[34m\u001b[1mtrain: \u001b[0m/content/dataset/images/train/00002142.jpg: 12 duplicate labels removed\n",
            "\u001b[34m\u001b[1mtrain: \u001b[0m/content/dataset/images/train/00002143.jpg: 4 duplicate labels removed\n",
            "\u001b[34m\u001b[1mtrain: \u001b[0m/content/dataset/images/train/00002144.jpg: 4 duplicate labels removed\n",
            "\u001b[34m\u001b[1mtrain: \u001b[0m/content/dataset/images/train/00002145.jpg: 4 duplicate labels removed\n",
            "\u001b[34m\u001b[1mtrain: \u001b[0m/content/dataset/images/train/00002146.jpg: 4 duplicate labels removed\n",
            "\u001b[34m\u001b[1mtrain: \u001b[0m/content/dataset/images/train/00002150.jpg: 4 duplicate labels removed\n",
            "\u001b[34m\u001b[1mtrain: \u001b[0m/content/dataset/images/train/00002151.jpg: 4 duplicate labels removed\n",
            "\u001b[34m\u001b[1mtrain: \u001b[0m/content/dataset/images/train/00002152.jpg: 4 duplicate labels removed\n",
            "\u001b[34m\u001b[1mtrain: \u001b[0m/content/dataset/images/train/00002154.jpg: 4 duplicate labels removed\n",
            "\u001b[34m\u001b[1mtrain: \u001b[0m/content/dataset/images/train/00002156.jpg: 4 duplicate labels removed\n",
            "\u001b[34m\u001b[1mtrain: \u001b[0m/content/dataset/images/train/00002157.jpg: 4 duplicate labels removed\n",
            "\u001b[34m\u001b[1mtrain: \u001b[0m/content/dataset/images/train/00002160.jpg: 4 duplicate labels removed\n",
            "\u001b[34m\u001b[1mtrain: \u001b[0m/content/dataset/images/train/00002161.jpg: 8 duplicate labels removed\n",
            "\u001b[34m\u001b[1mtrain: \u001b[0m/content/dataset/images/train/00002162.jpg: 4 duplicate labels removed\n",
            "\u001b[34m\u001b[1mtrain: \u001b[0m/content/dataset/images/train/00002165.jpg: 4 duplicate labels removed\n",
            "\u001b[34m\u001b[1mtrain: \u001b[0m/content/dataset/images/train/00002168.jpg: 4 duplicate labels removed\n",
            "\u001b[34m\u001b[1mtrain: \u001b[0m/content/dataset/images/train/00002169.jpg: 4 duplicate labels removed\n",
            "\u001b[34m\u001b[1mtrain: \u001b[0m/content/dataset/images/train/00002171.jpg: 4 duplicate labels removed\n",
            "\u001b[34m\u001b[1mtrain: \u001b[0m/content/dataset/images/train/00002174.jpg: 4 duplicate labels removed\n",
            "\u001b[34m\u001b[1mtrain: \u001b[0m/content/dataset/images/train/00002178.jpg: 8 duplicate labels removed\n",
            "\u001b[34m\u001b[1mtrain: \u001b[0m/content/dataset/images/train/00002179.jpg: 4 duplicate labels removed\n",
            "\u001b[34m\u001b[1mtrain: \u001b[0m/content/dataset/images/train/00002180.jpg: 4 duplicate labels removed\n",
            "\u001b[34m\u001b[1mtrain: \u001b[0m/content/dataset/images/train/00002181.jpg: 4 duplicate labels removed\n",
            "\u001b[34m\u001b[1mtrain: \u001b[0m/content/dataset/images/train/00002183.jpg: 8 duplicate labels removed\n",
            "\u001b[34m\u001b[1mtrain: \u001b[0m/content/dataset/images/train/00002186.jpg: 4 duplicate labels removed\n",
            "\u001b[34m\u001b[1mtrain: \u001b[0m/content/dataset/images/train/00002190.jpg: 4 duplicate labels removed\n",
            "\u001b[34m\u001b[1mtrain: \u001b[0m/content/dataset/images/train/00002191.jpg: 4 duplicate labels removed\n",
            "\u001b[34m\u001b[1mtrain: \u001b[0m/content/dataset/images/train/00002192.jpg: 8 duplicate labels removed\n",
            "\u001b[34m\u001b[1mtrain: \u001b[0m/content/dataset/images/train/00002195.jpg: 4 duplicate labels removed\n",
            "\u001b[34m\u001b[1mtrain: \u001b[0m/content/dataset/images/train/00002197.jpg: 4 duplicate labels removed\n",
            "\u001b[34m\u001b[1mtrain: \u001b[0m/content/dataset/images/train/00002198.jpg: 4 duplicate labels removed\n",
            "\u001b[34m\u001b[1mtrain: \u001b[0m/content/dataset/images/train/00002199.jpg: 4 duplicate labels removed\n",
            "\u001b[34m\u001b[1mtrain: \u001b[0m/content/dataset/images/train/00002204.jpg: 4 duplicate labels removed\n",
            "\u001b[34m\u001b[1mtrain: \u001b[0m/content/dataset/images/train/00002209.jpg: 4 duplicate labels removed\n",
            "\u001b[34m\u001b[1mtrain: \u001b[0m/content/dataset/images/train/00002211.jpg: 4 duplicate labels removed\n",
            "\u001b[34m\u001b[1mtrain: \u001b[0m/content/dataset/images/train/00002212.jpg: 4 duplicate labels removed\n",
            "\u001b[34m\u001b[1mtrain: \u001b[0m/content/dataset/images/train/00002215.jpg: 8 duplicate labels removed\n",
            "\u001b[34m\u001b[1mtrain: \u001b[0m/content/dataset/images/train/00002219.jpg: 4 duplicate labels removed\n",
            "\u001b[34m\u001b[1mtrain: \u001b[0m/content/dataset/images/train/00002220.jpg: 4 duplicate labels removed\n",
            "\u001b[34m\u001b[1mtrain: \u001b[0m/content/dataset/images/train/00002223.jpg: 4 duplicate labels removed\n",
            "\u001b[34m\u001b[1mtrain: \u001b[0m/content/dataset/images/train/00002224.jpg: 4 duplicate labels removed\n",
            "\u001b[34m\u001b[1mtrain: \u001b[0m/content/dataset/images/train/00002227.jpg: 4 duplicate labels removed\n",
            "\u001b[34m\u001b[1mtrain: \u001b[0m/content/dataset/images/train/00002228.jpg: 4 duplicate labels removed\n",
            "\u001b[34m\u001b[1mtrain: \u001b[0m/content/dataset/images/train/00002229.jpg: 4 duplicate labels removed\n",
            "\u001b[34m\u001b[1mtrain: \u001b[0m/content/dataset/images/train/00002230.jpg: 8 duplicate labels removed\n",
            "\u001b[34m\u001b[1mtrain: \u001b[0m/content/dataset/images/train/00002231.jpg: 20 duplicate labels removed\n",
            "\u001b[34m\u001b[1mtrain: \u001b[0m/content/dataset/images/train/00002232.jpg: 20 duplicate labels removed\n",
            "\u001b[34m\u001b[1mtrain: \u001b[0m/content/dataset/images/train/00002233.jpg: 4 duplicate labels removed\n",
            "\u001b[34m\u001b[1mtrain: \u001b[0m/content/dataset/images/train/00002236.jpg: 8 duplicate labels removed\n",
            "\u001b[34m\u001b[1mtrain: \u001b[0m/content/dataset/images/train/00002237.jpg: 4 duplicate labels removed\n",
            "\u001b[34m\u001b[1mtrain: \u001b[0m/content/dataset/images/train/00002239.jpg: 8 duplicate labels removed\n",
            "\u001b[34m\u001b[1mtrain: \u001b[0m/content/dataset/images/train/00002240.jpg: 4 duplicate labels removed\n",
            "\u001b[34m\u001b[1mtrain: \u001b[0m/content/dataset/images/train/00002243.jpg: 4 duplicate labels removed\n",
            "\u001b[34m\u001b[1mtrain: \u001b[0m/content/dataset/images/train/00002244.jpg: 4 duplicate labels removed\n",
            "\u001b[34m\u001b[1mtrain: \u001b[0m/content/dataset/images/train/00002245.jpg: 4 duplicate labels removed\n",
            "\u001b[34m\u001b[1mtrain: \u001b[0m/content/dataset/images/train/00002246.jpg: 4 duplicate labels removed\n",
            "\u001b[34m\u001b[1mtrain: \u001b[0m/content/dataset/images/train/00002247.jpg: 4 duplicate labels removed\n",
            "\u001b[34m\u001b[1mtrain: \u001b[0m/content/dataset/images/train/00002249.jpg: 4 duplicate labels removed\n",
            "\u001b[34m\u001b[1mtrain: \u001b[0m/content/dataset/images/train/00002254.jpg: 4 duplicate labels removed\n",
            "\u001b[34m\u001b[1mtrain: \u001b[0m/content/dataset/images/train/00002259.jpg: 8 duplicate labels removed\n",
            "\u001b[34m\u001b[1mtrain: \u001b[0m/content/dataset/images/train/00002263.jpg: 4 duplicate labels removed\n",
            "\u001b[34m\u001b[1mtrain: \u001b[0m/content/dataset/images/train/00002264.jpg: 4 duplicate labels removed\n",
            "\u001b[34m\u001b[1mtrain: \u001b[0m/content/dataset/images/train/00002271.jpg: 4 duplicate labels removed\n",
            "\u001b[34m\u001b[1mtrain: \u001b[0m/content/dataset/images/train/00002273.jpg: 4 duplicate labels removed\n",
            "\u001b[34m\u001b[1mtrain: \u001b[0m/content/dataset/images/train/00002275.jpg: 4 duplicate labels removed\n",
            "\u001b[34m\u001b[1mtrain: \u001b[0m/content/dataset/images/train/00002276.jpg: 4 duplicate labels removed\n",
            "\u001b[34m\u001b[1mtrain: \u001b[0m/content/dataset/images/train/00002279.jpg: 4 duplicate labels removed\n",
            "\u001b[34m\u001b[1mtrain: \u001b[0m/content/dataset/images/train/00002280.jpg: 4 duplicate labels removed\n",
            "\u001b[34m\u001b[1mtrain: \u001b[0m/content/dataset/images/train/00002281.jpg: 4 duplicate labels removed\n",
            "\u001b[34m\u001b[1mtrain: \u001b[0m/content/dataset/images/train/00002282.jpg: 8 duplicate labels removed\n",
            "\u001b[34m\u001b[1mtrain: \u001b[0m/content/dataset/images/train/00002283.jpg: 4 duplicate labels removed\n",
            "\u001b[34m\u001b[1mtrain: \u001b[0m/content/dataset/images/train/00002286.jpg: 4 duplicate labels removed\n",
            "\u001b[34m\u001b[1mtrain: \u001b[0m/content/dataset/images/train/00002287.jpg: 4 duplicate labels removed\n",
            "\u001b[34m\u001b[1mtrain: \u001b[0m/content/dataset/images/train/00002293.jpg: 4 duplicate labels removed\n",
            "\u001b[34m\u001b[1mtrain: \u001b[0m/content/dataset/images/train/00002294.jpg: 4 duplicate labels removed\n",
            "\u001b[34m\u001b[1mtrain: \u001b[0m/content/dataset/images/train/00002295.jpg: 4 duplicate labels removed\n",
            "\u001b[34m\u001b[1mtrain: \u001b[0m/content/dataset/images/train/00002297.jpg: 8 duplicate labels removed\n",
            "\u001b[34m\u001b[1mtrain: \u001b[0m/content/dataset/images/train/00002301.jpg: 4 duplicate labels removed\n",
            "\u001b[34m\u001b[1mtrain: \u001b[0m/content/dataset/images/train/00002306.jpg: 4 duplicate labels removed\n",
            "\u001b[34m\u001b[1mtrain: \u001b[0m/content/dataset/images/train/00002307.jpg: 4 duplicate labels removed\n",
            "\u001b[34m\u001b[1mtrain: \u001b[0m/content/dataset/images/train/00002311.jpg: 4 duplicate labels removed\n",
            "\u001b[34m\u001b[1mtrain: \u001b[0m/content/dataset/images/train/00002312.jpg: 4 duplicate labels removed\n",
            "\u001b[34m\u001b[1mtrain: \u001b[0m/content/dataset/images/train/00002313.jpg: 4 duplicate labels removed\n",
            "\u001b[34m\u001b[1mtrain: \u001b[0m/content/dataset/images/train/00002314.jpg: 8 duplicate labels removed\n",
            "\u001b[34m\u001b[1mtrain: \u001b[0m/content/dataset/images/train/00002317.jpg: 4 duplicate labels removed\n",
            "\u001b[34m\u001b[1mtrain: \u001b[0m/content/dataset/images/train/00002318.jpg: 8 duplicate labels removed\n",
            "\u001b[34m\u001b[1mtrain: \u001b[0m/content/dataset/images/train/00002322.jpg: 4 duplicate labels removed\n",
            "\u001b[34m\u001b[1mtrain: \u001b[0m/content/dataset/images/train/00002323.jpg: 4 duplicate labels removed\n",
            "\u001b[34m\u001b[1mtrain: \u001b[0m/content/dataset/images/train/00002325.jpg: 4 duplicate labels removed\n",
            "\u001b[34m\u001b[1mtrain: \u001b[0m/content/dataset/images/train/00002334.jpg: 4 duplicate labels removed\n",
            "\u001b[34m\u001b[1mtrain: \u001b[0m/content/dataset/images/train/00002339.jpg: 4 duplicate labels removed\n",
            "\u001b[34m\u001b[1mtrain: \u001b[0m/content/dataset/images/train/00002341.jpg: 4 duplicate labels removed\n",
            "\u001b[34m\u001b[1mtrain: \u001b[0m/content/dataset/images/train/00002343.jpg: 12 duplicate labels removed\n",
            "\u001b[34m\u001b[1mtrain: \u001b[0m/content/dataset/images/train/00002348.jpg: 4 duplicate labels removed\n",
            "\u001b[34m\u001b[1mtrain: \u001b[0m/content/dataset/images/train/00002349.jpg: 4 duplicate labels removed\n",
            "\u001b[34m\u001b[1mtrain: \u001b[0m/content/dataset/images/train/00002351.jpg: 4 duplicate labels removed\n",
            "\u001b[34m\u001b[1mtrain: \u001b[0m/content/dataset/images/train/00002353.jpg: 4 duplicate labels removed\n",
            "\u001b[34m\u001b[1mtrain: \u001b[0m/content/dataset/images/train/00002354.jpg: 4 duplicate labels removed\n",
            "\u001b[34m\u001b[1mtrain: \u001b[0m/content/dataset/images/train/00002356.jpg: 4 duplicate labels removed\n",
            "\u001b[34m\u001b[1mtrain: \u001b[0m/content/dataset/images/train/00002357.jpg: 4 duplicate labels removed\n",
            "\u001b[34m\u001b[1mtrain: \u001b[0m/content/dataset/images/train/00002360.jpg: 4 duplicate labels removed\n",
            "\u001b[34m\u001b[1mtrain: \u001b[0m/content/dataset/images/train/00002364.jpg: 4 duplicate labels removed\n",
            "\u001b[34m\u001b[1mtrain: \u001b[0m/content/dataset/images/train/00002367.jpg: 4 duplicate labels removed\n",
            "\u001b[34m\u001b[1mtrain: \u001b[0m/content/dataset/images/train/00002373.jpg: 4 duplicate labels removed\n",
            "\u001b[34m\u001b[1mtrain: \u001b[0m/content/dataset/images/train/00002374.jpg: 8 duplicate labels removed\n",
            "\u001b[34m\u001b[1mtrain: \u001b[0m/content/dataset/images/train/00002375.jpg: 4 duplicate labels removed\n",
            "\u001b[34m\u001b[1mtrain: \u001b[0m/content/dataset/images/train/00002376.jpg: 4 duplicate labels removed\n",
            "\u001b[34m\u001b[1mtrain: \u001b[0m/content/dataset/images/train/00002380.jpg: 12 duplicate labels removed\n",
            "\u001b[34m\u001b[1mtrain: \u001b[0m/content/dataset/images/train/00002384.jpg: 4 duplicate labels removed\n",
            "\u001b[34m\u001b[1mtrain: \u001b[0m/content/dataset/images/train/00002385.jpg: 8 duplicate labels removed\n",
            "\u001b[34m\u001b[1mtrain: \u001b[0m/content/dataset/images/train/00002387.jpg: 4 duplicate labels removed\n",
            "\u001b[34m\u001b[1mtrain: \u001b[0m/content/dataset/images/train/00002391.jpg: 8 duplicate labels removed\n",
            "\u001b[34m\u001b[1mtrain: \u001b[0m/content/dataset/images/train/00002399.jpg: 4 duplicate labels removed\n",
            "\u001b[34m\u001b[1mtrain: \u001b[0m/content/dataset/images/train/00002403.jpg: 4 duplicate labels removed\n",
            "\u001b[34m\u001b[1mtrain: \u001b[0m/content/dataset/images/train/00002406.jpg: 4 duplicate labels removed\n",
            "\u001b[34m\u001b[1mtrain: \u001b[0m/content/dataset/images/train/00002411.jpg: 4 duplicate labels removed\n",
            "\u001b[34m\u001b[1mtrain: \u001b[0m/content/dataset/images/train/00002412.jpg: 12 duplicate labels removed\n",
            "\u001b[34m\u001b[1mtrain: \u001b[0m/content/dataset/images/train/00002413.jpg: 4 duplicate labels removed\n",
            "\u001b[34m\u001b[1mtrain: \u001b[0m/content/dataset/images/train/00002414.jpg: 4 duplicate labels removed\n",
            "\u001b[34m\u001b[1mtrain: \u001b[0m/content/dataset/images/train/00002415.jpg: 4 duplicate labels removed\n",
            "\u001b[34m\u001b[1mtrain: \u001b[0m/content/dataset/images/train/00002416.jpg: 8 duplicate labels removed\n",
            "\u001b[34m\u001b[1mtrain: \u001b[0m/content/dataset/images/train/00002418.jpg: 4 duplicate labels removed\n",
            "\u001b[34m\u001b[1mtrain: \u001b[0m/content/dataset/images/train/00002419.jpg: 4 duplicate labels removed\n",
            "\u001b[34m\u001b[1mtrain: \u001b[0m/content/dataset/images/train/00002420.jpg: 4 duplicate labels removed\n",
            "\u001b[34m\u001b[1mtrain: \u001b[0m/content/dataset/images/train/00002421.jpg: 12 duplicate labels removed\n",
            "\u001b[34m\u001b[1mtrain: \u001b[0m/content/dataset/images/train/00002422.jpg: 4 duplicate labels removed\n",
            "\u001b[34m\u001b[1mtrain: \u001b[0m/content/dataset/images/train/00002423.jpg: 4 duplicate labels removed\n",
            "\u001b[34m\u001b[1mtrain: \u001b[0m/content/dataset/images/train/00002428.jpg: 4 duplicate labels removed\n",
            "\u001b[34m\u001b[1mtrain: \u001b[0m/content/dataset/images/train/00002429.jpg: 4 duplicate labels removed\n",
            "\u001b[34m\u001b[1mtrain: \u001b[0m/content/dataset/images/train/00002430.jpg: 4 duplicate labels removed\n",
            "\u001b[34m\u001b[1mtrain: \u001b[0m/content/dataset/images/train/00002437.jpg: 4 duplicate labels removed\n",
            "\u001b[34m\u001b[1mtrain: \u001b[0m/content/dataset/images/train/00002438.jpg: 4 duplicate labels removed\n",
            "\u001b[34m\u001b[1mtrain: \u001b[0m/content/dataset/images/train/00002440.jpg: 4 duplicate labels removed\n",
            "\u001b[34m\u001b[1mtrain: \u001b[0m/content/dataset/images/train/00002441.jpg: 4 duplicate labels removed\n",
            "\u001b[34m\u001b[1mtrain: \u001b[0m/content/dataset/images/train/00002445.jpg: 4 duplicate labels removed\n",
            "\u001b[34m\u001b[1mtrain: \u001b[0m/content/dataset/images/train/00002446.jpg: 4 duplicate labels removed\n",
            "\u001b[34m\u001b[1mtrain: \u001b[0m/content/dataset/images/train/00002448.jpg: 8 duplicate labels removed\n",
            "\u001b[34m\u001b[1mtrain: \u001b[0m/content/dataset/images/train/00002449.jpg: 4 duplicate labels removed\n",
            "\u001b[34m\u001b[1mtrain: \u001b[0m/content/dataset/images/train/00002451.jpg: 4 duplicate labels removed\n",
            "\u001b[34m\u001b[1mtrain: \u001b[0m/content/dataset/images/train/00002452.jpg: 4 duplicate labels removed\n",
            "\u001b[34m\u001b[1mtrain: \u001b[0m/content/dataset/images/train/00002454.jpg: 4 duplicate labels removed\n",
            "\u001b[34m\u001b[1mtrain: \u001b[0m/content/dataset/images/train/00002456.jpg: 4 duplicate labels removed\n",
            "\u001b[34m\u001b[1mtrain: \u001b[0m/content/dataset/images/train/00002459.jpg: 4 duplicate labels removed\n",
            "\u001b[34m\u001b[1mtrain: \u001b[0m/content/dataset/images/train/00002462.jpg: 4 duplicate labels removed\n",
            "\u001b[34m\u001b[1mtrain: \u001b[0m/content/dataset/images/train/00002466.jpg: 4 duplicate labels removed\n",
            "\u001b[34m\u001b[1mtrain: \u001b[0m/content/dataset/images/train/00002468.jpg: 4 duplicate labels removed\n",
            "\u001b[34m\u001b[1mtrain: \u001b[0m/content/dataset/images/train/00002471.jpg: 4 duplicate labels removed\n",
            "\u001b[34m\u001b[1mtrain: \u001b[0m/content/dataset/images/train/00002472.jpg: 8 duplicate labels removed\n",
            "\u001b[34m\u001b[1mtrain: \u001b[0m/content/dataset/images/train/00002474.jpg: 8 duplicate labels removed\n",
            "\u001b[34m\u001b[1mtrain: \u001b[0m/content/dataset/images/train/00002475.jpg: 4 duplicate labels removed\n",
            "\u001b[34m\u001b[1mtrain: \u001b[0m/content/dataset/images/train/00002477.jpg: 4 duplicate labels removed\n",
            "\u001b[34m\u001b[1mtrain: \u001b[0m/content/dataset/images/train/00002478.jpg: 4 duplicate labels removed\n",
            "\u001b[34m\u001b[1mtrain: \u001b[0m/content/dataset/images/train/00002481.jpg: 4 duplicate labels removed\n",
            "\u001b[34m\u001b[1mtrain: \u001b[0m/content/dataset/images/train/00002482.jpg: 8 duplicate labels removed\n",
            "\u001b[34m\u001b[1mtrain: \u001b[0m/content/dataset/images/train/00002483.jpg: 4 duplicate labels removed\n",
            "\u001b[34m\u001b[1mtrain: \u001b[0m/content/dataset/images/train/00002485.jpg: 12 duplicate labels removed\n",
            "\u001b[34m\u001b[1mtrain: \u001b[0m/content/dataset/images/train/00002486.jpg: 4 duplicate labels removed\n",
            "\u001b[34m\u001b[1mtrain: \u001b[0m/content/dataset/images/train/00002489.jpg: 4 duplicate labels removed\n",
            "\u001b[34m\u001b[1mtrain: \u001b[0m/content/dataset/images/train/00002490.jpg: 4 duplicate labels removed\n",
            "\u001b[34m\u001b[1mtrain: \u001b[0m/content/dataset/images/train/00002491.jpg: 8 duplicate labels removed\n",
            "\u001b[34m\u001b[1mtrain: \u001b[0m/content/dataset/images/train/00002493.jpg: 4 duplicate labels removed\n",
            "\u001b[34m\u001b[1mtrain: \u001b[0m/content/dataset/images/train/00002495.jpg: 4 duplicate labels removed\n",
            "\u001b[34m\u001b[1mtrain: \u001b[0m/content/dataset/images/train/00002496.jpg: 4 duplicate labels removed\n",
            "\u001b[34m\u001b[1mtrain: \u001b[0m/content/dataset/images/train/00002497.jpg: 4 duplicate labels removed\n",
            "\u001b[34m\u001b[1mtrain: \u001b[0m/content/dataset/images/train/00002509.jpg: 4 duplicate labels removed\n",
            "\u001b[34m\u001b[1mtrain: \u001b[0m/content/dataset/images/train/00002511.jpg: 4 duplicate labels removed\n",
            "\u001b[34m\u001b[1mtrain: \u001b[0m/content/dataset/images/train/00002512.jpg: 4 duplicate labels removed\n",
            "\u001b[34m\u001b[1mtrain: \u001b[0m/content/dataset/images/train/00002516.jpg: 4 duplicate labels removed\n",
            "\u001b[34m\u001b[1mtrain: \u001b[0m/content/dataset/images/train/00002517.jpg: 20 duplicate labels removed\n",
            "\u001b[34m\u001b[1mtrain: \u001b[0m/content/dataset/images/train/00002518.jpg: 4 duplicate labels removed\n",
            "\u001b[34m\u001b[1mtrain: \u001b[0m/content/dataset/images/train/00002521.jpg: 4 duplicate labels removed\n",
            "\u001b[34m\u001b[1mtrain: \u001b[0m/content/dataset/images/train/00002525.jpg: 4 duplicate labels removed\n",
            "\u001b[34m\u001b[1mtrain: \u001b[0m/content/dataset/images/train/00002529.jpg: 4 duplicate labels removed\n",
            "\u001b[34m\u001b[1mtrain: \u001b[0m/content/dataset/images/train/00002535.jpg: 4 duplicate labels removed\n",
            "\u001b[34m\u001b[1mtrain: \u001b[0m/content/dataset/images/train/00002536.jpg: 4 duplicate labels removed\n",
            "\u001b[34m\u001b[1mtrain: \u001b[0m/content/dataset/images/train/00002542.jpg: 4 duplicate labels removed\n",
            "\u001b[34m\u001b[1mtrain: \u001b[0m/content/dataset/images/train/00002544.jpg: 4 duplicate labels removed\n",
            "\u001b[34m\u001b[1mtrain: \u001b[0m/content/dataset/images/train/00002545.jpg: 4 duplicate labels removed\n",
            "\u001b[34m\u001b[1mtrain: \u001b[0m/content/dataset/images/train/00002547.jpg: 4 duplicate labels removed\n",
            "\u001b[34m\u001b[1mtrain: \u001b[0m/content/dataset/images/train/00002548.jpg: 4 duplicate labels removed\n",
            "\u001b[34m\u001b[1mtrain: \u001b[0m/content/dataset/images/train/00002553.jpg: 4 duplicate labels removed\n",
            "\u001b[34m\u001b[1mtrain: \u001b[0m/content/dataset/images/train/00002555.jpg: 24 duplicate labels removed\n",
            "\u001b[34m\u001b[1mtrain: \u001b[0m/content/dataset/images/train/00002557.jpg: 4 duplicate labels removed\n",
            "\u001b[34m\u001b[1mtrain: \u001b[0m/content/dataset/images/train/00002560.jpg: 4 duplicate labels removed\n",
            "\u001b[34m\u001b[1mtrain: \u001b[0m/content/dataset/images/train/00002564.jpg: 4 duplicate labels removed\n",
            "\u001b[34m\u001b[1mtrain: \u001b[0m/content/dataset/images/train/00002571.jpg: 8 duplicate labels removed\n",
            "\u001b[34m\u001b[1mtrain: \u001b[0m/content/dataset/images/train/00002572.jpg: 4 duplicate labels removed\n",
            "\u001b[34m\u001b[1mtrain: \u001b[0m/content/dataset/images/train/00002573.jpg: 8 duplicate labels removed\n",
            "\u001b[34m\u001b[1mtrain: \u001b[0m/content/dataset/images/train/00002574.jpg: 8 duplicate labels removed\n",
            "\u001b[34m\u001b[1mtrain: \u001b[0m/content/dataset/images/train/00002577.jpg: 4 duplicate labels removed\n",
            "\u001b[34m\u001b[1mtrain: \u001b[0m/content/dataset/images/train/00002578.jpg: 4 duplicate labels removed\n",
            "\u001b[34m\u001b[1mtrain: \u001b[0m/content/dataset/images/train/00002579.jpg: 8 duplicate labels removed\n",
            "\u001b[34m\u001b[1mtrain: \u001b[0m/content/dataset/images/train/00002581.jpg: 4 duplicate labels removed\n",
            "\u001b[34m\u001b[1mtrain: \u001b[0m/content/dataset/images/train/00002584.jpg: 8 duplicate labels removed\n",
            "\u001b[34m\u001b[1mtrain: \u001b[0m/content/dataset/images/train/00002587.jpg: 4 duplicate labels removed\n",
            "\u001b[34m\u001b[1mtrain: \u001b[0m/content/dataset/images/train/00002588.jpg: 8 duplicate labels removed\n",
            "\u001b[34m\u001b[1mtrain: \u001b[0m/content/dataset/images/train/00002592.jpg: 4 duplicate labels removed\n",
            "\u001b[34m\u001b[1mtrain: \u001b[0m/content/dataset/images/train/00002593.jpg: 4 duplicate labels removed\n",
            "\u001b[34m\u001b[1mtrain: \u001b[0m/content/dataset/images/train/00002594.jpg: 4 duplicate labels removed\n",
            "\u001b[34m\u001b[1mtrain: \u001b[0m/content/dataset/images/train/00002595.jpg: 4 duplicate labels removed\n",
            "\u001b[34m\u001b[1mtrain: \u001b[0m/content/dataset/images/train/00002596.jpg: 4 duplicate labels removed\n",
            "\u001b[34m\u001b[1mtrain: \u001b[0m/content/dataset/images/train/00002600.jpg: 8 duplicate labels removed\n",
            "\u001b[34m\u001b[1mtrain: \u001b[0m/content/dataset/images/train/00002602.jpg: 4 duplicate labels removed\n",
            "\u001b[34m\u001b[1mtrain: \u001b[0m/content/dataset/images/train/00002603.jpg: 8 duplicate labels removed\n",
            "\u001b[34m\u001b[1mtrain: \u001b[0m/content/dataset/images/train/00002605.jpg: 4 duplicate labels removed\n",
            "\u001b[34m\u001b[1mtrain: \u001b[0m/content/dataset/images/train/00002607.jpg: 12 duplicate labels removed\n",
            "\u001b[34m\u001b[1mtrain: \u001b[0m/content/dataset/images/train/00002608.jpg: 12 duplicate labels removed\n",
            "\u001b[34m\u001b[1mtrain: \u001b[0m/content/dataset/images/train/00002610.jpg: 4 duplicate labels removed\n",
            "\u001b[34m\u001b[1mtrain: \u001b[0m/content/dataset/images/train/00002611.jpg: 8 duplicate labels removed\n",
            "\u001b[34m\u001b[1mtrain: \u001b[0m/content/dataset/images/train/00002615.jpg: 4 duplicate labels removed\n",
            "\u001b[34m\u001b[1mtrain: \u001b[0m/content/dataset/images/train/00002617.jpg: 4 duplicate labels removed\n",
            "\u001b[34m\u001b[1mtrain: \u001b[0m/content/dataset/images/train/00002618.jpg: 4 duplicate labels removed\n",
            "\u001b[34m\u001b[1mtrain: \u001b[0m/content/dataset/images/train/00002619.jpg: 8 duplicate labels removed\n",
            "\u001b[34m\u001b[1mtrain: \u001b[0m/content/dataset/images/train/00002620.jpg: 8 duplicate labels removed\n",
            "\u001b[34m\u001b[1mtrain: \u001b[0m/content/dataset/images/train/00002621.jpg: 8 duplicate labels removed\n",
            "\u001b[34m\u001b[1mtrain: \u001b[0m/content/dataset/images/train/00002622.jpg: 8 duplicate labels removed\n",
            "\u001b[34m\u001b[1mtrain: \u001b[0m/content/dataset/images/train/00002625.jpg: 8 duplicate labels removed\n",
            "\u001b[34m\u001b[1mtrain: \u001b[0m/content/dataset/images/train/00002626.jpg: 4 duplicate labels removed\n",
            "\u001b[34m\u001b[1mtrain: \u001b[0m/content/dataset/images/train/00002628.jpg: 4 duplicate labels removed\n",
            "\u001b[34m\u001b[1mtrain: \u001b[0m/content/dataset/images/train/00002633.jpg: 12 duplicate labels removed\n",
            "\u001b[34m\u001b[1mtrain: \u001b[0m/content/dataset/images/train/00002634.jpg: 8 duplicate labels removed\n",
            "\u001b[34m\u001b[1mtrain: \u001b[0m/content/dataset/images/train/00002636.jpg: 4 duplicate labels removed\n",
            "\u001b[34m\u001b[1mtrain: \u001b[0m/content/dataset/images/train/00002639.jpg: 4 duplicate labels removed\n",
            "\u001b[34m\u001b[1mtrain: \u001b[0m/content/dataset/images/train/00002640.jpg: 4 duplicate labels removed\n",
            "\u001b[34m\u001b[1mtrain: \u001b[0m/content/dataset/images/train/00002641.jpg: 4 duplicate labels removed\n",
            "\u001b[34m\u001b[1mtrain: \u001b[0m/content/dataset/images/train/00002645.jpg: 4 duplicate labels removed\n",
            "\u001b[34m\u001b[1mtrain: \u001b[0m/content/dataset/images/train/00002647.jpg: 4 duplicate labels removed\n",
            "\u001b[34m\u001b[1mtrain: \u001b[0m/content/dataset/images/train/00002650.jpg: 4 duplicate labels removed\n",
            "\u001b[34m\u001b[1mtrain: \u001b[0m/content/dataset/images/train/00002653.jpg: 4 duplicate labels removed\n",
            "\u001b[34m\u001b[1mtrain: \u001b[0m/content/dataset/images/train/00002654.jpg: 4 duplicate labels removed\n",
            "\u001b[34m\u001b[1mtrain: \u001b[0m/content/dataset/images/train/00002655.jpg: 20 duplicate labels removed\n",
            "\u001b[34m\u001b[1mtrain: \u001b[0m/content/dataset/images/train/00002658.jpg: 4 duplicate labels removed\n",
            "\u001b[34m\u001b[1mtrain: \u001b[0m/content/dataset/images/train/00002659.jpg: 4 duplicate labels removed\n",
            "\u001b[34m\u001b[1mtrain: \u001b[0m/content/dataset/images/train/00002663.jpg: 8 duplicate labels removed\n",
            "\u001b[34m\u001b[1mtrain: \u001b[0m/content/dataset/images/train/00002667.jpg: 4 duplicate labels removed\n",
            "\u001b[34m\u001b[1mtrain: \u001b[0m/content/dataset/images/train/00002669.jpg: 20 duplicate labels removed\n",
            "\u001b[34m\u001b[1mtrain: \u001b[0m/content/dataset/images/train/00002670.jpg: 4 duplicate labels removed\n",
            "\u001b[34m\u001b[1mtrain: \u001b[0m/content/dataset/images/train/00002672.jpg: 4 duplicate labels removed\n",
            "\u001b[34m\u001b[1mtrain: \u001b[0m/content/dataset/images/train/00002674.jpg: 8 duplicate labels removed\n",
            "\u001b[34m\u001b[1mtrain: \u001b[0m/content/dataset/images/train/00002675.jpg: 4 duplicate labels removed\n",
            "\u001b[34m\u001b[1mtrain: \u001b[0m/content/dataset/images/train/00002676.jpg: 4 duplicate labels removed\n",
            "\u001b[34m\u001b[1mtrain: \u001b[0m/content/dataset/images/train/00002677.jpg: 4 duplicate labels removed\n",
            "\u001b[34m\u001b[1mtrain: \u001b[0m/content/dataset/images/train/00002678.jpg: 8 duplicate labels removed\n",
            "\u001b[34m\u001b[1mtrain: \u001b[0m/content/dataset/images/train/00002679.jpg: 4 duplicate labels removed\n",
            "\u001b[34m\u001b[1mtrain: \u001b[0m/content/dataset/images/train/00002680.jpg: 4 duplicate labels removed\n",
            "\u001b[34m\u001b[1mtrain: \u001b[0m/content/dataset/images/train/00002681.jpg: 4 duplicate labels removed\n",
            "\u001b[34m\u001b[1mtrain: \u001b[0m/content/dataset/images/train/00002682.jpg: 4 duplicate labels removed\n",
            "\u001b[34m\u001b[1mtrain: \u001b[0m/content/dataset/images/train/00002683.jpg: 8 duplicate labels removed\n",
            "\u001b[34m\u001b[1mtrain: \u001b[0m/content/dataset/images/train/00002684.jpg: 8 duplicate labels removed\n",
            "\u001b[34m\u001b[1mtrain: \u001b[0m/content/dataset/images/train/00002685.jpg: 8 duplicate labels removed\n",
            "\u001b[34m\u001b[1mtrain: \u001b[0m/content/dataset/images/train/00002687.jpg: 12 duplicate labels removed\n",
            "\u001b[34m\u001b[1mtrain: \u001b[0m/content/dataset/images/train/00002689.jpg: 12 duplicate labels removed\n",
            "\u001b[34m\u001b[1mtrain: \u001b[0m/content/dataset/images/train/00002692.jpg: 8 duplicate labels removed\n",
            "\u001b[34m\u001b[1mtrain: \u001b[0m/content/dataset/images/train/00002696.jpg: 4 duplicate labels removed\n",
            "\u001b[34m\u001b[1mtrain: \u001b[0m/content/dataset/images/train/00002698.jpg: 4 duplicate labels removed\n",
            "\u001b[34m\u001b[1mtrain: \u001b[0m/content/dataset/images/train/00002701.jpg: 4 duplicate labels removed\n",
            "\u001b[34m\u001b[1mtrain: \u001b[0m/content/dataset/images/train/00002705.jpg: 4 duplicate labels removed\n",
            "\u001b[34m\u001b[1mtrain: \u001b[0m/content/dataset/images/train/00002706.jpg: 20 duplicate labels removed\n",
            "\u001b[34m\u001b[1mtrain: \u001b[0m/content/dataset/images/train/00002707.jpg: 4 duplicate labels removed\n",
            "\u001b[34m\u001b[1mtrain: \u001b[0m/content/dataset/images/train/00002708.jpg: 12 duplicate labels removed\n",
            "\u001b[34m\u001b[1mtrain: \u001b[0m/content/dataset/images/train/00002710.jpg: 16 duplicate labels removed\n",
            "\u001b[34m\u001b[1mtrain: \u001b[0m/content/dataset/images/train/00002711.jpg: 4 duplicate labels removed\n",
            "\u001b[34m\u001b[1mtrain: \u001b[0m/content/dataset/images/train/00002712.jpg: 4 duplicate labels removed\n",
            "\u001b[34m\u001b[1mtrain: \u001b[0m/content/dataset/images/train/00002713.jpg: 8 duplicate labels removed\n",
            "\u001b[34m\u001b[1mtrain: \u001b[0m/content/dataset/images/train/00002714.jpg: 4 duplicate labels removed\n",
            "\u001b[34m\u001b[1mtrain: \u001b[0m/content/dataset/images/train/00002715.jpg: 12 duplicate labels removed\n",
            "\u001b[34m\u001b[1mtrain: \u001b[0m/content/dataset/images/train/00002718.jpg: 4 duplicate labels removed\n",
            "\u001b[34m\u001b[1mtrain: \u001b[0m/content/dataset/images/train/00002723.jpg: 4 duplicate labels removed\n",
            "\u001b[34m\u001b[1mtrain: \u001b[0m/content/dataset/images/train/00002725.jpg: 4 duplicate labels removed\n",
            "\u001b[34m\u001b[1mtrain: \u001b[0m/content/dataset/images/train/00002726.jpg: 12 duplicate labels removed\n",
            "\u001b[34m\u001b[1mtrain: \u001b[0m/content/dataset/images/train/00002727.jpg: 8 duplicate labels removed\n",
            "\u001b[34m\u001b[1mtrain: \u001b[0m/content/dataset/images/train/00002728.jpg: 4 duplicate labels removed\n",
            "\u001b[34m\u001b[1mtrain: \u001b[0m/content/dataset/images/train/00002730.jpg: 4 duplicate labels removed\n",
            "\u001b[34m\u001b[1mtrain: \u001b[0m/content/dataset/images/train/00002735.jpg: 4 duplicate labels removed\n",
            "\u001b[34m\u001b[1mtrain: \u001b[0m/content/dataset/images/train/00002736.jpg: 24 duplicate labels removed\n",
            "\u001b[34m\u001b[1mtrain: \u001b[0m/content/dataset/images/train/00002737.jpg: 12 duplicate labels removed\n",
            "\u001b[34m\u001b[1mtrain: \u001b[0m/content/dataset/images/train/00002739.jpg: 4 duplicate labels removed\n",
            "\u001b[34m\u001b[1mtrain: \u001b[0m/content/dataset/images/train/00002740.jpg: 4 duplicate labels removed\n",
            "\u001b[34m\u001b[1mtrain: \u001b[0m/content/dataset/images/train/00002743.jpg: 4 duplicate labels removed\n",
            "\u001b[34m\u001b[1mtrain: \u001b[0m/content/dataset/images/train/00002744.jpg: 4 duplicate labels removed\n",
            "\u001b[34m\u001b[1mtrain: \u001b[0m/content/dataset/images/train/00002745.jpg: 8 duplicate labels removed\n",
            "\u001b[34m\u001b[1mtrain: \u001b[0m/content/dataset/images/train/00002748.jpg: 4 duplicate labels removed\n",
            "\u001b[34m\u001b[1mtrain: \u001b[0m/content/dataset/images/train/00002751.jpg: 4 duplicate labels removed\n",
            "\u001b[34m\u001b[1mtrain: \u001b[0m/content/dataset/images/train/00002753.jpg: 12 duplicate labels removed\n",
            "\u001b[34m\u001b[1mtrain: \u001b[0m/content/dataset/images/train/00002756.jpg: 20 duplicate labels removed\n",
            "\u001b[34m\u001b[1mtrain: \u001b[0m/content/dataset/images/train/00002758.jpg: 4 duplicate labels removed\n",
            "\u001b[34m\u001b[1mtrain: \u001b[0m/content/dataset/images/train/00002762.jpg: 4 duplicate labels removed\n",
            "\u001b[34m\u001b[1mtrain: \u001b[0m/content/dataset/images/train/00002763.jpg: 4 duplicate labels removed\n",
            "\u001b[34m\u001b[1mtrain: \u001b[0m/content/dataset/images/train/00002766.jpg: 4 duplicate labels removed\n",
            "\u001b[34m\u001b[1mtrain: \u001b[0m/content/dataset/images/train/00002767.jpg: 4 duplicate labels removed\n",
            "\u001b[34m\u001b[1mtrain: \u001b[0m/content/dataset/images/train/00002768.jpg: 4 duplicate labels removed\n",
            "\u001b[34m\u001b[1mtrain: \u001b[0m/content/dataset/images/train/00002769.jpg: 4 duplicate labels removed\n",
            "\u001b[34m\u001b[1mtrain: \u001b[0m/content/dataset/images/train/00002771.jpg: 4 duplicate labels removed\n",
            "\u001b[34m\u001b[1mtrain: \u001b[0m/content/dataset/images/train/00002772.jpg: 4 duplicate labels removed\n",
            "\u001b[34m\u001b[1mtrain: \u001b[0m/content/dataset/images/train/00002775.jpg: 4 duplicate labels removed\n",
            "\u001b[34m\u001b[1mtrain: \u001b[0m/content/dataset/images/train/00002776.jpg: 8 duplicate labels removed\n",
            "\u001b[34m\u001b[1mtrain: \u001b[0m/content/dataset/images/train/00002777.jpg: 4 duplicate labels removed\n",
            "\u001b[34m\u001b[1mtrain: \u001b[0m/content/dataset/images/train/00002781.jpg: 4 duplicate labels removed\n",
            "\u001b[34m\u001b[1mtrain: \u001b[0m/content/dataset/images/train/00002782.jpg: 4 duplicate labels removed\n",
            "\u001b[34m\u001b[1mtrain: \u001b[0m/content/dataset/images/train/00002784.jpg: 12 duplicate labels removed\n",
            "\u001b[34m\u001b[1mtrain: \u001b[0m/content/dataset/images/train/00002787.jpg: 8 duplicate labels removed\n",
            "\u001b[34m\u001b[1mtrain: \u001b[0m/content/dataset/images/train/00002788.jpg: 4 duplicate labels removed\n",
            "\u001b[34m\u001b[1mtrain: \u001b[0m/content/dataset/images/train/00002795.jpg: 4 duplicate labels removed\n",
            "\u001b[34m\u001b[1mtrain: \u001b[0m/content/dataset/images/train/00002797.jpg: 4 duplicate labels removed\n",
            "\u001b[34m\u001b[1mtrain: \u001b[0m/content/dataset/images/train/00002798.jpg: 16 duplicate labels removed\n",
            "\u001b[34m\u001b[1mtrain: \u001b[0m/content/dataset/images/train/00002799.jpg: 4 duplicate labels removed\n",
            "\u001b[34m\u001b[1mtrain: \u001b[0m/content/dataset/images/train/00002800.jpg: 16 duplicate labels removed\n",
            "\u001b[34m\u001b[1mtrain: \u001b[0m/content/dataset/images/train/00002801.jpg: 8 duplicate labels removed\n",
            "\u001b[34m\u001b[1mtrain: \u001b[0m/content/dataset/images/train/00002802.jpg: 20 duplicate labels removed\n",
            "\u001b[34m\u001b[1mtrain: \u001b[0m/content/dataset/images/train/00002803.jpg: 4 duplicate labels removed\n",
            "\u001b[34m\u001b[1mtrain: \u001b[0m/content/dataset/images/train/00002804.jpg: 12 duplicate labels removed\n",
            "\u001b[34m\u001b[1mtrain: \u001b[0m/content/dataset/images/train/00002805.jpg: 8 duplicate labels removed\n",
            "\u001b[34m\u001b[1mtrain: \u001b[0m/content/dataset/images/train/00002807.jpg: 8 duplicate labels removed\n",
            "\u001b[34m\u001b[1mtrain: \u001b[0m/content/dataset/images/train/00002808.jpg: 4 duplicate labels removed\n",
            "\u001b[34m\u001b[1mtrain: \u001b[0m/content/dataset/images/train/00002810.jpg: 4 duplicate labels removed\n",
            "\u001b[34m\u001b[1mtrain: \u001b[0m/content/dataset/images/train/00002811.jpg: 8 duplicate labels removed\n",
            "\u001b[34m\u001b[1mtrain: \u001b[0m/content/dataset/images/train/00002814.jpg: 12 duplicate labels removed\n",
            "\u001b[34m\u001b[1mtrain: \u001b[0m/content/dataset/images/train/00002816.jpg: 4 duplicate labels removed\n",
            "\u001b[34m\u001b[1mtrain: \u001b[0m/content/dataset/images/train/00002817.jpg: 12 duplicate labels removed\n",
            "\u001b[34m\u001b[1mtrain: \u001b[0m/content/dataset/images/train/00002821.jpg: 8 duplicate labels removed\n",
            "\u001b[34m\u001b[1mtrain: \u001b[0m/content/dataset/images/train/00002823.jpg: 16 duplicate labels removed\n",
            "\u001b[34m\u001b[1mtrain: \u001b[0m/content/dataset/images/train/00002825.jpg: 4 duplicate labels removed\n",
            "\u001b[34m\u001b[1mtrain: \u001b[0m/content/dataset/images/train/00002826.jpg: 4 duplicate labels removed\n",
            "\u001b[34m\u001b[1mtrain: \u001b[0m/content/dataset/images/train/00002827.jpg: 4 duplicate labels removed\n",
            "\u001b[34m\u001b[1mtrain: \u001b[0m/content/dataset/images/train/00002828.jpg: 4 duplicate labels removed\n",
            "\u001b[34m\u001b[1mtrain: \u001b[0m/content/dataset/images/train/00002829.jpg: 4 duplicate labels removed\n",
            "\u001b[34m\u001b[1mtrain: \u001b[0m/content/dataset/images/train/00002830.jpg: 12 duplicate labels removed\n",
            "\u001b[34m\u001b[1mtrain: \u001b[0m/content/dataset/images/train/00002836.jpg: 4 duplicate labels removed\n",
            "\u001b[34m\u001b[1mtrain: \u001b[0m/content/dataset/images/train/00002837.jpg: 4 duplicate labels removed\n",
            "\u001b[34m\u001b[1mtrain: \u001b[0m/content/dataset/images/train/00002839.jpg: 4 duplicate labels removed\n",
            "\u001b[34m\u001b[1mtrain: \u001b[0m/content/dataset/images/train/00002842.jpg: 12 duplicate labels removed\n",
            "\u001b[34m\u001b[1mtrain: \u001b[0m/content/dataset/images/train/00002843.jpg: 8 duplicate labels removed\n",
            "\u001b[34m\u001b[1mtrain: \u001b[0m/content/dataset/images/train/00002845.jpg: 4 duplicate labels removed\n",
            "\u001b[34m\u001b[1mtrain: \u001b[0m/content/dataset/images/train/00002846.jpg: 4 duplicate labels removed\n",
            "\u001b[34m\u001b[1mtrain: \u001b[0m/content/dataset/images/train/00002848.jpg: 4 duplicate labels removed\n",
            "\u001b[34m\u001b[1mtrain: \u001b[0m/content/dataset/images/train/00002850.jpg: 4 duplicate labels removed\n",
            "\u001b[34m\u001b[1mtrain: \u001b[0m/content/dataset/images/train/00002851.jpg: 4 duplicate labels removed\n",
            "\u001b[34m\u001b[1mtrain: \u001b[0m/content/dataset/images/train/00002853.jpg: 12 duplicate labels removed\n",
            "\u001b[34m\u001b[1mtrain: \u001b[0m/content/dataset/images/train/00002856.jpg: 4 duplicate labels removed\n",
            "\u001b[34m\u001b[1mtrain: \u001b[0m/content/dataset/images/train/00002857.jpg: 20 duplicate labels removed\n",
            "\u001b[34m\u001b[1mtrain: \u001b[0m/content/dataset/images/train/00002858.jpg: 4 duplicate labels removed\n",
            "\u001b[34m\u001b[1mtrain: \u001b[0m/content/dataset/images/train/00002860.jpg: 8 duplicate labels removed\n",
            "\u001b[34m\u001b[1mtrain: \u001b[0m/content/dataset/images/train/00002866.jpg: 12 duplicate labels removed\n",
            "\u001b[34m\u001b[1mtrain: \u001b[0m/content/dataset/images/train/00002868.jpg: 4 duplicate labels removed\n",
            "\u001b[34m\u001b[1mtrain: \u001b[0m/content/dataset/images/train/00002871.jpg: 4 duplicate labels removed\n",
            "\u001b[34m\u001b[1mtrain: \u001b[0m/content/dataset/images/train/00002872.jpg: 4 duplicate labels removed\n",
            "\u001b[34m\u001b[1mtrain: \u001b[0m/content/dataset/images/train/00002875.jpg: 4 duplicate labels removed\n",
            "\u001b[34m\u001b[1mtrain: \u001b[0m/content/dataset/images/train/00002876.jpg: 8 duplicate labels removed\n",
            "\u001b[34m\u001b[1mtrain: \u001b[0m/content/dataset/images/train/00002877.jpg: 8 duplicate labels removed\n",
            "\u001b[34m\u001b[1mtrain: \u001b[0m/content/dataset/images/train/00002878.jpg: 4 duplicate labels removed\n",
            "\u001b[34m\u001b[1mtrain: \u001b[0m/content/dataset/images/train/00002884.jpg: 16 duplicate labels removed\n",
            "\u001b[34m\u001b[1mtrain: \u001b[0m/content/dataset/images/train/00002885.jpg: 20 duplicate labels removed\n",
            "\u001b[34m\u001b[1mtrain: \u001b[0m/content/dataset/images/train/00002887.jpg: 12 duplicate labels removed\n",
            "\u001b[34m\u001b[1mtrain: \u001b[0m/content/dataset/images/train/00002890.jpg: 4 duplicate labels removed\n",
            "\u001b[34m\u001b[1mtrain: \u001b[0m/content/dataset/images/train/00002891.jpg: 4 duplicate labels removed\n",
            "\u001b[34m\u001b[1mtrain: \u001b[0m/content/dataset/images/train/00002893.jpg: 8 duplicate labels removed\n",
            "\u001b[34m\u001b[1mtrain: \u001b[0m/content/dataset/images/train/00002896.jpg: 8 duplicate labels removed\n",
            "\u001b[34m\u001b[1mtrain: \u001b[0m/content/dataset/images/train/00002898.jpg: 4 duplicate labels removed\n",
            "\u001b[34m\u001b[1mtrain: \u001b[0m/content/dataset/images/train/00002899.jpg: 4 duplicate labels removed\n",
            "\u001b[34m\u001b[1mtrain: \u001b[0m/content/dataset/images/train/00002902.jpg: 4 duplicate labels removed\n",
            "\u001b[34m\u001b[1mtrain: \u001b[0m/content/dataset/images/train/00002903.jpg: 4 duplicate labels removed\n",
            "\u001b[34m\u001b[1mtrain: \u001b[0m/content/dataset/images/train/00002908.jpg: 4 duplicate labels removed\n",
            "\u001b[34m\u001b[1mtrain: \u001b[0m/content/dataset/images/train/00002909.jpg: 4 duplicate labels removed\n",
            "\u001b[34m\u001b[1mtrain: \u001b[0m/content/dataset/images/train/00002910.jpg: 16 duplicate labels removed\n",
            "\u001b[34m\u001b[1mtrain: \u001b[0m/content/dataset/images/train/00002911.jpg: 4 duplicate labels removed\n",
            "\u001b[34m\u001b[1mtrain: \u001b[0m/content/dataset/images/train/00002916.jpg: 8 duplicate labels removed\n",
            "\u001b[34m\u001b[1mtrain: \u001b[0m/content/dataset/images/train/00002919.jpg: 16 duplicate labels removed\n",
            "\u001b[34m\u001b[1mtrain: \u001b[0m/content/dataset/images/train/00002921.jpg: 4 duplicate labels removed\n",
            "\u001b[34m\u001b[1mtrain: \u001b[0m/content/dataset/images/train/00002923.jpg: 4 duplicate labels removed\n",
            "\u001b[34m\u001b[1mtrain: \u001b[0m/content/dataset/images/train/00002926.jpg: 4 duplicate labels removed\n",
            "\u001b[34m\u001b[1mtrain: \u001b[0m/content/dataset/images/train/00002928.jpg: 4 duplicate labels removed\n",
            "\u001b[34m\u001b[1mtrain: \u001b[0m/content/dataset/images/train/00002930.jpg: 4 duplicate labels removed\n",
            "\u001b[34m\u001b[1mtrain: \u001b[0m/content/dataset/images/train/00002931.jpg: 4 duplicate labels removed\n",
            "\u001b[34m\u001b[1mtrain: \u001b[0m/content/dataset/images/train/00002932.jpg: 8 duplicate labels removed\n",
            "\u001b[34m\u001b[1mtrain: \u001b[0m/content/dataset/images/train/00002934.jpg: 12 duplicate labels removed\n",
            "\u001b[34m\u001b[1mtrain: \u001b[0m/content/dataset/images/train/00002937.jpg: 8 duplicate labels removed\n",
            "\u001b[34m\u001b[1mtrain: \u001b[0m/content/dataset/images/train/00002938.jpg: 16 duplicate labels removed\n",
            "\u001b[34m\u001b[1mtrain: \u001b[0m/content/dataset/images/train/00002939.jpg: 4 duplicate labels removed\n",
            "\u001b[34m\u001b[1mtrain: \u001b[0m/content/dataset/images/train/00002940.jpg: 8 duplicate labels removed\n",
            "\u001b[34m\u001b[1mtrain: \u001b[0m/content/dataset/images/train/00002941.jpg: 4 duplicate labels removed\n",
            "\u001b[34m\u001b[1mtrain: \u001b[0m/content/dataset/images/train/00002943.jpg: 8 duplicate labels removed\n",
            "\u001b[34m\u001b[1mtrain: \u001b[0m/content/dataset/images/train/00002944.jpg: 4 duplicate labels removed\n",
            "\u001b[34m\u001b[1mtrain: \u001b[0m/content/dataset/images/train/00002945.jpg: 8 duplicate labels removed\n",
            "\u001b[34m\u001b[1mtrain: \u001b[0m/content/dataset/images/train/00002949.jpg: 4 duplicate labels removed\n",
            "\u001b[34m\u001b[1mtrain: \u001b[0m/content/dataset/images/train/00002952.jpg: 4 duplicate labels removed\n",
            "\u001b[34m\u001b[1mtrain: \u001b[0m/content/dataset/images/train/00002953.jpg: 4 duplicate labels removed\n",
            "\u001b[34m\u001b[1mtrain: \u001b[0m/content/dataset/images/train/00002954.jpg: 12 duplicate labels removed\n",
            "\u001b[34m\u001b[1mtrain: \u001b[0m/content/dataset/images/train/00002956.jpg: 4 duplicate labels removed\n",
            "\u001b[34m\u001b[1mtrain: \u001b[0m/content/dataset/images/train/00002959.jpg: 4 duplicate labels removed\n",
            "\u001b[34m\u001b[1mtrain: \u001b[0m/content/dataset/images/train/00002960.jpg: 4 duplicate labels removed\n",
            "\u001b[34m\u001b[1mtrain: \u001b[0m/content/dataset/images/train/00002962.jpg: 4 duplicate labels removed\n",
            "\u001b[34m\u001b[1mtrain: \u001b[0m/content/dataset/images/train/00002963.jpg: 20 duplicate labels removed\n",
            "\u001b[34m\u001b[1mtrain: \u001b[0m/content/dataset/images/train/00002964.jpg: 4 duplicate labels removed\n",
            "\u001b[34m\u001b[1mtrain: \u001b[0m/content/dataset/images/train/00002965.jpg: 4 duplicate labels removed\n",
            "\u001b[34m\u001b[1mtrain: \u001b[0m/content/dataset/images/train/00002971.jpg: 4 duplicate labels removed\n",
            "\u001b[34m\u001b[1mtrain: \u001b[0m/content/dataset/images/train/00002972.jpg: 8 duplicate labels removed\n",
            "\u001b[34m\u001b[1mtrain: \u001b[0m/content/dataset/images/train/00002974.jpg: 24 duplicate labels removed\n",
            "\u001b[34m\u001b[1mtrain: \u001b[0m/content/dataset/images/train/00002975.jpg: 4 duplicate labels removed\n",
            "\u001b[34m\u001b[1mtrain: \u001b[0m/content/dataset/images/train/00002978.jpg: 4 duplicate labels removed\n",
            "\u001b[34m\u001b[1mtrain: \u001b[0m/content/dataset/images/train/00002983.jpg: 8 duplicate labels removed\n",
            "\u001b[34m\u001b[1mtrain: \u001b[0m/content/dataset/images/train/00002984.jpg: 4 duplicate labels removed\n",
            "\u001b[34m\u001b[1mtrain: \u001b[0m/content/dataset/images/train/00002986.jpg: 16 duplicate labels removed\n",
            "\u001b[34m\u001b[1mtrain: \u001b[0m/content/dataset/images/train/00002988.jpg: 4 duplicate labels removed\n",
            "\u001b[34m\u001b[1mtrain: \u001b[0m/content/dataset/images/train/00002990.jpg: 4 duplicate labels removed\n",
            "\u001b[34m\u001b[1mtrain: \u001b[0m/content/dataset/images/train/00002991.jpg: 16 duplicate labels removed\n",
            "\u001b[34m\u001b[1mtrain: \u001b[0m/content/dataset/images/train/00002997.jpg: 12 duplicate labels removed\n",
            "\u001b[34m\u001b[1mtrain: \u001b[0m/content/dataset/images/train/00003000.jpg: 4 duplicate labels removed\n",
            "\u001b[34m\u001b[1mtrain: \u001b[0m/content/dataset/images/train/00003001.jpg: 4 duplicate labels removed\n",
            "\u001b[34m\u001b[1mtrain: \u001b[0m/content/dataset/images/train/00003002.jpg: 12 duplicate labels removed\n",
            "\u001b[34m\u001b[1mtrain: \u001b[0m/content/dataset/images/train/00003004.jpg: 4 duplicate labels removed\n",
            "\u001b[34m\u001b[1mtrain: \u001b[0m/content/dataset/images/train/00003006.jpg: 8 duplicate labels removed\n",
            "\u001b[34m\u001b[1mtrain: \u001b[0m/content/dataset/images/train/00003008.jpg: 4 duplicate labels removed\n",
            "\u001b[34m\u001b[1mtrain: \u001b[0m/content/dataset/images/train/00003009.jpg: 4 duplicate labels removed\n",
            "\u001b[34m\u001b[1mtrain: \u001b[0m/content/dataset/images/train/00003012.jpg: 4 duplicate labels removed\n",
            "\u001b[34m\u001b[1mtrain: \u001b[0m/content/dataset/images/train/00003016.jpg: 4 duplicate labels removed\n",
            "\u001b[34m\u001b[1mtrain: \u001b[0m/content/dataset/images/train/00003017.jpg: 4 duplicate labels removed\n",
            "\u001b[34m\u001b[1mtrain: \u001b[0m/content/dataset/images/train/00003018.jpg: 12 duplicate labels removed\n",
            "\u001b[34m\u001b[1mtrain: \u001b[0m/content/dataset/images/train/00003019.jpg: 4 duplicate labels removed\n",
            "\u001b[34m\u001b[1mtrain: \u001b[0m/content/dataset/images/train/00003020.jpg: 4 duplicate labels removed\n",
            "\u001b[34m\u001b[1mtrain: \u001b[0m/content/dataset/images/train/00003021.jpg: 4 duplicate labels removed\n",
            "\u001b[34m\u001b[1mtrain: \u001b[0m/content/dataset/images/train/00003023.jpg: 16 duplicate labels removed\n",
            "\u001b[34m\u001b[1mtrain: \u001b[0m/content/dataset/images/train/00003025.jpg: 4 duplicate labels removed\n",
            "\u001b[34m\u001b[1mtrain: \u001b[0m/content/dataset/images/train/00003030.jpg: 4 duplicate labels removed\n",
            "\u001b[34m\u001b[1mtrain: \u001b[0m/content/dataset/images/train/00003031.jpg: 4 duplicate labels removed\n",
            "\u001b[34m\u001b[1mtrain: \u001b[0m/content/dataset/images/train/00003033.jpg: 8 duplicate labels removed\n",
            "\u001b[34m\u001b[1mtrain: \u001b[0m/content/dataset/images/train/00003034.jpg: 4 duplicate labels removed\n",
            "\u001b[34m\u001b[1mtrain: \u001b[0m/content/dataset/images/train/00003035.jpg: 16 duplicate labels removed\n",
            "\u001b[34m\u001b[1mtrain: \u001b[0m/content/dataset/images/train/00003036.jpg: 4 duplicate labels removed\n",
            "\u001b[34m\u001b[1mtrain: \u001b[0m/content/dataset/images/train/00003038.jpg: 4 duplicate labels removed\n",
            "\u001b[34m\u001b[1mtrain: \u001b[0m/content/dataset/images/train/00003039.jpg: 4 duplicate labels removed\n",
            "\u001b[34m\u001b[1mtrain: \u001b[0m/content/dataset/images/train/00003041.jpg: 4 duplicate labels removed\n",
            "\u001b[34m\u001b[1mtrain: \u001b[0m/content/dataset/images/train/00003043.jpg: 4 duplicate labels removed\n",
            "\u001b[34m\u001b[1mtrain: \u001b[0m/content/dataset/images/train/00003044.jpg: 4 duplicate labels removed\n",
            "\u001b[34m\u001b[1mtrain: \u001b[0m/content/dataset/images/train/00003046.jpg: 12 duplicate labels removed\n",
            "\u001b[34m\u001b[1mtrain: \u001b[0m/content/dataset/images/train/00003048.jpg: 8 duplicate labels removed\n",
            "\u001b[34m\u001b[1mtrain: \u001b[0m/content/dataset/images/train/00003049.jpg: 8 duplicate labels removed\n",
            "\u001b[34m\u001b[1mtrain: \u001b[0m/content/dataset/images/train/00003051.jpg: 4 duplicate labels removed\n",
            "\u001b[34m\u001b[1mtrain: \u001b[0m/content/dataset/images/train/00003052.jpg: 8 duplicate labels removed\n",
            "\u001b[34m\u001b[1mtrain: \u001b[0m/content/dataset/images/train/00003053.jpg: 12 duplicate labels removed\n",
            "\u001b[34m\u001b[1mtrain: \u001b[0m/content/dataset/images/train/00003054.jpg: 4 duplicate labels removed\n",
            "\u001b[34m\u001b[1mtrain: \u001b[0m/content/dataset/images/train/00003055.jpg: 4 duplicate labels removed\n",
            "\u001b[34m\u001b[1mtrain: \u001b[0m/content/dataset/images/train/00003056.jpg: 4 duplicate labels removed\n",
            "\u001b[34m\u001b[1mtrain: \u001b[0m/content/dataset/images/train/00003057.jpg: 8 duplicate labels removed\n",
            "\u001b[34m\u001b[1mtrain: \u001b[0m/content/dataset/images/train/00003058.jpg: 4 duplicate labels removed\n",
            "\u001b[34m\u001b[1mtrain: \u001b[0m/content/dataset/images/train/00003062.jpg: 4 duplicate labels removed\n",
            "\u001b[34m\u001b[1mtrain: \u001b[0m/content/dataset/images/train/00003065.jpg: 4 duplicate labels removed\n",
            "\u001b[34m\u001b[1mtrain: \u001b[0m/content/dataset/images/train/00003066.jpg: 12 duplicate labels removed\n",
            "\u001b[34m\u001b[1mtrain: \u001b[0m/content/dataset/images/train/00003067.jpg: 8 duplicate labels removed\n",
            "\u001b[34m\u001b[1mtrain: \u001b[0m/content/dataset/images/train/00003069.jpg: 32 duplicate labels removed\n",
            "\u001b[34m\u001b[1mtrain: \u001b[0m/content/dataset/images/train/00003071.jpg: 12 duplicate labels removed\n",
            "\u001b[34m\u001b[1mtrain: \u001b[0m/content/dataset/images/train/00003072.jpg: 8 duplicate labels removed\n",
            "\u001b[34m\u001b[1mtrain: \u001b[0m/content/dataset/images/train/00003073.jpg: 4 duplicate labels removed\n",
            "\u001b[34m\u001b[1mtrain: \u001b[0m/content/dataset/images/train/00003077.jpg: 8 duplicate labels removed\n",
            "\u001b[34m\u001b[1mtrain: \u001b[0m/content/dataset/images/train/00003080.jpg: 8 duplicate labels removed\n",
            "\u001b[34m\u001b[1mtrain: \u001b[0m/content/dataset/images/train/00003083.jpg: 4 duplicate labels removed\n",
            "\u001b[34m\u001b[1mtrain: \u001b[0m/content/dataset/images/train/00003085.jpg: 8 duplicate labels removed\n",
            "\u001b[34m\u001b[1mtrain: \u001b[0m/content/dataset/images/train/00003086.jpg: 12 duplicate labels removed\n",
            "\u001b[34m\u001b[1mtrain: \u001b[0m/content/dataset/images/train/00003087.jpg: 4 duplicate labels removed\n",
            "\u001b[34m\u001b[1mtrain: \u001b[0m/content/dataset/images/train/00003090.jpg: 8 duplicate labels removed\n",
            "\u001b[34m\u001b[1mtrain: \u001b[0m/content/dataset/images/train/00003092.jpg: 4 duplicate labels removed\n",
            "\u001b[34m\u001b[1mtrain: \u001b[0m/content/dataset/images/train/00003097.jpg: 8 duplicate labels removed\n",
            "\u001b[34m\u001b[1mtrain: \u001b[0m/content/dataset/images/train/00003098.jpg: 4 duplicate labels removed\n",
            "\u001b[34m\u001b[1mtrain: \u001b[0m/content/dataset/images/train/00003102.jpg: 24 duplicate labels removed\n",
            "\u001b[34m\u001b[1mtrain: \u001b[0m/content/dataset/images/train/00003103.jpg: 4 duplicate labels removed\n",
            "\u001b[34m\u001b[1mtrain: \u001b[0m/content/dataset/images/train/00003104.jpg: 4 duplicate labels removed\n",
            "\u001b[34m\u001b[1mtrain: \u001b[0m/content/dataset/images/train/00003108.jpg: 16 duplicate labels removed\n",
            "\u001b[34m\u001b[1mtrain: \u001b[0m/content/dataset/images/train/00003110.jpg: 4 duplicate labels removed\n",
            "\u001b[34m\u001b[1mtrain: \u001b[0m/content/dataset/images/train/00003111.jpg: 8 duplicate labels removed\n",
            "\u001b[34m\u001b[1mtrain: \u001b[0m/content/dataset/images/train/00003112.jpg: 4 duplicate labels removed\n",
            "\u001b[34m\u001b[1mtrain: \u001b[0m/content/dataset/images/train/00003116.jpg: 4 duplicate labels removed\n",
            "\u001b[34m\u001b[1mtrain: \u001b[0m/content/dataset/images/train/00003117.jpg: 4 duplicate labels removed\n",
            "\u001b[34m\u001b[1mtrain: \u001b[0m/content/dataset/images/train/00003121.jpg: 20 duplicate labels removed\n",
            "\u001b[34m\u001b[1mtrain: \u001b[0m/content/dataset/images/train/00003123.jpg: 4 duplicate labels removed\n",
            "\u001b[34m\u001b[1mtrain: \u001b[0m/content/dataset/images/train/00003124.jpg: 4 duplicate labels removed\n",
            "\u001b[34m\u001b[1mtrain: \u001b[0m/content/dataset/images/train/00003126.jpg: 4 duplicate labels removed\n",
            "\u001b[34m\u001b[1mtrain: \u001b[0m/content/dataset/images/train/00003128.jpg: 4 duplicate labels removed\n",
            "\u001b[34m\u001b[1mtrain: \u001b[0m/content/dataset/images/train/00003130.jpg: 4 duplicate labels removed\n",
            "\u001b[34m\u001b[1mtrain: \u001b[0m/content/dataset/images/train/00003131.jpg: 4 duplicate labels removed\n",
            "\u001b[34m\u001b[1mtrain: \u001b[0m/content/dataset/images/train/00003132.jpg: 8 duplicate labels removed\n",
            "\u001b[34m\u001b[1mtrain: \u001b[0m/content/dataset/images/train/00003133.jpg: 4 duplicate labels removed\n",
            "\u001b[34m\u001b[1mtrain: \u001b[0m/content/dataset/images/train/00003136.jpg: 4 duplicate labels removed\n",
            "\u001b[34m\u001b[1mtrain: \u001b[0m/content/dataset/images/train/00003138.jpg: 4 duplicate labels removed\n",
            "\u001b[34m\u001b[1mtrain: \u001b[0m/content/dataset/images/train/00003141.jpg: 20 duplicate labels removed\n",
            "\u001b[34m\u001b[1mtrain: \u001b[0m/content/dataset/images/train/00003142.jpg: 4 duplicate labels removed\n",
            "\u001b[34m\u001b[1mtrain: \u001b[0m/content/dataset/images/train/00003143.jpg: 4 duplicate labels removed\n",
            "\u001b[34m\u001b[1mtrain: \u001b[0m/content/dataset/images/train/00003144.jpg: 4 duplicate labels removed\n",
            "\u001b[34m\u001b[1mtrain: \u001b[0m/content/dataset/images/train/00003145.jpg: 4 duplicate labels removed\n",
            "\u001b[34m\u001b[1mtrain: \u001b[0m/content/dataset/images/train/00003146.jpg: 20 duplicate labels removed\n",
            "\u001b[34m\u001b[1mtrain: \u001b[0m/content/dataset/images/train/00003147.jpg: 4 duplicate labels removed\n",
            "\u001b[34m\u001b[1mtrain: \u001b[0m/content/dataset/images/train/00003148.jpg: 4 duplicate labels removed\n",
            "\u001b[34m\u001b[1mtrain: \u001b[0m/content/dataset/images/train/00003150.jpg: 8 duplicate labels removed\n",
            "\u001b[34m\u001b[1mtrain: \u001b[0m/content/dataset/images/train/00003151.jpg: 8 duplicate labels removed\n",
            "\u001b[34m\u001b[1mtrain: \u001b[0m/content/dataset/images/train/00003152.jpg: 8 duplicate labels removed\n",
            "\u001b[34m\u001b[1mtrain: \u001b[0m/content/dataset/images/train/00003153.jpg: 8 duplicate labels removed\n",
            "\u001b[34m\u001b[1mtrain: \u001b[0m/content/dataset/images/train/00003154.jpg: 4 duplicate labels removed\n",
            "\u001b[34m\u001b[1mtrain: \u001b[0m/content/dataset/images/train/00003155.jpg: 4 duplicate labels removed\n",
            "\u001b[34m\u001b[1mtrain: \u001b[0m/content/dataset/images/train/00003156.jpg: 12 duplicate labels removed\n",
            "\u001b[34m\u001b[1mtrain: \u001b[0m/content/dataset/images/train/00003159.jpg: 4 duplicate labels removed\n",
            "\u001b[34m\u001b[1mtrain: \u001b[0m/content/dataset/images/train/00003160.jpg: 4 duplicate labels removed\n",
            "\u001b[34m\u001b[1mtrain: \u001b[0m/content/dataset/images/train/00003161.jpg: 4 duplicate labels removed\n",
            "\u001b[34m\u001b[1mtrain: \u001b[0m/content/dataset/images/train/00003162.jpg: 4 duplicate labels removed\n",
            "\u001b[34m\u001b[1mtrain: \u001b[0m/content/dataset/images/train/00003163.jpg: 4 duplicate labels removed\n",
            "\u001b[34m\u001b[1mtrain: \u001b[0m/content/dataset/images/train/00003165.jpg: 36 duplicate labels removed\n",
            "\u001b[34m\u001b[1mtrain: \u001b[0m/content/dataset/images/train/00003166.jpg: 4 duplicate labels removed\n",
            "\u001b[34m\u001b[1mtrain: \u001b[0m/content/dataset/images/train/00003167.jpg: 12 duplicate labels removed\n",
            "\u001b[34m\u001b[1mtrain: \u001b[0m/content/dataset/images/train/00003168.jpg: 4 duplicate labels removed\n",
            "\u001b[34m\u001b[1mtrain: \u001b[0m/content/dataset/images/train/00003171.jpg: 4 duplicate labels removed\n",
            "\u001b[34m\u001b[1mtrain: \u001b[0m/content/dataset/images/train/00003172.jpg: 24 duplicate labels removed\n",
            "\u001b[34m\u001b[1mtrain: \u001b[0m/content/dataset/images/train/00003173.jpg: 4 duplicate labels removed\n",
            "\u001b[34m\u001b[1mtrain: \u001b[0m/content/dataset/images/train/00003177.jpg: 4 duplicate labels removed\n",
            "\u001b[34m\u001b[1mtrain: \u001b[0m/content/dataset/images/train/00003178.jpg: 12 duplicate labels removed\n",
            "\u001b[34m\u001b[1mtrain: \u001b[0m/content/dataset/images/train/00003183.jpg: 8 duplicate labels removed\n",
            "\u001b[34m\u001b[1mtrain: \u001b[0m/content/dataset/images/train/00003184.jpg: 12 duplicate labels removed\n",
            "\u001b[34m\u001b[1mtrain: \u001b[0m/content/dataset/images/train/00003185.jpg: 8 duplicate labels removed\n",
            "\u001b[34m\u001b[1mtrain: \u001b[0m/content/dataset/images/train/00003187.jpg: 4 duplicate labels removed\n",
            "\u001b[34m\u001b[1mtrain: \u001b[0m/content/dataset/images/train/00003188.jpg: 4 duplicate labels removed\n",
            "\u001b[34m\u001b[1mtrain: \u001b[0m/content/dataset/images/train/00003191.jpg: 4 duplicate labels removed\n",
            "\u001b[34m\u001b[1mtrain: \u001b[0m/content/dataset/images/train/00003193.jpg: 4 duplicate labels removed\n",
            "\u001b[34m\u001b[1mtrain: \u001b[0m/content/dataset/images/train/00003194.jpg: 4 duplicate labels removed\n",
            "\u001b[34m\u001b[1mtrain: \u001b[0m/content/dataset/images/train/00003196.jpg: 4 duplicate labels removed\n",
            "\u001b[34m\u001b[1mtrain: \u001b[0m/content/dataset/images/train/00003198.jpg: 16 duplicate labels removed\n",
            "\u001b[34m\u001b[1mtrain: \u001b[0m/content/dataset/images/train/00003200.jpg: 4 duplicate labels removed\n",
            "\u001b[34m\u001b[1mtrain: \u001b[0m/content/dataset/images/train/00003202.jpg: 4 duplicate labels removed\n",
            "\u001b[34m\u001b[1mtrain: \u001b[0m/content/dataset/images/train/00003203.jpg: 20 duplicate labels removed\n",
            "\u001b[34m\u001b[1mtrain: \u001b[0m/content/dataset/images/train/00003206.jpg: 8 duplicate labels removed\n",
            "\u001b[34m\u001b[1mtrain: \u001b[0m/content/dataset/images/train/00003212.jpg: 4 duplicate labels removed\n",
            "\u001b[34m\u001b[1mtrain: \u001b[0m/content/dataset/images/train/00003213.jpg: 4 duplicate labels removed\n",
            "\u001b[34m\u001b[1mtrain: \u001b[0m/content/dataset/images/train/00003216.jpg: 4 duplicate labels removed\n",
            "\u001b[34m\u001b[1mtrain: \u001b[0m/content/dataset/images/train/00003217.jpg: 8 duplicate labels removed\n",
            "\u001b[34m\u001b[1mtrain: \u001b[0m/content/dataset/images/train/00003218.jpg: 4 duplicate labels removed\n",
            "\u001b[34m\u001b[1mtrain: \u001b[0m/content/dataset/images/train/00003219.jpg: 4 duplicate labels removed\n",
            "\u001b[34m\u001b[1mtrain: \u001b[0m/content/dataset/images/train/00003222.jpg: 4 duplicate labels removed\n",
            "\u001b[34m\u001b[1mtrain: \u001b[0m/content/dataset/images/train/00003224.jpg: 8 duplicate labels removed\n",
            "\u001b[34m\u001b[1mtrain: \u001b[0m/content/dataset/images/train/00003225.jpg: 8 duplicate labels removed\n",
            "\u001b[34m\u001b[1mtrain: \u001b[0m/content/dataset/images/train/00003230.jpg: 4 duplicate labels removed\n",
            "\u001b[34m\u001b[1mtrain: \u001b[0m/content/dataset/images/train/00003231.jpg: 4 duplicate labels removed\n",
            "\u001b[34m\u001b[1mtrain: \u001b[0m/content/dataset/images/train/00003232.jpg: 8 duplicate labels removed\n",
            "\u001b[34m\u001b[1mtrain: \u001b[0m/content/dataset/images/train/00003233.jpg: 4 duplicate labels removed\n",
            "\u001b[34m\u001b[1mtrain: \u001b[0m/content/dataset/images/train/00003237.jpg: 4 duplicate labels removed\n",
            "\u001b[34m\u001b[1mtrain: \u001b[0m/content/dataset/images/train/00003240.jpg: 12 duplicate labels removed\n",
            "\u001b[34m\u001b[1mtrain: \u001b[0m/content/dataset/images/train/00003243.jpg: 4 duplicate labels removed\n",
            "\u001b[34m\u001b[1mtrain: \u001b[0m/content/dataset/images/train/00003244.jpg: 4 duplicate labels removed\n",
            "\u001b[34m\u001b[1mtrain: \u001b[0m/content/dataset/images/train/00003245.jpg: 4 duplicate labels removed\n",
            "\u001b[34m\u001b[1mtrain: \u001b[0m/content/dataset/images/train/00003247.jpg: 4 duplicate labels removed\n",
            "\u001b[34m\u001b[1mtrain: \u001b[0m/content/dataset/images/train/00003248.jpg: 8 duplicate labels removed\n",
            "\u001b[34m\u001b[1mtrain: \u001b[0m/content/dataset/images/train/00003249.jpg: 8 duplicate labels removed\n",
            "\u001b[34m\u001b[1mtrain: \u001b[0m/content/dataset/images/train/00003254.jpg: 8 duplicate labels removed\n",
            "\u001b[34m\u001b[1mtrain: \u001b[0m/content/dataset/images/train/00003255.jpg: 4 duplicate labels removed\n",
            "\u001b[34m\u001b[1mtrain: \u001b[0m/content/dataset/images/train/00003258.jpg: 4 duplicate labels removed\n",
            "\u001b[34m\u001b[1mtrain: \u001b[0m/content/dataset/images/train/00003260.jpg: 4 duplicate labels removed\n",
            "\u001b[34m\u001b[1mtrain: \u001b[0m/content/dataset/images/train/00003261.jpg: 4 duplicate labels removed\n",
            "\u001b[34m\u001b[1mtrain: \u001b[0m/content/dataset/images/train/00003262.jpg: 4 duplicate labels removed\n",
            "\u001b[34m\u001b[1mtrain: \u001b[0m/content/dataset/images/train/00003263.jpg: 4 duplicate labels removed\n",
            "\u001b[34m\u001b[1mtrain: \u001b[0m/content/dataset/images/train/00003264.jpg: 4 duplicate labels removed\n",
            "\u001b[34m\u001b[1mtrain: \u001b[0m/content/dataset/images/train/00003268.jpg: 4 duplicate labels removed\n",
            "\u001b[34m\u001b[1mtrain: \u001b[0m/content/dataset/images/train/00003269.jpg: 4 duplicate labels removed\n",
            "\u001b[34m\u001b[1mtrain: \u001b[0m/content/dataset/images/train/00003273.jpg: 4 duplicate labels removed\n",
            "\u001b[34m\u001b[1mtrain: \u001b[0m/content/dataset/images/train/00003275.jpg: 4 duplicate labels removed\n",
            "\u001b[34m\u001b[1mtrain: \u001b[0m/content/dataset/images/train/00003276.jpg: 4 duplicate labels removed\n",
            "\u001b[34m\u001b[1mtrain: \u001b[0m/content/dataset/images/train/00003283.jpg: 4 duplicate labels removed\n",
            "\u001b[34m\u001b[1mtrain: \u001b[0m/content/dataset/images/train/00003284.jpg: 8 duplicate labels removed\n",
            "\u001b[34m\u001b[1mtrain: \u001b[0m/content/dataset/images/train/00003287.jpg: 4 duplicate labels removed\n",
            "\u001b[34m\u001b[1mtrain: \u001b[0m/content/dataset/images/train/00003289.jpg: 4 duplicate labels removed\n",
            "\u001b[34m\u001b[1mtrain: \u001b[0m/content/dataset/images/train/00003291.jpg: 4 duplicate labels removed\n",
            "\u001b[34m\u001b[1mtrain: \u001b[0m/content/dataset/images/train/00003292.jpg: 4 duplicate labels removed\n",
            "\u001b[34m\u001b[1mtrain: \u001b[0m/content/dataset/images/train/00003293.jpg: 4 duplicate labels removed\n",
            "\u001b[34m\u001b[1mtrain: \u001b[0m/content/dataset/images/train/00003295.jpg: 12 duplicate labels removed\n",
            "\u001b[34m\u001b[1mtrain: \u001b[0m/content/dataset/images/train/00003296.jpg: 12 duplicate labels removed\n",
            "\u001b[34m\u001b[1mtrain: \u001b[0m/content/dataset/images/train/00003297.jpg: 24 duplicate labels removed\n",
            "\u001b[34m\u001b[1mtrain: \u001b[0m/content/dataset/images/train/00003298.jpg: 8 duplicate labels removed\n",
            "\u001b[34m\u001b[1mtrain: \u001b[0m/content/dataset/images/train/00003299.jpg: 4 duplicate labels removed\n",
            "\u001b[34m\u001b[1mtrain: \u001b[0m/content/dataset/images/train/00003301.jpg: 4 duplicate labels removed\n",
            "\u001b[34m\u001b[1mtrain: \u001b[0m/content/dataset/images/train/00003303.jpg: 8 duplicate labels removed\n",
            "\u001b[34m\u001b[1mtrain: \u001b[0m/content/dataset/images/train/00003304.jpg: 4 duplicate labels removed\n",
            "\u001b[34m\u001b[1mtrain: \u001b[0m/content/dataset/images/train/00003306.jpg: 4 duplicate labels removed\n",
            "\u001b[34m\u001b[1mtrain: \u001b[0m/content/dataset/images/train/00003309.jpg: 4 duplicate labels removed\n",
            "\u001b[34m\u001b[1mtrain: \u001b[0m/content/dataset/images/train/00003311.jpg: 4 duplicate labels removed\n",
            "\u001b[34m\u001b[1mtrain: \u001b[0m/content/dataset/images/train/00003317.jpg: 16 duplicate labels removed\n",
            "\u001b[34m\u001b[1mtrain: \u001b[0m/content/dataset/images/train/00003319.jpg: 4 duplicate labels removed\n",
            "\u001b[34m\u001b[1mtrain: \u001b[0m/content/dataset/images/train/00003323.jpg: 4 duplicate labels removed\n",
            "\u001b[34m\u001b[1mtrain: \u001b[0m/content/dataset/images/train/00003325.jpg: 4 duplicate labels removed\n",
            "\u001b[34m\u001b[1mtrain: \u001b[0m/content/dataset/images/train/00003326.jpg: 4 duplicate labels removed\n",
            "\u001b[34m\u001b[1mtrain: \u001b[0m/content/dataset/images/train/00003327.jpg: 4 duplicate labels removed\n",
            "\u001b[34m\u001b[1mtrain: \u001b[0m/content/dataset/images/train/00003331.jpg: 12 duplicate labels removed\n",
            "\u001b[34m\u001b[1mtrain: \u001b[0m/content/dataset/images/train/00003332.jpg: 4 duplicate labels removed\n",
            "\u001b[34m\u001b[1mtrain: \u001b[0m/content/dataset/images/train/00003333.jpg: 4 duplicate labels removed\n",
            "\u001b[34m\u001b[1mtrain: \u001b[0m/content/dataset/images/train/00003334.jpg: 4 duplicate labels removed\n",
            "\u001b[34m\u001b[1mtrain: \u001b[0m/content/dataset/images/train/00003339.jpg: 4 duplicate labels removed\n",
            "\u001b[34m\u001b[1mtrain: \u001b[0m/content/dataset/images/train/00003342.jpg: 8 duplicate labels removed\n",
            "\u001b[34m\u001b[1mtrain: \u001b[0m/content/dataset/images/train/00003343.jpg: 4 duplicate labels removed\n",
            "\u001b[34m\u001b[1mtrain: \u001b[0m/content/dataset/images/train/00003344.jpg: 8 duplicate labels removed\n",
            "\u001b[34m\u001b[1mtrain: \u001b[0m/content/dataset/images/train/00003348.jpg: 4 duplicate labels removed\n",
            "\u001b[34m\u001b[1mtrain: \u001b[0m/content/dataset/images/train/00003351.jpg: 4 duplicate labels removed\n",
            "\u001b[34m\u001b[1mtrain: \u001b[0m/content/dataset/images/train/00003353.jpg: 4 duplicate labels removed\n",
            "\u001b[34m\u001b[1mtrain: \u001b[0m/content/dataset/images/train/00003354.jpg: 4 duplicate labels removed\n",
            "\u001b[34m\u001b[1mtrain: \u001b[0m/content/dataset/images/train/00003358.jpg: 12 duplicate labels removed\n",
            "\u001b[34m\u001b[1mtrain: \u001b[0m/content/dataset/images/train/00003361.jpg: 32 duplicate labels removed\n",
            "\u001b[34m\u001b[1mtrain: \u001b[0m/content/dataset/images/train/00003362.jpg: 8 duplicate labels removed\n",
            "\u001b[34m\u001b[1mtrain: \u001b[0m/content/dataset/images/train/00003364.jpg: 4 duplicate labels removed\n",
            "\u001b[34m\u001b[1mtrain: \u001b[0m/content/dataset/images/train/00003368.jpg: 4 duplicate labels removed\n",
            "\u001b[34m\u001b[1mtrain: \u001b[0m/content/dataset/images/train/00003369.jpg: 8 duplicate labels removed\n",
            "\u001b[34m\u001b[1mtrain: \u001b[0m/content/dataset/images/train/00003370.jpg: 4 duplicate labels removed\n",
            "\u001b[34m\u001b[1mtrain: \u001b[0m/content/dataset/images/train/00003372.jpg: 4 duplicate labels removed\n",
            "\u001b[34m\u001b[1mtrain: \u001b[0m/content/dataset/images/train/00003374.jpg: 12 duplicate labels removed\n",
            "\u001b[34m\u001b[1mtrain: \u001b[0m/content/dataset/images/train/00003377.jpg: 12 duplicate labels removed\n",
            "\u001b[34m\u001b[1mtrain: \u001b[0m/content/dataset/images/train/00003378.jpg: 20 duplicate labels removed\n",
            "\u001b[34m\u001b[1mtrain: \u001b[0m/content/dataset/images/train/00003379.jpg: 12 duplicate labels removed\n",
            "\u001b[34m\u001b[1mtrain: \u001b[0m/content/dataset/images/train/00003381.jpg: 4 duplicate labels removed\n",
            "\u001b[34m\u001b[1mtrain: \u001b[0m/content/dataset/images/train/00003384.jpg: 4 duplicate labels removed\n",
            "\u001b[34m\u001b[1mtrain: \u001b[0m/content/dataset/images/train/00003385.jpg: 20 duplicate labels removed\n",
            "\u001b[34m\u001b[1mtrain: \u001b[0m/content/dataset/images/train/00003389.jpg: 4 duplicate labels removed\n",
            "\u001b[34m\u001b[1mtrain: \u001b[0m/content/dataset/images/train/00003390.jpg: 4 duplicate labels removed\n",
            "\u001b[34m\u001b[1mtrain: \u001b[0m/content/dataset/images/train/00003393.jpg: 4 duplicate labels removed\n",
            "\u001b[34m\u001b[1mtrain: \u001b[0m/content/dataset/images/train/00003394.jpg: 16 duplicate labels removed\n",
            "\u001b[34m\u001b[1mtrain: \u001b[0m/content/dataset/images/train/00003395.jpg: 24 duplicate labels removed\n",
            "\u001b[34m\u001b[1mtrain: \u001b[0m/content/dataset/images/train/00003397.jpg: 4 duplicate labels removed\n",
            "\u001b[34m\u001b[1mtrain: \u001b[0m/content/dataset/images/train/00003399.jpg: 4 duplicate labels removed\n",
            "\u001b[34m\u001b[1mtrain: \u001b[0m/content/dataset/images/train/00003402.jpg: 4 duplicate labels removed\n",
            "\u001b[34m\u001b[1mtrain: \u001b[0m/content/dataset/images/train/00003405.jpg: 12 duplicate labels removed\n",
            "\u001b[34m\u001b[1mtrain: \u001b[0m/content/dataset/images/train/00003406.jpg: 16 duplicate labels removed\n",
            "\u001b[34m\u001b[1mtrain: \u001b[0m/content/dataset/images/train/00003407.jpg: 12 duplicate labels removed\n",
            "\u001b[34m\u001b[1mtrain: \u001b[0m/content/dataset/images/train/00003410.jpg: 4 duplicate labels removed\n",
            "\u001b[34m\u001b[1mtrain: \u001b[0m/content/dataset/images/train/00003413.jpg: 16 duplicate labels removed\n",
            "\u001b[34m\u001b[1mtrain: \u001b[0m/content/dataset/images/train/00003416.jpg: 4 duplicate labels removed\n",
            "\u001b[34m\u001b[1mtrain: \u001b[0m/content/dataset/images/train/00003421.jpg: 4 duplicate labels removed\n",
            "\u001b[34m\u001b[1mtrain: \u001b[0m/content/dataset/images/train/00003424.jpg: 12 duplicate labels removed\n",
            "\u001b[34m\u001b[1mtrain: \u001b[0m/content/dataset/images/train/00003427.jpg: 4 duplicate labels removed\n",
            "\u001b[34m\u001b[1mtrain: \u001b[0m/content/dataset/images/train/00003428.jpg: 4 duplicate labels removed\n",
            "\u001b[34m\u001b[1mtrain: \u001b[0m/content/dataset/images/train/00003429.jpg: 8 duplicate labels removed\n",
            "\u001b[34m\u001b[1mtrain: \u001b[0m/content/dataset/images/train/00003430.jpg: 4 duplicate labels removed\n",
            "\u001b[34m\u001b[1mtrain: \u001b[0m/content/dataset/images/train/00003431.jpg: 12 duplicate labels removed\n",
            "\u001b[34m\u001b[1mtrain: \u001b[0m/content/dataset/images/train/00003433.jpg: 4 duplicate labels removed\n",
            "\u001b[34m\u001b[1mtrain: \u001b[0m/content/dataset/images/train/00003434.jpg: 4 duplicate labels removed\n",
            "\u001b[34m\u001b[1mtrain: \u001b[0m/content/dataset/images/train/00003435.jpg: 4 duplicate labels removed\n",
            "\u001b[34m\u001b[1mtrain: \u001b[0m/content/dataset/images/train/00003436.jpg: 4 duplicate labels removed\n",
            "\u001b[34m\u001b[1mtrain: \u001b[0m/content/dataset/images/train/00003437.jpg: 4 duplicate labels removed\n",
            "\u001b[34m\u001b[1mtrain: \u001b[0m/content/dataset/images/train/00003438.jpg: 4 duplicate labels removed\n",
            "\u001b[34m\u001b[1mtrain: \u001b[0m/content/dataset/images/train/00003439.jpg: 4 duplicate labels removed\n",
            "\u001b[34m\u001b[1mtrain: \u001b[0m/content/dataset/images/train/00003440.jpg: 4 duplicate labels removed\n",
            "\u001b[34m\u001b[1mtrain: \u001b[0m/content/dataset/images/train/00003442.jpg: 4 duplicate labels removed\n",
            "\u001b[34m\u001b[1mtrain: \u001b[0m/content/dataset/images/train/00003445.jpg: 4 duplicate labels removed\n",
            "\u001b[34m\u001b[1mtrain: \u001b[0m/content/dataset/images/train/00003447.jpg: 4 duplicate labels removed\n",
            "\u001b[34m\u001b[1mtrain: \u001b[0m/content/dataset/images/train/00003449.jpg: 4 duplicate labels removed\n",
            "\u001b[34m\u001b[1mtrain: \u001b[0m/content/dataset/images/train/00003450.jpg: 8 duplicate labels removed\n",
            "\u001b[34m\u001b[1mtrain: \u001b[0m/content/dataset/images/train/00003452.jpg: 4 duplicate labels removed\n",
            "\u001b[34m\u001b[1mtrain: \u001b[0m/content/dataset/images/train/00003453.jpg: 4 duplicate labels removed\n",
            "\u001b[34m\u001b[1mtrain: \u001b[0m/content/dataset/images/train/00003454.jpg: 4 duplicate labels removed\n",
            "\u001b[34m\u001b[1mtrain: \u001b[0m/content/dataset/images/train/00003457.jpg: 4 duplicate labels removed\n",
            "\u001b[34m\u001b[1mtrain: \u001b[0m/content/dataset/images/train/00003458.jpg: 12 duplicate labels removed\n",
            "\u001b[34m\u001b[1mtrain: \u001b[0m/content/dataset/images/train/00003459.jpg: 4 duplicate labels removed\n",
            "\u001b[34m\u001b[1mtrain: \u001b[0m/content/dataset/images/train/00003463.jpg: 4 duplicate labels removed\n",
            "\u001b[34m\u001b[1mtrain: \u001b[0m/content/dataset/images/train/00003464.jpg: 4 duplicate labels removed\n",
            "\u001b[34m\u001b[1mtrain: \u001b[0m/content/dataset/images/train/00003465.jpg: 4 duplicate labels removed\n",
            "\u001b[34m\u001b[1mtrain: \u001b[0m/content/dataset/images/train/00003470.jpg: 4 duplicate labels removed\n",
            "\u001b[34m\u001b[1mtrain: \u001b[0m/content/dataset/images/train/00003471.jpg: 8 duplicate labels removed\n",
            "\u001b[34m\u001b[1mtrain: \u001b[0m/content/dataset/images/train/00003472.jpg: 8 duplicate labels removed\n",
            "\u001b[34m\u001b[1mtrain: \u001b[0m/content/dataset/images/train/00003473.jpg: 4 duplicate labels removed\n",
            "\u001b[34m\u001b[1mtrain: \u001b[0m/content/dataset/images/train/00003476.jpg: 4 duplicate labels removed\n",
            "\u001b[34m\u001b[1mtrain: \u001b[0m/content/dataset/images/train/00003477.jpg: 12 duplicate labels removed\n",
            "\u001b[34m\u001b[1mtrain: \u001b[0m/content/dataset/images/train/00003478.jpg: 4 duplicate labels removed\n",
            "\u001b[34m\u001b[1mtrain: \u001b[0m/content/dataset/images/train/00003480.jpg: 4 duplicate labels removed\n",
            "\u001b[34m\u001b[1mtrain: \u001b[0m/content/dataset/images/train/00003481.jpg: 4 duplicate labels removed\n",
            "\u001b[34m\u001b[1mtrain: \u001b[0m/content/dataset/images/train/00003482.jpg: 4 duplicate labels removed\n",
            "\u001b[34m\u001b[1mtrain: \u001b[0m/content/dataset/images/train/00003484.jpg: 4 duplicate labels removed\n",
            "\u001b[34m\u001b[1mtrain: \u001b[0m/content/dataset/images/train/00003487.jpg: 4 duplicate labels removed\n",
            "\u001b[34m\u001b[1mtrain: \u001b[0m/content/dataset/images/train/00003489.jpg: 4 duplicate labels removed\n",
            "\u001b[34m\u001b[1mtrain: \u001b[0m/content/dataset/images/train/00003492.jpg: 4 duplicate labels removed\n",
            "\u001b[34m\u001b[1mtrain: \u001b[0m/content/dataset/images/train/00003497.jpg: 4 duplicate labels removed\n",
            "\u001b[34m\u001b[1mtrain: \u001b[0m/content/dataset/images/train/00003498.jpg: 4 duplicate labels removed\n",
            "\u001b[34m\u001b[1mtrain: \u001b[0m/content/dataset/images/train/00003500.jpg: 4 duplicate labels removed\n",
            "\u001b[34m\u001b[1mtrain: \u001b[0m/content/dataset/images/train/00003502.jpg: 4 duplicate labels removed\n",
            "\u001b[34m\u001b[1mtrain: \u001b[0m/content/dataset/images/train/00003504.jpg: 4 duplicate labels removed\n",
            "\u001b[34m\u001b[1mtrain: \u001b[0m/content/dataset/images/train/00003505.jpg: 12 duplicate labels removed\n",
            "\u001b[34m\u001b[1mtrain: \u001b[0m/content/dataset/images/train/00003507.jpg: 4 duplicate labels removed\n",
            "\u001b[34m\u001b[1mtrain: \u001b[0m/content/dataset/images/train/00003513.jpg: 4 duplicate labels removed\n",
            "\u001b[34m\u001b[1mtrain: \u001b[0m/content/dataset/images/train/00003514.jpg: 4 duplicate labels removed\n",
            "\u001b[34m\u001b[1mtrain: \u001b[0m/content/dataset/images/train/00003517.jpg: 16 duplicate labels removed\n"
          ]
        },
        {
          "name": "stderr",
          "output_type": "stream",
          "text": [
            "\n"
          ]
        },
        {
          "name": "stdout",
          "output_type": "stream",
          "text": [
            "\u001b[34m\u001b[1mtrain: \u001b[0mNew cache created: /content/dataset/labels/train.cache\n",
            "\u001b[34m\u001b[1malbumentations: \u001b[0mBlur(p=0.01, blur_limit=(3, 7)), MedianBlur(p=0.01, blur_limit=(3, 7)), ToGray(p=0.01, method='weighted_average', num_output_channels=3), CLAHE(p=0.01, clip_limit=(1.0, 4.0), tile_grid_size=(8, 8))\n",
            "\u001b[34m\u001b[1mval: \u001b[0mFast image access ✅ (ping: 0.0±0.0 ms, read: 1226.0±905.5 MB/s, size: 96.7 KB)\n"
          ]
        },
        {
          "name": "stderr",
          "output_type": "stream",
          "text": [
            "\u001b[34m\u001b[1mval: \u001b[0mScanning /content/dataset/labels/val... 541 images, 0 backgrounds, 0 corrupt: 100%|██████████| 541/541 [00:01<00:00, 538.08it/s]"
          ]
        },
        {
          "name": "stdout",
          "output_type": "stream",
          "text": [
            "\u001b[34m\u001b[1mval: \u001b[0m/content/dataset/images/val/00000005.jpg: 4 duplicate labels removed\n",
            "\u001b[34m\u001b[1mval: \u001b[0m/content/dataset/images/val/00000008.jpg: 4 duplicate labels removed\n",
            "\u001b[34m\u001b[1mval: \u001b[0m/content/dataset/images/val/00000018.jpg: 4 duplicate labels removed\n",
            "\u001b[34m\u001b[1mval: \u001b[0m/content/dataset/images/val/00000023.jpg: 4 duplicate labels removed\n",
            "\u001b[34m\u001b[1mval: \u001b[0m/content/dataset/images/val/00000058.jpg: 4 duplicate labels removed\n",
            "\u001b[34m\u001b[1mval: \u001b[0m/content/dataset/images/val/00000089.jpg: 4 duplicate labels removed\n",
            "\u001b[34m\u001b[1mval: \u001b[0m/content/dataset/images/val/00000100.jpg: 4 duplicate labels removed\n",
            "\u001b[34m\u001b[1mval: \u001b[0m/content/dataset/images/val/00000104.jpg: 8 duplicate labels removed\n",
            "\u001b[34m\u001b[1mval: \u001b[0m/content/dataset/images/val/00000120.jpg: 4 duplicate labels removed\n",
            "\u001b[34m\u001b[1mval: \u001b[0m/content/dataset/images/val/00000127.jpg: 4 duplicate labels removed\n",
            "\u001b[34m\u001b[1mval: \u001b[0m/content/dataset/images/val/00000159.jpg: 4 duplicate labels removed\n",
            "\u001b[34m\u001b[1mval: \u001b[0m/content/dataset/images/val/00000170.jpg: 8 duplicate labels removed\n",
            "\u001b[34m\u001b[1mval: \u001b[0m/content/dataset/images/val/00000177.jpg: 4 duplicate labels removed\n",
            "\u001b[34m\u001b[1mval: \u001b[0m/content/dataset/images/val/00000178.jpg: 4 duplicate labels removed\n",
            "\u001b[34m\u001b[1mval: \u001b[0m/content/dataset/images/val/00000191.jpg: 4 duplicate labels removed\n",
            "\u001b[34m\u001b[1mval: \u001b[0m/content/dataset/images/val/00000205.jpg: 4 duplicate labels removed\n",
            "\u001b[34m\u001b[1mval: \u001b[0m/content/dataset/images/val/00000207.jpg: 4 duplicate labels removed\n",
            "\u001b[34m\u001b[1mval: \u001b[0m/content/dataset/images/val/00000208.jpg: 4 duplicate labels removed\n",
            "\u001b[34m\u001b[1mval: \u001b[0m/content/dataset/images/val/00000222.jpg: 4 duplicate labels removed\n",
            "\u001b[34m\u001b[1mval: \u001b[0m/content/dataset/images/val/00000226.jpg: 4 duplicate labels removed\n",
            "\u001b[34m\u001b[1mval: \u001b[0m/content/dataset/images/val/00000231.jpg: 4 duplicate labels removed\n",
            "\u001b[34m\u001b[1mval: \u001b[0m/content/dataset/images/val/00000239.jpg: 8 duplicate labels removed\n",
            "\u001b[34m\u001b[1mval: \u001b[0m/content/dataset/images/val/00000240.jpg: 8 duplicate labels removed\n",
            "\u001b[34m\u001b[1mval: \u001b[0m/content/dataset/images/val/00000265.jpg: 4 duplicate labels removed\n",
            "\u001b[34m\u001b[1mval: \u001b[0m/content/dataset/images/val/00000280.jpg: 4 duplicate labels removed\n",
            "\u001b[34m\u001b[1mval: \u001b[0m/content/dataset/images/val/00000283.jpg: 4 duplicate labels removed\n",
            "\u001b[34m\u001b[1mval: \u001b[0m/content/dataset/images/val/00000296.jpg: 4 duplicate labels removed\n",
            "\u001b[34m\u001b[1mval: \u001b[0m/content/dataset/images/val/00000298.jpg: 4 duplicate labels removed\n",
            "\u001b[34m\u001b[1mval: \u001b[0m/content/dataset/images/val/00000300.jpg: 4 duplicate labels removed\n",
            "\u001b[34m\u001b[1mval: \u001b[0m/content/dataset/images/val/00000301.jpg: 4 duplicate labels removed\n",
            "\u001b[34m\u001b[1mval: \u001b[0m/content/dataset/images/val/00000308.jpg: 4 duplicate labels removed\n",
            "\u001b[34m\u001b[1mval: \u001b[0m/content/dataset/images/val/00000338.jpg: 4 duplicate labels removed\n",
            "\u001b[34m\u001b[1mval: \u001b[0m/content/dataset/images/val/00000340.jpg: 4 duplicate labels removed\n",
            "\u001b[34m\u001b[1mval: \u001b[0m/content/dataset/images/val/00000358.jpg: 4 duplicate labels removed\n",
            "\u001b[34m\u001b[1mval: \u001b[0m/content/dataset/images/val/00000361.jpg: 4 duplicate labels removed\n",
            "\u001b[34m\u001b[1mval: \u001b[0m/content/dataset/images/val/00000364.jpg: 4 duplicate labels removed\n",
            "\u001b[34m\u001b[1mval: \u001b[0m/content/dataset/images/val/00000377.jpg: 4 duplicate labels removed\n",
            "\u001b[34m\u001b[1mval: \u001b[0m/content/dataset/images/val/00000379.jpg: 4 duplicate labels removed\n",
            "\u001b[34m\u001b[1mval: \u001b[0m/content/dataset/images/val/00000408.jpg: 4 duplicate labels removed\n",
            "\u001b[34m\u001b[1mval: \u001b[0m/content/dataset/images/val/00000416.jpg: 4 duplicate labels removed\n",
            "\u001b[34m\u001b[1mval: \u001b[0m/content/dataset/images/val/00000419.jpg: 4 duplicate labels removed\n",
            "\u001b[34m\u001b[1mval: \u001b[0m/content/dataset/images/val/00000423.jpg: 4 duplicate labels removed\n",
            "\u001b[34m\u001b[1mval: \u001b[0m/content/dataset/images/val/00000426.jpg: 4 duplicate labels removed\n",
            "\u001b[34m\u001b[1mval: \u001b[0m/content/dataset/images/val/00000441.jpg: 4 duplicate labels removed\n",
            "\u001b[34m\u001b[1mval: \u001b[0m/content/dataset/images/val/00000447.jpg: 8 duplicate labels removed\n",
            "\u001b[34m\u001b[1mval: \u001b[0m/content/dataset/images/val/00000453.jpg: 4 duplicate labels removed\n",
            "\u001b[34m\u001b[1mval: \u001b[0m/content/dataset/images/val/00000479.jpg: 4 duplicate labels removed\n",
            "\u001b[34m\u001b[1mval: \u001b[0m/content/dataset/images/val/00000485.jpg: 4 duplicate labels removed\n",
            "\u001b[34m\u001b[1mval: \u001b[0m/content/dataset/images/val/00000503.jpg: 4 duplicate labels removed\n",
            "\u001b[34m\u001b[1mval: \u001b[0m/content/dataset/images/val/00000504.jpg: 16 duplicate labels removed\n",
            "\u001b[34m\u001b[1mval: \u001b[0m/content/dataset/images/val/00000508.jpg: 12 duplicate labels removed\n",
            "\u001b[34m\u001b[1mval: \u001b[0m/content/dataset/images/val/00000509.jpg: 4 duplicate labels removed\n",
            "\u001b[34m\u001b[1mval: \u001b[0m/content/dataset/images/val/00000510.jpg: 8 duplicate labels removed\n",
            "\u001b[34m\u001b[1mval: \u001b[0m/content/dataset/images/val/00000516.jpg: 8 duplicate labels removed\n",
            "\u001b[34m\u001b[1mval: \u001b[0m/content/dataset/images/val/00000519.jpg: 4 duplicate labels removed\n",
            "\u001b[34m\u001b[1mval: \u001b[0m/content/dataset/images/val/00000520.jpg: 8 duplicate labels removed\n",
            "\u001b[34m\u001b[1mval: \u001b[0m/content/dataset/images/val/00000521.jpg: 4 duplicate labels removed\n",
            "\u001b[34m\u001b[1mval: \u001b[0m/content/dataset/images/val/00000524.jpg: 8 duplicate labels removed\n",
            "\u001b[34m\u001b[1mval: \u001b[0m/content/dataset/images/val/00000525.jpg: 4 duplicate labels removed\n",
            "\u001b[34m\u001b[1mval: \u001b[0m/content/dataset/images/val/00000528.jpg: 12 duplicate labels removed\n",
            "\u001b[34m\u001b[1mval: \u001b[0m/content/dataset/images/val/00000532.jpg: 4 duplicate labels removed\n",
            "\u001b[34m\u001b[1mval: \u001b[0m/content/dataset/images/val/00000533.jpg: 4 duplicate labels removed\n",
            "\u001b[34m\u001b[1mval: \u001b[0m/content/dataset/images/val/00000535.jpg: 8 duplicate labels removed\n",
            "\u001b[34m\u001b[1mval: \u001b[0m/content/dataset/images/val/00000539.jpg: 4 duplicate labels removed\n",
            "\u001b[34m\u001b[1mval: \u001b[0m/content/dataset/images/val/00000540.jpg: 4 duplicate labels removed\n",
            "\u001b[34m\u001b[1mval: \u001b[0m/content/dataset/images/val/00000542.jpg: 4 duplicate labels removed\n",
            "\u001b[34m\u001b[1mval: \u001b[0m/content/dataset/images/val/00000547.jpg: 4 duplicate labels removed\n",
            "\u001b[34m\u001b[1mval: \u001b[0m/content/dataset/images/val/00000548.jpg: 4 duplicate labels removed\n",
            "\u001b[34m\u001b[1mval: \u001b[0m/content/dataset/images/val/00000549.jpg: 4 duplicate labels removed\n",
            "\u001b[34m\u001b[1mval: \u001b[0m/content/dataset/images/val/00000550.jpg: 8 duplicate labels removed\n",
            "\u001b[34m\u001b[1mval: \u001b[0m/content/dataset/images/val/00000551.jpg: 4 duplicate labels removed\n",
            "\u001b[34m\u001b[1mval: \u001b[0m/content/dataset/images/val/00000556.jpg: 8 duplicate labels removed\n",
            "\u001b[34m\u001b[1mval: \u001b[0m/content/dataset/images/val/00000560.jpg: 8 duplicate labels removed\n",
            "\u001b[34m\u001b[1mval: \u001b[0m/content/dataset/images/val/00000562.jpg: 8 duplicate labels removed\n",
            "\u001b[34m\u001b[1mval: \u001b[0m/content/dataset/images/val/00000563.jpg: 4 duplicate labels removed\n",
            "\u001b[34m\u001b[1mval: \u001b[0m/content/dataset/images/val/00000564.jpg: 4 duplicate labels removed\n",
            "\u001b[34m\u001b[1mval: \u001b[0m/content/dataset/images/val/00000577.jpg: 4 duplicate labels removed\n",
            "\u001b[34m\u001b[1mval: \u001b[0m/content/dataset/images/val/00000593.jpg: 16 duplicate labels removed\n",
            "\u001b[34m\u001b[1mval: \u001b[0m/content/dataset/images/val/00000597.jpg: 4 duplicate labels removed\n",
            "\u001b[34m\u001b[1mval: \u001b[0m/content/dataset/images/val/00000598.jpg: 4 duplicate labels removed\n",
            "\u001b[34m\u001b[1mval: \u001b[0m/content/dataset/images/val/00000602.jpg: 8 duplicate labels removed\n",
            "\u001b[34m\u001b[1mval: \u001b[0m/content/dataset/images/val/00000604.jpg: 4 duplicate labels removed\n",
            "\u001b[34m\u001b[1mval: \u001b[0m/content/dataset/images/val/00000605.jpg: 4 duplicate labels removed\n",
            "\u001b[34m\u001b[1mval: \u001b[0m/content/dataset/images/val/00000609.jpg: 8 duplicate labels removed\n",
            "\u001b[34m\u001b[1mval: \u001b[0m/content/dataset/images/val/00000610.jpg: 4 duplicate labels removed\n",
            "\u001b[34m\u001b[1mval: \u001b[0m/content/dataset/images/val/00000612.jpg: 4 duplicate labels removed\n",
            "\u001b[34m\u001b[1mval: \u001b[0m/content/dataset/images/val/00000615.jpg: 4 duplicate labels removed\n",
            "\u001b[34m\u001b[1mval: \u001b[0m/content/dataset/images/val/00000617.jpg: 4 duplicate labels removed\n",
            "\u001b[34m\u001b[1mval: \u001b[0m/content/dataset/images/val/00000618.jpg: 4 duplicate labels removed\n",
            "\u001b[34m\u001b[1mval: \u001b[0m/content/dataset/images/val/00000621.jpg: 4 duplicate labels removed\n",
            "\u001b[34m\u001b[1mval: \u001b[0m/content/dataset/images/val/00000625.jpg: 4 duplicate labels removed\n",
            "\u001b[34m\u001b[1mval: \u001b[0m/content/dataset/images/val/00000626.jpg: 4 duplicate labels removed\n",
            "\u001b[34m\u001b[1mval: \u001b[0m/content/dataset/images/val/00000637.jpg: 4 duplicate labels removed\n",
            "\u001b[34m\u001b[1mval: \u001b[0m/content/dataset/images/val/00000645.jpg: 8 duplicate labels removed\n",
            "\u001b[34m\u001b[1mval: \u001b[0m/content/dataset/images/val/00000652.jpg: 8 duplicate labels removed\n",
            "\u001b[34m\u001b[1mval: \u001b[0m/content/dataset/images/val/00000657.jpg: 8 duplicate labels removed\n",
            "\u001b[34m\u001b[1mval: \u001b[0m/content/dataset/images/val/00000661.jpg: 4 duplicate labels removed\n",
            "\u001b[34m\u001b[1mval: \u001b[0m/content/dataset/images/val/00000664.jpg: 4 duplicate labels removed\n",
            "\u001b[34m\u001b[1mval: \u001b[0m/content/dataset/images/val/00000672.jpg: 4 duplicate labels removed\n",
            "\u001b[34m\u001b[1mval: \u001b[0m/content/dataset/images/val/00000675.jpg: 8 duplicate labels removed\n",
            "\u001b[34m\u001b[1mval: \u001b[0m/content/dataset/images/val/00000679.jpg: 4 duplicate labels removed\n",
            "\u001b[34m\u001b[1mval: \u001b[0m/content/dataset/images/val/00000681.jpg: 4 duplicate labels removed\n",
            "\u001b[34m\u001b[1mval: \u001b[0m/content/dataset/images/val/00000697.jpg: 8 duplicate labels removed\n",
            "\u001b[34m\u001b[1mval: \u001b[0m/content/dataset/images/val/00000702.jpg: 4 duplicate labels removed\n",
            "\u001b[34m\u001b[1mval: \u001b[0m/content/dataset/images/val/00000704.jpg: 8 duplicate labels removed\n",
            "\u001b[34m\u001b[1mval: \u001b[0m/content/dataset/images/val/00000707.jpg: 4 duplicate labels removed\n",
            "\u001b[34m\u001b[1mval: \u001b[0m/content/dataset/images/val/00000726.jpg: 4 duplicate labels removed\n",
            "\u001b[34m\u001b[1mval: \u001b[0m/content/dataset/images/val/00000729.jpg: 8 duplicate labels removed\n",
            "\u001b[34m\u001b[1mval: \u001b[0m/content/dataset/images/val/00000734.jpg: 4 duplicate labels removed\n",
            "\u001b[34m\u001b[1mval: \u001b[0m/content/dataset/images/val/00000737.jpg: 12 duplicate labels removed\n",
            "\u001b[34m\u001b[1mval: \u001b[0m/content/dataset/images/val/00000741.jpg: 4 duplicate labels removed\n",
            "\u001b[34m\u001b[1mval: \u001b[0m/content/dataset/images/val/00000755.jpg: 4 duplicate labels removed\n",
            "\u001b[34m\u001b[1mval: \u001b[0m/content/dataset/images/val/00000768.jpg: 4 duplicate labels removed\n",
            "\u001b[34m\u001b[1mval: \u001b[0m/content/dataset/images/val/00000775.jpg: 4 duplicate labels removed\n",
            "\u001b[34m\u001b[1mval: \u001b[0m/content/dataset/images/val/00000777.jpg: 4 duplicate labels removed\n",
            "\u001b[34m\u001b[1mval: \u001b[0m/content/dataset/images/val/00000788.jpg: 4 duplicate labels removed\n",
            "\u001b[34m\u001b[1mval: \u001b[0m/content/dataset/images/val/00000790.jpg: 4 duplicate labels removed\n",
            "\u001b[34m\u001b[1mval: \u001b[0m/content/dataset/images/val/00000796.jpg: 4 duplicate labels removed\n",
            "\u001b[34m\u001b[1mval: \u001b[0m/content/dataset/images/val/00000799.jpg: 4 duplicate labels removed\n",
            "\u001b[34m\u001b[1mval: \u001b[0m/content/dataset/images/val/00000807.jpg: 4 duplicate labels removed\n",
            "\u001b[34m\u001b[1mval: \u001b[0m/content/dataset/images/val/00000812.jpg: 4 duplicate labels removed\n",
            "\u001b[34m\u001b[1mval: \u001b[0m/content/dataset/images/val/00000817.jpg: 4 duplicate labels removed\n",
            "\u001b[34m\u001b[1mval: \u001b[0m/content/dataset/images/val/00000824.jpg: 4 duplicate labels removed\n",
            "\u001b[34m\u001b[1mval: \u001b[0m/content/dataset/images/val/00000825.jpg: 4 duplicate labels removed\n",
            "\u001b[34m\u001b[1mval: \u001b[0m/content/dataset/images/val/00000827.jpg: 4 duplicate labels removed\n",
            "\u001b[34m\u001b[1mval: \u001b[0m/content/dataset/images/val/00000842.jpg: 4 duplicate labels removed\n",
            "\u001b[34m\u001b[1mval: \u001b[0m/content/dataset/images/val/00000843.jpg: 4 duplicate labels removed\n",
            "\u001b[34m\u001b[1mval: \u001b[0m/content/dataset/images/val/00000851.jpg: 4 duplicate labels removed\n",
            "\u001b[34m\u001b[1mval: \u001b[0m/content/dataset/images/val/00000864.jpg: 4 duplicate labels removed\n",
            "\u001b[34m\u001b[1mval: \u001b[0m/content/dataset/images/val/00000875.jpg: 4 duplicate labels removed\n",
            "\u001b[34m\u001b[1mval: \u001b[0m/content/dataset/images/val/00000876.jpg: 4 duplicate labels removed\n",
            "\u001b[34m\u001b[1mval: \u001b[0m/content/dataset/images/val/00000877.jpg: 4 duplicate labels removed\n",
            "\u001b[34m\u001b[1mval: \u001b[0m/content/dataset/images/val/00000881.jpg: 4 duplicate labels removed\n",
            "\u001b[34m\u001b[1mval: \u001b[0m/content/dataset/images/val/00000895.jpg: 4 duplicate labels removed\n",
            "\u001b[34m\u001b[1mval: \u001b[0m/content/dataset/images/val/00000899.jpg: 4 duplicate labels removed\n",
            "\u001b[34m\u001b[1mval: \u001b[0m/content/dataset/images/val/00000900.jpg: 4 duplicate labels removed\n",
            "\u001b[34m\u001b[1mval: \u001b[0m/content/dataset/images/val/00000908.jpg: 4 duplicate labels removed\n",
            "\u001b[34m\u001b[1mval: \u001b[0m/content/dataset/images/val/00000923.jpg: 4 duplicate labels removed\n",
            "\u001b[34m\u001b[1mval: \u001b[0m/content/dataset/images/val/00000948.jpg: 4 duplicate labels removed\n",
            "\u001b[34m\u001b[1mval: \u001b[0m/content/dataset/images/val/00000959.jpg: 4 duplicate labels removed\n",
            "\u001b[34m\u001b[1mval: \u001b[0m/content/dataset/images/val/00000969.jpg: 4 duplicate labels removed\n",
            "\u001b[34m\u001b[1mval: \u001b[0m/content/dataset/images/val/00000970.jpg: 4 duplicate labels removed\n",
            "\u001b[34m\u001b[1mval: \u001b[0m/content/dataset/images/val/00000982.jpg: 4 duplicate labels removed\n",
            "\u001b[34m\u001b[1mval: \u001b[0m/content/dataset/images/val/00000986.jpg: 4 duplicate labels removed\n",
            "\u001b[34m\u001b[1mval: \u001b[0m/content/dataset/images/val/00000993.jpg: 4 duplicate labels removed\n",
            "\u001b[34m\u001b[1mval: \u001b[0m/content/dataset/images/val/00000995.jpg: 4 duplicate labels removed\n",
            "\u001b[34m\u001b[1mval: \u001b[0m/content/dataset/images/val/00000997.jpg: 4 duplicate labels removed\n",
            "\u001b[34m\u001b[1mval: \u001b[0m/content/dataset/images/val/00001001.jpg: 4 duplicate labels removed\n",
            "\u001b[34m\u001b[1mval: \u001b[0m/content/dataset/images/val/00001006.jpg: 4 duplicate labels removed\n",
            "\u001b[34m\u001b[1mval: \u001b[0m/content/dataset/images/val/00001021.jpg: 4 duplicate labels removed\n",
            "\u001b[34m\u001b[1mval: \u001b[0m/content/dataset/images/val/00001023.jpg: 4 duplicate labels removed\n",
            "\u001b[34m\u001b[1mval: \u001b[0m/content/dataset/images/val/00001025.jpg: 4 duplicate labels removed\n",
            "\u001b[34m\u001b[1mval: \u001b[0m/content/dataset/images/val/00001027.jpg: 4 duplicate labels removed\n",
            "\u001b[34m\u001b[1mval: \u001b[0m/content/dataset/images/val/00001035.jpg: 4 duplicate labels removed\n",
            "\u001b[34m\u001b[1mval: \u001b[0m/content/dataset/images/val/00001038.jpg: 4 duplicate labels removed\n",
            "\u001b[34m\u001b[1mval: \u001b[0m/content/dataset/images/val/00001040.jpg: 4 duplicate labels removed\n",
            "\u001b[34m\u001b[1mval: \u001b[0m/content/dataset/images/val/00001045.jpg: 4 duplicate labels removed\n",
            "\u001b[34m\u001b[1mval: \u001b[0m/content/dataset/images/val/00001059.jpg: 4 duplicate labels removed\n",
            "\u001b[34m\u001b[1mval: \u001b[0m/content/dataset/images/val/00001083.jpg: 4 duplicate labels removed\n",
            "\u001b[34m\u001b[1mval: \u001b[0m/content/dataset/images/val/00001084.jpg: 4 duplicate labels removed\n",
            "\u001b[34m\u001b[1mval: \u001b[0m/content/dataset/images/val/00001093.jpg: 4 duplicate labels removed\n",
            "\u001b[34m\u001b[1mval: \u001b[0m/content/dataset/images/val/00001099.jpg: 4 duplicate labels removed\n",
            "\u001b[34m\u001b[1mval: \u001b[0m/content/dataset/images/val/00001104.jpg: 4 duplicate labels removed\n",
            "\u001b[34m\u001b[1mval: \u001b[0m/content/dataset/images/val/00001105.jpg: 4 duplicate labels removed\n",
            "\u001b[34m\u001b[1mval: \u001b[0m/content/dataset/images/val/00001123.jpg: 4 duplicate labels removed\n",
            "\u001b[34m\u001b[1mval: \u001b[0m/content/dataset/images/val/00001152.jpg: 4 duplicate labels removed\n",
            "\u001b[34m\u001b[1mval: \u001b[0m/content/dataset/images/val/00001156.jpg: 4 duplicate labels removed\n",
            "\u001b[34m\u001b[1mval: \u001b[0m/content/dataset/images/val/00001161.jpg: 4 duplicate labels removed\n",
            "\u001b[34m\u001b[1mval: \u001b[0m/content/dataset/images/val/00001162.jpg: 4 duplicate labels removed\n",
            "\u001b[34m\u001b[1mval: \u001b[0m/content/dataset/images/val/00001165.jpg: 8 duplicate labels removed\n",
            "\u001b[34m\u001b[1mval: \u001b[0m/content/dataset/images/val/00001180.jpg: 4 duplicate labels removed\n",
            "\u001b[34m\u001b[1mval: \u001b[0m/content/dataset/images/val/00001182.jpg: 4 duplicate labels removed\n",
            "\u001b[34m\u001b[1mval: \u001b[0m/content/dataset/images/val/00001195.jpg: 4 duplicate labels removed\n",
            "\u001b[34m\u001b[1mval: \u001b[0m/content/dataset/images/val/00001221.jpg: 4 duplicate labels removed\n",
            "\u001b[34m\u001b[1mval: \u001b[0m/content/dataset/images/val/00001222.jpg: 4 duplicate labels removed\n",
            "\u001b[34m\u001b[1mval: \u001b[0m/content/dataset/images/val/00001231.jpg: 4 duplicate labels removed\n",
            "\u001b[34m\u001b[1mval: \u001b[0m/content/dataset/images/val/00001235.jpg: 4 duplicate labels removed\n",
            "\u001b[34m\u001b[1mval: \u001b[0m/content/dataset/images/val/00001236.jpg: 4 duplicate labels removed\n",
            "\u001b[34m\u001b[1mval: \u001b[0m/content/dataset/images/val/00001243.jpg: 4 duplicate labels removed\n",
            "\u001b[34m\u001b[1mval: \u001b[0m/content/dataset/images/val/00001246.jpg: 4 duplicate labels removed\n",
            "\u001b[34m\u001b[1mval: \u001b[0m/content/dataset/images/val/00001251.jpg: 4 duplicate labels removed\n",
            "\u001b[34m\u001b[1mval: \u001b[0m/content/dataset/images/val/00001255.jpg: 4 duplicate labels removed\n",
            "\u001b[34m\u001b[1mval: \u001b[0m/content/dataset/images/val/00001270.jpg: 4 duplicate labels removed\n",
            "\u001b[34m\u001b[1mval: \u001b[0m/content/dataset/images/val/00001271.jpg: 4 duplicate labels removed\n",
            "\u001b[34m\u001b[1mval: \u001b[0m/content/dataset/images/val/00001273.jpg: 4 duplicate labels removed\n",
            "\u001b[34m\u001b[1mval: \u001b[0m/content/dataset/images/val/00001281.jpg: 4 duplicate labels removed\n",
            "\u001b[34m\u001b[1mval: \u001b[0m/content/dataset/images/val/00001284.jpg: 8 duplicate labels removed\n",
            "\u001b[34m\u001b[1mval: \u001b[0m/content/dataset/images/val/00001286.jpg: 4 duplicate labels removed\n",
            "\u001b[34m\u001b[1mval: \u001b[0m/content/dataset/images/val/00001287.jpg: 4 duplicate labels removed\n",
            "\u001b[34m\u001b[1mval: \u001b[0m/content/dataset/images/val/00001289.jpg: 4 duplicate labels removed\n",
            "\u001b[34m\u001b[1mval: \u001b[0m/content/dataset/images/val/00001293.jpg: 4 duplicate labels removed\n",
            "\u001b[34m\u001b[1mval: \u001b[0m/content/dataset/images/val/00001295.jpg: 4 duplicate labels removed\n",
            "\u001b[34m\u001b[1mval: \u001b[0m/content/dataset/images/val/00001305.jpg: 4 duplicate labels removed\n",
            "\u001b[34m\u001b[1mval: \u001b[0m/content/dataset/images/val/00001319.jpg: 4 duplicate labels removed\n",
            "\u001b[34m\u001b[1mval: \u001b[0m/content/dataset/images/val/00001320.jpg: 4 duplicate labels removed\n",
            "\u001b[34m\u001b[1mval: \u001b[0m/content/dataset/images/val/00001325.jpg: 4 duplicate labels removed\n",
            "\u001b[34m\u001b[1mval: \u001b[0m/content/dataset/images/val/00001327.jpg: 4 duplicate labels removed\n",
            "\u001b[34m\u001b[1mval: \u001b[0m/content/dataset/images/val/00001355.jpg: 4 duplicate labels removed\n",
            "\u001b[34m\u001b[1mval: \u001b[0m/content/dataset/images/val/00001363.jpg: 4 duplicate labels removed\n",
            "\u001b[34m\u001b[1mval: \u001b[0m/content/dataset/images/val/00001368.jpg: 4 duplicate labels removed\n",
            "\u001b[34m\u001b[1mval: \u001b[0m/content/dataset/images/val/00001376.jpg: 4 duplicate labels removed\n",
            "\u001b[34m\u001b[1mval: \u001b[0m/content/dataset/images/val/00001399.jpg: 4 duplicate labels removed\n",
            "\u001b[34m\u001b[1mval: \u001b[0m/content/dataset/images/val/00001402.jpg: 4 duplicate labels removed\n",
            "\u001b[34m\u001b[1mval: \u001b[0m/content/dataset/images/val/00001410.jpg: 4 duplicate labels removed\n",
            "\u001b[34m\u001b[1mval: \u001b[0m/content/dataset/images/val/00001420.jpg: 4 duplicate labels removed\n",
            "\u001b[34m\u001b[1mval: \u001b[0m/content/dataset/images/val/00001433.jpg: 4 duplicate labels removed\n",
            "\u001b[34m\u001b[1mval: \u001b[0m/content/dataset/images/val/00001435.jpg: 4 duplicate labels removed\n",
            "\u001b[34m\u001b[1mval: \u001b[0m/content/dataset/images/val/00001439.jpg: 4 duplicate labels removed\n",
            "\u001b[34m\u001b[1mval: \u001b[0m/content/dataset/images/val/00001448.jpg: 4 duplicate labels removed\n",
            "\u001b[34m\u001b[1mval: \u001b[0m/content/dataset/images/val/00001461.jpg: 4 duplicate labels removed\n",
            "\u001b[34m\u001b[1mval: \u001b[0m/content/dataset/images/val/00001463.jpg: 4 duplicate labels removed\n",
            "\u001b[34m\u001b[1mval: \u001b[0m/content/dataset/images/val/00001469.jpg: 4 duplicate labels removed\n",
            "\u001b[34m\u001b[1mval: \u001b[0m/content/dataset/images/val/00001474.jpg: 12 duplicate labels removed\n",
            "\u001b[34m\u001b[1mval: \u001b[0m/content/dataset/images/val/00001479.jpg: 4 duplicate labels removed\n",
            "\u001b[34m\u001b[1mval: \u001b[0m/content/dataset/images/val/00001482.jpg: 4 duplicate labels removed\n",
            "\u001b[34m\u001b[1mval: \u001b[0m/content/dataset/images/val/00001494.jpg: 4 duplicate labels removed\n",
            "\u001b[34m\u001b[1mval: \u001b[0m/content/dataset/images/val/00001499.jpg: 4 duplicate labels removed\n",
            "\u001b[34m\u001b[1mval: \u001b[0m/content/dataset/images/val/00001514.jpg: 4 duplicate labels removed\n",
            "\u001b[34m\u001b[1mval: \u001b[0m/content/dataset/images/val/00001515.jpg: 4 duplicate labels removed\n",
            "\u001b[34m\u001b[1mval: \u001b[0m/content/dataset/images/val/00001520.jpg: 8 duplicate labels removed\n",
            "\u001b[34m\u001b[1mval: \u001b[0m/content/dataset/images/val/00001533.jpg: 4 duplicate labels removed\n",
            "\u001b[34m\u001b[1mval: \u001b[0m/content/dataset/images/val/00001535.jpg: 4 duplicate labels removed\n",
            "\u001b[34m\u001b[1mval: \u001b[0m/content/dataset/images/val/00001537.jpg: 4 duplicate labels removed\n",
            "\u001b[34m\u001b[1mval: \u001b[0m/content/dataset/images/val/00001544.jpg: 4 duplicate labels removed\n",
            "\u001b[34m\u001b[1mval: \u001b[0m/content/dataset/images/val/00001555.jpg: 4 duplicate labels removed\n",
            "\u001b[34m\u001b[1mval: \u001b[0m/content/dataset/images/val/00001557.jpg: 4 duplicate labels removed\n",
            "\u001b[34m\u001b[1mval: \u001b[0m/content/dataset/images/val/00001562.jpg: 4 duplicate labels removed\n",
            "\u001b[34m\u001b[1mval: \u001b[0m/content/dataset/images/val/00001568.jpg: 4 duplicate labels removed\n",
            "\u001b[34m\u001b[1mval: \u001b[0m/content/dataset/images/val/00001585.jpg: 4 duplicate labels removed\n",
            "\u001b[34m\u001b[1mval: \u001b[0m/content/dataset/images/val/00001588.jpg: 4 duplicate labels removed\n",
            "\u001b[34m\u001b[1mval: \u001b[0m/content/dataset/images/val/00001591.jpg: 4 duplicate labels removed\n",
            "\u001b[34m\u001b[1mval: \u001b[0m/content/dataset/images/val/00001592.jpg: 4 duplicate labels removed\n",
            "\u001b[34m\u001b[1mval: \u001b[0m/content/dataset/images/val/00001595.jpg: 4 duplicate labels removed\n",
            "\u001b[34m\u001b[1mval: \u001b[0m/content/dataset/images/val/00001607.jpg: 4 duplicate labels removed\n",
            "\u001b[34m\u001b[1mval: \u001b[0m/content/dataset/images/val/00001615.jpg: 4 duplicate labels removed\n",
            "\u001b[34m\u001b[1mval: \u001b[0m/content/dataset/images/val/00001635.jpg: 4 duplicate labels removed\n",
            "\u001b[34m\u001b[1mval: \u001b[0m/content/dataset/images/val/00001636.jpg: 4 duplicate labels removed\n",
            "\u001b[34m\u001b[1mval: \u001b[0m/content/dataset/images/val/00001641.jpg: 4 duplicate labels removed\n",
            "\u001b[34m\u001b[1mval: \u001b[0m/content/dataset/images/val/00001643.jpg: 4 duplicate labels removed\n",
            "\u001b[34m\u001b[1mval: \u001b[0m/content/dataset/images/val/00001646.jpg: 4 duplicate labels removed\n",
            "\u001b[34m\u001b[1mval: \u001b[0m/content/dataset/images/val/00001647.jpg: 4 duplicate labels removed\n",
            "\u001b[34m\u001b[1mval: \u001b[0m/content/dataset/images/val/00001658.jpg: 4 duplicate labels removed\n",
            "\u001b[34m\u001b[1mval: \u001b[0m/content/dataset/images/val/00001665.jpg: 4 duplicate labels removed\n",
            "\u001b[34m\u001b[1mval: \u001b[0m/content/dataset/images/val/00001687.jpg: 4 duplicate labels removed\n",
            "\u001b[34m\u001b[1mval: \u001b[0m/content/dataset/images/val/00001689.jpg: 8 duplicate labels removed\n",
            "\u001b[34m\u001b[1mval: \u001b[0m/content/dataset/images/val/00001699.jpg: 4 duplicate labels removed\n",
            "\u001b[34m\u001b[1mval: \u001b[0m/content/dataset/images/val/00001702.jpg: 4 duplicate labels removed\n",
            "\u001b[34m\u001b[1mval: \u001b[0m/content/dataset/images/val/00001704.jpg: 4 duplicate labels removed\n",
            "\u001b[34m\u001b[1mval: \u001b[0m/content/dataset/images/val/00001705.jpg: 4 duplicate labels removed\n",
            "\u001b[34m\u001b[1mval: \u001b[0m/content/dataset/images/val/00001708.jpg: 4 duplicate labels removed\n",
            "\u001b[34m\u001b[1mval: \u001b[0m/content/dataset/images/val/00001720.jpg: 4 duplicate labels removed\n",
            "\u001b[34m\u001b[1mval: \u001b[0m/content/dataset/images/val/00001722.jpg: 4 duplicate labels removed\n",
            "\u001b[34m\u001b[1mval: \u001b[0m/content/dataset/images/val/00001723.jpg: 4 duplicate labels removed\n",
            "\u001b[34m\u001b[1mval: \u001b[0m/content/dataset/images/val/00001730.jpg: 4 duplicate labels removed\n",
            "\u001b[34m\u001b[1mval: \u001b[0m/content/dataset/images/val/00001732.jpg: 4 duplicate labels removed\n",
            "\u001b[34m\u001b[1mval: \u001b[0m/content/dataset/images/val/00001735.jpg: 4 duplicate labels removed\n",
            "\u001b[34m\u001b[1mval: \u001b[0m/content/dataset/images/val/00001739.jpg: 4 duplicate labels removed\n",
            "\u001b[34m\u001b[1mval: \u001b[0m/content/dataset/images/val/00001741.jpg: 4 duplicate labels removed\n",
            "\u001b[34m\u001b[1mval: \u001b[0m/content/dataset/images/val/00001742.jpg: 4 duplicate labels removed\n",
            "\u001b[34m\u001b[1mval: \u001b[0m/content/dataset/images/val/00001744.jpg: 4 duplicate labels removed\n",
            "\u001b[34m\u001b[1mval: \u001b[0m/content/dataset/images/val/00001751.jpg: 4 duplicate labels removed\n",
            "\u001b[34m\u001b[1mval: \u001b[0m/content/dataset/images/val/00001758.jpg: 4 duplicate labels removed\n",
            "\u001b[34m\u001b[1mval: \u001b[0m/content/dataset/images/val/00001761.jpg: 4 duplicate labels removed\n",
            "\u001b[34m\u001b[1mval: \u001b[0m/content/dataset/images/val/00001767.jpg: 4 duplicate labels removed\n",
            "\u001b[34m\u001b[1mval: \u001b[0m/content/dataset/images/val/00001783.jpg: 4 duplicate labels removed\n",
            "\u001b[34m\u001b[1mval: \u001b[0m/content/dataset/images/val/00001785.jpg: 4 duplicate labels removed\n",
            "\u001b[34m\u001b[1mval: \u001b[0m/content/dataset/images/val/00001796.jpg: 4 duplicate labels removed\n",
            "\u001b[34m\u001b[1mval: \u001b[0m/content/dataset/images/val/00001801.jpg: 4 duplicate labels removed\n",
            "\u001b[34m\u001b[1mval: \u001b[0m/content/dataset/images/val/00001803.jpg: 4 duplicate labels removed\n",
            "\u001b[34m\u001b[1mval: \u001b[0m/content/dataset/images/val/00001807.jpg: 4 duplicate labels removed\n",
            "\u001b[34m\u001b[1mval: \u001b[0m/content/dataset/images/val/00001814.jpg: 4 duplicate labels removed\n",
            "\u001b[34m\u001b[1mval: \u001b[0m/content/dataset/images/val/00001829.jpg: 4 duplicate labels removed\n",
            "\u001b[34m\u001b[1mval: \u001b[0m/content/dataset/images/val/00001839.jpg: 4 duplicate labels removed\n",
            "\u001b[34m\u001b[1mval: \u001b[0m/content/dataset/images/val/00001845.jpg: 4 duplicate labels removed\n",
            "\u001b[34m\u001b[1mval: \u001b[0m/content/dataset/images/val/00001848.jpg: 4 duplicate labels removed\n",
            "\u001b[34m\u001b[1mval: \u001b[0m/content/dataset/images/val/00001850.jpg: 4 duplicate labels removed\n",
            "\u001b[34m\u001b[1mval: \u001b[0m/content/dataset/images/val/00001856.jpg: 4 duplicate labels removed\n",
            "\u001b[34m\u001b[1mval: \u001b[0m/content/dataset/images/val/00001861.jpg: 4 duplicate labels removed\n",
            "\u001b[34m\u001b[1mval: \u001b[0m/content/dataset/images/val/00001869.jpg: 4 duplicate labels removed\n",
            "\u001b[34m\u001b[1mval: \u001b[0m/content/dataset/images/val/00001876.jpg: 4 duplicate labels removed\n",
            "\u001b[34m\u001b[1mval: \u001b[0m/content/dataset/images/val/00001884.jpg: 4 duplicate labels removed\n",
            "\u001b[34m\u001b[1mval: \u001b[0m/content/dataset/images/val/00001885.jpg: 4 duplicate labels removed\n",
            "\u001b[34m\u001b[1mval: \u001b[0m/content/dataset/images/val/00001886.jpg: 4 duplicate labels removed\n",
            "\u001b[34m\u001b[1mval: \u001b[0m/content/dataset/images/val/00001899.jpg: 4 duplicate labels removed\n",
            "\u001b[34m\u001b[1mval: \u001b[0m/content/dataset/images/val/00001902.jpg: 4 duplicate labels removed\n",
            "\u001b[34m\u001b[1mval: \u001b[0m/content/dataset/images/val/00001908.jpg: 4 duplicate labels removed\n",
            "\u001b[34m\u001b[1mval: \u001b[0m/content/dataset/images/val/00001913.jpg: 4 duplicate labels removed\n",
            "\u001b[34m\u001b[1mval: \u001b[0m/content/dataset/images/val/00001916.jpg: 4 duplicate labels removed\n",
            "\u001b[34m\u001b[1mval: \u001b[0m/content/dataset/images/val/00001929.jpg: 4 duplicate labels removed\n",
            "\u001b[34m\u001b[1mval: \u001b[0m/content/dataset/images/val/00001933.jpg: 4 duplicate labels removed\n",
            "\u001b[34m\u001b[1mval: \u001b[0m/content/dataset/images/val/00001942.jpg: 4 duplicate labels removed\n",
            "\u001b[34m\u001b[1mval: \u001b[0m/content/dataset/images/val/00001955.jpg: 8 duplicate labels removed\n",
            "\u001b[34m\u001b[1mval: \u001b[0m/content/dataset/images/val/00001956.jpg: 4 duplicate labels removed\n",
            "\u001b[34m\u001b[1mval: \u001b[0m/content/dataset/images/val/00001958.jpg: 4 duplicate labels removed\n",
            "\u001b[34m\u001b[1mval: \u001b[0m/content/dataset/images/val/00001965.jpg: 4 duplicate labels removed\n",
            "\u001b[34m\u001b[1mval: \u001b[0m/content/dataset/images/val/00001974.jpg: 4 duplicate labels removed\n",
            "\u001b[34m\u001b[1mval: \u001b[0m/content/dataset/images/val/00001975.jpg: 4 duplicate labels removed\n",
            "\u001b[34m\u001b[1mval: \u001b[0m/content/dataset/images/val/00001980.jpg: 8 duplicate labels removed\n",
            "\u001b[34m\u001b[1mval: \u001b[0m/content/dataset/images/val/00001990.jpg: 4 duplicate labels removed\n",
            "\u001b[34m\u001b[1mval: \u001b[0m/content/dataset/images/val/00002001.jpg: 4 duplicate labels removed\n",
            "\u001b[34m\u001b[1mval: \u001b[0m/content/dataset/images/val/00002013.jpg: 4 duplicate labels removed\n",
            "\u001b[34m\u001b[1mval: \u001b[0m/content/dataset/images/val/00002020.jpg: 8 duplicate labels removed\n",
            "\u001b[34m\u001b[1mval: \u001b[0m/content/dataset/images/val/00002026.jpg: 4 duplicate labels removed\n",
            "\u001b[34m\u001b[1mval: \u001b[0m/content/dataset/images/val/00002029.jpg: 4 duplicate labels removed\n",
            "\u001b[34m\u001b[1mval: \u001b[0m/content/dataset/images/val/00002030.jpg: 4 duplicate labels removed\n",
            "\u001b[34m\u001b[1mval: \u001b[0m/content/dataset/images/val/00002031.jpg: 4 duplicate labels removed\n",
            "\u001b[34m\u001b[1mval: \u001b[0m/content/dataset/images/val/00002034.jpg: 4 duplicate labels removed\n",
            "\u001b[34m\u001b[1mval: \u001b[0m/content/dataset/images/val/00002035.jpg: 4 duplicate labels removed\n",
            "\u001b[34m\u001b[1mval: \u001b[0m/content/dataset/images/val/00002037.jpg: 4 duplicate labels removed\n",
            "\u001b[34m\u001b[1mval: \u001b[0m/content/dataset/images/val/00002040.jpg: 4 duplicate labels removed\n",
            "\u001b[34m\u001b[1mval: \u001b[0m/content/dataset/images/val/00002043.jpg: 4 duplicate labels removed\n",
            "\u001b[34m\u001b[1mval: \u001b[0m/content/dataset/images/val/00002045.jpg: 8 duplicate labels removed\n",
            "\u001b[34m\u001b[1mval: \u001b[0m/content/dataset/images/val/00002058.jpg: 4 duplicate labels removed\n",
            "\u001b[34m\u001b[1mval: \u001b[0m/content/dataset/images/val/00002064.jpg: 4 duplicate labels removed\n",
            "\u001b[34m\u001b[1mval: \u001b[0m/content/dataset/images/val/00002065.jpg: 4 duplicate labels removed\n",
            "\u001b[34m\u001b[1mval: \u001b[0m/content/dataset/images/val/00002071.jpg: 4 duplicate labels removed\n",
            "\u001b[34m\u001b[1mval: \u001b[0m/content/dataset/images/val/00002074.jpg: 4 duplicate labels removed\n",
            "\u001b[34m\u001b[1mval: \u001b[0m/content/dataset/images/val/00002089.jpg: 4 duplicate labels removed\n",
            "\u001b[34m\u001b[1mval: \u001b[0m/content/dataset/images/val/00002090.jpg: 4 duplicate labels removed\n",
            "\u001b[34m\u001b[1mval: \u001b[0m/content/dataset/images/val/00002099.jpg: 4 duplicate labels removed\n",
            "\u001b[34m\u001b[1mval: \u001b[0m/content/dataset/images/val/00002103.jpg: 4 duplicate labels removed\n",
            "\u001b[34m\u001b[1mval: \u001b[0m/content/dataset/images/val/00002125.jpg: 4 duplicate labels removed\n",
            "\u001b[34m\u001b[1mval: \u001b[0m/content/dataset/images/val/00002132.jpg: 4 duplicate labels removed\n",
            "\u001b[34m\u001b[1mval: \u001b[0m/content/dataset/images/val/00002141.jpg: 4 duplicate labels removed\n",
            "\u001b[34m\u001b[1mval: \u001b[0m/content/dataset/images/val/00002147.jpg: 4 duplicate labels removed\n",
            "\u001b[34m\u001b[1mval: \u001b[0m/content/dataset/images/val/00002153.jpg: 4 duplicate labels removed\n",
            "\u001b[34m\u001b[1mval: \u001b[0m/content/dataset/images/val/00002161.jpg: 4 duplicate labels removed\n",
            "\u001b[34m\u001b[1mval: \u001b[0m/content/dataset/images/val/00002163.jpg: 4 duplicate labels removed\n",
            "\u001b[34m\u001b[1mval: \u001b[0m/content/dataset/images/val/00002167.jpg: 4 duplicate labels removed\n",
            "\u001b[34m\u001b[1mval: \u001b[0m/content/dataset/images/val/00002168.jpg: 8 duplicate labels removed\n",
            "\u001b[34m\u001b[1mval: \u001b[0m/content/dataset/images/val/00002190.jpg: 4 duplicate labels removed\n",
            "\u001b[34m\u001b[1mval: \u001b[0m/content/dataset/images/val/00002191.jpg: 4 duplicate labels removed\n",
            "\u001b[34m\u001b[1mval: \u001b[0m/content/dataset/images/val/00002192.jpg: 4 duplicate labels removed\n",
            "\u001b[34m\u001b[1mval: \u001b[0m/content/dataset/images/val/00002202.jpg: 4 duplicate labels removed\n",
            "\u001b[34m\u001b[1mval: \u001b[0m/content/dataset/images/val/00002205.jpg: 4 duplicate labels removed\n",
            "\u001b[34m\u001b[1mval: \u001b[0m/content/dataset/images/val/00002239.jpg: 4 duplicate labels removed\n",
            "\u001b[34m\u001b[1mval: \u001b[0m/content/dataset/images/val/00002258.jpg: 4 duplicate labels removed\n",
            "\u001b[34m\u001b[1mval: \u001b[0m/content/dataset/images/val/00002267.jpg: 4 duplicate labels removed\n",
            "\u001b[34m\u001b[1mval: \u001b[0m/content/dataset/images/val/00002269.jpg: 4 duplicate labels removed\n",
            "\u001b[34m\u001b[1mval: \u001b[0m/content/dataset/images/val/00002272.jpg: 4 duplicate labels removed\n",
            "\u001b[34m\u001b[1mval: \u001b[0m/content/dataset/images/val/00002282.jpg: 4 duplicate labels removed\n",
            "\u001b[34m\u001b[1mval: \u001b[0m/content/dataset/images/val/00002296.jpg: 4 duplicate labels removed\n",
            "\u001b[34m\u001b[1mval: \u001b[0m/content/dataset/images/val/00002299.jpg: 4 duplicate labels removed\n",
            "\u001b[34m\u001b[1mval: \u001b[0m/content/dataset/images/val/00002300.jpg: 4 duplicate labels removed\n",
            "\u001b[34m\u001b[1mval: \u001b[0m/content/dataset/images/val/00002303.jpg: 4 duplicate labels removed\n",
            "\u001b[34m\u001b[1mval: \u001b[0m/content/dataset/images/val/00002305.jpg: 4 duplicate labels removed\n",
            "\u001b[34m\u001b[1mval: \u001b[0m/content/dataset/images/val/00002310.jpg: 4 duplicate labels removed\n",
            "\u001b[34m\u001b[1mval: \u001b[0m/content/dataset/images/val/00002326.jpg: 4 duplicate labels removed\n",
            "\u001b[34m\u001b[1mval: \u001b[0m/content/dataset/images/val/00002336.jpg: 4 duplicate labels removed\n",
            "\u001b[34m\u001b[1mval: \u001b[0m/content/dataset/images/val/00002350.jpg: 4 duplicate labels removed\n",
            "\u001b[34m\u001b[1mval: \u001b[0m/content/dataset/images/val/00002358.jpg: 4 duplicate labels removed\n",
            "\u001b[34m\u001b[1mval: \u001b[0m/content/dataset/images/val/00002359.jpg: 4 duplicate labels removed\n",
            "\u001b[34m\u001b[1mval: \u001b[0m/content/dataset/images/val/00002390.jpg: 4 duplicate labels removed\n",
            "\u001b[34m\u001b[1mval: \u001b[0m/content/dataset/images/val/00002405.jpg: 4 duplicate labels removed\n",
            "\u001b[34m\u001b[1mval: \u001b[0m/content/dataset/images/val/00002421.jpg: 12 duplicate labels removed\n",
            "\u001b[34m\u001b[1mval: \u001b[0m/content/dataset/images/val/00002422.jpg: 4 duplicate labels removed\n",
            "\u001b[34m\u001b[1mval: \u001b[0m/content/dataset/images/val/00002440.jpg: 4 duplicate labels removed\n",
            "\u001b[34m\u001b[1mval: \u001b[0m/content/dataset/images/val/00002471.jpg: 4 duplicate labels removed\n",
            "\u001b[34m\u001b[1mval: \u001b[0m/content/dataset/images/val/00002477.jpg: 4 duplicate labels removed\n",
            "\u001b[34m\u001b[1mval: \u001b[0m/content/dataset/images/val/00002478.jpg: 4 duplicate labels removed\n",
            "\u001b[34m\u001b[1mval: \u001b[0m/content/dataset/images/val/00002484.jpg: 4 duplicate labels removed\n",
            "\u001b[34m\u001b[1mval: \u001b[0m/content/dataset/images/val/00002487.jpg: 4 duplicate labels removed\n",
            "\u001b[34m\u001b[1mval: \u001b[0m/content/dataset/images/val/00002490.jpg: 4 duplicate labels removed\n",
            "\u001b[34m\u001b[1mval: \u001b[0m/content/dataset/images/val/00002492.jpg: 4 duplicate labels removed\n",
            "\u001b[34m\u001b[1mval: \u001b[0m/content/dataset/images/val/00002499.jpg: 4 duplicate labels removed\n",
            "\u001b[34m\u001b[1mval: \u001b[0m/content/dataset/images/val/00002503.jpg: 4 duplicate labels removed\n",
            "\u001b[34m\u001b[1mval: \u001b[0m/content/dataset/images/val/00002508.jpg: 4 duplicate labels removed\n",
            "\u001b[34m\u001b[1mval: \u001b[0m/content/dataset/images/val/00002514.jpg: 4 duplicate labels removed\n",
            "\u001b[34m\u001b[1mval: \u001b[0m/content/dataset/images/val/00002517.jpg: 4 duplicate labels removed\n",
            "\u001b[34m\u001b[1mval: \u001b[0m/content/dataset/images/val/00002524.jpg: 4 duplicate labels removed\n",
            "\u001b[34m\u001b[1mval: \u001b[0m/content/dataset/images/val/00002530.jpg: 4 duplicate labels removed\n",
            "\u001b[34m\u001b[1mval: \u001b[0m/content/dataset/images/val/00002540.jpg: 4 duplicate labels removed\n",
            "\u001b[34m\u001b[1mval: \u001b[0m/content/dataset/images/val/00002549.jpg: 8 duplicate labels removed\n",
            "\u001b[34m\u001b[1mval: \u001b[0m/content/dataset/images/val/00002550.jpg: 4 duplicate labels removed\n",
            "\u001b[34m\u001b[1mval: \u001b[0m/content/dataset/images/val/00002554.jpg: 4 duplicate labels removed\n",
            "\u001b[34m\u001b[1mval: \u001b[0m/content/dataset/images/val/00002555.jpg: 4 duplicate labels removed\n",
            "\u001b[34m\u001b[1mval: \u001b[0m/content/dataset/images/val/00002566.jpg: 4 duplicate labels removed\n",
            "\u001b[34m\u001b[1mval: \u001b[0m/content/dataset/images/val/00002580.jpg: 4 duplicate labels removed\n",
            "\u001b[34m\u001b[1mval: \u001b[0m/content/dataset/images/val/00002583.jpg: 4 duplicate labels removed\n",
            "\u001b[34m\u001b[1mval: \u001b[0m/content/dataset/images/val/00002603.jpg: 4 duplicate labels removed\n",
            "\u001b[34m\u001b[1mval: \u001b[0m/content/dataset/images/val/00002604.jpg: 4 duplicate labels removed\n",
            "\u001b[34m\u001b[1mval: \u001b[0m/content/dataset/images/val/00002606.jpg: 12 duplicate labels removed\n",
            "\u001b[34m\u001b[1mval: \u001b[0m/content/dataset/images/val/00002607.jpg: 4 duplicate labels removed\n",
            "\u001b[34m\u001b[1mval: \u001b[0m/content/dataset/images/val/00002610.jpg: 4 duplicate labels removed\n",
            "\u001b[34m\u001b[1mval: \u001b[0m/content/dataset/images/val/00002619.jpg: 4 duplicate labels removed\n",
            "\u001b[34m\u001b[1mval: \u001b[0m/content/dataset/images/val/00002622.jpg: 4 duplicate labels removed\n",
            "\u001b[34m\u001b[1mval: \u001b[0m/content/dataset/images/val/00002624.jpg: 4 duplicate labels removed\n",
            "\u001b[34m\u001b[1mval: \u001b[0m/content/dataset/images/val/00002628.jpg: 4 duplicate labels removed\n",
            "\u001b[34m\u001b[1mval: \u001b[0m/content/dataset/images/val/00002633.jpg: 4 duplicate labels removed\n",
            "\u001b[34m\u001b[1mval: \u001b[0m/content/dataset/images/val/00002634.jpg: 4 duplicate labels removed\n",
            "\u001b[34m\u001b[1mval: \u001b[0m/content/dataset/images/val/00002638.jpg: 4 duplicate labels removed\n",
            "\u001b[34m\u001b[1mval: \u001b[0m/content/dataset/images/val/00002645.jpg: 4 duplicate labels removed\n",
            "\u001b[34m\u001b[1mval: \u001b[0m/content/dataset/images/val/00002651.jpg: 8 duplicate labels removed\n",
            "\u001b[34m\u001b[1mval: \u001b[0m/content/dataset/images/val/00002652.jpg: 4 duplicate labels removed\n",
            "\u001b[34m\u001b[1mval: \u001b[0m/content/dataset/images/val/00002657.jpg: 4 duplicate labels removed\n",
            "\u001b[34m\u001b[1mval: \u001b[0m/content/dataset/images/val/00002658.jpg: 4 duplicate labels removed\n",
            "\u001b[34m\u001b[1mval: \u001b[0m/content/dataset/images/val/00002660.jpg: 4 duplicate labels removed\n",
            "\u001b[34m\u001b[1mval: \u001b[0m/content/dataset/images/val/00002662.jpg: 4 duplicate labels removed\n",
            "\u001b[34m\u001b[1mval: \u001b[0m/content/dataset/images/val/00002670.jpg: 4 duplicate labels removed\n",
            "\u001b[34m\u001b[1mval: \u001b[0m/content/dataset/images/val/00002674.jpg: 4 duplicate labels removed\n",
            "\u001b[34m\u001b[1mval: \u001b[0m/content/dataset/images/val/00002682.jpg: 4 duplicate labels removed\n",
            "\u001b[34m\u001b[1mval: \u001b[0m/content/dataset/images/val/00002687.jpg: 8 duplicate labels removed\n",
            "\u001b[34m\u001b[1mval: \u001b[0m/content/dataset/images/val/00002698.jpg: 4 duplicate labels removed\n",
            "\u001b[34m\u001b[1mval: \u001b[0m/content/dataset/images/val/00002701.jpg: 4 duplicate labels removed\n",
            "\u001b[34m\u001b[1mval: \u001b[0m/content/dataset/images/val/00002708.jpg: 4 duplicate labels removed\n",
            "\u001b[34m\u001b[1mval: \u001b[0m/content/dataset/images/val/00002710.jpg: 4 duplicate labels removed\n",
            "\u001b[34m\u001b[1mval: \u001b[0m/content/dataset/images/val/00002715.jpg: 4 duplicate labels removed\n",
            "\u001b[34m\u001b[1mval: \u001b[0m/content/dataset/images/val/00002736.jpg: 4 duplicate labels removed\n",
            "\u001b[34m\u001b[1mval: \u001b[0m/content/dataset/images/val/00002745.jpg: 4 duplicate labels removed\n",
            "\u001b[34m\u001b[1mval: \u001b[0m/content/dataset/images/val/00002748.jpg: 4 duplicate labels removed\n",
            "\u001b[34m\u001b[1mval: \u001b[0m/content/dataset/images/val/00002755.jpg: 4 duplicate labels removed\n",
            "\u001b[34m\u001b[1mval: \u001b[0m/content/dataset/images/val/00002763.jpg: 4 duplicate labels removed\n",
            "\u001b[34m\u001b[1mval: \u001b[0m/content/dataset/images/val/00002771.jpg: 4 duplicate labels removed\n",
            "\u001b[34m\u001b[1mval: \u001b[0m/content/dataset/images/val/00002783.jpg: 4 duplicate labels removed\n",
            "\u001b[34m\u001b[1mval: \u001b[0m/content/dataset/images/val/00002796.jpg: 4 duplicate labels removed\n",
            "\u001b[34m\u001b[1mval: \u001b[0m/content/dataset/images/val/00002798.jpg: 4 duplicate labels removed\n",
            "\u001b[34m\u001b[1mval: \u001b[0m/content/dataset/images/val/00002799.jpg: 4 duplicate labels removed\n",
            "\u001b[34m\u001b[1mval: \u001b[0m/content/dataset/images/val/00002801.jpg: 4 duplicate labels removed\n",
            "\u001b[34m\u001b[1mval: \u001b[0m/content/dataset/images/val/00002804.jpg: 4 duplicate labels removed\n",
            "\u001b[34m\u001b[1mval: \u001b[0m/content/dataset/images/val/00002811.jpg: 4 duplicate labels removed\n",
            "\u001b[34m\u001b[1mval: \u001b[0m/content/dataset/images/val/00002815.jpg: 4 duplicate labels removed\n",
            "\u001b[34m\u001b[1mval: \u001b[0m/content/dataset/images/val/00002817.jpg: 4 duplicate labels removed\n",
            "\u001b[34m\u001b[1mval: \u001b[0m/content/dataset/images/val/00002827.jpg: 8 duplicate labels removed\n",
            "\u001b[34m\u001b[1mval: \u001b[0m/content/dataset/images/val/00002830.jpg: 8 duplicate labels removed\n",
            "\u001b[34m\u001b[1mval: \u001b[0m/content/dataset/images/val/00002837.jpg: 8 duplicate labels removed\n",
            "\u001b[34m\u001b[1mval: \u001b[0m/content/dataset/images/val/00002841.jpg: 4 duplicate labels removed\n",
            "\u001b[34m\u001b[1mval: \u001b[0m/content/dataset/images/val/00002842.jpg: 8 duplicate labels removed\n",
            "\u001b[34m\u001b[1mval: \u001b[0m/content/dataset/images/val/00002847.jpg: 4 duplicate labels removed\n",
            "\u001b[34m\u001b[1mval: \u001b[0m/content/dataset/images/val/00002854.jpg: 4 duplicate labels removed\n",
            "\u001b[34m\u001b[1mval: \u001b[0m/content/dataset/images/val/00002857.jpg: 8 duplicate labels removed\n",
            "\u001b[34m\u001b[1mval: \u001b[0m/content/dataset/images/val/00002860.jpg: 4 duplicate labels removed\n",
            "\u001b[34m\u001b[1mval: \u001b[0m/content/dataset/images/val/00002863.jpg: 4 duplicate labels removed\n",
            "\u001b[34m\u001b[1mval: \u001b[0m/content/dataset/images/val/00002866.jpg: 4 duplicate labels removed\n",
            "\u001b[34m\u001b[1mval: \u001b[0m/content/dataset/images/val/00002871.jpg: 4 duplicate labels removed\n",
            "\u001b[34m\u001b[1mval: \u001b[0m/content/dataset/images/val/00002885.jpg: 4 duplicate labels removed\n",
            "\u001b[34m\u001b[1mval: \u001b[0m/content/dataset/images/val/00002887.jpg: 4 duplicate labels removed\n",
            "\u001b[34m\u001b[1mval: \u001b[0m/content/dataset/images/val/00002889.jpg: 4 duplicate labels removed\n",
            "\u001b[34m\u001b[1mval: \u001b[0m/content/dataset/images/val/00002897.jpg: 4 duplicate labels removed\n",
            "\u001b[34m\u001b[1mval: \u001b[0m/content/dataset/images/val/00002919.jpg: 4 duplicate labels removed\n",
            "\u001b[34m\u001b[1mval: \u001b[0m/content/dataset/images/val/00002922.jpg: 4 duplicate labels removed\n",
            "\u001b[34m\u001b[1mval: \u001b[0m/content/dataset/images/val/00002923.jpg: 4 duplicate labels removed\n",
            "\u001b[34m\u001b[1mval: \u001b[0m/content/dataset/images/val/00002937.jpg: 4 duplicate labels removed\n",
            "\u001b[34m\u001b[1mval: \u001b[0m/content/dataset/images/val/00002943.jpg: 4 duplicate labels removed\n",
            "\u001b[34m\u001b[1mval: \u001b[0m/content/dataset/images/val/00002952.jpg: 4 duplicate labels removed\n",
            "\u001b[34m\u001b[1mval: \u001b[0m/content/dataset/images/val/00002963.jpg: 4 duplicate labels removed\n",
            "\u001b[34m\u001b[1mval: \u001b[0m/content/dataset/images/val/00002966.jpg: 8 duplicate labels removed\n",
            "\u001b[34m\u001b[1mval: \u001b[0m/content/dataset/images/val/00002974.jpg: 8 duplicate labels removed\n",
            "\u001b[34m\u001b[1mval: \u001b[0m/content/dataset/images/val/00002984.jpg: 4 duplicate labels removed\n",
            "\u001b[34m\u001b[1mval: \u001b[0m/content/dataset/images/val/00002985.jpg: 4 duplicate labels removed\n",
            "\u001b[34m\u001b[1mval: \u001b[0m/content/dataset/images/val/00002986.jpg: 4 duplicate labels removed\n",
            "\u001b[34m\u001b[1mval: \u001b[0m/content/dataset/images/val/00002987.jpg: 4 duplicate labels removed\n",
            "\u001b[34m\u001b[1mval: \u001b[0m/content/dataset/images/val/00002989.jpg: 4 duplicate labels removed\n",
            "\u001b[34m\u001b[1mval: \u001b[0m/content/dataset/images/val/00002993.jpg: 4 duplicate labels removed\n",
            "\u001b[34m\u001b[1mval: \u001b[0m/content/dataset/images/val/00003002.jpg: 8 duplicate labels removed\n",
            "\u001b[34m\u001b[1mval: \u001b[0m/content/dataset/images/val/00003010.jpg: 4 duplicate labels removed\n",
            "\u001b[34m\u001b[1mval: \u001b[0m/content/dataset/images/val/00003023.jpg: 4 duplicate labels removed\n",
            "\u001b[34m\u001b[1mval: \u001b[0m/content/dataset/images/val/00003027.jpg: 4 duplicate labels removed\n",
            "\u001b[34m\u001b[1mval: \u001b[0m/content/dataset/images/val/00003038.jpg: 4 duplicate labels removed\n",
            "\u001b[34m\u001b[1mval: \u001b[0m/content/dataset/images/val/00003039.jpg: 4 duplicate labels removed\n",
            "\u001b[34m\u001b[1mval: \u001b[0m/content/dataset/images/val/00003041.jpg: 4 duplicate labels removed\n",
            "\u001b[34m\u001b[1mval: \u001b[0m/content/dataset/images/val/00003045.jpg: 4 duplicate labels removed\n",
            "\u001b[34m\u001b[1mval: \u001b[0m/content/dataset/images/val/00003046.jpg: 4 duplicate labels removed\n",
            "\u001b[34m\u001b[1mval: \u001b[0m/content/dataset/images/val/00003053.jpg: 8 duplicate labels removed\n",
            "\u001b[34m\u001b[1mval: \u001b[0m/content/dataset/images/val/00003054.jpg: 4 duplicate labels removed\n",
            "\u001b[34m\u001b[1mval: \u001b[0m/content/dataset/images/val/00003055.jpg: 4 duplicate labels removed\n",
            "\u001b[34m\u001b[1mval: \u001b[0m/content/dataset/images/val/00003058.jpg: 4 duplicate labels removed\n",
            "\u001b[34m\u001b[1mval: \u001b[0m/content/dataset/images/val/00003071.jpg: 4 duplicate labels removed\n",
            "\u001b[34m\u001b[1mval: \u001b[0m/content/dataset/images/val/00003074.jpg: 4 duplicate labels removed\n",
            "\u001b[34m\u001b[1mval: \u001b[0m/content/dataset/images/val/00003077.jpg: 4 duplicate labels removed\n",
            "\u001b[34m\u001b[1mval: \u001b[0m/content/dataset/images/val/00003080.jpg: 4 duplicate labels removed\n",
            "\u001b[34m\u001b[1mval: \u001b[0m/content/dataset/images/val/00003086.jpg: 8 duplicate labels removed\n",
            "\u001b[34m\u001b[1mval: \u001b[0m/content/dataset/images/val/00003095.jpg: 4 duplicate labels removed\n",
            "\u001b[34m\u001b[1mval: \u001b[0m/content/dataset/images/val/00003097.jpg: 4 duplicate labels removed\n",
            "\u001b[34m\u001b[1mval: \u001b[0m/content/dataset/images/val/00003103.jpg: 4 duplicate labels removed\n",
            "\u001b[34m\u001b[1mval: \u001b[0m/content/dataset/images/val/00003133.jpg: 4 duplicate labels removed\n",
            "\u001b[34m\u001b[1mval: \u001b[0m/content/dataset/images/val/00003141.jpg: 8 duplicate labels removed\n",
            "\u001b[34m\u001b[1mval: \u001b[0m/content/dataset/images/val/00003143.jpg: 4 duplicate labels removed\n",
            "\u001b[34m\u001b[1mval: \u001b[0m/content/dataset/images/val/00003151.jpg: 4 duplicate labels removed\n",
            "\u001b[34m\u001b[1mval: \u001b[0m/content/dataset/images/val/00003153.jpg: 8 duplicate labels removed\n",
            "\u001b[34m\u001b[1mval: \u001b[0m/content/dataset/images/val/00003165.jpg: 8 duplicate labels removed\n",
            "\u001b[34m\u001b[1mval: \u001b[0m/content/dataset/images/val/00003169.jpg: 4 duplicate labels removed\n",
            "\u001b[34m\u001b[1mval: \u001b[0m/content/dataset/images/val/00003172.jpg: 20 duplicate labels removed\n",
            "\u001b[34m\u001b[1mval: \u001b[0m/content/dataset/images/val/00003175.jpg: 4 duplicate labels removed\n",
            "\u001b[34m\u001b[1mval: \u001b[0m/content/dataset/images/val/00003187.jpg: 8 duplicate labels removed\n",
            "\u001b[34m\u001b[1mval: \u001b[0m/content/dataset/images/val/00003192.jpg: 8 duplicate labels removed\n",
            "\u001b[34m\u001b[1mval: \u001b[0m/content/dataset/images/val/00003196.jpg: 4 duplicate labels removed\n",
            "\u001b[34m\u001b[1mval: \u001b[0m/content/dataset/images/val/00003198.jpg: 4 duplicate labels removed\n",
            "\u001b[34m\u001b[1mval: \u001b[0m/content/dataset/images/val/00003203.jpg: 4 duplicate labels removed\n",
            "\u001b[34m\u001b[1mval: \u001b[0m/content/dataset/images/val/00003206.jpg: 4 duplicate labels removed\n",
            "\u001b[34m\u001b[1mval: \u001b[0m/content/dataset/images/val/00003220.jpg: 4 duplicate labels removed\n",
            "\u001b[34m\u001b[1mval: \u001b[0m/content/dataset/images/val/00003232.jpg: 4 duplicate labels removed\n",
            "\u001b[34m\u001b[1mval: \u001b[0m/content/dataset/images/val/00003238.jpg: 4 duplicate labels removed\n",
            "\u001b[34m\u001b[1mval: \u001b[0m/content/dataset/images/val/00003246.jpg: 8 duplicate labels removed\n",
            "\u001b[34m\u001b[1mval: \u001b[0m/content/dataset/images/val/00003258.jpg: 8 duplicate labels removed\n",
            "\u001b[34m\u001b[1mval: \u001b[0m/content/dataset/images/val/00003266.jpg: 4 duplicate labels removed\n",
            "\u001b[34m\u001b[1mval: \u001b[0m/content/dataset/images/val/00003267.jpg: 4 duplicate labels removed\n",
            "\u001b[34m\u001b[1mval: \u001b[0m/content/dataset/images/val/00003273.jpg: 4 duplicate labels removed\n",
            "\u001b[34m\u001b[1mval: \u001b[0m/content/dataset/images/val/00003277.jpg: 4 duplicate labels removed\n",
            "\u001b[34m\u001b[1mval: \u001b[0m/content/dataset/images/val/00003279.jpg: 4 duplicate labels removed\n",
            "\u001b[34m\u001b[1mval: \u001b[0m/content/dataset/images/val/00003287.jpg: 4 duplicate labels removed\n",
            "\u001b[34m\u001b[1mval: \u001b[0m/content/dataset/images/val/00003288.jpg: 4 duplicate labels removed\n",
            "\u001b[34m\u001b[1mval: \u001b[0m/content/dataset/images/val/00003291.jpg: 8 duplicate labels removed\n",
            "\u001b[34m\u001b[1mval: \u001b[0m/content/dataset/images/val/00003295.jpg: 4 duplicate labels removed\n",
            "\u001b[34m\u001b[1mval: \u001b[0m/content/dataset/images/val/00003296.jpg: 4 duplicate labels removed\n",
            "\u001b[34m\u001b[1mval: \u001b[0m/content/dataset/images/val/00003300.jpg: 4 duplicate labels removed\n",
            "\u001b[34m\u001b[1mval: \u001b[0m/content/dataset/images/val/00003303.jpg: 8 duplicate labels removed\n",
            "\u001b[34m\u001b[1mval: \u001b[0m/content/dataset/images/val/00003304.jpg: 4 duplicate labels removed\n",
            "\u001b[34m\u001b[1mval: \u001b[0m/content/dataset/images/val/00003305.jpg: 4 duplicate labels removed\n",
            "\u001b[34m\u001b[1mval: \u001b[0m/content/dataset/images/val/00003308.jpg: 4 duplicate labels removed\n",
            "\u001b[34m\u001b[1mval: \u001b[0m/content/dataset/images/val/00003309.jpg: 4 duplicate labels removed\n",
            "\u001b[34m\u001b[1mval: \u001b[0m/content/dataset/images/val/00003320.jpg: 4 duplicate labels removed\n",
            "\u001b[34m\u001b[1mval: \u001b[0m/content/dataset/images/val/00003331.jpg: 4 duplicate labels removed\n",
            "\u001b[34m\u001b[1mval: \u001b[0m/content/dataset/images/val/00003344.jpg: 16 duplicate labels removed\n",
            "\u001b[34m\u001b[1mval: \u001b[0m/content/dataset/images/val/00003348.jpg: 8 duplicate labels removed\n",
            "\u001b[34m\u001b[1mval: \u001b[0m/content/dataset/images/val/00003357.jpg: 4 duplicate labels removed\n",
            "\u001b[34m\u001b[1mval: \u001b[0m/content/dataset/images/val/00003361.jpg: 4 duplicate labels removed\n",
            "\u001b[34m\u001b[1mval: \u001b[0m/content/dataset/images/val/00003362.jpg: 8 duplicate labels removed\n",
            "\u001b[34m\u001b[1mval: \u001b[0m/content/dataset/images/val/00003378.jpg: 4 duplicate labels removed\n",
            "\u001b[34m\u001b[1mval: \u001b[0m/content/dataset/images/val/00003379.jpg: 4 duplicate labels removed\n",
            "\u001b[34m\u001b[1mval: \u001b[0m/content/dataset/images/val/00003389.jpg: 4 duplicate labels removed\n",
            "\u001b[34m\u001b[1mval: \u001b[0m/content/dataset/images/val/00003404.jpg: 4 duplicate labels removed\n",
            "\u001b[34m\u001b[1mval: \u001b[0m/content/dataset/images/val/00003413.jpg: 4 duplicate labels removed\n",
            "\u001b[34m\u001b[1mval: \u001b[0m/content/dataset/images/val/00003416.jpg: 4 duplicate labels removed\n",
            "\u001b[34m\u001b[1mval: \u001b[0m/content/dataset/images/val/00003421.jpg: 4 duplicate labels removed\n",
            "\u001b[34m\u001b[1mval: \u001b[0m/content/dataset/images/val/00003424.jpg: 4 duplicate labels removed\n",
            "\u001b[34m\u001b[1mval: \u001b[0m/content/dataset/images/val/00003425.jpg: 4 duplicate labels removed\n",
            "\u001b[34m\u001b[1mval: \u001b[0m/content/dataset/images/val/00003426.jpg: 4 duplicate labels removed\n",
            "\u001b[34m\u001b[1mval: \u001b[0m/content/dataset/images/val/00003431.jpg: 4 duplicate labels removed\n",
            "\u001b[34m\u001b[1mval: \u001b[0m/content/dataset/images/val/00003435.jpg: 4 duplicate labels removed\n",
            "\u001b[34m\u001b[1mval: \u001b[0m/content/dataset/images/val/00003443.jpg: 4 duplicate labels removed\n",
            "\u001b[34m\u001b[1mval: \u001b[0m/content/dataset/images/val/00003451.jpg: 4 duplicate labels removed\n",
            "\u001b[34m\u001b[1mval: \u001b[0m/content/dataset/images/val/00003456.jpg: 4 duplicate labels removed\n",
            "\u001b[34m\u001b[1mval: \u001b[0m/content/dataset/images/val/00003460.jpg: 4 duplicate labels removed\n",
            "\u001b[34m\u001b[1mval: \u001b[0m/content/dataset/images/val/00003467.jpg: 8 duplicate labels removed\n",
            "\u001b[34m\u001b[1mval: \u001b[0m/content/dataset/images/val/00003473.jpg: 4 duplicate labels removed\n",
            "\u001b[34m\u001b[1mval: \u001b[0m/content/dataset/images/val/00003475.jpg: 4 duplicate labels removed\n",
            "\u001b[34m\u001b[1mval: \u001b[0m/content/dataset/images/val/00003483.jpg: 4 duplicate labels removed\n",
            "\u001b[34m\u001b[1mval: \u001b[0m/content/dataset/images/val/00003486.jpg: 4 duplicate labels removed\n",
            "\u001b[34m\u001b[1mval: \u001b[0m/content/dataset/images/val/00003496.jpg: 4 duplicate labels removed\n",
            "\u001b[34m\u001b[1mval: \u001b[0m/content/dataset/images/val/00003501.jpg: 4 duplicate labels removed\n",
            "\u001b[34m\u001b[1mval: \u001b[0m/content/dataset/images/val/00003510.jpg: 8 duplicate labels removed\n"
          ]
        },
        {
          "name": "stderr",
          "output_type": "stream",
          "text": [
            "\n"
          ]
        },
        {
          "name": "stdout",
          "output_type": "stream",
          "text": [
            "\u001b[34m\u001b[1mval: \u001b[0mNew cache created: /content/dataset/labels/val.cache\n",
            "Plotting labels to runs/detect/train2/labels.jpg... \n",
            "\u001b[34m\u001b[1moptimizer:\u001b[0m 'optimizer=auto' found, ignoring 'lr0=0.01' and 'momentum=0.937' and determining best 'optimizer', 'lr0' and 'momentum' automatically... \n",
            "\u001b[34m\u001b[1moptimizer:\u001b[0m AdamW(lr=0.002, momentum=0.9) with parameter groups 57 weight(decay=0.0), 64 weight(decay=0.0005), 63 bias(decay=0.0)\n",
            "Image sizes 640 train, 640 val\n",
            "Using 2 dataloader workers\n",
            "Logging results to \u001b[1mruns/detect/train2\u001b[0m\n",
            "Starting training for 100 epochs...\n",
            "\n",
            "      Epoch    GPU_mem   box_loss   cls_loss   dfl_loss  Instances       Size\n"
          ]
        },
        {
          "name": "stderr",
          "output_type": "stream",
          "text": [
            "      1/100      2.13G      1.626      2.215      1.694         33        640: 100%|██████████| 108/108 [00:38<00:00,  2.82it/s]\n",
            "                 Class     Images  Instances      Box(P          R      mAP50  mAP50-95): 100%|██████████| 17/17 [00:08<00:00,  1.99it/s]"
          ]
        },
        {
          "name": "stdout",
          "output_type": "stream",
          "text": [
            "                   all        541        624      0.368      0.574      0.397      0.166\n"
          ]
        },
        {
          "name": "stderr",
          "output_type": "stream",
          "text": [
            "\n"
          ]
        },
        {
          "name": "stdout",
          "output_type": "stream",
          "text": [
            "\n",
            "      Epoch    GPU_mem   box_loss   cls_loss   dfl_loss  Instances       Size\n"
          ]
        },
        {
          "name": "stderr",
          "output_type": "stream",
          "text": [
            "      2/100      2.79G      1.492      1.667      1.578         32        640: 100%|██████████| 108/108 [00:37<00:00,  2.90it/s]\n",
            "                 Class     Images  Instances      Box(P          R      mAP50  mAP50-95): 100%|██████████| 17/17 [00:07<00:00,  2.22it/s]"
          ]
        },
        {
          "name": "stdout",
          "output_type": "stream",
          "text": [
            "                   all        541        624      0.353      0.683      0.318      0.158\n"
          ]
        },
        {
          "name": "stderr",
          "output_type": "stream",
          "text": [
            "\n"
          ]
        },
        {
          "name": "stdout",
          "output_type": "stream",
          "text": [
            "\n",
            "      Epoch    GPU_mem   box_loss   cls_loss   dfl_loss  Instances       Size\n"
          ]
        },
        {
          "name": "stderr",
          "output_type": "stream",
          "text": [
            "      3/100      2.81G      1.484      1.486      1.573         35        640: 100%|██████████| 108/108 [00:35<00:00,  3.04it/s]\n",
            "                 Class     Images  Instances      Box(P          R      mAP50  mAP50-95): 100%|██████████| 17/17 [00:05<00:00,  2.94it/s]"
          ]
        },
        {
          "name": "stdout",
          "output_type": "stream",
          "text": [
            "                   all        541        624      0.396      0.745      0.434      0.243\n"
          ]
        },
        {
          "name": "stderr",
          "output_type": "stream",
          "text": [
            "\n"
          ]
        },
        {
          "name": "stdout",
          "output_type": "stream",
          "text": [
            "\n",
            "      Epoch    GPU_mem   box_loss   cls_loss   dfl_loss  Instances       Size\n"
          ]
        },
        {
          "name": "stderr",
          "output_type": "stream",
          "text": [
            "      4/100      2.83G      1.439      1.333      1.561         20        640: 100%|██████████| 108/108 [00:35<00:00,  3.05it/s]\n",
            "                 Class     Images  Instances      Box(P          R      mAP50  mAP50-95): 100%|██████████| 17/17 [00:05<00:00,  3.04it/s]"
          ]
        },
        {
          "name": "stdout",
          "output_type": "stream",
          "text": [
            "                   all        541        624      0.378      0.742      0.432      0.221\n"
          ]
        },
        {
          "name": "stderr",
          "output_type": "stream",
          "text": [
            "\n"
          ]
        },
        {
          "name": "stdout",
          "output_type": "stream",
          "text": [
            "\n",
            "      Epoch    GPU_mem   box_loss   cls_loss   dfl_loss  Instances       Size\n"
          ]
        },
        {
          "name": "stderr",
          "output_type": "stream",
          "text": [
            "      5/100      2.84G      1.414      1.301      1.534         25        640: 100%|██████████| 108/108 [00:34<00:00,  3.10it/s]\n",
            "                 Class     Images  Instances      Box(P          R      mAP50  mAP50-95): 100%|██████████| 17/17 [00:05<00:00,  3.11it/s]"
          ]
        },
        {
          "name": "stdout",
          "output_type": "stream",
          "text": [
            "                   all        541        624      0.428      0.763      0.508      0.295\n"
          ]
        },
        {
          "name": "stderr",
          "output_type": "stream",
          "text": [
            "\n"
          ]
        },
        {
          "name": "stdout",
          "output_type": "stream",
          "text": [
            "\n",
            "      Epoch    GPU_mem   box_loss   cls_loss   dfl_loss  Instances       Size\n"
          ]
        },
        {
          "name": "stderr",
          "output_type": "stream",
          "text": [
            "      6/100      2.86G      1.361      1.242      1.498         24        640: 100%|██████████| 108/108 [00:34<00:00,  3.13it/s]\n",
            "                 Class     Images  Instances      Box(P          R      mAP50  mAP50-95): 100%|██████████| 17/17 [00:06<00:00,  2.52it/s]"
          ]
        },
        {
          "name": "stdout",
          "output_type": "stream",
          "text": [
            "                   all        541        624      0.376      0.707       0.39        0.2\n"
          ]
        },
        {
          "name": "stderr",
          "output_type": "stream",
          "text": [
            "\n"
          ]
        },
        {
          "name": "stdout",
          "output_type": "stream",
          "text": [
            "\n",
            "      Epoch    GPU_mem   box_loss   cls_loss   dfl_loss  Instances       Size\n"
          ]
        },
        {
          "name": "stderr",
          "output_type": "stream",
          "text": [
            "      7/100      2.88G      1.337      1.188      1.493         17        640: 100%|██████████| 108/108 [00:33<00:00,  3.21it/s]\n",
            "                 Class     Images  Instances      Box(P          R      mAP50  mAP50-95): 100%|██████████| 17/17 [00:06<00:00,  2.47it/s]"
          ]
        },
        {
          "name": "stdout",
          "output_type": "stream",
          "text": [
            "                   all        541        624      0.414      0.829      0.461      0.278\n"
          ]
        },
        {
          "name": "stderr",
          "output_type": "stream",
          "text": [
            "\n"
          ]
        },
        {
          "name": "stdout",
          "output_type": "stream",
          "text": [
            "\n",
            "      Epoch    GPU_mem   box_loss   cls_loss   dfl_loss  Instances       Size\n"
          ]
        },
        {
          "name": "stderr",
          "output_type": "stream",
          "text": [
            "      8/100      2.89G      1.307      1.143      1.445         36        640: 100%|██████████| 108/108 [00:36<00:00,  2.97it/s]\n",
            "                 Class     Images  Instances      Box(P          R      mAP50  mAP50-95): 100%|██████████| 17/17 [00:06<00:00,  2.82it/s]"
          ]
        },
        {
          "name": "stdout",
          "output_type": "stream",
          "text": [
            "                   all        541        624      0.423      0.847      0.507      0.299\n"
          ]
        },
        {
          "name": "stderr",
          "output_type": "stream",
          "text": [
            "\n"
          ]
        },
        {
          "name": "stdout",
          "output_type": "stream",
          "text": [
            "\n",
            "      Epoch    GPU_mem   box_loss   cls_loss   dfl_loss  Instances       Size\n"
          ]
        },
        {
          "name": "stderr",
          "output_type": "stream",
          "text": [
            "      9/100      2.91G      1.289      1.134      1.447         45        640: 100%|██████████| 108/108 [00:34<00:00,  3.13it/s]\n",
            "                 Class     Images  Instances      Box(P          R      mAP50  mAP50-95): 100%|██████████| 17/17 [00:05<00:00,  2.92it/s]"
          ]
        },
        {
          "name": "stdout",
          "output_type": "stream",
          "text": [
            "                   all        541        624      0.436       0.83      0.518      0.333\n"
          ]
        },
        {
          "name": "stderr",
          "output_type": "stream",
          "text": [
            "\n"
          ]
        },
        {
          "name": "stdout",
          "output_type": "stream",
          "text": [
            "\n",
            "      Epoch    GPU_mem   box_loss   cls_loss   dfl_loss  Instances       Size\n"
          ]
        },
        {
          "name": "stderr",
          "output_type": "stream",
          "text": [
            "     10/100      2.93G       1.28      1.087      1.436         33        640: 100%|██████████| 108/108 [00:34<00:00,  3.11it/s]\n",
            "                 Class     Images  Instances      Box(P          R      mAP50  mAP50-95): 100%|██████████| 17/17 [00:05<00:00,  3.06it/s]"
          ]
        },
        {
          "name": "stdout",
          "output_type": "stream",
          "text": [
            "                   all        541        624      0.467      0.752      0.575       0.34\n"
          ]
        },
        {
          "name": "stderr",
          "output_type": "stream",
          "text": [
            "\n"
          ]
        },
        {
          "name": "stdout",
          "output_type": "stream",
          "text": [
            "\n",
            "      Epoch    GPU_mem   box_loss   cls_loss   dfl_loss  Instances       Size\n"
          ]
        },
        {
          "name": "stderr",
          "output_type": "stream",
          "text": [
            "     11/100      2.95G      1.238      1.069      1.418         45        640: 100%|██████████| 108/108 [00:35<00:00,  3.08it/s]\n",
            "                 Class     Images  Instances      Box(P          R      mAP50  mAP50-95): 100%|██████████| 17/17 [00:06<00:00,  2.55it/s]"
          ]
        },
        {
          "name": "stdout",
          "output_type": "stream",
          "text": [
            "                   all        541        624      0.426      0.886       0.51      0.329\n"
          ]
        },
        {
          "name": "stderr",
          "output_type": "stream",
          "text": [
            "\n"
          ]
        },
        {
          "name": "stdout",
          "output_type": "stream",
          "text": [
            "\n",
            "      Epoch    GPU_mem   box_loss   cls_loss   dfl_loss  Instances       Size\n"
          ]
        },
        {
          "name": "stderr",
          "output_type": "stream",
          "text": [
            "     12/100      2.96G      1.237       1.05      1.405         40        640: 100%|██████████| 108/108 [00:34<00:00,  3.15it/s]\n",
            "                 Class     Images  Instances      Box(P          R      mAP50  mAP50-95): 100%|██████████| 17/17 [00:06<00:00,  2.67it/s]"
          ]
        },
        {
          "name": "stdout",
          "output_type": "stream",
          "text": [
            "                   all        541        624      0.456      0.864      0.553       0.35\n"
          ]
        },
        {
          "name": "stderr",
          "output_type": "stream",
          "text": [
            "\n"
          ]
        },
        {
          "name": "stdout",
          "output_type": "stream",
          "text": [
            "\n",
            "      Epoch    GPU_mem   box_loss   cls_loss   dfl_loss  Instances       Size\n"
          ]
        },
        {
          "name": "stderr",
          "output_type": "stream",
          "text": [
            "     13/100      2.98G      1.218      1.021      1.395         36        640: 100%|██████████| 108/108 [00:36<00:00,  2.96it/s]\n",
            "                 Class     Images  Instances      Box(P          R      mAP50  mAP50-95): 100%|██████████| 17/17 [00:05<00:00,  3.06it/s]"
          ]
        },
        {
          "name": "stdout",
          "output_type": "stream",
          "text": [
            "                   all        541        624      0.453      0.798      0.537      0.347\n"
          ]
        },
        {
          "name": "stderr",
          "output_type": "stream",
          "text": [
            "\n"
          ]
        },
        {
          "name": "stdout",
          "output_type": "stream",
          "text": [
            "\n",
            "      Epoch    GPU_mem   box_loss   cls_loss   dfl_loss  Instances       Size\n"
          ]
        },
        {
          "name": "stderr",
          "output_type": "stream",
          "text": [
            "     14/100         3G      1.213      1.033      1.403         31        640: 100%|██████████| 108/108 [00:35<00:00,  3.04it/s]\n",
            "                 Class     Images  Instances      Box(P          R      mAP50  mAP50-95): 100%|██████████| 17/17 [00:05<00:00,  2.91it/s]"
          ]
        },
        {
          "name": "stdout",
          "output_type": "stream",
          "text": [
            "                   all        541        624      0.431       0.87      0.548      0.357\n"
          ]
        },
        {
          "name": "stderr",
          "output_type": "stream",
          "text": [
            "\n"
          ]
        },
        {
          "name": "stdout",
          "output_type": "stream",
          "text": [
            "\n",
            "      Epoch    GPU_mem   box_loss   cls_loss   dfl_loss  Instances       Size\n"
          ]
        },
        {
          "name": "stderr",
          "output_type": "stream",
          "text": [
            "     15/100      3.02G      1.204      1.018      1.386         29        640: 100%|██████████| 108/108 [00:35<00:00,  3.08it/s]\n",
            "                 Class     Images  Instances      Box(P          R      mAP50  mAP50-95): 100%|██████████| 17/17 [00:06<00:00,  2.53it/s]"
          ]
        },
        {
          "name": "stdout",
          "output_type": "stream",
          "text": [
            "                   all        541        624      0.439      0.846       0.55       0.36\n"
          ]
        },
        {
          "name": "stderr",
          "output_type": "stream",
          "text": [
            "\n"
          ]
        },
        {
          "name": "stdout",
          "output_type": "stream",
          "text": [
            "\n",
            "      Epoch    GPU_mem   box_loss   cls_loss   dfl_loss  Instances       Size\n"
          ]
        },
        {
          "name": "stderr",
          "output_type": "stream",
          "text": [
            "     16/100      3.03G      1.189      1.002      1.393         29        640: 100%|██████████| 108/108 [00:35<00:00,  3.08it/s]\n",
            "                 Class     Images  Instances      Box(P          R      mAP50  mAP50-95): 100%|██████████| 17/17 [00:06<00:00,  2.63it/s]"
          ]
        },
        {
          "name": "stdout",
          "output_type": "stream",
          "text": [
            "                   all        541        624      0.455      0.857      0.605      0.406\n"
          ]
        },
        {
          "name": "stderr",
          "output_type": "stream",
          "text": [
            "\n"
          ]
        },
        {
          "name": "stdout",
          "output_type": "stream",
          "text": [
            "\n",
            "      Epoch    GPU_mem   box_loss   cls_loss   dfl_loss  Instances       Size\n"
          ]
        },
        {
          "name": "stderr",
          "output_type": "stream",
          "text": [
            "     17/100      3.05G       1.19      1.003      1.384         28        640: 100%|██████████| 108/108 [00:37<00:00,  2.91it/s]\n",
            "                 Class     Images  Instances      Box(P          R      mAP50  mAP50-95): 100%|██████████| 17/17 [00:05<00:00,  3.04it/s]"
          ]
        },
        {
          "name": "stdout",
          "output_type": "stream",
          "text": [
            "                   all        541        624      0.458      0.806      0.607      0.403\n"
          ]
        },
        {
          "name": "stderr",
          "output_type": "stream",
          "text": [
            "\n"
          ]
        },
        {
          "name": "stdout",
          "output_type": "stream",
          "text": [
            "\n",
            "      Epoch    GPU_mem   box_loss   cls_loss   dfl_loss  Instances       Size\n"
          ]
        },
        {
          "name": "stderr",
          "output_type": "stream",
          "text": [
            "     18/100      3.07G      1.168     0.9788      1.368         31        640: 100%|██████████| 108/108 [00:37<00:00,  2.89it/s]\n",
            "                 Class     Images  Instances      Box(P          R      mAP50  mAP50-95): 100%|██████████| 17/17 [00:06<00:00,  2.59it/s]"
          ]
        },
        {
          "name": "stdout",
          "output_type": "stream",
          "text": [
            "                   all        541        624      0.473       0.85      0.622       0.43\n"
          ]
        },
        {
          "name": "stderr",
          "output_type": "stream",
          "text": [
            "\n"
          ]
        },
        {
          "name": "stdout",
          "output_type": "stream",
          "text": [
            "\n",
            "      Epoch    GPU_mem   box_loss   cls_loss   dfl_loss  Instances       Size\n"
          ]
        },
        {
          "name": "stderr",
          "output_type": "stream",
          "text": [
            "     19/100      3.08G       1.15     0.9758       1.36         34        640: 100%|██████████| 108/108 [00:34<00:00,  3.14it/s]\n",
            "                 Class     Images  Instances      Box(P          R      mAP50  mAP50-95): 100%|██████████| 17/17 [00:06<00:00,  2.57it/s]"
          ]
        },
        {
          "name": "stdout",
          "output_type": "stream",
          "text": [
            "                   all        541        624      0.473      0.823      0.628      0.427\n"
          ]
        },
        {
          "name": "stderr",
          "output_type": "stream",
          "text": [
            "\n"
          ]
        },
        {
          "name": "stdout",
          "output_type": "stream",
          "text": [
            "\n",
            "      Epoch    GPU_mem   box_loss   cls_loss   dfl_loss  Instances       Size\n"
          ]
        },
        {
          "name": "stderr",
          "output_type": "stream",
          "text": [
            "     20/100       3.1G      1.148     0.9657      1.358         26        640: 100%|██████████| 108/108 [00:35<00:00,  3.01it/s]\n",
            "                 Class     Images  Instances      Box(P          R      mAP50  mAP50-95): 100%|██████████| 17/17 [00:05<00:00,  3.21it/s]"
          ]
        },
        {
          "name": "stdout",
          "output_type": "stream",
          "text": [
            "                   all        541        624      0.449      0.889      0.607      0.419\n"
          ]
        },
        {
          "name": "stderr",
          "output_type": "stream",
          "text": [
            "\n"
          ]
        },
        {
          "name": "stdout",
          "output_type": "stream",
          "text": [
            "\n",
            "      Epoch    GPU_mem   box_loss   cls_loss   dfl_loss  Instances       Size\n"
          ]
        },
        {
          "name": "stderr",
          "output_type": "stream",
          "text": [
            "     21/100      3.12G      1.136      0.937      1.336         24        640: 100%|██████████| 108/108 [00:36<00:00,  2.92it/s]\n",
            "                 Class     Images  Instances      Box(P          R      mAP50  mAP50-95): 100%|██████████| 17/17 [00:05<00:00,  2.94it/s]\n"
          ]
        },
        {
          "name": "stdout",
          "output_type": "stream",
          "text": [
            "                   all        541        624      0.479      0.817      0.612      0.411\n",
            "\n",
            "      Epoch    GPU_mem   box_loss   cls_loss   dfl_loss  Instances       Size\n"
          ]
        },
        {
          "name": "stderr",
          "output_type": "stream",
          "text": [
            "     22/100      3.13G      1.134     0.9569      1.336         32        640: 100%|██████████| 108/108 [00:35<00:00,  3.08it/s]\n",
            "                 Class     Images  Instances      Box(P          R      mAP50  mAP50-95): 100%|██████████| 17/17 [00:06<00:00,  2.61it/s]"
          ]
        },
        {
          "name": "stdout",
          "output_type": "stream",
          "text": [
            "                   all        541        624      0.472      0.837       0.63      0.425\n"
          ]
        },
        {
          "name": "stderr",
          "output_type": "stream",
          "text": [
            "\n"
          ]
        },
        {
          "name": "stdout",
          "output_type": "stream",
          "text": [
            "\n",
            "      Epoch    GPU_mem   box_loss   cls_loss   dfl_loss  Instances       Size\n"
          ]
        },
        {
          "name": "stderr",
          "output_type": "stream",
          "text": [
            "     23/100      3.15G      1.112      0.929      1.329         34        640: 100%|██████████| 108/108 [00:35<00:00,  3.08it/s]\n",
            "                 Class     Images  Instances      Box(P          R      mAP50  mAP50-95): 100%|██████████| 17/17 [00:06<00:00,  2.61it/s]"
          ]
        },
        {
          "name": "stdout",
          "output_type": "stream",
          "text": [
            "                   all        541        624      0.502      0.746      0.622      0.427\n"
          ]
        },
        {
          "name": "stderr",
          "output_type": "stream",
          "text": [
            "\n"
          ]
        },
        {
          "name": "stdout",
          "output_type": "stream",
          "text": [
            "\n",
            "      Epoch    GPU_mem   box_loss   cls_loss   dfl_loss  Instances       Size\n"
          ]
        },
        {
          "name": "stderr",
          "output_type": "stream",
          "text": [
            "     24/100      3.17G      1.134     0.9457      1.348         28        640: 100%|██████████| 108/108 [00:35<00:00,  3.06it/s]\n",
            "                 Class     Images  Instances      Box(P          R      mAP50  mAP50-95): 100%|██████████| 17/17 [00:05<00:00,  2.95it/s]"
          ]
        },
        {
          "name": "stdout",
          "output_type": "stream",
          "text": [
            "                   all        541        624      0.459      0.852      0.572      0.381\n"
          ]
        },
        {
          "name": "stderr",
          "output_type": "stream",
          "text": [
            "\n"
          ]
        },
        {
          "name": "stdout",
          "output_type": "stream",
          "text": [
            "\n",
            "      Epoch    GPU_mem   box_loss   cls_loss   dfl_loss  Instances       Size\n"
          ]
        },
        {
          "name": "stderr",
          "output_type": "stream",
          "text": [
            "     25/100      3.19G      1.107     0.9217      1.334         26        640: 100%|██████████| 108/108 [00:35<00:00,  3.06it/s]\n",
            "                 Class     Images  Instances      Box(P          R      mAP50  mAP50-95): 100%|██████████| 17/17 [00:05<00:00,  3.17it/s]"
          ]
        },
        {
          "name": "stdout",
          "output_type": "stream",
          "text": [
            "                   all        541        624      0.452      0.803      0.585      0.388\n"
          ]
        },
        {
          "name": "stderr",
          "output_type": "stream",
          "text": [
            "\n"
          ]
        },
        {
          "name": "stdout",
          "output_type": "stream",
          "text": [
            "\n",
            "      Epoch    GPU_mem   box_loss   cls_loss   dfl_loss  Instances       Size\n"
          ]
        },
        {
          "name": "stderr",
          "output_type": "stream",
          "text": [
            "     26/100       3.2G      1.106     0.9149       1.33         40        640: 100%|██████████| 108/108 [00:35<00:00,  3.06it/s]\n",
            "                 Class     Images  Instances      Box(P          R      mAP50  mAP50-95): 100%|██████████| 17/17 [00:05<00:00,  3.15it/s]\n"
          ]
        },
        {
          "name": "stdout",
          "output_type": "stream",
          "text": [
            "                   all        541        624      0.482      0.846      0.622      0.438\n",
            "\n",
            "      Epoch    GPU_mem   box_loss   cls_loss   dfl_loss  Instances       Size\n"
          ]
        },
        {
          "name": "stderr",
          "output_type": "stream",
          "text": [
            "     27/100      3.22G      1.094      0.882      1.324         40        640: 100%|██████████| 108/108 [00:35<00:00,  3.06it/s]\n",
            "                 Class     Images  Instances      Box(P          R      mAP50  mAP50-95): 100%|██████████| 17/17 [00:06<00:00,  2.61it/s]"
          ]
        },
        {
          "name": "stdout",
          "output_type": "stream",
          "text": [
            "                   all        541        624      0.484      0.861      0.625      0.436\n"
          ]
        },
        {
          "name": "stderr",
          "output_type": "stream",
          "text": [
            "\n"
          ]
        },
        {
          "name": "stdout",
          "output_type": "stream",
          "text": [
            "\n",
            "      Epoch    GPU_mem   box_loss   cls_loss   dfl_loss  Instances       Size\n"
          ]
        },
        {
          "name": "stderr",
          "output_type": "stream",
          "text": [
            "     28/100      3.24G      1.086     0.8921      1.303         29        640: 100%|██████████| 108/108 [00:34<00:00,  3.15it/s]\n",
            "                 Class     Images  Instances      Box(P          R      mAP50  mAP50-95): 100%|██████████| 17/17 [00:07<00:00,  2.14it/s]"
          ]
        },
        {
          "name": "stdout",
          "output_type": "stream",
          "text": [
            "                   all        541        624      0.483      0.809       0.64      0.439\n"
          ]
        },
        {
          "name": "stderr",
          "output_type": "stream",
          "text": [
            "\n"
          ]
        },
        {
          "name": "stdout",
          "output_type": "stream",
          "text": [
            "\n",
            "      Epoch    GPU_mem   box_loss   cls_loss   dfl_loss  Instances       Size\n"
          ]
        },
        {
          "name": "stderr",
          "output_type": "stream",
          "text": [
            "     29/100      3.25G      1.071     0.8822      1.302         21        640: 100%|██████████| 108/108 [00:35<00:00,  3.08it/s]\n",
            "                 Class     Images  Instances      Box(P          R      mAP50  mAP50-95): 100%|██████████| 17/17 [00:05<00:00,  2.91it/s]"
          ]
        },
        {
          "name": "stdout",
          "output_type": "stream",
          "text": [
            "                   all        541        624      0.472      0.821      0.601       0.42\n"
          ]
        },
        {
          "name": "stderr",
          "output_type": "stream",
          "text": [
            "\n"
          ]
        },
        {
          "name": "stdout",
          "output_type": "stream",
          "text": [
            "\n",
            "      Epoch    GPU_mem   box_loss   cls_loss   dfl_loss  Instances       Size\n"
          ]
        },
        {
          "name": "stderr",
          "output_type": "stream",
          "text": [
            "     30/100      3.27G      1.103     0.9047      1.323         25        640: 100%|██████████| 108/108 [00:35<00:00,  3.02it/s]\n",
            "                 Class     Images  Instances      Box(P          R      mAP50  mAP50-95): 100%|██████████| 17/17 [00:05<00:00,  3.14it/s]"
          ]
        },
        {
          "name": "stdout",
          "output_type": "stream",
          "text": [
            "                   all        541        624      0.489      0.808       0.62      0.438\n"
          ]
        },
        {
          "name": "stderr",
          "output_type": "stream",
          "text": [
            "\n"
          ]
        },
        {
          "name": "stdout",
          "output_type": "stream",
          "text": [
            "\n",
            "      Epoch    GPU_mem   box_loss   cls_loss   dfl_loss  Instances       Size\n"
          ]
        },
        {
          "name": "stderr",
          "output_type": "stream",
          "text": [
            "     31/100      3.29G      1.049     0.8699       1.29         27        640: 100%|██████████| 108/108 [00:35<00:00,  3.03it/s]\n",
            "                 Class     Images  Instances      Box(P          R      mAP50  mAP50-95): 100%|██████████| 17/17 [00:05<00:00,  3.06it/s]"
          ]
        },
        {
          "name": "stdout",
          "output_type": "stream",
          "text": [
            "                   all        541        624      0.472      0.873        0.6      0.424\n"
          ]
        },
        {
          "name": "stderr",
          "output_type": "stream",
          "text": [
            "\n"
          ]
        },
        {
          "name": "stdout",
          "output_type": "stream",
          "text": [
            "\n",
            "      Epoch    GPU_mem   box_loss   cls_loss   dfl_loss  Instances       Size\n"
          ]
        },
        {
          "name": "stderr",
          "output_type": "stream",
          "text": [
            "     32/100       3.3G      1.062      0.877      1.309         28        640: 100%|██████████| 108/108 [00:35<00:00,  3.07it/s]\n",
            "                 Class     Images  Instances      Box(P          R      mAP50  mAP50-95): 100%|██████████| 17/17 [00:06<00:00,  2.57it/s]"
          ]
        },
        {
          "name": "stdout",
          "output_type": "stream",
          "text": [
            "                   all        541        624      0.477      0.838      0.612      0.431\n"
          ]
        },
        {
          "name": "stderr",
          "output_type": "stream",
          "text": [
            "\n"
          ]
        },
        {
          "name": "stdout",
          "output_type": "stream",
          "text": [
            "\n",
            "      Epoch    GPU_mem   box_loss   cls_loss   dfl_loss  Instances       Size\n"
          ]
        },
        {
          "name": "stderr",
          "output_type": "stream",
          "text": [
            "     33/100      3.32G      1.042     0.8681      1.282         29        640: 100%|██████████| 108/108 [00:34<00:00,  3.14it/s]\n",
            "                 Class     Images  Instances      Box(P          R      mAP50  mAP50-95): 100%|██████████| 17/17 [00:06<00:00,  2.53it/s]"
          ]
        },
        {
          "name": "stdout",
          "output_type": "stream",
          "text": [
            "                   all        541        624      0.481      0.843      0.616      0.441\n"
          ]
        },
        {
          "name": "stderr",
          "output_type": "stream",
          "text": [
            "\n"
          ]
        },
        {
          "name": "stdout",
          "output_type": "stream",
          "text": [
            "\n",
            "      Epoch    GPU_mem   box_loss   cls_loss   dfl_loss  Instances       Size\n"
          ]
        },
        {
          "name": "stderr",
          "output_type": "stream",
          "text": [
            "     34/100      3.34G      1.056     0.8657      1.296         32        640: 100%|██████████| 108/108 [00:36<00:00,  2.97it/s]\n",
            "                 Class     Images  Instances      Box(P          R      mAP50  mAP50-95): 100%|██████████| 17/17 [00:05<00:00,  2.95it/s]"
          ]
        },
        {
          "name": "stdout",
          "output_type": "stream",
          "text": [
            "                   all        541        624      0.476      0.886      0.651      0.468\n"
          ]
        },
        {
          "name": "stderr",
          "output_type": "stream",
          "text": [
            "\n"
          ]
        },
        {
          "name": "stdout",
          "output_type": "stream",
          "text": [
            "\n",
            "      Epoch    GPU_mem   box_loss   cls_loss   dfl_loss  Instances       Size\n"
          ]
        },
        {
          "name": "stderr",
          "output_type": "stream",
          "text": [
            "     35/100      3.36G      1.017      0.823      1.269         26        640: 100%|██████████| 108/108 [00:35<00:00,  3.07it/s]\n",
            "                 Class     Images  Instances      Box(P          R      mAP50  mAP50-95): 100%|██████████| 17/17 [00:05<00:00,  3.16it/s]"
          ]
        },
        {
          "name": "stdout",
          "output_type": "stream",
          "text": [
            "                   all        541        624      0.478      0.869      0.589       0.42\n"
          ]
        },
        {
          "name": "stderr",
          "output_type": "stream",
          "text": [
            "\n"
          ]
        },
        {
          "name": "stdout",
          "output_type": "stream",
          "text": [
            "\n",
            "      Epoch    GPU_mem   box_loss   cls_loss   dfl_loss  Instances       Size\n"
          ]
        },
        {
          "name": "stderr",
          "output_type": "stream",
          "text": [
            "     36/100      3.37G      1.029     0.8424      1.274         37        640: 100%|██████████| 108/108 [00:35<00:00,  3.04it/s]\n",
            "                 Class     Images  Instances      Box(P          R      mAP50  mAP50-95): 100%|██████████| 17/17 [00:06<00:00,  2.72it/s]"
          ]
        },
        {
          "name": "stdout",
          "output_type": "stream",
          "text": [
            "                   all        541        624      0.469      0.824      0.626      0.446\n"
          ]
        },
        {
          "name": "stderr",
          "output_type": "stream",
          "text": [
            "\n"
          ]
        },
        {
          "name": "stdout",
          "output_type": "stream",
          "text": [
            "\n",
            "      Epoch    GPU_mem   box_loss   cls_loss   dfl_loss  Instances       Size\n"
          ]
        },
        {
          "name": "stderr",
          "output_type": "stream",
          "text": [
            "     37/100      3.39G      1.026     0.8404      1.276         22        640: 100%|██████████| 108/108 [00:35<00:00,  3.07it/s]\n",
            "                 Class     Images  Instances      Box(P          R      mAP50  mAP50-95): 100%|██████████| 17/17 [00:06<00:00,  2.69it/s]"
          ]
        },
        {
          "name": "stdout",
          "output_type": "stream",
          "text": [
            "                   all        541        624      0.483      0.835      0.609      0.428\n"
          ]
        },
        {
          "name": "stderr",
          "output_type": "stream",
          "text": [
            "\n"
          ]
        },
        {
          "name": "stdout",
          "output_type": "stream",
          "text": [
            "\n",
            "      Epoch    GPU_mem   box_loss   cls_loss   dfl_loss  Instances       Size\n"
          ]
        },
        {
          "name": "stderr",
          "output_type": "stream",
          "text": [
            "     38/100      3.41G      1.009     0.8361      1.262         33        640: 100%|██████████| 108/108 [00:34<00:00,  3.14it/s]\n",
            "                 Class     Images  Instances      Box(P          R      mAP50  mAP50-95): 100%|██████████| 17/17 [00:06<00:00,  2.59it/s]"
          ]
        },
        {
          "name": "stdout",
          "output_type": "stream",
          "text": [
            "                   all        541        624      0.469      0.869      0.635      0.457\n"
          ]
        },
        {
          "name": "stderr",
          "output_type": "stream",
          "text": [
            "\n"
          ]
        },
        {
          "name": "stdout",
          "output_type": "stream",
          "text": [
            "\n",
            "      Epoch    GPU_mem   box_loss   cls_loss   dfl_loss  Instances       Size\n"
          ]
        },
        {
          "name": "stderr",
          "output_type": "stream",
          "text": [
            "     39/100      3.42G      1.016     0.8231      1.267         38        640: 100%|██████████| 108/108 [00:36<00:00,  2.92it/s]\n",
            "                 Class     Images  Instances      Box(P          R      mAP50  mAP50-95): 100%|██████████| 17/17 [00:05<00:00,  3.30it/s]"
          ]
        },
        {
          "name": "stdout",
          "output_type": "stream",
          "text": [
            "                   all        541        624      0.475      0.873       0.63      0.452\n"
          ]
        },
        {
          "name": "stderr",
          "output_type": "stream",
          "text": [
            "\n"
          ]
        },
        {
          "name": "stdout",
          "output_type": "stream",
          "text": [
            "\n",
            "      Epoch    GPU_mem   box_loss   cls_loss   dfl_loss  Instances       Size\n"
          ]
        },
        {
          "name": "stderr",
          "output_type": "stream",
          "text": [
            "     40/100      3.44G      1.024     0.8226      1.276         31        640: 100%|██████████| 108/108 [00:35<00:00,  3.05it/s]\n",
            "                 Class     Images  Instances      Box(P          R      mAP50  mAP50-95): 100%|██████████| 17/17 [00:05<00:00,  3.01it/s]"
          ]
        },
        {
          "name": "stdout",
          "output_type": "stream",
          "text": [
            "                   all        541        624      0.469      0.851      0.606      0.433\n"
          ]
        },
        {
          "name": "stderr",
          "output_type": "stream",
          "text": [
            "\n"
          ]
        },
        {
          "name": "stdout",
          "output_type": "stream",
          "text": [
            "\n",
            "      Epoch    GPU_mem   box_loss   cls_loss   dfl_loss  Instances       Size\n"
          ]
        },
        {
          "name": "stderr",
          "output_type": "stream",
          "text": [
            "     41/100      3.46G     0.9959     0.8045      1.252         30        640: 100%|██████████| 108/108 [00:35<00:00,  3.08it/s]\n",
            "                 Class     Images  Instances      Box(P          R      mAP50  mAP50-95): 100%|██████████| 17/17 [00:05<00:00,  3.01it/s]"
          ]
        },
        {
          "name": "stdout",
          "output_type": "stream",
          "text": [
            "                   all        541        624      0.471      0.867      0.639      0.469\n"
          ]
        },
        {
          "name": "stderr",
          "output_type": "stream",
          "text": [
            "\n"
          ]
        },
        {
          "name": "stdout",
          "output_type": "stream",
          "text": [
            "\n",
            "      Epoch    GPU_mem   box_loss   cls_loss   dfl_loss  Instances       Size\n"
          ]
        },
        {
          "name": "stderr",
          "output_type": "stream",
          "text": [
            "     42/100      3.47G     0.9994     0.8133      1.262         24        640: 100%|██████████| 108/108 [00:34<00:00,  3.16it/s]\n",
            "                 Class     Images  Instances      Box(P          R      mAP50  mAP50-95): 100%|██████████| 17/17 [00:06<00:00,  2.57it/s]"
          ]
        },
        {
          "name": "stdout",
          "output_type": "stream",
          "text": [
            "                   all        541        624      0.483      0.808      0.619      0.454\n"
          ]
        },
        {
          "name": "stderr",
          "output_type": "stream",
          "text": [
            "\n"
          ]
        },
        {
          "name": "stdout",
          "output_type": "stream",
          "text": [
            "\n",
            "      Epoch    GPU_mem   box_loss   cls_loss   dfl_loss  Instances       Size\n"
          ]
        },
        {
          "name": "stderr",
          "output_type": "stream",
          "text": [
            "     43/100      3.49G     0.9809     0.8021      1.241         26        640: 100%|██████████| 108/108 [00:34<00:00,  3.12it/s]\n",
            "                 Class     Images  Instances      Box(P          R      mAP50  mAP50-95): 100%|██████████| 17/17 [00:06<00:00,  2.66it/s]"
          ]
        },
        {
          "name": "stdout",
          "output_type": "stream",
          "text": [
            "                   all        541        624       0.46      0.873      0.574      0.421\n"
          ]
        },
        {
          "name": "stderr",
          "output_type": "stream",
          "text": [
            "\n"
          ]
        },
        {
          "name": "stdout",
          "output_type": "stream",
          "text": [
            "\n",
            "      Epoch    GPU_mem   box_loss   cls_loss   dfl_loss  Instances       Size\n"
          ]
        },
        {
          "name": "stderr",
          "output_type": "stream",
          "text": [
            "     44/100      3.51G     0.9878     0.8052      1.246         30        640: 100%|██████████| 108/108 [00:36<00:00,  2.93it/s]\n",
            "                 Class     Images  Instances      Box(P          R      mAP50  mAP50-95): 100%|██████████| 17/17 [00:05<00:00,  2.96it/s]"
          ]
        },
        {
          "name": "stdout",
          "output_type": "stream",
          "text": [
            "                   all        541        624      0.474      0.846      0.656      0.477\n"
          ]
        },
        {
          "name": "stderr",
          "output_type": "stream",
          "text": [
            "\n"
          ]
        },
        {
          "name": "stdout",
          "output_type": "stream",
          "text": [
            "\n",
            "      Epoch    GPU_mem   box_loss   cls_loss   dfl_loss  Instances       Size\n"
          ]
        },
        {
          "name": "stderr",
          "output_type": "stream",
          "text": [
            "     45/100      3.53G      1.006     0.8003      1.255         28        640: 100%|██████████| 108/108 [00:35<00:00,  3.05it/s]\n",
            "                 Class     Images  Instances      Box(P          R      mAP50  mAP50-95): 100%|██████████| 17/17 [00:05<00:00,  3.23it/s]\n"
          ]
        },
        {
          "name": "stdout",
          "output_type": "stream",
          "text": [
            "                   all        541        624      0.467      0.884      0.636      0.454\n",
            "\n",
            "      Epoch    GPU_mem   box_loss   cls_loss   dfl_loss  Instances       Size\n"
          ]
        },
        {
          "name": "stderr",
          "output_type": "stream",
          "text": [
            "     46/100      3.54G     0.9632     0.7974       1.24         30        640: 100%|██████████| 108/108 [00:35<00:00,  3.07it/s]\n",
            "                 Class     Images  Instances      Box(P          R      mAP50  mAP50-95): 100%|██████████| 17/17 [00:06<00:00,  2.66it/s]"
          ]
        },
        {
          "name": "stdout",
          "output_type": "stream",
          "text": [
            "                   all        541        624      0.489      0.832      0.636      0.471\n"
          ]
        },
        {
          "name": "stderr",
          "output_type": "stream",
          "text": [
            "\n"
          ]
        },
        {
          "name": "stdout",
          "output_type": "stream",
          "text": [
            "\n",
            "      Epoch    GPU_mem   box_loss   cls_loss   dfl_loss  Instances       Size\n"
          ]
        },
        {
          "name": "stderr",
          "output_type": "stream",
          "text": [
            "     47/100      3.56G     0.9728     0.8023      1.242         22        640: 100%|██████████| 108/108 [00:33<00:00,  3.18it/s]\n",
            "                 Class     Images  Instances      Box(P          R      mAP50  mAP50-95): 100%|██████████| 17/17 [00:06<00:00,  2.60it/s]"
          ]
        },
        {
          "name": "stdout",
          "output_type": "stream",
          "text": [
            "                   all        541        624       0.47      0.817      0.651      0.458\n"
          ]
        },
        {
          "name": "stderr",
          "output_type": "stream",
          "text": [
            "\n"
          ]
        },
        {
          "name": "stdout",
          "output_type": "stream",
          "text": [
            "\n",
            "      Epoch    GPU_mem   box_loss   cls_loss   dfl_loss  Instances       Size\n"
          ]
        },
        {
          "name": "stderr",
          "output_type": "stream",
          "text": [
            "     48/100      3.58G     0.9597     0.7754      1.236         38        640: 100%|██████████| 108/108 [00:34<00:00,  3.13it/s]\n",
            "                 Class     Images  Instances      Box(P          R      mAP50  mAP50-95): 100%|██████████| 17/17 [00:06<00:00,  2.67it/s]"
          ]
        },
        {
          "name": "stdout",
          "output_type": "stream",
          "text": [
            "                   all        541        624       0.49      0.843      0.641      0.471\n"
          ]
        },
        {
          "name": "stderr",
          "output_type": "stream",
          "text": [
            "\n"
          ]
        },
        {
          "name": "stdout",
          "output_type": "stream",
          "text": [
            "\n",
            "      Epoch    GPU_mem   box_loss   cls_loss   dfl_loss  Instances       Size\n"
          ]
        },
        {
          "name": "stderr",
          "output_type": "stream",
          "text": [
            "     49/100       3.6G     0.9558     0.7768      1.226         33        640: 100%|██████████| 108/108 [00:36<00:00,  2.95it/s]\n",
            "                 Class     Images  Instances      Box(P          R      mAP50  mAP50-95): 100%|██████████| 17/17 [00:05<00:00,  3.08it/s]"
          ]
        },
        {
          "name": "stdout",
          "output_type": "stream",
          "text": [
            "                   all        541        624      0.471      0.893      0.621      0.459\n"
          ]
        },
        {
          "name": "stderr",
          "output_type": "stream",
          "text": [
            "\n"
          ]
        },
        {
          "name": "stdout",
          "output_type": "stream",
          "text": [
            "\n",
            "      Epoch    GPU_mem   box_loss   cls_loss   dfl_loss  Instances       Size\n"
          ]
        },
        {
          "name": "stderr",
          "output_type": "stream",
          "text": [
            "     50/100      3.61G     0.9658     0.7791      1.242         27        640: 100%|██████████| 108/108 [00:35<00:00,  3.09it/s]\n",
            "                 Class     Images  Instances      Box(P          R      mAP50  mAP50-95): 100%|██████████| 17/17 [00:05<00:00,  3.07it/s]"
          ]
        },
        {
          "name": "stdout",
          "output_type": "stream",
          "text": [
            "                   all        541        624      0.456      0.819      0.621      0.443\n"
          ]
        },
        {
          "name": "stderr",
          "output_type": "stream",
          "text": [
            "\n"
          ]
        },
        {
          "name": "stdout",
          "output_type": "stream",
          "text": [
            "\n",
            "      Epoch    GPU_mem   box_loss   cls_loss   dfl_loss  Instances       Size\n"
          ]
        },
        {
          "name": "stderr",
          "output_type": "stream",
          "text": [
            "     51/100      3.63G     0.9451     0.7687      1.212         29        640: 100%|██████████| 108/108 [00:35<00:00,  3.05it/s]\n",
            "                 Class     Images  Instances      Box(P          R      mAP50  mAP50-95): 100%|██████████| 17/17 [00:06<00:00,  2.65it/s]"
          ]
        },
        {
          "name": "stdout",
          "output_type": "stream",
          "text": [
            "                   all        541        624      0.468      0.864      0.633      0.466\n"
          ]
        },
        {
          "name": "stderr",
          "output_type": "stream",
          "text": [
            "\n"
          ]
        },
        {
          "name": "stdout",
          "output_type": "stream",
          "text": [
            "\n",
            "      Epoch    GPU_mem   box_loss   cls_loss   dfl_loss  Instances       Size\n"
          ]
        },
        {
          "name": "stderr",
          "output_type": "stream",
          "text": [
            "     52/100      3.65G      0.943     0.7821      1.218         24        640: 100%|██████████| 108/108 [00:34<00:00,  3.10it/s]\n",
            "                 Class     Images  Instances      Box(P          R      mAP50  mAP50-95): 100%|██████████| 17/17 [00:06<00:00,  2.50it/s]"
          ]
        },
        {
          "name": "stdout",
          "output_type": "stream",
          "text": [
            "                   all        541        624      0.478      0.857      0.614      0.451\n"
          ]
        },
        {
          "name": "stderr",
          "output_type": "stream",
          "text": [
            "\n"
          ]
        },
        {
          "name": "stdout",
          "output_type": "stream",
          "text": [
            "\n",
            "      Epoch    GPU_mem   box_loss   cls_loss   dfl_loss  Instances       Size\n"
          ]
        },
        {
          "name": "stderr",
          "output_type": "stream",
          "text": [
            "     53/100      3.66G       0.97     0.7805      1.231         35        640: 100%|██████████| 108/108 [00:34<00:00,  3.14it/s]\n",
            "                 Class     Images  Instances      Box(P          R      mAP50  mAP50-95): 100%|██████████| 17/17 [00:05<00:00,  2.85it/s]"
          ]
        },
        {
          "name": "stdout",
          "output_type": "stream",
          "text": [
            "                   all        541        624      0.485      0.854       0.64      0.461\n"
          ]
        },
        {
          "name": "stderr",
          "output_type": "stream",
          "text": [
            "\n"
          ]
        },
        {
          "name": "stdout",
          "output_type": "stream",
          "text": [
            "\n",
            "      Epoch    GPU_mem   box_loss   cls_loss   dfl_loss  Instances       Size\n"
          ]
        },
        {
          "name": "stderr",
          "output_type": "stream",
          "text": [
            "     54/100      3.68G     0.9478     0.7556      1.221         30        640: 100%|██████████| 108/108 [00:36<00:00,  2.98it/s]\n",
            "                 Class     Images  Instances      Box(P          R      mAP50  mAP50-95): 100%|██████████| 17/17 [00:05<00:00,  3.08it/s]"
          ]
        },
        {
          "name": "stdout",
          "output_type": "stream",
          "text": [
            "                   all        541        624      0.483      0.827      0.671      0.499\n"
          ]
        },
        {
          "name": "stderr",
          "output_type": "stream",
          "text": [
            "\n"
          ]
        },
        {
          "name": "stdout",
          "output_type": "stream",
          "text": [
            "\n",
            "      Epoch    GPU_mem   box_loss   cls_loss   dfl_loss  Instances       Size\n"
          ]
        },
        {
          "name": "stderr",
          "output_type": "stream",
          "text": [
            "     55/100       3.7G     0.9367     0.7489      1.209         28        640: 100%|██████████| 108/108 [00:35<00:00,  3.06it/s]\n",
            "                 Class     Images  Instances      Box(P          R      mAP50  mAP50-95): 100%|██████████| 17/17 [00:05<00:00,  2.91it/s]"
          ]
        },
        {
          "name": "stdout",
          "output_type": "stream",
          "text": [
            "                   all        541        624      0.467      0.859      0.603      0.446\n"
          ]
        },
        {
          "name": "stderr",
          "output_type": "stream",
          "text": [
            "\n"
          ]
        },
        {
          "name": "stdout",
          "output_type": "stream",
          "text": [
            "\n",
            "      Epoch    GPU_mem   box_loss   cls_loss   dfl_loss  Instances       Size\n"
          ]
        },
        {
          "name": "stderr",
          "output_type": "stream",
          "text": [
            "     56/100      3.71G      0.923     0.7452      1.205         23        640: 100%|██████████| 108/108 [00:35<00:00,  3.07it/s]\n",
            "                 Class     Images  Instances      Box(P          R      mAP50  mAP50-95): 100%|██████████| 17/17 [00:06<00:00,  2.67it/s]"
          ]
        },
        {
          "name": "stdout",
          "output_type": "stream",
          "text": [
            "                   all        541        624       0.51      0.787      0.616      0.459\n"
          ]
        },
        {
          "name": "stderr",
          "output_type": "stream",
          "text": [
            "\n"
          ]
        },
        {
          "name": "stdout",
          "output_type": "stream",
          "text": [
            "\n",
            "      Epoch    GPU_mem   box_loss   cls_loss   dfl_loss  Instances       Size\n"
          ]
        },
        {
          "name": "stderr",
          "output_type": "stream",
          "text": [
            "     57/100      3.73G     0.9224     0.7445      1.207         22        640: 100%|██████████| 108/108 [00:34<00:00,  3.15it/s]\n",
            "                 Class     Images  Instances      Box(P          R      mAP50  mAP50-95): 100%|██████████| 17/17 [00:06<00:00,  2.59it/s]"
          ]
        },
        {
          "name": "stdout",
          "output_type": "stream",
          "text": [
            "                   all        541        624      0.456       0.92      0.652      0.478\n"
          ]
        },
        {
          "name": "stderr",
          "output_type": "stream",
          "text": [
            "\n"
          ]
        },
        {
          "name": "stdout",
          "output_type": "stream",
          "text": [
            "\n",
            "      Epoch    GPU_mem   box_loss   cls_loss   dfl_loss  Instances       Size\n"
          ]
        },
        {
          "name": "stderr",
          "output_type": "stream",
          "text": [
            "     58/100      3.75G     0.9114     0.7517      1.193         33        640: 100%|██████████| 108/108 [00:35<00:00,  3.00it/s]\n",
            "                 Class     Images  Instances      Box(P          R      mAP50  mAP50-95): 100%|██████████| 17/17 [00:05<00:00,  2.91it/s]"
          ]
        },
        {
          "name": "stdout",
          "output_type": "stream",
          "text": [
            "                   all        541        624      0.475      0.861      0.623      0.464\n"
          ]
        },
        {
          "name": "stderr",
          "output_type": "stream",
          "text": [
            "\n"
          ]
        },
        {
          "name": "stdout",
          "output_type": "stream",
          "text": [
            "\n",
            "      Epoch    GPU_mem   box_loss   cls_loss   dfl_loss  Instances       Size\n"
          ]
        },
        {
          "name": "stderr",
          "output_type": "stream",
          "text": [
            "     59/100      3.77G     0.9134     0.7461      1.194         19        640: 100%|██████████| 108/108 [00:36<00:00,  2.93it/s]\n",
            "                 Class     Images  Instances      Box(P          R      mAP50  mAP50-95): 100%|██████████| 17/17 [00:05<00:00,  3.18it/s]"
          ]
        },
        {
          "name": "stdout",
          "output_type": "stream",
          "text": [
            "                   all        541        624       0.48      0.862      0.657      0.492\n"
          ]
        },
        {
          "name": "stderr",
          "output_type": "stream",
          "text": [
            "\n"
          ]
        },
        {
          "name": "stdout",
          "output_type": "stream",
          "text": [
            "\n",
            "      Epoch    GPU_mem   box_loss   cls_loss   dfl_loss  Instances       Size\n"
          ]
        },
        {
          "name": "stderr",
          "output_type": "stream",
          "text": [
            "     60/100      3.78G     0.9186     0.7265        1.2         23        640: 100%|██████████| 108/108 [00:35<00:00,  3.08it/s]\n",
            "                 Class     Images  Instances      Box(P          R      mAP50  mAP50-95): 100%|██████████| 17/17 [00:06<00:00,  2.68it/s]"
          ]
        },
        {
          "name": "stdout",
          "output_type": "stream",
          "text": [
            "                   all        541        624      0.473      0.857       0.63      0.468\n"
          ]
        },
        {
          "name": "stderr",
          "output_type": "stream",
          "text": [
            "\n"
          ]
        },
        {
          "name": "stdout",
          "output_type": "stream",
          "text": [
            "\n",
            "      Epoch    GPU_mem   box_loss   cls_loss   dfl_loss  Instances       Size\n"
          ]
        },
        {
          "name": "stderr",
          "output_type": "stream",
          "text": [
            "     61/100       3.8G     0.8978     0.7231      1.183         27        640: 100%|██████████| 108/108 [00:34<00:00,  3.14it/s]\n",
            "                 Class     Images  Instances      Box(P          R      mAP50  mAP50-95): 100%|██████████| 17/17 [00:06<00:00,  2.63it/s]"
          ]
        },
        {
          "name": "stdout",
          "output_type": "stream",
          "text": [
            "                   all        541        624      0.482      0.832      0.628      0.466\n"
          ]
        },
        {
          "name": "stderr",
          "output_type": "stream",
          "text": [
            "\n"
          ]
        },
        {
          "name": "stdout",
          "output_type": "stream",
          "text": [
            "\n",
            "      Epoch    GPU_mem   box_loss   cls_loss   dfl_loss  Instances       Size\n"
          ]
        },
        {
          "name": "stderr",
          "output_type": "stream",
          "text": [
            "     62/100      3.82G     0.8852     0.7286      1.175         28        640: 100%|██████████| 108/108 [00:34<00:00,  3.11it/s]\n",
            "                 Class     Images  Instances      Box(P          R      mAP50  mAP50-95): 100%|██████████| 17/17 [00:06<00:00,  2.77it/s]"
          ]
        },
        {
          "name": "stdout",
          "output_type": "stream",
          "text": [
            "                   all        541        624      0.468      0.901      0.659      0.492\n"
          ]
        },
        {
          "name": "stderr",
          "output_type": "stream",
          "text": [
            "\n"
          ]
        },
        {
          "name": "stdout",
          "output_type": "stream",
          "text": [
            "\n",
            "      Epoch    GPU_mem   box_loss   cls_loss   dfl_loss  Instances       Size\n"
          ]
        },
        {
          "name": "stderr",
          "output_type": "stream",
          "text": [
            "     63/100      3.83G     0.8911     0.7206      1.178         26        640: 100%|██████████| 108/108 [00:35<00:00,  3.05it/s]\n",
            "                 Class     Images  Instances      Box(P          R      mAP50  mAP50-95): 100%|██████████| 17/17 [00:05<00:00,  3.22it/s]"
          ]
        },
        {
          "name": "stdout",
          "output_type": "stream",
          "text": [
            "                   all        541        624      0.443      0.926      0.618      0.457\n"
          ]
        },
        {
          "name": "stderr",
          "output_type": "stream",
          "text": [
            "\n"
          ]
        },
        {
          "name": "stdout",
          "output_type": "stream",
          "text": [
            "\n",
            "      Epoch    GPU_mem   box_loss   cls_loss   dfl_loss  Instances       Size\n"
          ]
        },
        {
          "name": "stderr",
          "output_type": "stream",
          "text": [
            "     64/100      3.85G     0.8674     0.6986      1.171         28        640: 100%|██████████| 108/108 [00:36<00:00,  2.98it/s]\n",
            "                 Class     Images  Instances      Box(P          R      mAP50  mAP50-95): 100%|██████████| 17/17 [00:05<00:00,  3.24it/s]"
          ]
        },
        {
          "name": "stdout",
          "output_type": "stream",
          "text": [
            "                   all        541        624      0.455      0.907      0.625      0.467\n"
          ]
        },
        {
          "name": "stderr",
          "output_type": "stream",
          "text": [
            "\n"
          ]
        },
        {
          "name": "stdout",
          "output_type": "stream",
          "text": [
            "\n",
            "      Epoch    GPU_mem   box_loss   cls_loss   dfl_loss  Instances       Size\n"
          ]
        },
        {
          "name": "stderr",
          "output_type": "stream",
          "text": [
            "     65/100      3.87G     0.9067     0.7159      1.188         28        640: 100%|██████████| 108/108 [00:34<00:00,  3.12it/s]\n",
            "                 Class     Images  Instances      Box(P          R      mAP50  mAP50-95): 100%|██████████| 17/17 [00:06<00:00,  2.77it/s]"
          ]
        },
        {
          "name": "stdout",
          "output_type": "stream",
          "text": [
            "                   all        541        624      0.456      0.859       0.63      0.473\n"
          ]
        },
        {
          "name": "stderr",
          "output_type": "stream",
          "text": [
            "\n"
          ]
        },
        {
          "name": "stdout",
          "output_type": "stream",
          "text": [
            "\n",
            "      Epoch    GPU_mem   box_loss   cls_loss   dfl_loss  Instances       Size\n"
          ]
        },
        {
          "name": "stderr",
          "output_type": "stream",
          "text": [
            "     66/100      3.88G     0.8777     0.7277      1.175         21        640: 100%|██████████| 108/108 [00:34<00:00,  3.15it/s]\n",
            "                 Class     Images  Instances      Box(P          R      mAP50  mAP50-95): 100%|██████████| 17/17 [00:06<00:00,  2.58it/s]"
          ]
        },
        {
          "name": "stdout",
          "output_type": "stream",
          "text": [
            "                   all        541        624      0.457      0.904      0.671      0.501\n"
          ]
        },
        {
          "name": "stderr",
          "output_type": "stream",
          "text": [
            "\n"
          ]
        },
        {
          "name": "stdout",
          "output_type": "stream",
          "text": [
            "\n",
            "      Epoch    GPU_mem   box_loss   cls_loss   dfl_loss  Instances       Size\n"
          ]
        },
        {
          "name": "stderr",
          "output_type": "stream",
          "text": [
            "     67/100       3.9G     0.8886     0.7213      1.184         29        640: 100%|██████████| 108/108 [00:34<00:00,  3.09it/s]\n",
            "                 Class     Images  Instances      Box(P          R      mAP50  mAP50-95): 100%|██████████| 17/17 [00:06<00:00,  2.64it/s]"
          ]
        },
        {
          "name": "stdout",
          "output_type": "stream",
          "text": [
            "                   all        541        624       0.45      0.894      0.662      0.483\n"
          ]
        },
        {
          "name": "stderr",
          "output_type": "stream",
          "text": [
            "\n"
          ]
        },
        {
          "name": "stdout",
          "output_type": "stream",
          "text": [
            "\n",
            "      Epoch    GPU_mem   box_loss   cls_loss   dfl_loss  Instances       Size\n"
          ]
        },
        {
          "name": "stderr",
          "output_type": "stream",
          "text": [
            "     68/100      3.92G     0.8833     0.7163      1.176         28        640: 100%|██████████| 108/108 [00:35<00:00,  3.05it/s]\n",
            "                 Class     Images  Instances      Box(P          R      mAP50  mAP50-95): 100%|██████████| 17/17 [00:05<00:00,  3.11it/s]"
          ]
        },
        {
          "name": "stdout",
          "output_type": "stream",
          "text": [
            "                   all        541        624      0.441      0.897      0.651      0.485\n"
          ]
        },
        {
          "name": "stderr",
          "output_type": "stream",
          "text": [
            "\n"
          ]
        },
        {
          "name": "stdout",
          "output_type": "stream",
          "text": [
            "\n",
            "      Epoch    GPU_mem   box_loss   cls_loss   dfl_loss  Instances       Size\n"
          ]
        },
        {
          "name": "stderr",
          "output_type": "stream",
          "text": [
            "     69/100      3.94G     0.8698     0.6975      1.173         33        640: 100%|██████████| 108/108 [00:36<00:00,  2.96it/s]\n",
            "                 Class     Images  Instances      Box(P          R      mAP50  mAP50-95): 100%|██████████| 17/17 [00:05<00:00,  3.10it/s]"
          ]
        },
        {
          "name": "stdout",
          "output_type": "stream",
          "text": [
            "                   all        541        624      0.466      0.854      0.644      0.484\n"
          ]
        },
        {
          "name": "stderr",
          "output_type": "stream",
          "text": [
            "\n"
          ]
        },
        {
          "name": "stdout",
          "output_type": "stream",
          "text": [
            "\n",
            "      Epoch    GPU_mem   box_loss   cls_loss   dfl_loss  Instances       Size\n"
          ]
        },
        {
          "name": "stderr",
          "output_type": "stream",
          "text": [
            "     70/100      3.95G     0.8665     0.7174      1.171         34        640: 100%|██████████| 108/108 [00:34<00:00,  3.09it/s]\n",
            "                 Class     Images  Instances      Box(P          R      mAP50  mAP50-95): 100%|██████████| 17/17 [00:06<00:00,  2.50it/s]"
          ]
        },
        {
          "name": "stdout",
          "output_type": "stream",
          "text": [
            "                   all        541        624      0.452      0.933      0.629      0.469\n"
          ]
        },
        {
          "name": "stderr",
          "output_type": "stream",
          "text": [
            "\n"
          ]
        },
        {
          "name": "stdout",
          "output_type": "stream",
          "text": [
            "\n",
            "      Epoch    GPU_mem   box_loss   cls_loss   dfl_loss  Instances       Size\n"
          ]
        },
        {
          "name": "stderr",
          "output_type": "stream",
          "text": [
            "     71/100      3.97G     0.8536     0.6977      1.157         30        640: 100%|██████████| 108/108 [00:33<00:00,  3.19it/s]\n",
            "                 Class     Images  Instances      Box(P          R      mAP50  mAP50-95): 100%|██████████| 17/17 [00:06<00:00,  2.54it/s]"
          ]
        },
        {
          "name": "stdout",
          "output_type": "stream",
          "text": [
            "                   all        541        624      0.453      0.896      0.624      0.475\n"
          ]
        },
        {
          "name": "stderr",
          "output_type": "stream",
          "text": [
            "\n"
          ]
        },
        {
          "name": "stdout",
          "output_type": "stream",
          "text": [
            "\n",
            "      Epoch    GPU_mem   box_loss   cls_loss   dfl_loss  Instances       Size\n"
          ]
        },
        {
          "name": "stderr",
          "output_type": "stream",
          "text": [
            "     72/100      3.99G     0.8763     0.7076      1.175         29        640: 100%|██████████| 108/108 [00:34<00:00,  3.12it/s]\n",
            "                 Class     Images  Instances      Box(P          R      mAP50  mAP50-95): 100%|██████████| 17/17 [00:05<00:00,  2.87it/s]"
          ]
        },
        {
          "name": "stdout",
          "output_type": "stream",
          "text": [
            "                   all        541        624      0.452      0.933      0.612      0.461\n"
          ]
        },
        {
          "name": "stderr",
          "output_type": "stream",
          "text": [
            "\n"
          ]
        },
        {
          "name": "stdout",
          "output_type": "stream",
          "text": [
            "\n",
            "      Epoch    GPU_mem   box_loss   cls_loss   dfl_loss  Instances       Size\n"
          ]
        },
        {
          "name": "stderr",
          "output_type": "stream",
          "text": [
            "     73/100         4G     0.8507     0.6845      1.159         33        640: 100%|██████████| 108/108 [00:35<00:00,  3.06it/s]\n",
            "                 Class     Images  Instances      Box(P          R      mAP50  mAP50-95): 100%|██████████| 17/17 [00:05<00:00,  3.08it/s]"
          ]
        },
        {
          "name": "stdout",
          "output_type": "stream",
          "text": [
            "                   all        541        624      0.457      0.912      0.635      0.476\n"
          ]
        },
        {
          "name": "stderr",
          "output_type": "stream",
          "text": [
            "\n"
          ]
        },
        {
          "name": "stdout",
          "output_type": "stream",
          "text": [
            "\n",
            "      Epoch    GPU_mem   box_loss   cls_loss   dfl_loss  Instances       Size\n"
          ]
        },
        {
          "name": "stderr",
          "output_type": "stream",
          "text": [
            "     74/100      4.02G      0.844     0.6816      1.151         23        640: 100%|██████████| 108/108 [00:35<00:00,  3.01it/s]\n",
            "                 Class     Images  Instances      Box(P          R      mAP50  mAP50-95): 100%|██████████| 17/17 [00:05<00:00,  2.92it/s]\n"
          ]
        },
        {
          "name": "stdout",
          "output_type": "stream",
          "text": [
            "                   all        541        624      0.453      0.883      0.623      0.464\n",
            "\n",
            "      Epoch    GPU_mem   box_loss   cls_loss   dfl_loss  Instances       Size\n"
          ]
        },
        {
          "name": "stderr",
          "output_type": "stream",
          "text": [
            "     75/100      4.04G     0.8386     0.6864      1.153         34        640: 100%|██████████| 108/108 [00:35<00:00,  3.06it/s]\n",
            "                 Class     Images  Instances      Box(P          R      mAP50  mAP50-95): 100%|██████████| 17/17 [00:06<00:00,  2.57it/s]"
          ]
        },
        {
          "name": "stdout",
          "output_type": "stream",
          "text": [
            "                   all        541        624      0.454       0.88      0.641      0.485\n"
          ]
        },
        {
          "name": "stderr",
          "output_type": "stream",
          "text": [
            "\n"
          ]
        },
        {
          "name": "stdout",
          "output_type": "stream",
          "text": [
            "\n",
            "      Epoch    GPU_mem   box_loss   cls_loss   dfl_loss  Instances       Size\n"
          ]
        },
        {
          "name": "stderr",
          "output_type": "stream",
          "text": [
            "     76/100      4.05G     0.8355     0.6851      1.149         22        640: 100%|██████████| 108/108 [00:33<00:00,  3.19it/s]\n",
            "                 Class     Images  Instances      Box(P          R      mAP50  mAP50-95): 100%|██████████| 17/17 [00:06<00:00,  2.66it/s]"
          ]
        },
        {
          "name": "stdout",
          "output_type": "stream",
          "text": [
            "                   all        541        624      0.463      0.872      0.628      0.475\n"
          ]
        },
        {
          "name": "stderr",
          "output_type": "stream",
          "text": [
            "\n"
          ]
        },
        {
          "name": "stdout",
          "output_type": "stream",
          "text": [
            "\n",
            "      Epoch    GPU_mem   box_loss   cls_loss   dfl_loss  Instances       Size\n"
          ]
        },
        {
          "name": "stderr",
          "output_type": "stream",
          "text": [
            "     77/100      4.07G     0.8322     0.6788      1.152         32        640: 100%|██████████| 108/108 [00:34<00:00,  3.18it/s]\n",
            "                 Class     Images  Instances      Box(P          R      mAP50  mAP50-95): 100%|██████████| 17/17 [00:06<00:00,  2.71it/s]\n"
          ]
        },
        {
          "name": "stdout",
          "output_type": "stream",
          "text": [
            "                   all        541        624      0.459      0.888      0.636       0.48\n",
            "\n",
            "      Epoch    GPU_mem   box_loss   cls_loss   dfl_loss  Instances       Size\n"
          ]
        },
        {
          "name": "stderr",
          "output_type": "stream",
          "text": [
            "     78/100      4.09G     0.8409     0.6766      1.149         28        640: 100%|██████████| 108/108 [00:35<00:00,  3.04it/s]\n",
            "                 Class     Images  Instances      Box(P          R      mAP50  mAP50-95): 100%|██████████| 17/17 [00:06<00:00,  2.57it/s]"
          ]
        },
        {
          "name": "stdout",
          "output_type": "stream",
          "text": [
            "                   all        541        624      0.451        0.9      0.645      0.477\n"
          ]
        },
        {
          "name": "stderr",
          "output_type": "stream",
          "text": [
            "\n"
          ]
        },
        {
          "name": "stdout",
          "output_type": "stream",
          "text": [
            "\n",
            "      Epoch    GPU_mem   box_loss   cls_loss   dfl_loss  Instances       Size\n"
          ]
        },
        {
          "name": "stderr",
          "output_type": "stream",
          "text": [
            "     79/100      4.11G     0.8265     0.6684      1.142         28        640: 100%|██████████| 108/108 [00:35<00:00,  3.04it/s]\n",
            "                 Class     Images  Instances      Box(P          R      mAP50  mAP50-95): 100%|██████████| 17/17 [00:05<00:00,  3.22it/s]"
          ]
        },
        {
          "name": "stdout",
          "output_type": "stream",
          "text": [
            "                   all        541        624      0.457      0.875      0.638      0.485\n"
          ]
        },
        {
          "name": "stderr",
          "output_type": "stream",
          "text": [
            "\n"
          ]
        },
        {
          "name": "stdout",
          "output_type": "stream",
          "text": [
            "\n",
            "      Epoch    GPU_mem   box_loss   cls_loss   dfl_loss  Instances       Size\n"
          ]
        },
        {
          "name": "stderr",
          "output_type": "stream",
          "text": [
            "     80/100      4.12G     0.8306     0.6546      1.145         39        640: 100%|██████████| 108/108 [00:35<00:00,  3.04it/s]\n",
            "                 Class     Images  Instances      Box(P          R      mAP50  mAP50-95): 100%|██████████| 17/17 [00:06<00:00,  2.57it/s]"
          ]
        },
        {
          "name": "stdout",
          "output_type": "stream",
          "text": [
            "                   all        541        624      0.439      0.904      0.632       0.47\n"
          ]
        },
        {
          "name": "stderr",
          "output_type": "stream",
          "text": [
            "\n"
          ]
        },
        {
          "name": "stdout",
          "output_type": "stream",
          "text": [
            "\n",
            "      Epoch    GPU_mem   box_loss   cls_loss   dfl_loss  Instances       Size\n"
          ]
        },
        {
          "name": "stderr",
          "output_type": "stream",
          "text": [
            "     81/100      4.14G     0.8162     0.6467       1.14         29        640: 100%|██████████| 108/108 [00:34<00:00,  3.12it/s]\n",
            "                 Class     Images  Instances      Box(P          R      mAP50  mAP50-95): 100%|██████████| 17/17 [00:06<00:00,  2.56it/s]"
          ]
        },
        {
          "name": "stdout",
          "output_type": "stream",
          "text": [
            "                   all        541        624       0.45      0.878       0.59      0.446\n"
          ]
        },
        {
          "name": "stderr",
          "output_type": "stream",
          "text": [
            "\n"
          ]
        },
        {
          "name": "stdout",
          "output_type": "stream",
          "text": [
            "\n",
            "      Epoch    GPU_mem   box_loss   cls_loss   dfl_loss  Instances       Size\n"
          ]
        },
        {
          "name": "stderr",
          "output_type": "stream",
          "text": [
            "     82/100      4.16G     0.8178     0.6678      1.132         27        640: 100%|██████████| 108/108 [00:35<00:00,  3.07it/s]\n",
            "                 Class     Images  Instances      Box(P          R      mAP50  mAP50-95): 100%|██████████| 17/17 [00:05<00:00,  3.14it/s]"
          ]
        },
        {
          "name": "stdout",
          "output_type": "stream",
          "text": [
            "                   all        541        624      0.443      0.939      0.627      0.473\n"
          ]
        },
        {
          "name": "stderr",
          "output_type": "stream",
          "text": [
            "\n"
          ]
        },
        {
          "name": "stdout",
          "output_type": "stream",
          "text": [
            "\n",
            "      Epoch    GPU_mem   box_loss   cls_loss   dfl_loss  Instances       Size\n"
          ]
        },
        {
          "name": "stderr",
          "output_type": "stream",
          "text": [
            "     83/100      4.18G     0.8148     0.6638      1.136         43        640: 100%|██████████| 108/108 [00:36<00:00,  3.00it/s]\n",
            "                 Class     Images  Instances      Box(P          R      mAP50  mAP50-95): 100%|██████████| 17/17 [00:05<00:00,  3.16it/s]"
          ]
        },
        {
          "name": "stdout",
          "output_type": "stream",
          "text": [
            "                   all        541        624      0.447      0.886      0.636      0.479\n"
          ]
        },
        {
          "name": "stderr",
          "output_type": "stream",
          "text": [
            "\n"
          ]
        },
        {
          "name": "stdout",
          "output_type": "stream",
          "text": [
            "\n",
            "      Epoch    GPU_mem   box_loss   cls_loss   dfl_loss  Instances       Size\n"
          ]
        },
        {
          "name": "stderr",
          "output_type": "stream",
          "text": [
            "     84/100      4.19G     0.8129     0.6526       1.14         25        640: 100%|██████████| 108/108 [00:34<00:00,  3.09it/s]\n",
            "                 Class     Images  Instances      Box(P          R      mAP50  mAP50-95): 100%|██████████| 17/17 [00:05<00:00,  3.07it/s]\n"
          ]
        },
        {
          "name": "stdout",
          "output_type": "stream",
          "text": [
            "                   all        541        624      0.441      0.887      0.612      0.459\n",
            "\n",
            "      Epoch    GPU_mem   box_loss   cls_loss   dfl_loss  Instances       Size\n"
          ]
        },
        {
          "name": "stderr",
          "output_type": "stream",
          "text": [
            "     85/100      4.21G     0.7937     0.6344      1.124         27        640: 100%|██████████| 108/108 [00:35<00:00,  3.08it/s]\n",
            "                 Class     Images  Instances      Box(P          R      mAP50  mAP50-95): 100%|██████████| 17/17 [00:05<00:00,  2.93it/s]"
          ]
        },
        {
          "name": "stdout",
          "output_type": "stream",
          "text": [
            "                   all        541        624      0.445      0.917      0.619      0.469\n"
          ]
        },
        {
          "name": "stderr",
          "output_type": "stream",
          "text": [
            "\n"
          ]
        },
        {
          "name": "stdout",
          "output_type": "stream",
          "text": [
            "\n",
            "      Epoch    GPU_mem   box_loss   cls_loss   dfl_loss  Instances       Size\n"
          ]
        },
        {
          "name": "stderr",
          "output_type": "stream",
          "text": [
            "     86/100      4.23G     0.7881     0.6424      1.118         22        640: 100%|██████████| 108/108 [00:34<00:00,  3.14it/s]\n",
            "                 Class     Images  Instances      Box(P          R      mAP50  mAP50-95): 100%|██████████| 17/17 [00:06<00:00,  2.54it/s]"
          ]
        },
        {
          "name": "stdout",
          "output_type": "stream",
          "text": [
            "                   all        541        624      0.441      0.885       0.61      0.463\n"
          ]
        },
        {
          "name": "stderr",
          "output_type": "stream",
          "text": [
            "\n"
          ]
        },
        {
          "name": "stdout",
          "output_type": "stream",
          "text": [
            "\n",
            "      Epoch    GPU_mem   box_loss   cls_loss   dfl_loss  Instances       Size\n"
          ]
        },
        {
          "name": "stderr",
          "output_type": "stream",
          "text": [
            "     87/100      4.24G     0.8018     0.6406      1.125         33        640: 100%|██████████| 108/108 [00:34<00:00,  3.16it/s]\n",
            "                 Class     Images  Instances      Box(P          R      mAP50  mAP50-95): 100%|██████████| 17/17 [00:06<00:00,  2.53it/s]"
          ]
        },
        {
          "name": "stdout",
          "output_type": "stream",
          "text": [
            "                   all        541        624       0.44      0.899      0.606      0.465\n"
          ]
        },
        {
          "name": "stderr",
          "output_type": "stream",
          "text": [
            "\n"
          ]
        },
        {
          "name": "stdout",
          "output_type": "stream",
          "text": [
            "\n",
            "      Epoch    GPU_mem   box_loss   cls_loss   dfl_loss  Instances       Size\n"
          ]
        },
        {
          "name": "stderr",
          "output_type": "stream",
          "text": [
            "     88/100      4.26G     0.7782     0.6236      1.112         30        640: 100%|██████████| 108/108 [00:36<00:00,  2.95it/s]\n",
            "                 Class     Images  Instances      Box(P          R      mAP50  mAP50-95): 100%|██████████| 17/17 [00:05<00:00,  3.10it/s]"
          ]
        },
        {
          "name": "stdout",
          "output_type": "stream",
          "text": [
            "                   all        541        624      0.434      0.923       0.62      0.467\n"
          ]
        },
        {
          "name": "stderr",
          "output_type": "stream",
          "text": [
            "\n"
          ]
        },
        {
          "name": "stdout",
          "output_type": "stream",
          "text": [
            "\n",
            "      Epoch    GPU_mem   box_loss   cls_loss   dfl_loss  Instances       Size\n"
          ]
        },
        {
          "name": "stderr",
          "output_type": "stream",
          "text": [
            "     89/100      4.28G     0.7839     0.6348      1.124         38        640: 100%|██████████| 108/108 [00:35<00:00,  3.05it/s]\n",
            "                 Class     Images  Instances      Box(P          R      mAP50  mAP50-95): 100%|██████████| 17/17 [00:05<00:00,  3.07it/s]"
          ]
        },
        {
          "name": "stdout",
          "output_type": "stream",
          "text": [
            "                   all        541        624       0.44      0.939      0.594      0.445\n"
          ]
        },
        {
          "name": "stderr",
          "output_type": "stream",
          "text": [
            "\n"
          ]
        },
        {
          "name": "stdout",
          "output_type": "stream",
          "text": [
            "\n",
            "      Epoch    GPU_mem   box_loss   cls_loss   dfl_loss  Instances       Size\n"
          ]
        },
        {
          "name": "stderr",
          "output_type": "stream",
          "text": [
            "     90/100      4.29G     0.7753     0.6403      1.113         31        640: 100%|██████████| 108/108 [00:34<00:00,  3.09it/s]\n",
            "                 Class     Images  Instances      Box(P          R      mAP50  mAP50-95): 100%|██████████| 17/17 [00:05<00:00,  3.04it/s]"
          ]
        },
        {
          "name": "stdout",
          "output_type": "stream",
          "text": [
            "                   all        541        624       0.44      0.896      0.601      0.456\n"
          ]
        },
        {
          "name": "stderr",
          "output_type": "stream",
          "text": [
            "\n"
          ]
        },
        {
          "name": "stdout",
          "output_type": "stream",
          "text": [
            "Closing dataloader mosaic\n",
            "\u001b[34m\u001b[1malbumentations: \u001b[0mBlur(p=0.01, blur_limit=(3, 7)), MedianBlur(p=0.01, blur_limit=(3, 7)), ToGray(p=0.01, method='weighted_average', num_output_channels=3), CLAHE(p=0.01, clip_limit=(1.0, 4.0), tile_grid_size=(8, 8))\n",
            "\n",
            "      Epoch    GPU_mem   box_loss   cls_loss   dfl_loss  Instances       Size\n"
          ]
        },
        {
          "name": "stderr",
          "output_type": "stream",
          "text": [
            "     91/100      4.31G     0.6943     0.4978      1.061         20        640: 100%|██████████| 108/108 [00:35<00:00,  3.07it/s]\n",
            "                 Class     Images  Instances      Box(P          R      mAP50  mAP50-95): 100%|██████████| 17/17 [00:06<00:00,  2.69it/s]"
          ]
        },
        {
          "name": "stdout",
          "output_type": "stream",
          "text": [
            "                   all        541        624      0.443      0.904      0.573      0.435\n"
          ]
        },
        {
          "name": "stderr",
          "output_type": "stream",
          "text": [
            "\n"
          ]
        },
        {
          "name": "stdout",
          "output_type": "stream",
          "text": [
            "\n",
            "      Epoch    GPU_mem   box_loss   cls_loss   dfl_loss  Instances       Size\n"
          ]
        },
        {
          "name": "stderr",
          "output_type": "stream",
          "text": [
            "     92/100      4.33G     0.6741     0.4693      1.044         13        640: 100%|██████████| 108/108 [00:32<00:00,  3.28it/s]\n",
            "                 Class     Images  Instances      Box(P          R      mAP50  mAP50-95): 100%|██████████| 17/17 [00:06<00:00,  2.62it/s]"
          ]
        },
        {
          "name": "stdout",
          "output_type": "stream",
          "text": [
            "                   all        541        624      0.448      0.891      0.587      0.449\n"
          ]
        },
        {
          "name": "stderr",
          "output_type": "stream",
          "text": [
            "\n"
          ]
        },
        {
          "name": "stdout",
          "output_type": "stream",
          "text": [
            "\n",
            "      Epoch    GPU_mem   box_loss   cls_loss   dfl_loss  Instances       Size\n"
          ]
        },
        {
          "name": "stderr",
          "output_type": "stream",
          "text": [
            "     93/100      4.35G     0.6654     0.4581      1.043         16        640: 100%|██████████| 108/108 [00:35<00:00,  3.06it/s]\n",
            "                 Class     Images  Instances      Box(P          R      mAP50  mAP50-95): 100%|██████████| 17/17 [00:05<00:00,  3.11it/s]"
          ]
        },
        {
          "name": "stdout",
          "output_type": "stream",
          "text": [
            "                   all        541        624      0.442      0.916      0.587      0.453\n"
          ]
        },
        {
          "name": "stderr",
          "output_type": "stream",
          "text": [
            "\n"
          ]
        },
        {
          "name": "stdout",
          "output_type": "stream",
          "text": [
            "\n",
            "      Epoch    GPU_mem   box_loss   cls_loss   dfl_loss  Instances       Size\n"
          ]
        },
        {
          "name": "stderr",
          "output_type": "stream",
          "text": [
            "     94/100      4.37G     0.6505     0.4533      1.036         12        640: 100%|██████████| 108/108 [00:34<00:00,  3.17it/s]\n",
            "                 Class     Images  Instances      Box(P          R      mAP50  mAP50-95): 100%|██████████| 17/17 [00:05<00:00,  3.13it/s]"
          ]
        },
        {
          "name": "stdout",
          "output_type": "stream",
          "text": [
            "                   all        541        624       0.44       0.91      0.603      0.461\n"
          ]
        },
        {
          "name": "stderr",
          "output_type": "stream",
          "text": [
            "\n"
          ]
        },
        {
          "name": "stdout",
          "output_type": "stream",
          "text": [
            "\n",
            "      Epoch    GPU_mem   box_loss   cls_loss   dfl_loss  Instances       Size\n"
          ]
        },
        {
          "name": "stderr",
          "output_type": "stream",
          "text": [
            "     95/100      4.38G     0.6499     0.4532      1.038         14        640: 100%|██████████| 108/108 [00:33<00:00,  3.19it/s]\n",
            "                 Class     Images  Instances      Box(P          R      mAP50  mAP50-95): 100%|██████████| 17/17 [00:05<00:00,  3.22it/s]"
          ]
        },
        {
          "name": "stdout",
          "output_type": "stream",
          "text": [
            "                   all        541        624      0.445      0.899      0.605      0.463\n"
          ]
        },
        {
          "name": "stderr",
          "output_type": "stream",
          "text": [
            "\n"
          ]
        },
        {
          "name": "stdout",
          "output_type": "stream",
          "text": [
            "\n",
            "      Epoch    GPU_mem   box_loss   cls_loss   dfl_loss  Instances       Size\n"
          ]
        },
        {
          "name": "stderr",
          "output_type": "stream",
          "text": [
            "     96/100       4.4G     0.6513     0.4479      1.036         15        640: 100%|██████████| 108/108 [00:33<00:00,  3.18it/s]\n",
            "                 Class     Images  Instances      Box(P          R      mAP50  mAP50-95): 100%|██████████| 17/17 [00:05<00:00,  3.27it/s]\n"
          ]
        },
        {
          "name": "stdout",
          "output_type": "stream",
          "text": [
            "                   all        541        624      0.441      0.888      0.598      0.458\n",
            "\n",
            "      Epoch    GPU_mem   box_loss   cls_loss   dfl_loss  Instances       Size\n"
          ]
        },
        {
          "name": "stderr",
          "output_type": "stream",
          "text": [
            "     97/100      4.42G     0.6446     0.4429      1.034         13        640: 100%|██████████| 108/108 [00:34<00:00,  3.17it/s]\n",
            "                 Class     Images  Instances      Box(P          R      mAP50  mAP50-95): 100%|██████████| 17/17 [00:05<00:00,  3.19it/s]"
          ]
        },
        {
          "name": "stdout",
          "output_type": "stream",
          "text": [
            "                   all        541        624       0.44      0.928      0.588      0.446\n"
          ]
        },
        {
          "name": "stderr",
          "output_type": "stream",
          "text": [
            "\n"
          ]
        },
        {
          "name": "stdout",
          "output_type": "stream",
          "text": [
            "\n",
            "      Epoch    GPU_mem   box_loss   cls_loss   dfl_loss  Instances       Size\n"
          ]
        },
        {
          "name": "stderr",
          "output_type": "stream",
          "text": [
            "     98/100      4.43G     0.6292     0.4372       1.02         11        640: 100%|██████████| 108/108 [00:35<00:00,  3.08it/s]\n",
            "                 Class     Images  Instances      Box(P          R      mAP50  mAP50-95): 100%|██████████| 17/17 [00:05<00:00,  2.98it/s]"
          ]
        },
        {
          "name": "stdout",
          "output_type": "stream",
          "text": [
            "                   all        541        624       0.44      0.909      0.596      0.455\n"
          ]
        },
        {
          "name": "stderr",
          "output_type": "stream",
          "text": [
            "\n"
          ]
        },
        {
          "name": "stdout",
          "output_type": "stream",
          "text": [
            "\n",
            "      Epoch    GPU_mem   box_loss   cls_loss   dfl_loss  Instances       Size\n"
          ]
        },
        {
          "name": "stderr",
          "output_type": "stream",
          "text": [
            "     99/100      4.45G     0.6286      0.428      1.018         16        640: 100%|██████████| 108/108 [00:33<00:00,  3.27it/s]\n",
            "                 Class     Images  Instances      Box(P          R      mAP50  mAP50-95): 100%|██████████| 17/17 [00:05<00:00,  2.92it/s]"
          ]
        },
        {
          "name": "stdout",
          "output_type": "stream",
          "text": [
            "                   all        541        624      0.438      0.912      0.598      0.456\n"
          ]
        },
        {
          "name": "stderr",
          "output_type": "stream",
          "text": [
            "\n"
          ]
        },
        {
          "name": "stdout",
          "output_type": "stream",
          "text": [
            "\n",
            "      Epoch    GPU_mem   box_loss   cls_loss   dfl_loss  Instances       Size\n"
          ]
        },
        {
          "name": "stderr",
          "output_type": "stream",
          "text": [
            "    100/100      4.47G     0.6239     0.4314      1.019         12        640: 100%|██████████| 108/108 [00:32<00:00,  3.28it/s]\n",
            "                 Class     Images  Instances      Box(P          R      mAP50  mAP50-95): 100%|██████████| 17/17 [00:06<00:00,  2.79it/s]"
          ]
        },
        {
          "name": "stdout",
          "output_type": "stream",
          "text": [
            "                   all        541        624       0.44      0.915      0.597      0.459\n"
          ]
        },
        {
          "name": "stderr",
          "output_type": "stream",
          "text": [
            "\n"
          ]
        },
        {
          "name": "stdout",
          "output_type": "stream",
          "text": [
            "\n",
            "100 epochs completed in 1.159 hours.\n",
            "Optimizer stripped from runs/detect/train2/weights/last.pt, 6.2MB\n",
            "Optimizer stripped from runs/detect/train2/weights/best.pt, 6.2MB\n",
            "\n",
            "Validating runs/detect/train2/weights/best.pt...\n",
            "Ultralytics 8.3.172 🚀 Python-3.11.13 torch-2.6.0+cu124 CUDA:0 (Tesla T4, 15095MiB)\n",
            "Model summary (fused): 72 layers, 3,005,843 parameters, 0 gradients, 8.1 GFLOPs\n"
          ]
        },
        {
          "name": "stderr",
          "output_type": "stream",
          "text": [
            "                 Class     Images  Instances      Box(P          R      mAP50  mAP50-95): 100%|██████████| 17/17 [00:06<00:00,  2.68it/s]\n"
          ]
        },
        {
          "name": "stdout",
          "output_type": "stream",
          "text": [
            "                   all        541        624      0.457      0.904       0.67      0.501\n",
            "Speed: 0.2ms preprocess, 2.1ms inference, 0.0ms loss, 3.3ms postprocess per image\n",
            "Results saved to \u001b[1mruns/detect/train2\u001b[0m\n"
          ]
        }
      ],
      "source": [
        "from ultralytics import YOLO\n",
        "\n",
        "model = YOLO('yolov8n.pt')  # Use yolov8n.pt for fastest, yolov8s.pt for better accuracy\n",
        "\n",
        "results = model.train(data='/content/dataset/data.yaml', epochs=100, imgsz=640, batch=16)"
      ]
    },
    {
      "cell_type": "code",
      "execution_count": null,
      "metadata": {
        "id": "tcDbYu5LJSwS"
      },
      "outputs": [],
      "source": [
        "!cp /content/runs/detect/train2/weights/best.pt /content/best.pt\n"
      ]
    },
    {
      "cell_type": "code",
      "execution_count": null,
      "metadata": {
        "colab": {
          "base_uri": "https://localhost:8080/",
          "height": 17
        },
        "id": "LmlS7s_LJdvC",
        "outputId": "1f52f541-eebc-4986-ad47-8b2613d6e17e"
      },
      "outputs": [
        {
          "data": {
            "application/javascript": [
              "\n",
              "    async function download(id, filename, size) {\n",
              "      if (!google.colab.kernel.accessAllowed) {\n",
              "        return;\n",
              "      }\n",
              "      const div = document.createElement('div');\n",
              "      const label = document.createElement('label');\n",
              "      label.textContent = `Downloading \"${filename}\": `;\n",
              "      div.appendChild(label);\n",
              "      const progress = document.createElement('progress');\n",
              "      progress.max = size;\n",
              "      div.appendChild(progress);\n",
              "      document.body.appendChild(div);\n",
              "\n",
              "      const buffers = [];\n",
              "      let downloaded = 0;\n",
              "\n",
              "      const channel = await google.colab.kernel.comms.open(id);\n",
              "      // Send a message to notify the kernel that we're ready.\n",
              "      channel.send({})\n",
              "\n",
              "      for await (const message of channel.messages) {\n",
              "        // Send a message to notify the kernel that we're ready.\n",
              "        channel.send({})\n",
              "        if (message.buffers) {\n",
              "          for (const buffer of message.buffers) {\n",
              "            buffers.push(buffer);\n",
              "            downloaded += buffer.byteLength;\n",
              "            progress.value = downloaded;\n",
              "          }\n",
              "        }\n",
              "      }\n",
              "      const blob = new Blob(buffers, {type: 'application/binary'});\n",
              "      const a = document.createElement('a');\n",
              "      a.href = window.URL.createObjectURL(blob);\n",
              "      a.download = filename;\n",
              "      div.appendChild(a);\n",
              "      a.click();\n",
              "      div.remove();\n",
              "    }\n",
              "  "
            ],
            "text/plain": [
              "<IPython.core.display.Javascript object>"
            ]
          },
          "metadata": {},
          "output_type": "display_data"
        },
        {
          "data": {
            "application/javascript": [
              "download(\"download_110b2632-47c1-42e8-be44-557780df2b09\", \"best.pt\", 6236067)"
            ],
            "text/plain": [
              "<IPython.core.display.Javascript object>"
            ]
          },
          "metadata": {},
          "output_type": "display_data"
        }
      ],
      "source": [
        "from google.colab import files\n",
        "files.download('/content/best.pt')\n"
      ]
    },
    {
      "cell_type": "code",
      "execution_count": null,
      "metadata": {
        "colab": {
          "base_uri": "https://localhost:8080/"
        },
        "id": "C54bLpAB2OCQ",
        "outputId": "9076581e-1d63-4896-e52c-47140fbef10e"
      },
      "outputs": [
        {
          "name": "stdout",
          "output_type": "stream",
          "text": [
            "Mounted at /content/drive\n"
          ]
        }
      ],
      "source": [
        "from google.colab import drive\n",
        "drive.mount('/content/drive')  # Mount drive first\n"
      ]
    },
    {
      "cell_type": "code",
      "execution_count": null,
      "metadata": {
        "colab": {
          "base_uri": "https://localhost:8080/",
          "height": 36
        },
        "id": "x3qURGgy2Z7n",
        "outputId": "11593318-14a2-4542-b0b7-9fba0531e3b4"
      },
      "outputs": [
        {
          "data": {
            "application/vnd.google.colaboratory.intrinsic+json": {
              "type": "string"
            },
            "text/plain": [
              "'/content/drive/MyDrive/YOLO_FaceDetection/best.pt'"
            ]
          },
          "execution_count": 7,
          "metadata": {},
          "output_type": "execute_result"
        }
      ],
      "source": [
        "import shutil\n",
        "# Create folder in your drive\n",
        "!mkdir -p \"/content/drive/MyDrive/YOLO_FaceDetection/\"\n",
        "\n",
        "# Copy result files\n",
        "shutil.copy(\"/content/runs/detect/train2/results.csv\", \"/content/drive/MyDrive/YOLO_FaceDetection/results.csv\")\n",
        "shutil.copy(\"/content/runs/detect/train2/confusion_matrix.png\", \"/content/drive/MyDrive/YOLO_FaceDetection/confusion_matrix.png\")\n",
        "shutil.copy(\"/content/runs/detect/train2/weights/best.pt\", \"/content/drive/MyDrive/YOLO_FaceDetection/best.pt\")\n"
      ]
    },
    {
      "cell_type": "code",
      "execution_count": null,
      "metadata": {
        "colab": {
          "base_uri": "https://localhost:8080/",
          "height": 73
        },
        "id": "kvR96zJS8zxg",
        "outputId": "95b3c500-dcf9-4d73-e432-e7d756e7e3ea"
      },
      "outputs": [
        {
          "data": {
            "text/html": [
              "\n",
              "     <input type=\"file\" id=\"files-4651077e-febb-43de-ae59-1f87f2af2620\" name=\"files[]\" multiple disabled\n",
              "        style=\"border:none\" />\n",
              "     <output id=\"result-4651077e-febb-43de-ae59-1f87f2af2620\">\n",
              "      Upload widget is only available when the cell has been executed in the\n",
              "      current browser session. Please rerun this cell to enable.\n",
              "      </output>\n",
              "      <script>// Copyright 2017 Google LLC\n",
              "//\n",
              "// Licensed under the Apache License, Version 2.0 (the \"License\");\n",
              "// you may not use this file except in compliance with the License.\n",
              "// You may obtain a copy of the License at\n",
              "//\n",
              "//      http://www.apache.org/licenses/LICENSE-2.0\n",
              "//\n",
              "// Unless required by applicable law or agreed to in writing, software\n",
              "// distributed under the License is distributed on an \"AS IS\" BASIS,\n",
              "// WITHOUT WARRANTIES OR CONDITIONS OF ANY KIND, either express or implied.\n",
              "// See the License for the specific language governing permissions and\n",
              "// limitations under the License.\n",
              "\n",
              "/**\n",
              " * @fileoverview Helpers for google.colab Python module.\n",
              " */\n",
              "(function(scope) {\n",
              "function span(text, styleAttributes = {}) {\n",
              "  const element = document.createElement('span');\n",
              "  element.textContent = text;\n",
              "  for (const key of Object.keys(styleAttributes)) {\n",
              "    element.style[key] = styleAttributes[key];\n",
              "  }\n",
              "  return element;\n",
              "}\n",
              "\n",
              "// Max number of bytes which will be uploaded at a time.\n",
              "const MAX_PAYLOAD_SIZE = 100 * 1024;\n",
              "\n",
              "function _uploadFiles(inputId, outputId) {\n",
              "  const steps = uploadFilesStep(inputId, outputId);\n",
              "  const outputElement = document.getElementById(outputId);\n",
              "  // Cache steps on the outputElement to make it available for the next call\n",
              "  // to uploadFilesContinue from Python.\n",
              "  outputElement.steps = steps;\n",
              "\n",
              "  return _uploadFilesContinue(outputId);\n",
              "}\n",
              "\n",
              "// This is roughly an async generator (not supported in the browser yet),\n",
              "// where there are multiple asynchronous steps and the Python side is going\n",
              "// to poll for completion of each step.\n",
              "// This uses a Promise to block the python side on completion of each step,\n",
              "// then passes the result of the previous step as the input to the next step.\n",
              "function _uploadFilesContinue(outputId) {\n",
              "  const outputElement = document.getElementById(outputId);\n",
              "  const steps = outputElement.steps;\n",
              "\n",
              "  const next = steps.next(outputElement.lastPromiseValue);\n",
              "  return Promise.resolve(next.value.promise).then((value) => {\n",
              "    // Cache the last promise value to make it available to the next\n",
              "    // step of the generator.\n",
              "    outputElement.lastPromiseValue = value;\n",
              "    return next.value.response;\n",
              "  });\n",
              "}\n",
              "\n",
              "/**\n",
              " * Generator function which is called between each async step of the upload\n",
              " * process.\n",
              " * @param {string} inputId Element ID of the input file picker element.\n",
              " * @param {string} outputId Element ID of the output display.\n",
              " * @return {!Iterable<!Object>} Iterable of next steps.\n",
              " */\n",
              "function* uploadFilesStep(inputId, outputId) {\n",
              "  const inputElement = document.getElementById(inputId);\n",
              "  inputElement.disabled = false;\n",
              "\n",
              "  const outputElement = document.getElementById(outputId);\n",
              "  outputElement.innerHTML = '';\n",
              "\n",
              "  const pickedPromise = new Promise((resolve) => {\n",
              "    inputElement.addEventListener('change', (e) => {\n",
              "      resolve(e.target.files);\n",
              "    });\n",
              "  });\n",
              "\n",
              "  const cancel = document.createElement('button');\n",
              "  inputElement.parentElement.appendChild(cancel);\n",
              "  cancel.textContent = 'Cancel upload';\n",
              "  const cancelPromise = new Promise((resolve) => {\n",
              "    cancel.onclick = () => {\n",
              "      resolve(null);\n",
              "    };\n",
              "  });\n",
              "\n",
              "  // Wait for the user to pick the files.\n",
              "  const files = yield {\n",
              "    promise: Promise.race([pickedPromise, cancelPromise]),\n",
              "    response: {\n",
              "      action: 'starting',\n",
              "    }\n",
              "  };\n",
              "\n",
              "  cancel.remove();\n",
              "\n",
              "  // Disable the input element since further picks are not allowed.\n",
              "  inputElement.disabled = true;\n",
              "\n",
              "  if (!files) {\n",
              "    return {\n",
              "      response: {\n",
              "        action: 'complete',\n",
              "      }\n",
              "    };\n",
              "  }\n",
              "\n",
              "  for (const file of files) {\n",
              "    const li = document.createElement('li');\n",
              "    li.append(span(file.name, {fontWeight: 'bold'}));\n",
              "    li.append(span(\n",
              "        `(${file.type || 'n/a'}) - ${file.size} bytes, ` +\n",
              "        `last modified: ${\n",
              "            file.lastModifiedDate ? file.lastModifiedDate.toLocaleDateString() :\n",
              "                                    'n/a'} - `));\n",
              "    const percent = span('0% done');\n",
              "    li.appendChild(percent);\n",
              "\n",
              "    outputElement.appendChild(li);\n",
              "\n",
              "    const fileDataPromise = new Promise((resolve) => {\n",
              "      const reader = new FileReader();\n",
              "      reader.onload = (e) => {\n",
              "        resolve(e.target.result);\n",
              "      };\n",
              "      reader.readAsArrayBuffer(file);\n",
              "    });\n",
              "    // Wait for the data to be ready.\n",
              "    let fileData = yield {\n",
              "      promise: fileDataPromise,\n",
              "      response: {\n",
              "        action: 'continue',\n",
              "      }\n",
              "    };\n",
              "\n",
              "    // Use a chunked sending to avoid message size limits. See b/62115660.\n",
              "    let position = 0;\n",
              "    do {\n",
              "      const length = Math.min(fileData.byteLength - position, MAX_PAYLOAD_SIZE);\n",
              "      const chunk = new Uint8Array(fileData, position, length);\n",
              "      position += length;\n",
              "\n",
              "      const base64 = btoa(String.fromCharCode.apply(null, chunk));\n",
              "      yield {\n",
              "        response: {\n",
              "          action: 'append',\n",
              "          file: file.name,\n",
              "          data: base64,\n",
              "        },\n",
              "      };\n",
              "\n",
              "      let percentDone = fileData.byteLength === 0 ?\n",
              "          100 :\n",
              "          Math.round((position / fileData.byteLength) * 100);\n",
              "      percent.textContent = `${percentDone}% done`;\n",
              "\n",
              "    } while (position < fileData.byteLength);\n",
              "  }\n",
              "\n",
              "  // All done.\n",
              "  yield {\n",
              "    response: {\n",
              "      action: 'complete',\n",
              "    }\n",
              "  };\n",
              "}\n",
              "\n",
              "scope.google = scope.google || {};\n",
              "scope.google.colab = scope.google.colab || {};\n",
              "scope.google.colab._files = {\n",
              "  _uploadFiles,\n",
              "  _uploadFilesContinue,\n",
              "};\n",
              "})(self);\n",
              "</script> "
            ],
            "text/plain": [
              "<IPython.core.display.HTML object>"
            ]
          },
          "metadata": {},
          "output_type": "display_data"
        },
        {
          "name": "stdout",
          "output_type": "stream",
          "text": [
            "Saving results.png to results.png\n"
          ]
        }
      ],
      "source": [
        "from google.colab import files\n",
        "uploaded = files.upload()"
      ]
    },
    {
      "cell_type": "code",
      "execution_count": null,
      "metadata": {
        "colab": {
          "base_uri": "https://localhost:8080/",
          "height": 443
        },
        "id": "mhhlGPl475qB",
        "outputId": "7a50537e-7006-4523-93f4-7393b684ff40"
      },
      "outputs": [
        {
          "data": {
            "image/png": "[encoded data removed]",
            "text/plain": [
              "<Figure size 1200x600 with 1 Axes>"
            ]
          },
          "metadata": {},
          "output_type": "display_data"
        }
      ],
      "source": [
        "import pandas as pd\n",
        "import matplotlib.pyplot as plt\n",
        "\n",
        "# Load training results\n",
        "df = pd.read_csv('results (1) (1).csv')\n",
        "\n",
        "# Plot training vs validation loss\n",
        "plt.figure(figsize=(12, 6))\n",
        "plt.plot(df['epoch'], df['train/box_loss'], label='Train Box Loss')\n",
        "plt.plot(df['epoch'], df['val/box_loss'], label='Val Box Loss')\n",
        "plt.plot(df['epoch'], df['train/cls_loss'], label='Train Class Loss')\n",
        "plt.plot(df['epoch'], df['val/cls_loss'], label='Val Class Loss')\n",
        "plt.xlabel(\"Epoch\")\n",
        "plt.ylabel(\"Loss\")\n",
        "plt.title(\"Train vs Val Loss (Overfitting Detection)\")\n",
        "plt.legend()\n",
        "plt.grid(True)\n",
        "plt.show()\n"
      ]
    },
    {
      "cell_type": "code",
      "execution_count": null,
      "metadata": {
        "colab": {
          "base_uri": "https://localhost:8080/",
          "height": 438
        },
        "id": "_XXRQG2tBRtC",
        "outputId": "f45460f0-64e0-4872-a0e1-dc0ebce56b47"
      },
      "outputs": [
        {
          "data": {
            "image/png": "[encoded data removed]",
            "text/plain": [
              "<Figure size 1000x600 with 1 Axes>"
            ]
          },
          "metadata": {},
          "output_type": "display_data"
        }
      ],
      "source": [
        "import matplotlib.pyplot as plt\n",
        "import matplotlib.image as mpimg\n",
        "\n",
        "# Read and show the image\n",
        "img = mpimg.imread('results.png')\n",
        "plt.figure(figsize=(10, 6))\n",
        "plt.imshow(img)\n",
        "plt.axis('off')  # Remove axis\n",
        "plt.title(\"Training Results\")\n",
        "plt.show()\n"
      ]
    },
    {
      "cell_type": "code",
      "execution_count": null,
      "metadata": {
        "colab": {
          "base_uri": "https://localhost:8080/",
          "height": 73
        },
        "id": "P-Uqg0xacrQU",
        "outputId": "16feb599-77fc-4b8e-df3e-f78974a492ba"
      },
      "outputs": [
        {
          "data": {
            "text/html": [
              "\n",
              "     <input type=\"file\" id=\"files-9a26f532-7893-4a28-beb7-85bd43c35cf9\" name=\"files[]\" multiple disabled\n",
              "        style=\"border:none\" />\n",
              "     <output id=\"result-9a26f532-7893-4a28-beb7-85bd43c35cf9\">\n",
              "      Upload widget is only available when the cell has been executed in the\n",
              "      current browser session. Please rerun this cell to enable.\n",
              "      </output>\n",
              "      <script>// Copyright 2017 Google LLC\n",
              "//\n",
              "// Licensed under the Apache License, Version 2.0 (the \"License\");\n",
              "// you may not use this file except in compliance with the License.\n",
              "// You may obtain a copy of the License at\n",
              "//\n",
              "//      http://www.apache.org/licenses/LICENSE-2.0\n",
              "//\n",
              "// Unless required by applicable law or agreed to in writing, software\n",
              "// distributed under the License is distributed on an \"AS IS\" BASIS,\n",
              "// WITHOUT WARRANTIES OR CONDITIONS OF ANY KIND, either express or implied.\n",
              "// See the License for the specific language governing permissions and\n",
              "// limitations under the License.\n",
              "\n",
              "/**\n",
              " * @fileoverview Helpers for google.colab Python module.\n",
              " */\n",
              "(function(scope) {\n",
              "function span(text, styleAttributes = {}) {\n",
              "  const element = document.createElement('span');\n",
              "  element.textContent = text;\n",
              "  for (const key of Object.keys(styleAttributes)) {\n",
              "    element.style[key] = styleAttributes[key];\n",
              "  }\n",
              "  return element;\n",
              "}\n",
              "\n",
              "// Max number of bytes which will be uploaded at a time.\n",
              "const MAX_PAYLOAD_SIZE = 100 * 1024;\n",
              "\n",
              "function _uploadFiles(inputId, outputId) {\n",
              "  const steps = uploadFilesStep(inputId, outputId);\n",
              "  const outputElement = document.getElementById(outputId);\n",
              "  // Cache steps on the outputElement to make it available for the next call\n",
              "  // to uploadFilesContinue from Python.\n",
              "  outputElement.steps = steps;\n",
              "\n",
              "  return _uploadFilesContinue(outputId);\n",
              "}\n",
              "\n",
              "// This is roughly an async generator (not supported in the browser yet),\n",
              "// where there are multiple asynchronous steps and the Python side is going\n",
              "// to poll for completion of each step.\n",
              "// This uses a Promise to block the python side on completion of each step,\n",
              "// then passes the result of the previous step as the input to the next step.\n",
              "function _uploadFilesContinue(outputId) {\n",
              "  const outputElement = document.getElementById(outputId);\n",
              "  const steps = outputElement.steps;\n",
              "\n",
              "  const next = steps.next(outputElement.lastPromiseValue);\n",
              "  return Promise.resolve(next.value.promise).then((value) => {\n",
              "    // Cache the last promise value to make it available to the next\n",
              "    // step of the generator.\n",
              "    outputElement.lastPromiseValue = value;\n",
              "    return next.value.response;\n",
              "  });\n",
              "}\n",
              "\n",
              "/**\n",
              " * Generator function which is called between each async step of the upload\n",
              " * process.\n",
              " * @param {string} inputId Element ID of the input file picker element.\n",
              " * @param {string} outputId Element ID of the output display.\n",
              " * @return {!Iterable<!Object>} Iterable of next steps.\n",
              " */\n",
              "function* uploadFilesStep(inputId, outputId) {\n",
              "  const inputElement = document.getElementById(inputId);\n",
              "  inputElement.disabled = false;\n",
              "\n",
              "  const outputElement = document.getElementById(outputId);\n",
              "  outputElement.innerHTML = '';\n",
              "\n",
              "  const pickedPromise = new Promise((resolve) => {\n",
              "    inputElement.addEventListener('change', (e) => {\n",
              "      resolve(e.target.files);\n",
              "    });\n",
              "  });\n",
              "\n",
              "  const cancel = document.createElement('button');\n",
              "  inputElement.parentElement.appendChild(cancel);\n",
              "  cancel.textContent = 'Cancel upload';\n",
              "  const cancelPromise = new Promise((resolve) => {\n",
              "    cancel.onclick = () => {\n",
              "      resolve(null);\n",
              "    };\n",
              "  });\n",
              "\n",
              "  // Wait for the user to pick the files.\n",
              "  const files = yield {\n",
              "    promise: Promise.race([pickedPromise, cancelPromise]),\n",
              "    response: {\n",
              "      action: 'starting',\n",
              "    }\n",
              "  };\n",
              "\n",
              "  cancel.remove();\n",
              "\n",
              "  // Disable the input element since further picks are not allowed.\n",
              "  inputElement.disabled = true;\n",
              "\n",
              "  if (!files) {\n",
              "    return {\n",
              "      response: {\n",
              "        action: 'complete',\n",
              "      }\n",
              "    };\n",
              "  }\n",
              "\n",
              "  for (const file of files) {\n",
              "    const li = document.createElement('li');\n",
              "    li.append(span(file.name, {fontWeight: 'bold'}));\n",
              "    li.append(span(\n",
              "        `(${file.type || 'n/a'}) - ${file.size} bytes, ` +\n",
              "        `last modified: ${\n",
              "            file.lastModifiedDate ? file.lastModifiedDate.toLocaleDateString() :\n",
              "                                    'n/a'} - `));\n",
              "    const percent = span('0% done');\n",
              "    li.appendChild(percent);\n",
              "\n",
              "    outputElement.appendChild(li);\n",
              "\n",
              "    const fileDataPromise = new Promise((resolve) => {\n",
              "      const reader = new FileReader();\n",
              "      reader.onload = (e) => {\n",
              "        resolve(e.target.result);\n",
              "      };\n",
              "      reader.readAsArrayBuffer(file);\n",
              "    });\n",
              "    // Wait for the data to be ready.\n",
              "    let fileData = yield {\n",
              "      promise: fileDataPromise,\n",
              "      response: {\n",
              "        action: 'continue',\n",
              "      }\n",
              "    };\n",
              "\n",
              "    // Use a chunked sending to avoid message size limits. See b/62115660.\n",
              "    let position = 0;\n",
              "    do {\n",
              "      const length = Math.min(fileData.byteLength - position, MAX_PAYLOAD_SIZE);\n",
              "      const chunk = new Uint8Array(fileData, position, length);\n",
              "      position += length;\n",
              "\n",
              "      const base64 = btoa(String.fromCharCode.apply(null, chunk));\n",
              "      yield {\n",
              "        response: {\n",
              "          action: 'append',\n",
              "          file: file.name,\n",
              "          data: base64,\n",
              "        },\n",
              "      };\n",
              "\n",
              "      let percentDone = fileData.byteLength === 0 ?\n",
              "          100 :\n",
              "          Math.round((position / fileData.byteLength) * 100);\n",
              "      percent.textContent = `${percentDone}% done`;\n",
              "\n",
              "    } while (position < fileData.byteLength);\n",
              "  }\n",
              "\n",
              "  // All done.\n",
              "  yield {\n",
              "    response: {\n",
              "      action: 'complete',\n",
              "    }\n",
              "  };\n",
              "}\n",
              "\n",
              "scope.google = scope.google || {};\n",
              "scope.google.colab = scope.google.colab || {};\n",
              "scope.google.colab._files = {\n",
              "  _uploadFiles,\n",
              "  _uploadFilesContinue,\n",
              "};\n",
              "})(self);\n",
              "</script> "
            ],
            "text/plain": [
              "<IPython.core.display.HTML object>"
            ]
          },
          "metadata": {},
          "output_type": "display_data"
        },
        {
          "name": "stdout",
          "output_type": "stream",
          "text": [
            "Saving best (3).pt to best (3).pt\n"
          ]
        }
      ],
      "source": [
        "from google.colab import files\n",
        "uploaded = files.upload()\n"
      ]
    },
    {
      "cell_type": "code",
      "execution_count": null,
      "metadata": {
        "colab": {
          "base_uri": "https://localhost:8080/"
        },
        "id": "bxQ-hcq9dQg0",
        "outputId": "85c6db16-d913-4268-e14f-56802a3b096d"
      },
      "outputs": [
        {
          "name": "stdout",
          "output_type": "stream",
          "text": [
            "Creating new Ultralytics Settings v0.0.6 file ✅ \n",
            "View Ultralytics Settings with 'yolo settings' or at '/root/.config/Ultralytics/settings.json'\n",
            "Update Settings with 'yolo settings key=value', i.e. 'yolo settings runs_dir=path/to/dir'. For help see https://docs.ultralytics.com/quickstart/#ultralytics-settings.\n"
          ]
        }
      ],
      "source": [
        "from ultralytics import YOLO\n",
        "\n",
        "model = YOLO(\" best (3).pt\")\n"
      ]
    },
    {
      "cell_type": "code",
      "execution_count": null,
      "metadata": {
        "colab": {
          "base_uri": "https://localhost:8080/"
        },
        "id": "DV6phUBAdxDU",
        "outputId": "836878de-268a-4d6b-b128-064091940fd9"
      },
      "outputs": [
        {
          "name": "stdout",
          "output_type": "stream",
          "text": [
            "\n",
            "WARNING ⚠️ \n",
            "inference results will accumulate in RAM unless `stream=True` is passed, causing potential out-of-memory\n",
            "errors for large sources or long-running streams and videos. See https://docs.ultralytics.com/modes/predict/ for help.\n",
            "\n",
            "Example:\n",
            "    results = model(source=..., stream=True)  # generator of Results objects\n",
            "    for r in results:\n",
            "        boxes = r.boxes  # Boxes object for bbox outputs\n",
            "        masks = r.masks  # Masks object for segment masks outputs\n",
            "        probs = r.probs  # Class probabilities for classification outputs\n",
            "\n",
            "image 1/2204 /content/image/images/00000003.jpg: 448x640 1 face, 639.5ms\n",
            "image 2/2204 /content/image/images/00000004.jpg: 640x544 1 face, 298.8ms\n",
            "image 3/2204 /content/image/images/00000005.jpg: 480x640 1 face, 423.1ms\n",
            "image 4/2204 /content/image/images/00000006.jpg: 640x448 1 face, 176.5ms\n",
            "image 5/2204 /content/image/images/00000008.jpg: 448x640 1 face, 167.3ms\n",
            "image 6/2204 /content/image/images/00000011.jpg: 448x640 1 face, 159.6ms\n",
            "image 7/2204 /content/image/images/00000012.jpg: 448x640 1 face, 233.3ms\n",
            "image 8/2204 /content/image/images/00000015.jpg: 640x448 1 face, 265.6ms\n",
            "image 9/2204 /content/image/images/00000018.jpg: 448x640 1 face, 252.1ms\n",
            "image 10/2204 /content/image/images/00000020.jpg: 448x640 1 face, 236.5ms\n",
            "image 11/2204 /content/image/images/00000022.jpg: 448x640 1 face, 247.8ms\n",
            "image 12/2204 /content/image/images/00000023.jpg: 640x448 1 face, 246.2ms\n",
            "image 13/2204 /content/image/images/00000024.jpg: 448x640 1 face, 258.2ms\n",
            "image 14/2204 /content/image/images/00000026.jpg: 480x640 2 faces, 268.4ms\n",
            "image 15/2204 /content/image/images/00000031.jpg: 640x448 1 face, 280.8ms\n",
            "image 16/2204 /content/image/images/00000032.jpg: 480x640 1 face, 268.9ms\n",
            "image 17/2204 /content/image/images/00000041.jpg: 448x640 1 face, 194.4ms\n",
            "image 18/2204 /content/image/images/00000044.jpg: 448x640 1 face, 153.5ms\n",
            "image 19/2204 /content/image/images/00000045.jpg: 480x640 1 face, 176.5ms\n",
            "image 20/2204 /content/image/images/00000047.jpg: 448x640 2 faces, 180.0ms\n",
            "image 21/2204 /content/image/images/00000050.jpg: 640x544 1 face, 199.3ms\n",
            "image 22/2204 /content/image/images/00000051.jpg: 352x640 1 face, 140.3ms\n",
            "image 23/2204 /content/image/images/00000055.jpg: 640x480 1 face, 177.3ms\n",
            "image 24/2204 /content/image/images/00000058.jpg: 416x640 2 faces, 163.5ms\n",
            "image 25/2204 /content/image/images/00000061.jpg: 640x448 1 face, 191.3ms\n",
            "image 26/2204 /content/image/images/00000067.jpg: 640x448 1 face, 184.8ms\n",
            "image 27/2204 /content/image/images/00000068.jpg: 640x640 4 faces, 253.9ms\n",
            "image 28/2204 /content/image/images/00000069.jpg: 640x448 1 face, 172.7ms\n",
            "image 29/2204 /content/image/images/00000072.jpg: 448x640 1 face, 174.2ms\n",
            "image 30/2204 /content/image/images/00000074.jpg: 480x640 1 face, 177.5ms\n",
            "image 31/2204 /content/image/images/00000075.jpg: 384x640 1 face, 151.4ms\n",
            "image 32/2204 /content/image/images/00000077.jpg: 640x448 1 face, 162.6ms\n",
            "image 33/2204 /content/image/images/00000082.jpg: 640x448 1 face, 191.3ms\n",
            "image 34/2204 /content/image/images/00000085.jpg: 640x448 1 face, 182.9ms\n",
            "image 35/2204 /content/image/images/00000086.jpg: 448x640 1 face, 164.8ms\n",
            "image 36/2204 /content/image/images/00000087.jpg: 448x640 2 faces, 158.6ms\n",
            "image 37/2204 /content/image/images/00000088.jpg: 640x448 1 face, 166.7ms\n",
            "image 38/2204 /content/image/images/00000089.jpg: 640x448 1 face, 169.8ms\n",
            "image 39/2204 /content/image/images/00000091.jpg: 640x448 1 face, 163.0ms\n",
            "image 40/2204 /content/image/images/00000094.jpg: 448x640 1 face, 168.2ms\n",
            "image 41/2204 /content/image/images/00000095.jpg: 448x640 1 face, 158.4ms\n",
            "image 42/2204 /content/image/images/00000097.jpg: 448x640 1 face, 190.4ms\n",
            "image 43/2204 /content/image/images/00000099.jpg: 640x480 3 faces, 172.9ms\n",
            "image 44/2204 /content/image/images/00000100.jpg: 640x448 1 face, 171.8ms\n",
            "image 45/2204 /content/image/images/00000103.jpg: 640x544 1 face, 191.8ms\n",
            "image 46/2204 /content/image/images/00000104.jpg: 640x480 3 faces, 180.2ms\n",
            "image 47/2204 /content/image/images/00000105.jpg: 448x640 1 face, 184.1ms\n",
            "image 48/2204 /content/image/images/00000107.jpg: 448x640 1 face, 163.2ms\n",
            "image 49/2204 /content/image/images/00000110.jpg: 480x640 1 face, 172.3ms\n",
            "image 50/2204 /content/image/images/00000114.jpg: 640x448 1 face, 164.7ms\n",
            "image 51/2204 /content/image/images/00000115.jpg: 448x640 1 face, 205.6ms\n",
            "image 52/2204 /content/image/images/00000118.jpg: 640x640 1 face, 228.1ms\n",
            "image 53/2204 /content/image/images/00000119.jpg: 640x448 1 face, 172.9ms\n",
            "image 54/2204 /content/image/images/00000120.jpg: 640x448 1 face, 167.2ms\n",
            "image 55/2204 /content/image/images/00000123.jpg: 640x448 1 face, 168.4ms\n",
            "image 56/2204 /content/image/images/00000127.jpg: 640x448 1 face, 168.5ms\n",
            "image 57/2204 /content/image/images/00000128.jpg: 448x640 1 face, 165.9ms\n",
            "image 58/2204 /content/image/images/00000129.jpg: 480x640 3 faces, 184.0ms\n",
            "image 59/2204 /content/image/images/00000135.jpg: 640x448 1 face, 185.6ms\n",
            "image 60/2204 /content/image/images/00000136.jpg: 480x640 1 face, 374.4ms\n",
            "image 61/2204 /content/image/images/00000137.jpg: 640x448 1 face, 381.1ms\n",
            "image 62/2204 /content/image/images/00000138.jpg: 480x640 1 face, 475.9ms\n",
            "image 63/2204 /content/image/images/00000141.jpg: 640x416 2 faces, 380.7ms\n",
            "image 64/2204 /content/image/images/00000142.jpg: 640x512 1 face, 484.8ms\n",
            "image 65/2204 /content/image/images/00000143.jpg: 640x544 1 face, 461.0ms\n",
            "image 66/2204 /content/image/images/00000145.jpg: 640x416 1 face, 416.3ms\n",
            "image 67/2204 /content/image/images/00000146.jpg: 448x640 1 face, 386.6ms\n",
            "image 68/2204 /content/image/images/00000150.jpg: 480x640 1 face, 458.9ms\n",
            "image 69/2204 /content/image/images/00000151.jpg: 448x640 1 face, 264.7ms\n",
            "image 70/2204 /content/image/images/00000153.jpg: 384x640 2 faces, 228.3ms\n",
            "image 71/2204 /content/image/images/00000154.jpg: 416x640 1 face, 161.9ms\n",
            "image 72/2204 /content/image/images/00000155.jpg: 448x640 (no detections), 156.7ms\n",
            "image 73/2204 /content/image/images/00000159.jpg: 448x640 4 faces, 158.6ms\n",
            "image 74/2204 /content/image/images/00000162.jpg: 448x640 1 face, 178.4ms\n",
            "image 75/2204 /content/image/images/00000165.jpg: 640x448 1 face, 160.7ms\n",
            "image 76/2204 /content/image/images/00000166.jpg: 416x640 1 face, 164.3ms\n",
            "image 77/2204 /content/image/images/00000168.jpg: 448x640 1 face, 159.2ms\n",
            "image 78/2204 /content/image/images/00000169.jpg: 640x448 1 face, 161.0ms\n",
            "image 79/2204 /content/image/images/00000170.jpg: 448x640 1 face, 181.0ms\n",
            "image 80/2204 /content/image/images/00000172.jpg: 640x448 1 face, 158.5ms\n",
            "image 81/2204 /content/image/images/00000174.jpg: 480x640 2 faces, 179.6ms\n",
            "image 82/2204 /content/image/images/00000175.jpg: 480x640 1 face, 168.5ms\n",
            "image 83/2204 /content/image/images/00000177.jpg: 448x640 1 face, 158.8ms\n",
            "image 84/2204 /content/image/images/00000178.jpg: 448x640 1 face, 156.0ms\n",
            "image 85/2204 /content/image/images/00000179.jpg: 640x448 1 face, 162.6ms\n",
            "image 86/2204 /content/image/images/00000180.jpg: 416x640 1 face, 149.3ms\n",
            "image 87/2204 /content/image/images/00000181.jpg: 480x640 1 face, 181.8ms\n",
            "image 88/2204 /content/image/images/00000182.jpg: 448x640 1 face, 168.5ms\n",
            "image 89/2204 /content/image/images/00000188.jpg: 448x640 1 face, 162.8ms\n",
            "image 90/2204 /content/image/images/00000191.jpg: 416x640 3 faces, 149.1ms\n",
            "image 91/2204 /content/image/images/00000193.jpg: 448x640 1 face, 165.7ms\n",
            "image 92/2204 /content/image/images/00000194.jpg: 640x416 1 face, 154.0ms\n",
            "image 93/2204 /content/image/images/00000196.jpg: 480x640 1 face, 183.7ms\n",
            "image 94/2204 /content/image/images/00000203.jpg: 640x448 2 faces, 170.2ms\n",
            "image 95/2204 /content/image/images/00000204.jpg: 640x416 1 face, 154.0ms\n",
            "image 96/2204 /content/image/images/00000205.jpg: 480x640 1 face, 167.2ms\n",
            "image 97/2204 /content/image/images/00000206.jpg: 448x640 1 face, 160.6ms\n",
            "image 98/2204 /content/image/images/00000207.jpg: 448x640 1 face, 176.2ms\n",
            "image 99/2204 /content/image/images/00000208.jpg: 480x640 1 face, 175.8ms\n",
            "image 100/2204 /content/image/images/00000211.jpg: 640x416 1 face, 149.2ms\n",
            "image 101/2204 /content/image/images/00000213.jpg: 448x640 1 face, 161.0ms\n",
            "image 102/2204 /content/image/images/00000219.jpg: 640x448 1 face, 162.6ms\n",
            "image 103/2204 /content/image/images/00000220.jpg: 480x640 2 faces, 177.7ms\n",
            "image 104/2204 /content/image/images/00000222.jpg: 480x640 1 face, 181.8ms\n",
            "image 105/2204 /content/image/images/00000226.jpg: 640x448 2 faces, 168.7ms\n",
            "image 106/2204 /content/image/images/00000230.jpg: 448x640 1 face, 156.6ms\n",
            "image 107/2204 /content/image/images/00000231.jpg: 448x640 1 face, 158.4ms\n",
            "image 108/2204 /content/image/images/00000233.jpg: 640x640 1 face, 241.3ms\n",
            "image 109/2204 /content/image/images/00000235.jpg: 640x448 2 faces, 159.2ms\n",
            "image 110/2204 /content/image/images/00000238.jpg: 640x448 1 face, 163.7ms\n",
            "image 111/2204 /content/image/images/00000239.jpg: 640x640 1 face, 244.1ms\n",
            "image 112/2204 /content/image/images/00000240.jpg: 448x640 3 faces, 162.5ms\n",
            "image 113/2204 /content/image/images/00000243.jpg: 448x640 1 face, 162.1ms\n",
            "image 114/2204 /content/image/images/00000249.jpg: 448x640 1 face, 159.5ms\n",
            "image 115/2204 /content/image/images/00000254.jpg: 640x448 1 face, 168.0ms\n",
            "image 116/2204 /content/image/images/00000255.jpg: 576x640 2 faces, 228.2ms\n",
            "image 117/2204 /content/image/images/00000256.jpg: 480x640 2 faces, 234.5ms\n",
            "image 118/2204 /content/image/images/00000263.jpg: 576x640 (no detections), 331.2ms\n",
            "image 119/2204 /content/image/images/00000265.jpg: 640x448 1 face, 255.3ms\n",
            "image 120/2204 /content/image/images/00000266.jpg: 448x640 1 face, 272.3ms\n",
            "image 121/2204 /content/image/images/00000272.jpg: 640x416 1 face, 234.6ms\n",
            "image 122/2204 /content/image/images/00000275.jpg: 640x640 1 face, 335.2ms\n",
            "image 123/2204 /content/image/images/00000280.jpg: 448x640 4 faces, 263.0ms\n",
            "image 124/2204 /content/image/images/00000281.jpg: 640x448 1 face, 250.1ms\n",
            "image 125/2204 /content/image/images/00000282.jpg: 640x448 1 face, 255.0ms\n",
            "image 126/2204 /content/image/images/00000283.jpg: 640x416 1 face, 169.5ms\n",
            "image 127/2204 /content/image/images/00000285.jpg: 640x448 1 face, 181.9ms\n",
            "image 128/2204 /content/image/images/00000296.jpg: 640x448 1 face, 169.0ms\n",
            "image 129/2204 /content/image/images/00000298.jpg: 448x640 2 faces, 163.9ms\n",
            "image 130/2204 /content/image/images/00000300.jpg: 448x640 2 faces, 159.0ms\n",
            "image 131/2204 /content/image/images/00000301.jpg: 640x448 1 face, 164.4ms\n",
            "image 132/2204 /content/image/images/00000303.jpg: 480x640 2 faces, 186.0ms\n",
            "image 133/2204 /content/image/images/00000305.jpg: 640x448 1 face, 165.6ms\n",
            "image 134/2204 /content/image/images/00000308.jpg: 384x640 1 face, 144.5ms\n",
            "image 135/2204 /content/image/images/00000309.jpg: 448x640 1 face, 156.4ms\n",
            "image 136/2204 /content/image/images/00000315.jpg: 512x640 1 face, 195.3ms\n",
            "image 137/2204 /content/image/images/00000317.jpg: 640x416 2 faces, 162.5ms\n",
            "image 138/2204 /content/image/images/00000321.jpg: 640x512 (no detections), 192.1ms\n",
            "image 139/2204 /content/image/images/00000322.jpg: 480x640 1 face, 175.3ms\n",
            "image 140/2204 /content/image/images/00000323.jpg: 640x416 1 face, 177.4ms\n",
            "image 141/2204 /content/image/images/00000325.jpg: 448x640 1 face, 167.3ms\n",
            "image 142/2204 /content/image/images/00000328.jpg: 448x640 2 faces, 198.3ms\n",
            "image 143/2204 /content/image/images/00000331.jpg: 640x448 1 face, 166.7ms\n",
            "image 144/2204 /content/image/images/00000333.jpg: 448x640 1 face, 166.2ms\n",
            "image 145/2204 /content/image/images/00000337.jpg: 448x640 1 face, 260.6ms\n",
            "image 146/2204 /content/image/images/00000338.jpg: 448x640 3 faces, 254.5ms\n",
            "image 147/2204 /content/image/images/00000339.jpg: 640x448 1 face, 286.4ms\n",
            "image 148/2204 /content/image/images/00000340.jpg: 480x640 1 face, 273.7ms\n",
            "image 149/2204 /content/image/images/00000348.jpg: 384x640 1 face, 224.1ms\n",
            "image 150/2204 /content/image/images/00000351.jpg: 480x640 1 face, 266.7ms\n",
            "image 151/2204 /content/image/images/00000353.jpg: 448x640 1 face, 257.2ms\n",
            "image 152/2204 /content/image/images/00000358.jpg: 448x640 1 face, 254.6ms\n",
            "image 153/2204 /content/image/images/00000361.jpg: 448x640 2 faces, 159.7ms\n",
            "image 154/2204 /content/image/images/00000362.jpg: 448x640 1 face, 161.9ms\n",
            "image 155/2204 /content/image/images/00000363.jpg: 352x640 1 face, 130.9ms\n",
            "image 156/2204 /content/image/images/00000364.jpg: 640x448 1 face, 163.8ms\n",
            "image 157/2204 /content/image/images/00000365.jpg: 448x640 1 face, 171.6ms\n",
            "image 158/2204 /content/image/images/00000366.jpg: 448x640 1 face, 183.7ms\n",
            "image 159/2204 /content/image/images/00000377.jpg: 448x640 5 faces, 162.8ms\n",
            "image 160/2204 /content/image/images/00000379.jpg: 640x448 1 face, 174.3ms\n",
            "image 161/2204 /content/image/images/00000380.jpg: 448x640 1 face, 166.9ms\n",
            "image 162/2204 /content/image/images/00000381.jpg: 448x640 1 face, 207.9ms\n",
            "image 163/2204 /content/image/images/00000386.jpg: 448x640 1 face, 168.7ms\n",
            "image 164/2204 /content/image/images/00000387.jpg: 384x640 1 face, 143.3ms\n",
            "image 165/2204 /content/image/images/00000396.jpg: 448x640 1 face, 158.9ms\n",
            "image 166/2204 /content/image/images/00000400.jpg: 448x640 1 face, 161.1ms\n",
            "image 167/2204 /content/image/images/00000406.jpg: 640x640 1 face, 245.6ms\n",
            "image 168/2204 /content/image/images/00000408.jpg: 640x448 2 faces, 164.4ms\n",
            "image 169/2204 /content/image/images/00000409.jpg: 640x448 1 face, 253.8ms\n",
            "image 170/2204 /content/image/images/00000411.jpg: 640x512 (no detections), 292.0ms\n",
            "image 171/2204 /content/image/images/00000413.jpg: 640x448 1 face, 249.5ms\n",
            "image 172/2204 /content/image/images/00000416.jpg: 480x640 1 face, 270.1ms\n",
            "image 173/2204 /content/image/images/00000419.jpg: 640x640 (no detections), 358.6ms\n",
            "image 174/2204 /content/image/images/00000422.jpg: 448x640 1 face, 254.0ms\n",
            "image 175/2204 /content/image/images/00000423.jpg: 640x416 1 face, 242.2ms\n",
            "image 176/2204 /content/image/images/00000426.jpg: 640x448 1 face, 200.0ms\n",
            "image 177/2204 /content/image/images/00000427.jpg: 640x608 2 faces, 220.0ms\n",
            "image 178/2204 /content/image/images/00000429.jpg: 448x640 1 face, 160.7ms\n",
            "image 179/2204 /content/image/images/00000430.jpg: 640x640 1 face, 218.1ms\n",
            "image 180/2204 /content/image/images/00000432.jpg: 448x640 1 face, 180.7ms\n",
            "image 181/2204 /content/image/images/00000436.jpg: 640x448 1 face, 160.7ms\n",
            "image 182/2204 /content/image/images/00000441.jpg: 480x640 1 face, 165.0ms\n",
            "image 183/2204 /content/image/images/00000442.jpg: 640x448 1 face, 182.7ms\n",
            "image 184/2204 /content/image/images/00000445.jpg: 448x640 4 faces, 162.6ms\n",
            "image 185/2204 /content/image/images/00000447.jpg: 480x640 3 faces, 165.2ms\n",
            "image 186/2204 /content/image/images/00000448.jpg: 448x640 3 faces, 160.2ms\n",
            "image 187/2204 /content/image/images/00000452.jpg: 448x640 1 face, 161.9ms\n",
            "image 188/2204 /content/image/images/00000453.jpg: 448x640 4 faces, 171.6ms\n",
            "image 189/2204 /content/image/images/00000459.jpg: 640x480 1 face, 169.1ms\n",
            "image 190/2204 /content/image/images/00000460.jpg: 480x640 1 face, 170.3ms\n",
            "image 191/2204 /content/image/images/00000466.jpg: 448x640 1 face, 165.2ms\n",
            "image 192/2204 /content/image/images/00000469.jpg: 448x640 1 face, 166.8ms\n",
            "image 193/2204 /content/image/images/00000470.jpg: 384x640 1 face, 158.5ms\n",
            "image 194/2204 /content/image/images/00000472.jpg: 352x640 1 face, 129.9ms\n",
            "image 195/2204 /content/image/images/00000478.jpg: 512x640 1 face, 181.3ms\n",
            "image 196/2204 /content/image/images/00000479.jpg: 384x640 1 face, 148.1ms\n",
            "image 197/2204 /content/image/images/00000480.jpg: 480x640 1 face, 172.6ms\n",
            "image 198/2204 /content/image/images/00000485.jpg: 640x480 (no detections), 178.3ms\n",
            "image 199/2204 /content/image/images/00000486.jpg: 640x448 1 face, 166.1ms\n",
            "image 200/2204 /content/image/images/00000489.jpg: 640x448 1 face, 160.2ms\n",
            "image 201/2204 /content/image/images/00000492.jpg: 640x448 1 face, 168.3ms\n",
            "image 202/2204 /content/image/images/00000496.jpg: 640x448 1 face, 159.1ms\n",
            "image 203/2204 /content/image/images/00000502.jpg: 480x640 4 faces, 183.0ms\n",
            "image 204/2204 /content/image/images/00000503.jpg: 544x640 7 faces, 222.4ms\n",
            "image 205/2204 /content/image/images/00000504.jpg: 480x640 7 faces, 169.2ms\n",
            "image 206/2204 /content/image/images/00000506.jpg: 448x640 4 faces, 170.0ms\n",
            "image 207/2204 /content/image/images/00000507.jpg: 448x640 4 faces, 157.9ms\n",
            "image 208/2204 /content/image/images/00000508.jpg: 448x640 10 faces, 178.1ms\n",
            "image 209/2204 /content/image/images/00000509.jpg: 448x640 4 faces, 167.1ms\n",
            "image 210/2204 /content/image/images/00000510.jpg: 448x640 2 faces, 156.0ms\n",
            "image 211/2204 /content/image/images/00000516.jpg: 480x640 5 faces, 179.7ms\n",
            "image 212/2204 /content/image/images/00000517.jpg: 448x640 1 face, 169.4ms\n",
            "image 213/2204 /content/image/images/00000518.jpg: 352x640 2 faces, 128.4ms\n",
            "image 214/2204 /content/image/images/00000519.jpg: 448x640 4 faces, 180.6ms\n",
            "image 215/2204 /content/image/images/00000520.jpg: 480x640 5 faces, 168.7ms\n",
            "image 216/2204 /content/image/images/00000521.jpg: 448x640 5 faces, 164.7ms\n",
            "image 217/2204 /content/image/images/00000522.jpg: 448x640 6 faces, 154.8ms\n",
            "image 218/2204 /content/image/images/00000523.jpg: 448x640 6 faces, 171.6ms\n",
            "image 219/2204 /content/image/images/00000524.jpg: 480x640 4 faces, 190.4ms\n",
            "image 220/2204 /content/image/images/00000525.jpg: 448x640 3 faces, 156.2ms\n",
            "image 221/2204 /content/image/images/00000527.jpg: 512x640 5 faces, 190.3ms\n",
            "image 222/2204 /content/image/images/00000528.jpg: 480x640 3 faces, 191.9ms\n",
            "image 223/2204 /content/image/images/00000530.jpg: 448x640 4 faces, 249.9ms\n",
            "image 224/2204 /content/image/images/00000532.jpg: 448x640 3 faces, 263.5ms\n",
            "image 225/2204 /content/image/images/00000533.jpg: 480x640 6 faces, 284.0ms\n",
            "image 226/2204 /content/image/images/00000535.jpg: 480x640 5 faces, 278.7ms\n",
            "image 227/2204 /content/image/images/00000536.jpg: 448x640 3 faces, 256.3ms\n",
            "image 228/2204 /content/image/images/00000538.jpg: 448x640 1 face, 259.8ms\n",
            "image 229/2204 /content/image/images/00000539.jpg: 448x640 5 faces, 256.7ms\n",
            "image 230/2204 /content/image/images/00000540.jpg: 448x640 6 faces, 257.0ms\n",
            "image 231/2204 /content/image/images/00000542.jpg: 640x416 1 face, 262.5ms\n",
            "image 232/2204 /content/image/images/00000543.jpg: 448x640 2 faces, 265.7ms\n",
            "image 233/2204 /content/image/images/00000545.jpg: 448x640 2 faces, 168.8ms\n",
            "image 234/2204 /content/image/images/00000547.jpg: 640x416 3 faces, 157.9ms\n",
            "image 235/2204 /content/image/images/00000548.jpg: 448x640 7 faces, 159.3ms\n",
            "image 236/2204 /content/image/images/00000549.jpg: 448x640 5 faces, 177.1ms\n",
            "image 237/2204 /content/image/images/00000550.jpg: 448x640 5 faces, 161.3ms\n",
            "image 238/2204 /content/image/images/00000551.jpg: 448x640 4 faces, 164.9ms\n",
            "image 239/2204 /content/image/images/00000553.jpg: 480x640 3 faces, 172.0ms\n",
            "image 240/2204 /content/image/images/00000556.jpg: 448x640 4 faces, 158.8ms\n",
            "image 241/2204 /content/image/images/00000558.jpg: 448x640 1 face, 184.9ms\n",
            "image 242/2204 /content/image/images/00000559.jpg: 448x640 2 faces, 168.3ms\n",
            "image 243/2204 /content/image/images/00000560.jpg: 448x640 5 faces, 166.5ms\n",
            "image 244/2204 /content/image/images/00000561.jpg: 448x640 4 faces, 167.9ms\n",
            "image 245/2204 /content/image/images/00000562.jpg: 352x640 4 faces, 283.2ms\n",
            "image 246/2204 /content/image/images/00000563.jpg: 448x640 4 faces, 315.4ms\n",
            "image 247/2204 /content/image/images/00000564.jpg: 480x640 5 faces, 314.1ms\n",
            "image 248/2204 /content/image/images/00000565.jpg: 512x640 5 faces, 196.7ms\n",
            "image 249/2204 /content/image/images/00000566.jpg: 576x640 1 face, 226.8ms\n",
            "image 250/2204 /content/image/images/00000567.jpg: 448x640 3 faces, 162.2ms\n",
            "image 251/2204 /content/image/images/00000569.jpg: 448x640 4 faces, 172.8ms\n",
            "image 252/2204 /content/image/images/00000571.jpg: 448x640 1 face, 157.5ms\n",
            "image 253/2204 /content/image/images/00000576.jpg: 480x640 5 faces, 197.8ms\n",
            "image 254/2204 /content/image/images/00000577.jpg: 448x640 5 faces, 178.6ms\n",
            "image 255/2204 /content/image/images/00000578.jpg: 448x640 9 faces, 163.5ms\n",
            "image 256/2204 /content/image/images/00000579.jpg: 448x640 6 faces, 163.7ms\n",
            "image 257/2204 /content/image/images/00000580.jpg: 448x640 5 faces, 158.0ms\n",
            "image 258/2204 /content/image/images/00000582.jpg: 384x640 5 faces, 143.2ms\n",
            "image 259/2204 /content/image/images/00000583.jpg: 448x640 2 faces, 160.4ms\n",
            "image 260/2204 /content/image/images/00000584.jpg: 416x640 1 face, 151.5ms\n",
            "image 261/2204 /content/image/images/00000585.jpg: 448x640 2 faces, 160.9ms\n",
            "image 262/2204 /content/image/images/00000588.jpg: 448x640 2 faces, 176.0ms\n",
            "image 263/2204 /content/image/images/00000589.jpg: 480x640 2 faces, 168.2ms\n",
            "image 264/2204 /content/image/images/00000590.jpg: 384x640 2 faces, 149.1ms\n",
            "image 265/2204 /content/image/images/00000592.jpg: 448x640 2 faces, 162.1ms\n",
            "image 266/2204 /content/image/images/00000593.jpg: 448x640 8 faces, 158.8ms\n",
            "image 267/2204 /content/image/images/00000597.jpg: 384x640 2 faces, 170.3ms\n",
            "image 268/2204 /content/image/images/00000598.jpg: 448x640 3 faces, 163.2ms\n",
            "image 269/2204 /content/image/images/00000601.jpg: 448x640 4 faces, 164.5ms\n",
            "image 270/2204 /content/image/images/00000602.jpg: 480x640 4 faces, 174.8ms\n",
            "image 271/2204 /content/image/images/00000603.jpg: 384x640 3 faces, 146.9ms\n",
            "image 272/2204 /content/image/images/00000604.jpg: 480x640 3 faces, 169.5ms\n",
            "image 273/2204 /content/image/images/00000605.jpg: 448x640 5 faces, 265.5ms\n",
            "image 274/2204 /content/image/images/00000609.jpg: 480x640 7 faces, 276.9ms\n",
            "image 275/2204 /content/image/images/00000610.jpg: 480x640 2 faces, 273.5ms\n",
            "image 276/2204 /content/image/images/00000612.jpg: 448x640 3 faces, 262.3ms\n",
            "image 277/2204 /content/image/images/00000615.jpg: 448x640 1 face, 242.1ms\n",
            "image 278/2204 /content/image/images/00000616.jpg: 448x640 1 face, 246.6ms\n",
            "image 279/2204 /content/image/images/00000617.jpg: 448x640 3 faces, 261.9ms\n",
            "image 280/2204 /content/image/images/00000618.jpg: 480x640 1 face, 286.6ms\n",
            "image 281/2204 /content/image/images/00000619.jpg: 448x640 4 faces, 257.8ms\n",
            "image 282/2204 /content/image/images/00000621.jpg: 480x640 1 face, 273.9ms\n",
            "image 283/2204 /content/image/images/00000623.jpg: 448x640 5 faces, 178.4ms\n",
            "image 284/2204 /content/image/images/00000625.jpg: 480x640 2 faces, 198.5ms\n",
            "image 285/2204 /content/image/images/00000626.jpg: 448x640 5 faces, 166.7ms\n",
            "image 286/2204 /content/image/images/00000637.jpg: 480x640 5 faces, 165.9ms\n",
            "image 287/2204 /content/image/images/00000640.jpg: 480x640 5 faces, 173.3ms\n",
            "image 288/2204 /content/image/images/00000641.jpg: 448x640 7 faces, 160.8ms\n",
            "image 289/2204 /content/image/images/00000642.jpg: 448x640 7 faces, 180.5ms\n",
            "image 290/2204 /content/image/images/00000643.jpg: 448x640 4 faces, 171.1ms\n",
            "image 291/2204 /content/image/images/00000644.jpg: 448x640 4 faces, 177.2ms\n",
            "image 292/2204 /content/image/images/00000645.jpg: 448x640 4 faces, 169.3ms\n",
            "image 293/2204 /content/image/images/00000652.jpg: 448x640 (no detections), 161.5ms\n",
            "image 294/2204 /content/image/images/00000653.jpg: 448x640 4 faces, 179.6ms\n",
            "image 295/2204 /content/image/images/00000656.jpg: 480x640 4 faces, 169.8ms\n",
            "image 296/2204 /content/image/images/00000657.jpg: 480x640 8 faces, 172.1ms\n",
            "image 297/2204 /content/image/images/00000661.jpg: 448x640 3 faces, 158.0ms\n",
            "image 298/2204 /content/image/images/00000664.jpg: 448x640 3 faces, 154.1ms\n",
            "image 299/2204 /content/image/images/00000665.jpg: 448x640 2 faces, 156.9ms\n",
            "image 300/2204 /content/image/images/00000667.jpg: 384x640 4 faces, 170.6ms\n",
            "image 301/2204 /content/image/images/00000670.jpg: 480x640 3 faces, 170.1ms\n",
            "image 302/2204 /content/image/images/00000672.jpg: 480x640 3 faces, 180.0ms\n",
            "image 303/2204 /content/image/images/00000675.jpg: 448x640 2 faces, 160.8ms\n",
            "image 304/2204 /content/image/images/00000677.jpg: 448x640 2 faces, 163.8ms\n",
            "image 305/2204 /content/image/images/00000678.jpg: 384x640 1 face, 149.5ms\n",
            "image 306/2204 /content/image/images/00000679.jpg: 448x640 7 faces, 156.1ms\n",
            "image 307/2204 /content/image/images/00000681.jpg: 448x640 3 faces, 156.7ms\n",
            "image 308/2204 /content/image/images/00000682.jpg: 640x480 2 faces, 170.5ms\n",
            "image 309/2204 /content/image/images/00000684.jpg: 384x640 1 face, 146.4ms\n",
            "image 310/2204 /content/image/images/00000697.jpg: 448x640 2 faces, 185.1ms\n",
            "image 311/2204 /content/image/images/00000699.jpg: 640x640 3 faces, 247.6ms\n",
            "image 312/2204 /content/image/images/00000701.jpg: 640x640 3 faces, 250.9ms\n",
            "image 313/2204 /content/image/images/00000702.jpg: 640x640 1 face, 233.0ms\n",
            "image 314/2204 /content/image/images/00000703.jpg: 384x640 3 faces, 177.8ms\n",
            "image 315/2204 /content/image/images/00000704.jpg: 416x640 2 faces, 154.2ms\n",
            "image 316/2204 /content/image/images/00000705.jpg: 448x640 1 face, 157.4ms\n",
            "image 317/2204 /content/image/images/00000706.jpg: 448x640 3 faces, 166.1ms\n",
            "image 318/2204 /content/image/images/00000707.jpg: 384x640 5 faces, 146.5ms\n",
            "image 319/2204 /content/image/images/00000711.jpg: 448x640 3 faces, 169.2ms\n",
            "image 320/2204 /content/image/images/00000713.jpg: 448x640 2 faces, 169.8ms\n",
            "image 321/2204 /content/image/images/00000715.jpg: 448x640 3 faces, 164.8ms\n",
            "image 322/2204 /content/image/images/00000717.jpg: 480x640 2 faces, 181.1ms\n",
            "image 323/2204 /content/image/images/00000718.jpg: 640x640 2 faces, 235.6ms\n",
            "image 324/2204 /content/image/images/00000719.jpg: 448x640 6 faces, 168.4ms\n",
            "image 325/2204 /content/image/images/00000723.jpg: 448x640 4 faces, 163.3ms\n",
            "image 326/2204 /content/image/images/00000724.jpg: 416x640 2 faces, 152.3ms\n",
            "image 327/2204 /content/image/images/00000726.jpg: 480x640 6 faces, 176.4ms\n",
            "image 328/2204 /content/image/images/00000729.jpg: 640x640 3 faces, 222.6ms\n",
            "image 329/2204 /content/image/images/00000734.jpg: 384x640 3 faces, 166.4ms\n",
            "image 330/2204 /content/image/images/00000735.jpg: 448x640 3 faces, 256.1ms\n",
            "image 331/2204 /content/image/images/00000737.jpg: 576x640 1 face, 334.7ms\n",
            "image 332/2204 /content/image/images/00000738.jpg: 448x640 4 faces, 253.5ms\n",
            "image 333/2204 /content/image/images/00000741.jpg: 480x640 3 faces, 257.4ms\n",
            "image 334/2204 /content/image/images/00000751.jpg: 640x480 1 face, 278.9ms\n",
            "image 335/2204 /content/image/images/00000752.jpg: 640x480 1 face, 266.1ms\n",
            "image 336/2204 /content/image/images/00000753.jpg: 640x448 1 face, 271.1ms\n",
            "image 337/2204 /content/image/images/00000754.jpg: 640x480 1 face, 281.2ms\n",
            "image 338/2204 /content/image/images/00000755.jpg: 448x640 1 face, 256.8ms\n",
            "image 339/2204 /content/image/images/00000757.jpg: 480x640 1 face, 223.7ms\n",
            "image 340/2204 /content/image/images/00000758.jpg: 448x640 1 face, 171.3ms\n",
            "image 341/2204 /content/image/images/00000760.jpg: 448x640 1 face, 152.6ms\n",
            "image 342/2204 /content/image/images/00000761.jpg: 640x448 1 face, 165.8ms\n",
            "image 343/2204 /content/image/images/00000762.jpg: 480x640 1 face, 168.5ms\n",
            "image 344/2204 /content/image/images/00000763.jpg: 640x480 1 face, 205.1ms\n",
            "image 345/2204 /content/image/images/00000764.jpg: 640x416 1 face, 152.2ms\n",
            "image 346/2204 /content/image/images/00000765.jpg: 640x480 1 face, 178.0ms\n",
            "image 347/2204 /content/image/images/00000767.jpg: 448x640 1 face, 161.8ms\n",
            "image 348/2204 /content/image/images/00000768.jpg: 640x416 1 face, 152.2ms\n",
            "image 349/2204 /content/image/images/00000770.jpg: 448x640 1 face, 160.7ms\n",
            "image 350/2204 /content/image/images/00000772.jpg: 512x640 1 face, 207.1ms\n",
            "image 351/2204 /content/image/images/00000774.jpg: 640x448 1 face, 168.7ms\n",
            "image 352/2204 /content/image/images/00000775.jpg: 640x448 1 face, 160.8ms\n",
            "image 353/2204 /content/image/images/00000777.jpg: 448x640 1 face, 166.3ms\n",
            "image 354/2204 /content/image/images/00000778.jpg: 640x448 1 face, 162.1ms\n",
            "image 355/2204 /content/image/images/00000779.jpg: 480x640 1 face, 191.2ms\n",
            "image 356/2204 /content/image/images/00000783.jpg: 640x480 1 face, 174.1ms\n",
            "image 357/2204 /content/image/images/00000784.jpg: 448x640 1 face, 170.0ms\n",
            "image 358/2204 /content/image/images/00000785.jpg: 640x416 1 face, 154.4ms\n",
            "image 359/2204 /content/image/images/00000786.jpg: 448x640 1 face, 178.2ms\n",
            "image 360/2204 /content/image/images/00000787.jpg: 448x640 1 face, 176.7ms\n",
            "image 361/2204 /content/image/images/00000788.jpg: 640x480 1 face, 171.7ms\n",
            "image 362/2204 /content/image/images/00000789.jpg: 640x448 1 face, 163.2ms\n",
            "image 363/2204 /content/image/images/00000790.jpg: 640x448 1 face, 183.0ms\n",
            "image 364/2204 /content/image/images/00000792.jpg: 640x640 1 face, 248.0ms\n",
            "image 365/2204 /content/image/images/00000793.jpg: 576x640 1 face, 207.5ms\n",
            "image 366/2204 /content/image/images/00000794.jpg: 640x640 2 faces, 241.2ms\n",
            "image 367/2204 /content/image/images/00000796.jpg: 640x416 1 face, 154.4ms\n",
            "image 368/2204 /content/image/images/00000798.jpg: 640x448 1 face, 160.6ms\n",
            "image 369/2204 /content/image/images/00000799.jpg: 480x640 1 face, 198.5ms\n",
            "image 370/2204 /content/image/images/00000800.jpg: 640x480 1 face, 173.7ms\n",
            "image 371/2204 /content/image/images/00000801.jpg: 640x448 1 face, 172.1ms\n",
            "image 372/2204 /content/image/images/00000802.jpg: 640x448 1 face, 162.0ms\n",
            "image 373/2204 /content/image/images/00000803.jpg: 640x448 1 face, 169.2ms\n",
            "image 374/2204 /content/image/images/00000805.jpg: 480x640 1 face, 211.8ms\n",
            "image 375/2204 /content/image/images/00000807.jpg: 448x640 1 face, 159.2ms\n",
            "image 376/2204 /content/image/images/00000809.jpg: 448x640 1 face, 169.2ms\n",
            "image 377/2204 /content/image/images/00000811.jpg: 640x608 1 face, 218.3ms\n",
            "image 378/2204 /content/image/images/00000812.jpg: 640x480 1 face, 167.5ms\n",
            "image 379/2204 /content/image/images/00000813.jpg: 480x640 1 face, 173.4ms\n",
            "image 380/2204 /content/image/images/00000814.jpg: 448x640 1 face, 164.8ms\n",
            "image 381/2204 /content/image/images/00000816.jpg: 640x448 1 face, 201.8ms\n",
            "image 382/2204 /content/image/images/00000817.jpg: 640x448 1 face, 166.9ms\n",
            "image 383/2204 /content/image/images/00000819.jpg: 448x640 1 face, 159.5ms\n",
            "image 384/2204 /content/image/images/00000820.jpg: 640x448 2 faces, 181.9ms\n",
            "image 385/2204 /content/image/images/00000824.jpg: 640x416 1 face, 153.5ms\n",
            "image 386/2204 /content/image/images/00000825.jpg: 640x448 1 face, 161.4ms\n",
            "image 387/2204 /content/image/images/00000826.jpg: 448x640 1 face, 182.2ms\n",
            "image 388/2204 /content/image/images/00000827.jpg: 448x640 1 face, 262.8ms\n",
            "image 389/2204 /content/image/images/00000828.jpg: 640x416 1 face, 261.2ms\n",
            "image 390/2204 /content/image/images/00000829.jpg: 640x448 1 face, 267.3ms\n",
            "image 391/2204 /content/image/images/00000830.jpg: 448x640 1 face, 258.3ms\n",
            "image 392/2204 /content/image/images/00000831.jpg: 384x640 1 face, 230.9ms\n",
            "image 393/2204 /content/image/images/00000832.jpg: 640x448 1 face, 248.5ms\n",
            "image 394/2204 /content/image/images/00000833.jpg: 640x416 1 face, 244.9ms\n",
            "image 395/2204 /content/image/images/00000834.jpg: 416x640 1 face, 237.0ms\n",
            "image 396/2204 /content/image/images/00000835.jpg: 448x640 1 face, 270.6ms\n",
            "image 397/2204 /content/image/images/00000836.jpg: 448x640 1 face, 255.1ms\n",
            "image 398/2204 /content/image/images/00000837.jpg: 320x640 1 face, 131.3ms\n",
            "image 399/2204 /content/image/images/00000838.jpg: 640x512 1 face, 186.5ms\n",
            "image 400/2204 /content/image/images/00000839.jpg: 480x640 1 face, 188.8ms\n",
            "image 401/2204 /content/image/images/00000840.jpg: 448x640 1 face, 156.9ms\n",
            "image 402/2204 /content/image/images/00000841.jpg: 448x640 1 face, 161.7ms\n",
            "image 403/2204 /content/image/images/00000842.jpg: 640x448 2 faces, 159.0ms\n",
            "image 404/2204 /content/image/images/00000843.jpg: 640x448 1 face, 165.8ms\n",
            "image 405/2204 /content/image/images/00000844.jpg: 512x640 1 face, 187.9ms\n",
            "image 406/2204 /content/image/images/00000845.jpg: 480x640 1 face, 195.7ms\n",
            "image 407/2204 /content/image/images/00000847.jpg: 640x512 (no detections), 187.9ms\n",
            "image 408/2204 /content/image/images/00000848.jpg: 448x640 1 face, 169.8ms\n",
            "image 409/2204 /content/image/images/00000849.jpg: 640x416 1 face, 196.8ms\n",
            "image 410/2204 /content/image/images/00000850.jpg: 448x640 1 face, 168.9ms\n",
            "image 411/2204 /content/image/images/00000851.jpg: 640x640 1 face, 266.7ms\n",
            "image 412/2204 /content/image/images/00000853.jpg: 640x448 1 face, 169.7ms\n",
            "image 413/2204 /content/image/images/00000854.jpg: 512x640 1 face, 200.1ms\n",
            "image 414/2204 /content/image/images/00000856.jpg: 640x448 1 face, 182.8ms\n",
            "image 415/2204 /content/image/images/00000857.jpg: 448x640 1 face, 168.5ms\n",
            "image 416/2204 /content/image/images/00000858.jpg: 480x640 1 face, 182.1ms\n",
            "image 417/2204 /content/image/images/00000859.jpg: 640x608 1 face, 221.7ms\n",
            "image 418/2204 /content/image/images/00000860.jpg: 480x640 1 face, 216.6ms\n",
            "image 419/2204 /content/image/images/00000864.jpg: 512x640 1 face, 214.1ms\n",
            "image 420/2204 /content/image/images/00000866.jpg: 416x640 1 face, 173.2ms\n",
            "image 421/2204 /content/image/images/00000869.jpg: 480x640 1 face, 184.7ms\n",
            "image 422/2204 /content/image/images/00000870.jpg: 640x448 1 face, 188.1ms\n",
            "image 423/2204 /content/image/images/00000872.jpg: 480x640 1 face, 190.0ms\n",
            "image 424/2204 /content/image/images/00000874.jpg: 640x448 1 face, 165.5ms\n",
            "image 425/2204 /content/image/images/00000875.jpg: 480x640 1 face, 201.3ms\n",
            "image 426/2204 /content/image/images/00000876.jpg: 512x640 1 face, 195.9ms\n",
            "image 427/2204 /content/image/images/00000877.jpg: 416x640 1 face, 165.4ms\n",
            "image 428/2204 /content/image/images/00000879.jpg: 640x448 1 face, 186.6ms\n",
            "image 429/2204 /content/image/images/00000881.jpg: 448x640 1 face, 170.0ms\n",
            "image 430/2204 /content/image/images/00000882.jpg: 640x448 1 face, 169.8ms\n",
            "image 431/2204 /content/image/images/00000884.jpg: 416x640 1 face, 159.5ms\n",
            "image 432/2204 /content/image/images/00000885.jpg: 640x448 1 face, 175.1ms\n",
            "image 433/2204 /content/image/images/00000886.jpg: 640x448 1 face, 187.2ms\n",
            "image 434/2204 /content/image/images/00000889.jpg: 448x640 1 face, 163.7ms\n",
            "image 435/2204 /content/image/images/00000891.jpg: 512x640 1 face, 191.0ms\n",
            "image 436/2204 /content/image/images/00000893.jpg: 640x640 (no detections), 230.3ms\n",
            "image 437/2204 /content/image/images/00000894.jpg: 640x480 1 face, 194.7ms\n",
            "image 438/2204 /content/image/images/00000895.jpg: 640x480 1 face, 206.7ms\n",
            "image 439/2204 /content/image/images/00000896.jpg: 448x640 1 face, 167.2ms\n",
            "image 440/2204 /content/image/images/00000897.jpg: 640x384 1 face, 166.9ms\n",
            "image 441/2204 /content/image/images/00000898.jpg: 640x480 1 face, 206.9ms\n",
            "image 442/2204 /content/image/images/00000899.jpg: 448x640 1 face, 166.9ms\n",
            "image 443/2204 /content/image/images/00000900.jpg: 448x640 1 face, 216.7ms\n",
            "image 444/2204 /content/image/images/00000901.jpg: 640x416 1 face, 249.7ms\n",
            "image 445/2204 /content/image/images/00000902.jpg: 448x640 1 face, 250.5ms\n",
            "image 446/2204 /content/image/images/00000903.jpg: 448x640 1 face, 252.7ms\n",
            "image 447/2204 /content/image/images/00000908.jpg: 448x640 1 face, 280.8ms\n",
            "image 448/2204 /content/image/images/00000910.jpg: 448x640 1 face, 241.9ms\n",
            "image 449/2204 /content/image/images/00000913.jpg: 608x640 1 face, 396.5ms\n",
            "image 450/2204 /content/image/images/00000916.jpg: 640x448 1 face, 269.8ms\n",
            "image 451/2204 /content/image/images/00000917.jpg: 448x640 1 face, 263.1ms\n",
            "image 452/2204 /content/image/images/00000920.jpg: 480x640 1 face, 280.7ms\n",
            "image 453/2204 /content/image/images/00000921.jpg: 448x640 1 face, 188.9ms\n",
            "image 454/2204 /content/image/images/00000923.jpg: 448x640 (no detections), 169.1ms\n",
            "image 455/2204 /content/image/images/00000924.jpg: 640x480 1 face, 175.9ms\n",
            "image 456/2204 /content/image/images/00000926.jpg: 640x544 1 face, 201.6ms\n",
            "image 457/2204 /content/image/images/00000928.jpg: 640x416 1 face, 154.8ms\n",
            "image 458/2204 /content/image/images/00000930.jpg: 448x640 1 face, 187.5ms\n",
            "image 459/2204 /content/image/images/00000931.jpg: 640x416 1 face, 155.7ms\n",
            "image 460/2204 /content/image/images/00000932.jpg: 640x480 1 face, 172.7ms\n",
            "image 461/2204 /content/image/images/00000933.jpg: 640x448 1 face, 164.7ms\n",
            "image 462/2204 /content/image/images/00000935.jpg: 448x640 1 face, 156.1ms\n",
            "image 463/2204 /content/image/images/00000936.jpg: 448x640 1 face, 157.9ms\n",
            "image 464/2204 /content/image/images/00000939.jpg: 480x640 (no detections), 190.1ms\n",
            "image 465/2204 /content/image/images/00000941.jpg: 448x640 1 face, 161.5ms\n",
            "image 466/2204 /content/image/images/00000943.jpg: 640x448 1 face, 169.3ms\n",
            "image 467/2204 /content/image/images/00000944.jpg: 640x416 1 face, 162.4ms\n",
            "image 468/2204 /content/image/images/00000947.jpg: 640x448 1 face, 178.4ms\n",
            "image 469/2204 /content/image/images/00000948.jpg: 480x640 2 faces, 218.9ms\n",
            "image 470/2204 /content/image/images/00000951.jpg: 640x544 1 face, 211.1ms\n",
            "image 471/2204 /content/image/images/00000952.jpg: 416x640 1 face, 161.0ms\n",
            "image 472/2204 /content/image/images/00000953.jpg: 640x448 1 face, 166.3ms\n",
            "image 473/2204 /content/image/images/00000955.jpg: 640x416 1 face, 162.7ms\n",
            "image 474/2204 /content/image/images/00000956.jpg: 640x448 1 face, 180.0ms\n",
            "image 475/2204 /content/image/images/00000957.jpg: 448x640 1 face, 163.3ms\n",
            "image 476/2204 /content/image/images/00000958.jpg: 448x640 1 face, 173.8ms\n",
            "image 477/2204 /content/image/images/00000959.jpg: 640x480 (no detections), 172.8ms\n",
            "image 478/2204 /content/image/images/00000962.jpg: 480x640 1 face, 176.9ms\n",
            "image 479/2204 /content/image/images/00000963.jpg: 480x640 1 face, 192.5ms\n",
            "image 480/2204 /content/image/images/00000965.jpg: 640x448 1 face, 166.7ms\n",
            "image 481/2204 /content/image/images/00000966.jpg: 512x640 1 face, 200.9ms\n",
            "image 482/2204 /content/image/images/00000968.jpg: 640x448 1 face, 158.8ms\n",
            "image 483/2204 /content/image/images/00000969.jpg: 640x576 1 face, 216.2ms\n",
            "image 484/2204 /content/image/images/00000970.jpg: 448x640 1 face, 190.2ms\n",
            "image 485/2204 /content/image/images/00000972.jpg: 448x640 1 face, 163.7ms\n",
            "image 486/2204 /content/image/images/00000973.jpg: 480x640 1 face, 174.2ms\n",
            "image 487/2204 /content/image/images/00000974.jpg: 416x640 1 face, 149.9ms\n",
            "image 488/2204 /content/image/images/00000976.jpg: 640x448 1 face, 165.8ms\n",
            "image 489/2204 /content/image/images/00000981.jpg: 448x640 1 face, 181.0ms\n",
            "image 490/2204 /content/image/images/00000982.jpg: 640x416 1 face, 153.2ms\n",
            "image 491/2204 /content/image/images/00000983.jpg: 640x416 1 face, 154.3ms\n",
            "image 492/2204 /content/image/images/00000985.jpg: 640x448 1 face, 163.6ms\n",
            "image 493/2204 /content/image/images/00000986.jpg: 384x640 3 faces, 151.4ms\n",
            "image 494/2204 /content/image/images/00000987.jpg: 640x448 1 face, 182.6ms\n",
            "image 495/2204 /content/image/images/00000988.jpg: 448x640 1 face, 161.7ms\n",
            "image 496/2204 /content/image/images/00000989.jpg: 448x640 1 face, 159.7ms\n",
            "image 497/2204 /content/image/images/00000990.jpg: 448x640 1 face, 157.6ms\n",
            "image 498/2204 /content/image/images/00000992.jpg: 448x640 1 face, 161.7ms\n",
            "image 499/2204 /content/image/images/00000993.jpg: 448x640 2 faces, 159.5ms\n",
            "image 500/2204 /content/image/images/00000994.jpg: 448x640 1 face, 180.0ms\n",
            "image 501/2204 /content/image/images/00000995.jpg: 448x640 1 face, 161.7ms\n",
            "image 502/2204 /content/image/images/00000996.jpg: 640x416 2 faces, 182.0ms\n",
            "image 503/2204 /content/image/images/00000997.jpg: 640x448 1 face, 276.5ms\n",
            "image 504/2204 /content/image/images/00000999.jpg: 640x448 1 face, 258.3ms\n",
            "image 505/2204 /content/image/images/00001001.jpg: 480x640 1 face, 266.5ms\n",
            "image 506/2204 /content/image/images/00001003.jpg: 448x640 1 face, 243.2ms\n",
            "image 507/2204 /content/image/images/00001006.jpg: 480x640 1 face, 258.5ms\n",
            "image 508/2204 /content/image/images/00001007.jpg: 640x448 1 face, 280.6ms\n",
            "image 509/2204 /content/image/images/00001008.jpg: 448x640 1 face, 256.7ms\n",
            "image 510/2204 /content/image/images/00001010.jpg: 640x448 1 face, 268.2ms\n",
            "image 511/2204 /content/image/images/00001011.jpg: 480x640 1 face, 275.6ms\n",
            "image 512/2204 /content/image/images/00001012.jpg: 640x448 1 face, 297.3ms\n",
            "image 513/2204 /content/image/images/00001013.jpg: 640x448 1 face, 179.6ms\n",
            "image 514/2204 /content/image/images/00001014.jpg: 640x448 1 face, 159.5ms\n",
            "image 515/2204 /content/image/images/00001015.jpg: 640x416 1 face, 148.9ms\n",
            "image 516/2204 /content/image/images/00001016.jpg: 640x448 1 face, 165.2ms\n",
            "image 517/2204 /content/image/images/00001017.jpg: 448x640 1 face, 179.8ms\n",
            "image 518/2204 /content/image/images/00001019.jpg: 640x544 1 face, 189.0ms\n",
            "image 519/2204 /content/image/images/00001021.jpg: 640x480 1 face, 173.3ms\n",
            "image 520/2204 /content/image/images/00001023.jpg: 640x480 1 face, 176.2ms\n",
            "image 521/2204 /content/image/images/00001025.jpg: 640x448 1 face, 167.5ms\n",
            "image 522/2204 /content/image/images/00001026.jpg: 640x448 1 face, 169.0ms\n",
            "image 523/2204 /content/image/images/00001027.jpg: 640x448 (no detections), 213.9ms\n",
            "image 524/2204 /content/image/images/00001028.jpg: 448x640 1 face, 316.6ms\n",
            "image 525/2204 /content/image/images/00001032.jpg: 640x512 1 face, 327.1ms\n",
            "image 526/2204 /content/image/images/00001033.jpg: 448x640 1 face, 166.3ms\n",
            "image 527/2204 /content/image/images/00001034.jpg: 480x640 1 face, 170.4ms\n",
            "image 528/2204 /content/image/images/00001035.jpg: 640x448 1 face, 169.9ms\n",
            "image 529/2204 /content/image/images/00001038.jpg: 640x640 (no detections), 242.7ms\n",
            "image 530/2204 /content/image/images/00001039.jpg: 640x448 1 face, 164.1ms\n",
            "image 531/2204 /content/image/images/00001040.jpg: 480x640 1 face, 180.8ms\n",
            "image 532/2204 /content/image/images/00001041.jpg: 640x416 1 face, 156.1ms\n",
            "image 533/2204 /content/image/images/00001042.jpg: 480x640 1 face, 170.1ms\n",
            "image 534/2204 /content/image/images/00001043.jpg: 448x640 1 face, 154.9ms\n",
            "image 535/2204 /content/image/images/00001044.jpg: 448x640 1 face, 162.7ms\n",
            "image 536/2204 /content/image/images/00001045.jpg: 448x640 1 face, 166.4ms\n",
            "image 537/2204 /content/image/images/00001046.jpg: 480x640 1 face, 180.3ms\n",
            "image 538/2204 /content/image/images/00001047.jpg: 640x640 1 face, 233.8ms\n",
            "image 539/2204 /content/image/images/00001048.jpg: 640x512 1 face, 213.7ms\n",
            "image 540/2204 /content/image/images/00001049.jpg: 448x640 1 face, 163.6ms\n",
            "image 541/2204 /content/image/images/00001050.jpg: 640x448 1 face, 170.6ms\n",
            "image 542/2204 /content/image/images/00001051.jpg: 640x416 1 face, 161.5ms\n",
            "image 543/2204 /content/image/images/00001052.jpg: 640x416 1 face, 156.0ms\n",
            "image 544/2204 /content/image/images/00001055.jpg: 640x480 1 face, 201.1ms\n",
            "image 545/2204 /content/image/images/00001056.jpg: 448x640 1 face, 161.3ms\n",
            "image 546/2204 /content/image/images/00001057.jpg: 448x640 1 face, 175.5ms\n",
            "image 547/2204 /content/image/images/00001059.jpg: 640x544 1 face, 196.2ms\n",
            "image 548/2204 /content/image/images/00001060.jpg: 480x640 1 face, 169.7ms\n",
            "image 549/2204 /content/image/images/00001061.jpg: 640x448 1 face, 181.3ms\n",
            "image 550/2204 /content/image/images/00001063.jpg: 608x640 1 face, 226.8ms\n",
            "image 551/2204 /content/image/images/00001065.jpg: 448x640 2 faces, 169.2ms\n",
            "image 552/2204 /content/image/images/00001066.jpg: 640x416 1 face, 156.4ms\n",
            "image 553/2204 /content/image/images/00001067.jpg: 448x640 1 face, 154.7ms\n",
            "image 554/2204 /content/image/images/00001071.jpg: 544x640 1 face, 205.3ms\n",
            "image 555/2204 /content/image/images/00001072.jpg: 448x640 1 face, 163.4ms\n",
            "image 556/2204 /content/image/images/00001073.jpg: 640x416 1 face, 160.3ms\n",
            "image 557/2204 /content/image/images/00001074.jpg: 480x640 1 face, 169.9ms\n",
            "image 558/2204 /content/image/images/00001075.jpg: 608x640 1 face, 347.6ms\n",
            "image 559/2204 /content/image/images/00001079.jpg: 640x416 1 face, 255.6ms\n",
            "image 560/2204 /content/image/images/00001081.jpg: 448x640 1 face, 257.2ms\n",
            "image 561/2204 /content/image/images/00001083.jpg: 640x448 1 face, 247.7ms\n",
            "image 562/2204 /content/image/images/00001084.jpg: 480x640 1 face, 278.2ms\n",
            "image 563/2204 /content/image/images/00001085.jpg: 416x640 1 face, 235.3ms\n",
            "image 564/2204 /content/image/images/00001086.jpg: 480x640 1 face, 258.8ms\n",
            "image 565/2204 /content/image/images/00001087.jpg: 448x640 1 face, 247.5ms\n",
            "image 566/2204 /content/image/images/00001088.jpg: 448x640 1 face, 263.4ms\n",
            "image 567/2204 /content/image/images/00001089.jpg: 448x640 1 face, 269.0ms\n",
            "image 568/2204 /content/image/images/00001090.jpg: 640x512 1 face, 220.3ms\n",
            "image 569/2204 /content/image/images/00001091.jpg: 640x448 1 face, 161.9ms\n",
            "image 570/2204 /content/image/images/00001092.jpg: 448x640 1 face, 159.6ms\n",
            "image 571/2204 /content/image/images/00001093.jpg: 640x416 1 face, 148.0ms\n",
            "image 572/2204 /content/image/images/00001095.jpg: 448x640 1 face, 158.9ms\n",
            "image 573/2204 /content/image/images/00001097.jpg: 480x640 1 face, 173.1ms\n",
            "image 574/2204 /content/image/images/00001099.jpg: 448x640 1 face, 160.1ms\n",
            "image 575/2204 /content/image/images/00001104.jpg: 640x448 1 face, 184.0ms\n",
            "image 576/2204 /content/image/images/00001105.jpg: 448x640 1 face, 153.1ms\n",
            "image 577/2204 /content/image/images/00001106.jpg: 448x640 1 face, 162.2ms\n",
            "image 578/2204 /content/image/images/00001107.jpg: 640x416 1 face, 156.8ms\n",
            "image 579/2204 /content/image/images/00001108.jpg: 448x640 1 face, 155.7ms\n",
            "image 580/2204 /content/image/images/00001109.jpg: 448x640 1 face, 178.6ms\n",
            "image 581/2204 /content/image/images/00001112.jpg: 448x640 1 face, 157.8ms\n",
            "image 582/2204 /content/image/images/00001113.jpg: 448x640 1 face, 154.3ms\n",
            "image 583/2204 /content/image/images/00001114.jpg: 640x416 2 faces, 159.7ms\n",
            "image 584/2204 /content/image/images/00001117.jpg: 512x640 1 face, 184.5ms\n",
            "image 585/2204 /content/image/images/00001119.jpg: 640x448 1 face, 171.1ms\n",
            "image 586/2204 /content/image/images/00001120.jpg: 448x640 1 face, 179.1ms\n",
            "image 587/2204 /content/image/images/00001121.jpg: 640x416 1 face, 148.3ms\n",
            "image 588/2204 /content/image/images/00001123.jpg: 448x640 1 face, 163.8ms\n",
            "image 589/2204 /content/image/images/00001124.jpg: 448x640 1 face, 158.5ms\n",
            "image 590/2204 /content/image/images/00001125.jpg: 384x640 1 face, 141.0ms\n",
            "image 591/2204 /content/image/images/00001129.jpg: 448x640 1 face, 165.5ms\n",
            "image 592/2204 /content/image/images/00001130.jpg: 640x448 1 face, 182.0ms\n",
            "image 593/2204 /content/image/images/00001131.jpg: 640x448 1 face, 161.3ms\n",
            "image 594/2204 /content/image/images/00001132.jpg: 512x640 1 face, 183.4ms\n",
            "image 595/2204 /content/image/images/00001133.jpg: 640x416 1 face, 148.9ms\n",
            "image 596/2204 /content/image/images/00001137.jpg: 640x416 1 face, 149.3ms\n",
            "image 597/2204 /content/image/images/00001138.jpg: 640x416 1 face, 173.3ms\n",
            "image 598/2204 /content/image/images/00001139.jpg: 640x448 1 face, 165.1ms\n",
            "image 599/2204 /content/image/images/00001140.jpg: 448x640 1 face, 161.3ms\n",
            "image 600/2204 /content/image/images/00001144.jpg: 640x448 1 face, 161.5ms\n",
            "image 601/2204 /content/image/images/00001147.jpg: 448x640 1 face, 158.1ms\n",
            "image 602/2204 /content/image/images/00001148.jpg: 640x448 1 face, 168.9ms\n",
            "image 603/2204 /content/image/images/00001149.jpg: 640x640 1 face, 253.8ms\n",
            "image 604/2204 /content/image/images/00001151.jpg: 640x448 1 face, 162.4ms\n",
            "image 605/2204 /content/image/images/00001152.jpg: 640x640 1 face, 255.8ms\n",
            "image 606/2204 /content/image/images/00001154.jpg: 448x640 1 face, 163.4ms\n",
            "image 607/2204 /content/image/images/00001155.jpg: 480x640 1 face, 192.6ms\n",
            "image 608/2204 /content/image/images/00001156.jpg: 512x640 1 face, 182.7ms\n",
            "image 609/2204 /content/image/images/00001158.jpg: 640x416 1 face, 152.7ms\n",
            "image 610/2204 /content/image/images/00001159.jpg: 448x640 1 face, 158.4ms\n",
            "image 611/2204 /content/image/images/00001161.jpg: 640x416 1 face, 150.9ms\n",
            "image 612/2204 /content/image/images/00001162.jpg: 384x640 1 face, 146.6ms\n",
            "image 613/2204 /content/image/images/00001163.jpg: 480x640 1 face, 183.3ms\n",
            "image 614/2204 /content/image/images/00001164.jpg: 480x640 1 face, 176.9ms\n",
            "image 615/2204 /content/image/images/00001165.jpg: 480x640 (no detections), 194.5ms\n",
            "image 616/2204 /content/image/images/00001167.jpg: 448x640 1 face, 156.2ms\n",
            "image 617/2204 /content/image/images/00001168.jpg: 640x448 1 face, 164.9ms\n",
            "image 618/2204 /content/image/images/00001169.jpg: 448x640 1 face, 196.7ms\n",
            "image 619/2204 /content/image/images/00001170.jpg: 480x640 1 face, 284.9ms\n",
            "image 620/2204 /content/image/images/00001171.jpg: 640x448 1 face, 246.8ms\n",
            "image 621/2204 /content/image/images/00001175.jpg: 448x640 1 face, 255.7ms\n",
            "image 622/2204 /content/image/images/00001176.jpg: 640x640 1 face, 355.8ms\n",
            "image 623/2204 /content/image/images/00001177.jpg: 640x448 1 face, 240.9ms\n",
            "image 624/2204 /content/image/images/00001178.jpg: 480x640 1 face, 279.8ms\n",
            "image 625/2204 /content/image/images/00001179.jpg: 448x640 1 face, 263.6ms\n",
            "image 626/2204 /content/image/images/00001180.jpg: 640x448 1 face, 254.2ms\n",
            "image 627/2204 /content/image/images/00001182.jpg: 640x416 1 face, 246.8ms\n",
            "image 628/2204 /content/image/images/00001184.jpg: 448x640 1 face, 248.9ms\n",
            "image 629/2204 /content/image/images/00001186.jpg: 512x640 1 face, 223.6ms\n",
            "image 630/2204 /content/image/images/00001188.jpg: 640x416 1 face, 158.4ms\n",
            "image 631/2204 /content/image/images/00001190.jpg: 640x448 1 face, 159.8ms\n",
            "image 632/2204 /content/image/images/00001191.jpg: 480x640 1 face, 176.0ms\n",
            "image 633/2204 /content/image/images/00001192.jpg: 480x640 1 face, 166.6ms\n",
            "image 634/2204 /content/image/images/00001193.jpg: 480x640 1 face, 176.3ms\n",
            "image 635/2204 /content/image/images/00001195.jpg: 448x640 1 face, 180.1ms\n",
            "image 636/2204 /content/image/images/00001196.jpg: 448x640 1 face, 165.0ms\n",
            "image 637/2204 /content/image/images/00001198.jpg: 640x448 1 face, 161.6ms\n",
            "image 638/2204 /content/image/images/00001199.jpg: 480x640 1 face, 171.8ms\n",
            "image 639/2204 /content/image/images/00001203.jpg: 640x416 1 face, 151.5ms\n",
            "image 640/2204 /content/image/images/00001204.jpg: 448x640 1 face, 173.5ms\n",
            "image 641/2204 /content/image/images/00001205.jpg: 640x448 2 faces, 246.7ms\n",
            "image 642/2204 /content/image/images/00001208.jpg: 640x448 1 face, 163.6ms\n",
            "image 643/2204 /content/image/images/00001209.jpg: 480x640 1 face, 173.7ms\n",
            "image 644/2204 /content/image/images/00001210.jpg: 448x640 1 face, 157.5ms\n",
            "image 645/2204 /content/image/images/00001212.jpg: 448x640 1 face, 156.9ms\n",
            "image 646/2204 /content/image/images/00001215.jpg: 640x416 1 face, 159.8ms\n",
            "image 647/2204 /content/image/images/00001216.jpg: 640x448 1 face, 172.4ms\n",
            "image 648/2204 /content/image/images/00001219.jpg: 640x416 1 face, 157.6ms\n",
            "image 649/2204 /content/image/images/00001221.jpg: 640x576 1 face, 206.1ms\n",
            "image 650/2204 /content/image/images/00001222.jpg: 416x640 1 face, 143.7ms\n",
            "image 651/2204 /content/image/images/00001223.jpg: 640x640 1 face, 242.5ms\n",
            "image 652/2204 /content/image/images/00001225.jpg: 480x640 1 face, 182.3ms\n",
            "image 653/2204 /content/image/images/00001228.jpg: 480x640 1 face, 176.1ms\n",
            "image 654/2204 /content/image/images/00001231.jpg: 448x640 1 face, 157.7ms\n",
            "image 655/2204 /content/image/images/00001233.jpg: 640x448 1 face, 158.6ms\n",
            "image 656/2204 /content/image/images/00001234.jpg: 480x640 1 face, 194.5ms\n",
            "image 657/2204 /content/image/images/00001235.jpg: 448x640 1 face, 157.6ms\n",
            "image 658/2204 /content/image/images/00001236.jpg: 640x448 1 face, 162.4ms\n",
            "image 659/2204 /content/image/images/00001237.jpg: 384x640 1 face, 135.7ms\n",
            "image 660/2204 /content/image/images/00001238.jpg: 448x640 1 face, 155.2ms\n",
            "image 661/2204 /content/image/images/00001239.jpg: 640x416 1 face, 179.6ms\n",
            "image 662/2204 /content/image/images/00001240.jpg: 640x448 1 face, 178.6ms\n",
            "image 663/2204 /content/image/images/00001243.jpg: 544x640 1 face, 190.4ms\n",
            "image 664/2204 /content/image/images/00001244.jpg: 384x640 1 face, 136.5ms\n",
            "image 665/2204 /content/image/images/00001246.jpg: 448x640 1 face, 165.9ms\n",
            "image 666/2204 /content/image/images/00001247.jpg: 448x640 1 face, 159.7ms\n",
            "image 667/2204 /content/image/images/00001248.jpg: 640x576 1 face, 223.9ms\n",
            "image 668/2204 /content/image/images/00001249.jpg: 640x512 1 face, 198.1ms\n",
            "image 669/2204 /content/image/images/00001251.jpg: 640x512 1 face, 181.7ms\n",
            "image 670/2204 /content/image/images/00001252.jpg: 544x640 1 face, 199.9ms\n",
            "image 671/2204 /content/image/images/00001253.jpg: 640x640 1 face, 230.2ms\n",
            "image 672/2204 /content/image/images/00001254.jpg: 384x640 1 face, 154.2ms\n",
            "image 673/2204 /content/image/images/00001255.jpg: 448x640 1 face, 157.7ms\n",
            "image 674/2204 /content/image/images/00001259.jpg: 480x640 1 face, 164.3ms\n",
            "image 675/2204 /content/image/images/00001260.jpg: 640x416 1 face, 156.7ms\n",
            "image 676/2204 /content/image/images/00001264.jpg: 640x448 1 face, 170.6ms\n",
            "image 677/2204 /content/image/images/00001266.jpg: 448x640 1 face, 168.9ms\n",
            "image 678/2204 /content/image/images/00001267.jpg: 640x448 1 face, 166.2ms\n",
            "image 679/2204 /content/image/images/00001270.jpg: 480x640 1 face, 171.1ms\n",
            "image 680/2204 /content/image/images/00001271.jpg: 640x448 1 face, 265.8ms\n",
            "image 681/2204 /content/image/images/00001272.jpg: 480x640 1 face, 268.6ms\n",
            "image 682/2204 /content/image/images/00001273.jpg: 640x448 1 face, 273.9ms\n",
            "image 683/2204 /content/image/images/00001275.jpg: 640x544 1 face, 308.6ms\n",
            "image 684/2204 /content/image/images/00001276.jpg: 448x640 1 face, 264.1ms\n",
            "image 685/2204 /content/image/images/00001277.jpg: 640x448 1 face, 256.7ms\n",
            "image 686/2204 /content/image/images/00001278.jpg: 448x640 1 face, 252.4ms\n",
            "image 687/2204 /content/image/images/00001279.jpg: 448x640 1 face, 258.3ms\n",
            "image 688/2204 /content/image/images/00001280.jpg: 416x640 1 face, 234.7ms\n",
            "image 689/2204 /content/image/images/00001281.jpg: 480x640 1 face, 267.4ms\n",
            "image 690/2204 /content/image/images/00001282.jpg: 640x416 1 face, 232.4ms\n",
            "image 691/2204 /content/image/images/00001284.jpg: 448x640 2 faces, 164.6ms\n",
            "image 692/2204 /content/image/images/00001286.jpg: 448x640 1 face, 160.2ms\n",
            "image 693/2204 /content/image/images/00001287.jpg: 480x640 1 face, 190.3ms\n",
            "image 694/2204 /content/image/images/00001288.jpg: 640x448 1 face, 166.6ms\n",
            "image 695/2204 /content/image/images/00001289.jpg: 640x512 1 face, 205.8ms\n",
            "image 696/2204 /content/image/images/00001293.jpg: 448x640 1 face, 161.5ms\n",
            "image 697/2204 /content/image/images/00001295.jpg: 640x512 2 faces, 183.0ms\n",
            "image 698/2204 /content/image/images/00001296.jpg: 448x640 1 face, 161.2ms\n",
            "image 699/2204 /content/image/images/00001297.jpg: 448x640 1 face, 160.3ms\n",
            "image 700/2204 /content/image/images/00001299.jpg: 640x448 1 face, 182.9ms\n",
            "image 701/2204 /content/image/images/00001301.jpg: 480x640 1 face, 168.8ms\n",
            "image 702/2204 /content/image/images/00001302.jpg: 448x640 1 face, 160.7ms\n",
            "image 703/2204 /content/image/images/00001305.jpg: 448x640 2 faces, 163.7ms\n",
            "image 704/2204 /content/image/images/00001306.jpg: 448x640 1 face, 164.3ms\n",
            "image 705/2204 /content/image/images/00001307.jpg: 448x640 1 face, 168.0ms\n",
            "image 706/2204 /content/image/images/00001308.jpg: 640x416 1 face, 174.3ms\n",
            "image 707/2204 /content/image/images/00001311.jpg: 640x512 1 face, 187.2ms\n",
            "image 708/2204 /content/image/images/00001312.jpg: 640x416 1 face, 155.9ms\n",
            "image 709/2204 /content/image/images/00001313.jpg: 640x448 1 face, 174.1ms\n",
            "image 710/2204 /content/image/images/00001315.jpg: 640x512 1 face, 196.8ms\n",
            "image 711/2204 /content/image/images/00001316.jpg: 448x640 1 face, 178.9ms\n",
            "image 712/2204 /content/image/images/00001317.jpg: 480x640 1 face, 194.7ms\n",
            "image 713/2204 /content/image/images/00001319.jpg: 640x416 1 face, 154.3ms\n",
            "image 714/2204 /content/image/images/00001320.jpg: 640x448 1 face, 168.8ms\n",
            "image 715/2204 /content/image/images/00001323.jpg: 480x640 1 face, 178.5ms\n",
            "image 716/2204 /content/image/images/00001324.jpg: 448x640 1 face, 159.8ms\n",
            "image 717/2204 /content/image/images/00001325.jpg: 480x640 1 face, 181.6ms\n",
            "image 718/2204 /content/image/images/00001326.jpg: 448x640 1 face, 171.4ms\n",
            "image 719/2204 /content/image/images/00001327.jpg: 640x640 1 face, 254.7ms\n",
            "image 720/2204 /content/image/images/00001329.jpg: 448x640 1 face, 156.1ms\n",
            "image 721/2204 /content/image/images/00001330.jpg: 448x640 1 face, 159.1ms\n",
            "image 722/2204 /content/image/images/00001332.jpg: 640x640 1 face, 240.4ms\n",
            "image 723/2204 /content/image/images/00001333.jpg: 448x640 1 face, 160.8ms\n",
            "image 724/2204 /content/image/images/00001335.jpg: 640x448 1 face, 172.3ms\n",
            "image 725/2204 /content/image/images/00001337.jpg: 480x640 1 face, 187.4ms\n",
            "image 726/2204 /content/image/images/00001339.jpg: 448x640 1 face, 156.1ms\n",
            "image 727/2204 /content/image/images/00001340.jpg: 640x448 1 face, 165.3ms\n",
            "image 728/2204 /content/image/images/00001341.jpg: 480x640 1 face, 184.7ms\n",
            "image 729/2204 /content/image/images/00001343.jpg: 640x576 1 face, 206.4ms\n",
            "image 730/2204 /content/image/images/00001344.jpg: 640x448 1 face, 176.9ms\n",
            "image 731/2204 /content/image/images/00001347.jpg: 640x448 1 face, 157.7ms\n",
            "image 732/2204 /content/image/images/00001348.jpg: 480x640 1 face, 177.6ms\n",
            "image 733/2204 /content/image/images/00001350.jpg: 640x448 1 face, 165.0ms\n",
            "image 734/2204 /content/image/images/00001351.jpg: 640x448 1 face, 159.8ms\n",
            "image 735/2204 /content/image/images/00001352.jpg: 640x416 1 face, 172.7ms\n",
            "image 736/2204 /content/image/images/00001353.jpg: 448x640 1 face, 163.0ms\n",
            "image 737/2204 /content/image/images/00001354.jpg: 448x640 1 face, 157.6ms\n",
            "image 738/2204 /content/image/images/00001355.jpg: 480x640 1 face, 171.9ms\n",
            "image 739/2204 /content/image/images/00001356.jpg: 448x640 1 face, 224.1ms\n",
            "image 740/2204 /content/image/images/00001357.jpg: 640x448 3 faces, 272.0ms\n",
            "image 741/2204 /content/image/images/00001358.jpg: 480x640 1 face, 267.2ms\n",
            "image 742/2204 /content/image/images/00001359.jpg: 448x640 1 face, 249.1ms\n",
            "image 743/2204 /content/image/images/00001360.jpg: 448x640 1 face, 251.6ms\n",
            "image 744/2204 /content/image/images/00001363.jpg: 480x640 2 faces, 286.8ms\n",
            "image 745/2204 /content/image/images/00001364.jpg: 448x640 1 face, 239.4ms\n",
            "image 746/2204 /content/image/images/00001365.jpg: 448x640 1 face, 255.1ms\n",
            "image 747/2204 /content/image/images/00001366.jpg: 480x640 1 face, 264.2ms\n",
            "image 748/2204 /content/image/images/00001368.jpg: 480x640 1 face, 290.2ms\n",
            "image 749/2204 /content/image/images/00001369.jpg: 640x448 1 face, 223.9ms\n",
            "image 750/2204 /content/image/images/00001370.jpg: 640x416 1 face, 148.8ms\n",
            "image 751/2204 /content/image/images/00001371.jpg: 640x480 1 face, 173.6ms\n",
            "image 752/2204 /content/image/images/00001372.jpg: 640x416 1 face, 148.1ms\n",
            "image 753/2204 /content/image/images/00001373.jpg: 640x448 1 face, 173.1ms\n",
            "image 754/2204 /content/image/images/00001374.jpg: 640x448 1 face, 163.6ms\n",
            "image 755/2204 /content/image/images/00001376.jpg: 640x416 1 face, 150.0ms\n",
            "image 756/2204 /content/image/images/00001377.jpg: 640x448 1 face, 164.9ms\n",
            "image 757/2204 /content/image/images/00001379.jpg: 448x640 1 face, 163.2ms\n",
            "image 758/2204 /content/image/images/00001380.jpg: 640x448 1 face, 190.8ms\n",
            "image 759/2204 /content/image/images/00001381.jpg: 448x640 1 face, 169.2ms\n",
            "image 760/2204 /content/image/images/00001382.jpg: 640x416 1 face, 154.7ms\n",
            "image 761/2204 /content/image/images/00001383.jpg: 640x448 1 face, 164.9ms\n",
            "image 762/2204 /content/image/images/00001384.jpg: 640x448 1 face, 158.2ms\n",
            "image 763/2204 /content/image/images/00001385.jpg: 640x448 1 face, 168.3ms\n",
            "image 764/2204 /content/image/images/00001386.jpg: 384x640 1 face, 147.3ms\n",
            "image 765/2204 /content/image/images/00001387.jpg: 448x640 1 face, 158.1ms\n",
            "image 766/2204 /content/image/images/00001388.jpg: 512x640 1 face, 214.2ms\n",
            "image 767/2204 /content/image/images/00001389.jpg: 640x576 1 face, 196.4ms\n",
            "image 768/2204 /content/image/images/00001390.jpg: 640x416 1 face, 160.8ms\n",
            "image 769/2204 /content/image/images/00001391.jpg: 416x640 3 faces, 154.1ms\n",
            "image 770/2204 /content/image/images/00001392.jpg: 640x448 1 face, 163.5ms\n",
            "image 771/2204 /content/image/images/00001395.jpg: 448x640 1 face, 158.6ms\n",
            "image 772/2204 /content/image/images/00001396.jpg: 544x640 1 face, 194.7ms\n",
            "image 773/2204 /content/image/images/00001397.jpg: 416x640 1 face, 149.8ms\n",
            "image 774/2204 /content/image/images/00001398.jpg: 544x640 1 face, 203.2ms\n",
            "image 775/2204 /content/image/images/00001399.jpg: 640x448 1 face, 162.6ms\n",
            "image 776/2204 /content/image/images/00001400.jpg: 448x640 1 face, 159.1ms\n",
            "image 777/2204 /content/image/images/00001401.jpg: 640x448 1 face, 176.5ms\n",
            "image 778/2204 /content/image/images/00001402.jpg: 448x640 1 face, 157.4ms\n",
            "image 779/2204 /content/image/images/00001403.jpg: 640x448 1 face, 173.9ms\n",
            "image 780/2204 /content/image/images/00001404.jpg: 640x448 1 face, 162.7ms\n",
            "image 781/2204 /content/image/images/00001405.jpg: 640x480 1 face, 169.5ms\n",
            "image 782/2204 /content/image/images/00001406.jpg: 640x640 1 face, 228.8ms\n",
            "image 783/2204 /content/image/images/00001407.jpg: 480x640 1 face, 167.5ms\n",
            "image 784/2204 /content/image/images/00001409.jpg: 480x640 1 face, 175.4ms\n",
            "image 785/2204 /content/image/images/00001410.jpg: 640x512 1 face, 186.8ms\n",
            "image 786/2204 /content/image/images/00001411.jpg: 352x640 1 face, 129.5ms\n",
            "image 787/2204 /content/image/images/00001413.jpg: 512x640 1 face, 181.3ms\n",
            "image 788/2204 /content/image/images/00001415.jpg: 640x448 1 face, 198.9ms\n",
            "image 789/2204 /content/image/images/00001416.jpg: 640x416 1 face, 154.9ms\n",
            "image 790/2204 /content/image/images/00001417.jpg: 448x640 1 face, 188.0ms\n",
            "image 791/2204 /content/image/images/00001418.jpg: 640x448 1 face, 168.5ms\n",
            "image 792/2204 /content/image/images/00001419.jpg: 448x640 1 face, 327.2ms\n",
            "image 793/2204 /content/image/images/00001420.jpg: 640x448 1 face, 303.1ms\n",
            "image 794/2204 /content/image/images/00001421.jpg: 448x640 1 face, 176.5ms\n",
            "image 795/2204 /content/image/images/00001422.jpg: 640x448 1 face, 176.4ms\n",
            "image 796/2204 /content/image/images/00001423.jpg: 640x416 1 face, 154.9ms\n",
            "image 797/2204 /content/image/images/00001424.jpg: 640x448 1 face, 221.6ms\n",
            "image 798/2204 /content/image/images/00001425.jpg: 448x640 1 face, 258.6ms\n",
            "image 799/2204 /content/image/images/00001426.jpg: 640x448 1 face, 256.8ms\n",
            "image 800/2204 /content/image/images/00001427.jpg: 480x640 1 face, 262.2ms\n",
            "image 801/2204 /content/image/images/00001428.jpg: 640x448 1 face, 263.5ms\n",
            "image 802/2204 /content/image/images/00001430.jpg: 640x576 1 face, 308.4ms\n",
            "image 803/2204 /content/image/images/00001431.jpg: 448x640 1 face, 244.0ms\n",
            "image 804/2204 /content/image/images/00001432.jpg: 448x640 1 face, 265.9ms\n",
            "image 805/2204 /content/image/images/00001433.jpg: 640x448 1 face, 267.8ms\n",
            "image 806/2204 /content/image/images/00001435.jpg: 416x640 1 face, 262.4ms\n",
            "image 807/2204 /content/image/images/00001436.jpg: 640x448 1 face, 266.9ms\n",
            "image 808/2204 /content/image/images/00001438.jpg: 640x448 1 face, 209.5ms\n",
            "image 809/2204 /content/image/images/00001439.jpg: 640x416 1 face, 162.0ms\n",
            "image 810/2204 /content/image/images/00001440.jpg: 448x640 1 face, 174.9ms\n",
            "image 811/2204 /content/image/images/00001441.jpg: 448x640 1 face, 272.8ms\n",
            "image 812/2204 /content/image/images/00001442.jpg: 544x640 1 face, 315.8ms\n",
            "image 813/2204 /content/image/images/00001443.jpg: 480x640 1 face, 265.8ms\n",
            "image 814/2204 /content/image/images/00001445.jpg: 640x640 2 faces, 353.2ms\n",
            "image 815/2204 /content/image/images/00001446.jpg: 640x448 1 face, 259.1ms\n",
            "image 816/2204 /content/image/images/00001448.jpg: 480x640 1 face, 267.1ms\n",
            "image 817/2204 /content/image/images/00001450.jpg: 640x448 1 face, 268.0ms\n",
            "image 818/2204 /content/image/images/00001452.jpg: 416x640 1 face, 240.8ms\n",
            "image 819/2204 /content/image/images/00001453.jpg: 480x640 1 face, 304.3ms\n",
            "image 820/2204 /content/image/images/00001455.jpg: 640x416 1 face, 237.3ms\n",
            "image 821/2204 /content/image/images/00001456.jpg: 640x448 1 face, 170.0ms\n",
            "image 822/2204 /content/image/images/00001457.jpg: 640x448 1 face, 174.1ms\n",
            "image 823/2204 /content/image/images/00001458.jpg: 448x640 1 face, 170.6ms\n",
            "image 824/2204 /content/image/images/00001459.jpg: 512x640 1 face, 198.0ms\n",
            "image 825/2204 /content/image/images/00001460.jpg: 448x640 1 face, 167.6ms\n",
            "image 826/2204 /content/image/images/00001461.jpg: 640x640 2 faces, 228.1ms\n",
            "image 827/2204 /content/image/images/00001463.jpg: 448x640 1 face, 161.0ms\n",
            "image 828/2204 /content/image/images/00001465.jpg: 448x640 1 face, 164.7ms\n",
            "image 829/2204 /content/image/images/00001468.jpg: 448x640 1 face, 172.2ms\n",
            "image 830/2204 /content/image/images/00001469.jpg: 640x448 1 face, 165.9ms\n",
            "image 831/2204 /content/image/images/00001470.jpg: 640x448 1 face, 164.3ms\n",
            "image 832/2204 /content/image/images/00001472.jpg: 640x448 1 face, 183.8ms\n",
            "image 833/2204 /content/image/images/00001473.jpg: 640x640 1 face, 231.4ms\n",
            "image 834/2204 /content/image/images/00001474.jpg: 448x640 6 faces, 177.3ms\n",
            "image 835/2204 /content/image/images/00001475.jpg: 448x640 1 face, 162.8ms\n",
            "image 836/2204 /content/image/images/00001476.jpg: 640x448 1 face, 169.9ms\n",
            "image 837/2204 /content/image/images/00001477.jpg: 640x448 1 face, 162.4ms\n",
            "image 838/2204 /content/image/images/00001479.jpg: 480x640 1 face, 327.1ms\n",
            "image 839/2204 /content/image/images/00001480.jpg: 448x640 1 face, 162.6ms\n",
            "image 840/2204 /content/image/images/00001481.jpg: 448x640 1 face, 159.3ms\n",
            "image 841/2204 /content/image/images/00001482.jpg: 448x640 2 faces, 178.4ms\n",
            "image 842/2204 /content/image/images/00001483.jpg: 416x640 1 face, 146.9ms\n",
            "image 843/2204 /content/image/images/00001484.jpg: 448x640 1 face, 160.7ms\n",
            "image 844/2204 /content/image/images/00001485.jpg: 640x480 1 face, 176.3ms\n",
            "image 845/2204 /content/image/images/00001487.jpg: 640x416 1 face, 152.6ms\n",
            "image 846/2204 /content/image/images/00001488.jpg: 448x640 2 faces, 161.5ms\n",
            "image 847/2204 /content/image/images/00001491.jpg: 448x640 1 face, 179.5ms\n",
            "image 848/2204 /content/image/images/00001492.jpg: 480x640 3 faces, 185.1ms\n",
            "image 849/2204 /content/image/images/00001493.jpg: 416x640 1 face, 235.0ms\n",
            "image 850/2204 /content/image/images/00001494.jpg: 480x640 1 face, 263.7ms\n",
            "image 851/2204 /content/image/images/00001497.jpg: 384x640 1 face, 251.1ms\n",
            "image 852/2204 /content/image/images/00001499.jpg: 448x640 1 face, 256.5ms\n",
            "image 853/2204 /content/image/images/00001501.jpg: 640x448 1 face, 253.0ms\n",
            "image 854/2204 /content/image/images/00001506.jpg: 640x416 1 face, 234.4ms\n",
            "image 855/2204 /content/image/images/00001507.jpg: 640x448 1 face, 258.2ms\n",
            "image 856/2204 /content/image/images/00001510.jpg: 480x640 1 face, 280.4ms\n",
            "image 857/2204 /content/image/images/00001514.jpg: 448x640 1 face, 266.3ms\n",
            "image 858/2204 /content/image/images/00001515.jpg: 448x640 1 face, 250.6ms\n",
            "image 859/2204 /content/image/images/00001517.jpg: 416x640 1 face, 202.9ms\n",
            "image 860/2204 /content/image/images/00001519.jpg: 448x640 1 face, 158.7ms\n",
            "image 861/2204 /content/image/images/00001520.jpg: 448x640 5 faces, 162.6ms\n",
            "image 862/2204 /content/image/images/00001522.jpg: 448x640 1 face, 160.6ms\n",
            "image 863/2204 /content/image/images/00001523.jpg: 448x640 1 face, 161.0ms\n",
            "image 864/2204 /content/image/images/00001525.jpg: 448x640 1 face, 162.3ms\n",
            "image 865/2204 /content/image/images/00001526.jpg: 640x416 1 face, 167.4ms\n",
            "image 866/2204 /content/image/images/00001527.jpg: 640x448 1 face, 167.2ms\n",
            "image 867/2204 /content/image/images/00001528.jpg: 480x640 1 face, 169.5ms\n",
            "image 868/2204 /content/image/images/00001529.jpg: 640x448 1 face, 161.4ms\n",
            "image 869/2204 /content/image/images/00001530.jpg: 640x480 1 face, 168.5ms\n",
            "image 870/2204 /content/image/images/00001531.jpg: 448x640 1 face, 181.1ms\n",
            "image 871/2204 /content/image/images/00001532.jpg: 640x448 1 face, 165.8ms\n",
            "image 872/2204 /content/image/images/00001533.jpg: 448x640 1 face, 161.3ms\n",
            "image 873/2204 /content/image/images/00001535.jpg: 640x416 1 face, 156.4ms\n",
            "image 874/2204 /content/image/images/00001536.jpg: 448x640 1 face, 159.8ms\n",
            "image 875/2204 /content/image/images/00001537.jpg: 640x448 1 face, 165.7ms\n",
            "image 876/2204 /content/image/images/00001539.jpg: 640x448 1 face, 179.5ms\n",
            "image 877/2204 /content/image/images/00001540.jpg: 448x640 1 face, 168.8ms\n",
            "image 878/2204 /content/image/images/00001541.jpg: 640x480 1 face, 173.3ms\n",
            "image 879/2204 /content/image/images/00001542.jpg: 576x640 1 face, 204.8ms\n",
            "image 880/2204 /content/image/images/00001543.jpg: 640x416 1 face, 153.3ms\n",
            "image 881/2204 /content/image/images/00001544.jpg: 448x640 1 face, 185.9ms\n",
            "image 882/2204 /content/image/images/00001545.jpg: 640x448 1 face, 169.1ms\n",
            "image 883/2204 /content/image/images/00001547.jpg: 480x640 1 face, 182.4ms\n",
            "image 884/2204 /content/image/images/00001548.jpg: 640x416 1 face, 149.6ms\n",
            "image 885/2204 /content/image/images/00001549.jpg: 640x480 1 face, 272.2ms\n",
            "image 886/2204 /content/image/images/00001550.jpg: 640x448 1 face, 168.0ms\n",
            "image 887/2204 /content/image/images/00001551.jpg: 448x640 1 face, 159.4ms\n",
            "image 888/2204 /content/image/images/00001552.jpg: 640x448 1 face, 161.2ms\n",
            "image 889/2204 /content/image/images/00001554.jpg: 448x640 1 face, 160.2ms\n",
            "image 890/2204 /content/image/images/00001555.jpg: 640x640 1 face, 240.0ms\n",
            "image 891/2204 /content/image/images/00001556.jpg: 384x640 1 face, 142.5ms\n",
            "image 892/2204 /content/image/images/00001557.jpg: 640x512 1 face, 177.3ms\n",
            "image 893/2204 /content/image/images/00001558.jpg: 448x640 1 face, 157.0ms\n",
            "image 894/2204 /content/image/images/00001560.jpg: 448x640 1 face, 159.2ms\n",
            "image 895/2204 /content/image/images/00001561.jpg: 480x640 1 face, 189.1ms\n",
            "image 896/2204 /content/image/images/00001562.jpg: 640x512 2 faces, 187.5ms\n",
            "image 897/2204 /content/image/images/00001563.jpg: 448x640 1 face, 162.1ms\n",
            "image 898/2204 /content/image/images/00001564.jpg: 640x416 1 face, 159.0ms\n",
            "image 899/2204 /content/image/images/00001566.jpg: 640x640 1 face, 233.1ms\n",
            "image 900/2204 /content/image/images/00001567.jpg: 640x448 1 face, 182.0ms\n",
            "image 901/2204 /content/image/images/00001568.jpg: 448x640 1 face, 161.1ms\n",
            "image 902/2204 /content/image/images/00001569.jpg: 640x448 1 face, 158.2ms\n",
            "image 903/2204 /content/image/images/00001570.jpg: 448x640 1 face, 153.5ms\n",
            "image 904/2204 /content/image/images/00001571.jpg: 640x448 1 face, 166.7ms\n",
            "image 905/2204 /content/image/images/00001576.jpg: 512x640 1 face, 207.8ms\n",
            "image 906/2204 /content/image/images/00001577.jpg: 448x640 1 face, 160.9ms\n",
            "image 907/2204 /content/image/images/00001578.jpg: 640x448 1 face, 157.5ms\n",
            "image 908/2204 /content/image/images/00001580.jpg: 640x416 1 face, 208.3ms\n",
            "image 909/2204 /content/image/images/00001581.jpg: 640x416 1 face, 248.9ms\n",
            "image 910/2204 /content/image/images/00001582.jpg: 640x640 2 faces, 344.6ms\n",
            "image 911/2204 /content/image/images/00001583.jpg: 448x640 1 face, 251.5ms\n",
            "image 912/2204 /content/image/images/00001584.jpg: 640x480 1 face, 269.4ms\n",
            "image 913/2204 /content/image/images/00001585.jpg: 640x448 1 face, 272.6ms\n",
            "image 914/2204 /content/image/images/00001586.jpg: 448x640 1 face, 239.7ms\n",
            "image 915/2204 /content/image/images/00001587.jpg: 640x448 1 face, 264.1ms\n",
            "image 916/2204 /content/image/images/00001588.jpg: 448x640 1 face, 266.4ms\n",
            "image 917/2204 /content/image/images/00001589.jpg: 640x448 1 face, 263.7ms\n",
            "image 918/2204 /content/image/images/00001590.jpg: 640x448 1 face, 197.5ms\n",
            "image 919/2204 /content/image/images/00001591.jpg: 480x640 1 face, 188.8ms\n",
            "image 920/2204 /content/image/images/00001592.jpg: 448x640 1 face, 164.5ms\n",
            "image 921/2204 /content/image/images/00001593.jpg: 640x448 1 face, 188.8ms\n",
            "image 922/2204 /content/image/images/00001594.jpg: 640x448 1 face, 176.7ms\n",
            "image 923/2204 /content/image/images/00001595.jpg: 576x640 1 face, 221.7ms\n",
            "image 924/2204 /content/image/images/00001597.jpg: 480x640 1 face, 187.5ms\n",
            "image 925/2204 /content/image/images/00001599.jpg: 640x416 1 face, 178.0ms\n",
            "image 926/2204 /content/image/images/00001600.jpg: 640x448 1 face, 190.9ms\n",
            "image 927/2204 /content/image/images/00001601.jpg: 448x640 1 face, 164.8ms\n",
            "image 928/2204 /content/image/images/00001602.jpg: 448x640 1 face, 171.1ms\n",
            "image 929/2204 /content/image/images/00001603.jpg: 480x640 1 face, 174.6ms\n",
            "image 930/2204 /content/image/images/00001605.jpg: 448x640 1 face, 164.4ms\n",
            "image 931/2204 /content/image/images/00001606.jpg: 640x448 1 face, 181.1ms\n",
            "image 932/2204 /content/image/images/00001607.jpg: 640x448 1 face, 164.2ms\n",
            "image 933/2204 /content/image/images/00001608.jpg: 480x640 1 face, 175.2ms\n",
            "image 934/2204 /content/image/images/00001609.jpg: 480x640 1 face, 170.2ms\n",
            "image 935/2204 /content/image/images/00001611.jpg: 448x640 1 face, 182.6ms\n",
            "image 936/2204 /content/image/images/00001613.jpg: 640x640 1 face, 228.7ms\n",
            "image 937/2204 /content/image/images/00001615.jpg: 448x640 1 face, 172.1ms\n",
            "image 938/2204 /content/image/images/00001617.jpg: 480x640 1 face, 187.0ms\n",
            "image 939/2204 /content/image/images/00001620.jpg: 448x640 1 face, 169.3ms\n",
            "image 940/2204 /content/image/images/00001621.jpg: 640x448 1 face, 186.1ms\n",
            "image 941/2204 /content/image/images/00001622.jpg: 640x448 1 face, 172.1ms\n",
            "image 942/2204 /content/image/images/00001623.jpg: 640x448 1 face, 172.3ms\n",
            "image 943/2204 /content/image/images/00001624.jpg: 640x608 1 face, 214.4ms\n",
            "image 944/2204 /content/image/images/00001627.jpg: 640x416 1 face, 156.6ms\n",
            "image 945/2204 /content/image/images/00001628.jpg: 448x640 1 face, 184.1ms\n",
            "image 946/2204 /content/image/images/00001629.jpg: 480x640 1 face, 229.2ms\n",
            "image 947/2204 /content/image/images/00001630.jpg: 480x640 1 face, 186.1ms\n",
            "image 948/2204 /content/image/images/00001631.jpg: 640x480 1 face, 203.5ms\n",
            "image 949/2204 /content/image/images/00001632.jpg: 480x640 1 face, 183.8ms\n",
            "image 950/2204 /content/image/images/00001633.jpg: 640x416 1 face, 172.3ms\n",
            "image 951/2204 /content/image/images/00001634.jpg: 448x640 1 face, 172.4ms\n",
            "image 952/2204 /content/image/images/00001635.jpg: 640x448 1 face, 166.4ms\n",
            "image 953/2204 /content/image/images/00001636.jpg: 640x448 1 face, 184.6ms\n",
            "image 954/2204 /content/image/images/00001637.jpg: 640x448 1 face, 166.4ms\n",
            "image 955/2204 /content/image/images/00001639.jpg: 640x448 1 face, 194.3ms\n",
            "image 956/2204 /content/image/images/00001641.jpg: 448x640 1 face, 167.2ms\n",
            "image 957/2204 /content/image/images/00001642.jpg: 448x640 1 face, 160.6ms\n",
            "image 958/2204 /content/image/images/00001643.jpg: 480x640 3 faces, 197.0ms\n",
            "image 959/2204 /content/image/images/00001644.jpg: 640x480 1 face, 186.3ms\n",
            "image 960/2204 /content/image/images/00001646.jpg: 640x448 1 face, 174.5ms\n",
            "image 961/2204 /content/image/images/00001647.jpg: 448x640 1 face, 168.7ms\n",
            "image 962/2204 /content/image/images/00001648.jpg: 480x640 1 face, 172.4ms\n",
            "image 963/2204 /content/image/images/00001650.jpg: 640x448 1 face, 189.2ms\n",
            "image 964/2204 /content/image/images/00001651.jpg: 640x416 1 face, 152.7ms\n",
            "image 965/2204 /content/image/images/00001652.jpg: 640x512 1 face, 189.8ms\n",
            "image 966/2204 /content/image/images/00001653.jpg: 448x640 1 face, 272.8ms\n",
            "image 967/2204 /content/image/images/00001655.jpg: 448x640 1 face, 255.1ms\n",
            "image 968/2204 /content/image/images/00001656.jpg: 448x640 1 face, 244.0ms\n",
            "image 969/2204 /content/image/images/00001657.jpg: 480x640 1 face, 264.7ms\n",
            "image 970/2204 /content/image/images/00001658.jpg: 480x640 1 face, 317.8ms\n",
            "image 971/2204 /content/image/images/00001659.jpg: 384x640 2 faces, 228.4ms\n",
            "image 972/2204 /content/image/images/00001660.jpg: 640x448 1 face, 254.0ms\n",
            "image 973/2204 /content/image/images/00001661.jpg: 416x640 1 face, 245.0ms\n",
            "image 974/2204 /content/image/images/00001663.jpg: 640x448 1 face, 265.6ms\n",
            "image 975/2204 /content/image/images/00001665.jpg: 448x640 1 face, 253.2ms\n",
            "image 976/2204 /content/image/images/00001668.jpg: 448x640 1 face, 227.7ms\n",
            "image 977/2204 /content/image/images/00001669.jpg: 640x448 1 face, 167.0ms\n",
            "image 978/2204 /content/image/images/00001670.jpg: 480x640 1 face, 184.9ms\n",
            "image 979/2204 /content/image/images/00001672.jpg: 448x640 1 face, 162.2ms\n",
            "image 980/2204 /content/image/images/00001673.jpg: 640x448 1 face, 162.5ms\n",
            "image 981/2204 /content/image/images/00001674.jpg: 480x640 1 face, 173.0ms\n",
            "image 982/2204 /content/image/images/00001675.jpg: 480x640 1 face, 199.1ms\n",
            "image 983/2204 /content/image/images/00001676.jpg: 640x320 1 face, 153.5ms\n",
            "image 984/2204 /content/image/images/00001678.jpg: 480x640 1 face, 184.2ms\n",
            "image 985/2204 /content/image/images/00001679.jpg: 640x448 1 face, 161.5ms\n",
            "image 986/2204 /content/image/images/00001680.jpg: 448x640 1 face, 167.3ms\n",
            "image 987/2204 /content/image/images/00001681.jpg: 448x640 1 face, 159.9ms\n",
            "image 988/2204 /content/image/images/00001682.jpg: 640x448 1 face, 168.4ms\n",
            "image 989/2204 /content/image/images/00001684.jpg: 640x416 1 face, 170.8ms\n",
            "image 990/2204 /content/image/images/00001685.jpg: 640x544 1 face, 197.3ms\n",
            "image 991/2204 /content/image/images/00001686.jpg: 384x640 1 face, 144.6ms\n",
            "image 992/2204 /content/image/images/00001687.jpg: 480x640 1 face, 185.1ms\n",
            "image 993/2204 /content/image/images/00001688.jpg: 640x448 1 face, 165.7ms\n",
            "image 994/2204 /content/image/images/00001689.jpg: 448x640 2 faces, 180.9ms\n",
            "image 995/2204 /content/image/images/00001690.jpg: 448x640 1 face, 190.0ms\n",
            "image 996/2204 /content/image/images/00001691.jpg: 384x640 3 faces, 148.1ms\n",
            "image 997/2204 /content/image/images/00001692.jpg: 480x640 1 face, 169.8ms\n",
            "image 998/2204 /content/image/images/00001693.jpg: 448x640 1 face, 175.5ms\n",
            "image 999/2204 /content/image/images/00001694.jpg: 640x480 1 face, 195.9ms\n",
            "image 1000/2204 /content/image/images/00001695.jpg: 512x640 1 face, 190.4ms\n",
            "image 1001/2204 /content/image/images/00001696.jpg: 480x640 1 face, 176.4ms\n",
            "image 1002/2204 /content/image/images/00001697.jpg: 608x640 1 face, 239.9ms\n",
            "image 1003/2204 /content/image/images/00001698.jpg: 448x640 1 face, 163.5ms\n",
            "image 1004/2204 /content/image/images/00001699.jpg: 640x512 1 face, 235.2ms\n",
            "image 1005/2204 /content/image/images/00001701.jpg: 640x448 1 face, 171.2ms\n",
            "image 1006/2204 /content/image/images/00001702.jpg: 640x416 1 face, 164.6ms\n",
            "image 1007/2204 /content/image/images/00001703.jpg: 480x640 1 face, 181.8ms\n",
            "image 1008/2204 /content/image/images/00001704.jpg: 640x448 1 face, 186.3ms\n",
            "image 1009/2204 /content/image/images/00001705.jpg: 384x640 2 faces, 167.8ms\n",
            "image 1010/2204 /content/image/images/00001706.jpg: 448x640 1 face, 166.0ms\n",
            "image 1011/2204 /content/image/images/00001707.jpg: 448x640 1 face, 159.4ms\n",
            "image 1012/2204 /content/image/images/00001708.jpg: 480x640 1 face, 180.9ms\n",
            "image 1013/2204 /content/image/images/00001709.jpg: 640x448 1 face, 162.4ms\n",
            "image 1014/2204 /content/image/images/00001710.jpg: 448x640 1 face, 163.2ms\n",
            "image 1015/2204 /content/image/images/00001713.jpg: 640x416 1 face, 157.9ms\n",
            "image 1016/2204 /content/image/images/00001717.jpg: 416x640 1 face, 155.0ms\n",
            "image 1017/2204 /content/image/images/00001718.jpg: 640x448 1 face, 181.3ms\n",
            "image 1018/2204 /content/image/images/00001719.jpg: 640x480 1 face, 182.9ms\n",
            "image 1019/2204 /content/image/images/00001720.jpg: 640x448 1 face, 165.4ms\n",
            "image 1020/2204 /content/image/images/00001721.jpg: 480x640 1 face, 181.4ms\n",
            "image 1021/2204 /content/image/images/00001722.jpg: 640x448 1 face, 160.8ms\n",
            "image 1022/2204 /content/image/images/00001723.jpg: 448x640 1 face, 175.4ms\n",
            "image 1023/2204 /content/image/images/00001724.jpg: 640x448 1 face, 160.8ms\n",
            "image 1024/2204 /content/image/images/00001726.jpg: 448x640 1 face, 192.7ms\n",
            "image 1025/2204 /content/image/images/00001727.jpg: 416x640 1 face, 243.9ms\n",
            "image 1026/2204 /content/image/images/00001730.jpg: 448x640 1 face, 253.3ms\n",
            "image 1027/2204 /content/image/images/00001731.jpg: 640x512 2 faces, 294.9ms\n",
            "image 1028/2204 /content/image/images/00001732.jpg: 640x448 1 face, 261.0ms\n",
            "image 1029/2204 /content/image/images/00001733.jpg: 448x640 1 face, 249.4ms\n",
            "image 1030/2204 /content/image/images/00001734.jpg: 448x640 1 face, 240.9ms\n",
            "image 1031/2204 /content/image/images/00001735.jpg: 480x640 2 faces, 272.6ms\n",
            "image 1032/2204 /content/image/images/00001736.jpg: 448x640 1 face, 248.0ms\n",
            "image 1033/2204 /content/image/images/00001737.jpg: 512x640 1 face, 296.8ms\n",
            "image 1034/2204 /content/image/images/00001738.jpg: 640x448 1 face, 262.3ms\n",
            "image 1035/2204 /content/image/images/00001739.jpg: 448x640 1 face, 176.3ms\n",
            "image 1036/2204 /content/image/images/00001740.jpg: 448x640 1 face, 165.8ms\n",
            "image 1037/2204 /content/image/images/00001741.jpg: 640x416 1 face, 155.2ms\n",
            "image 1038/2204 /content/image/images/00001742.jpg: 480x640 1 face, 164.7ms\n",
            "image 1039/2204 /content/image/images/00001743.jpg: 640x448 1 face, 159.9ms\n",
            "image 1040/2204 /content/image/images/00001744.jpg: 448x640 1 face, 174.1ms\n",
            "image 1041/2204 /content/image/images/00001745.jpg: 448x640 1 face, 158.9ms\n",
            "image 1042/2204 /content/image/images/00001746.jpg: 448x640 1 face, 187.6ms\n",
            "image 1043/2204 /content/image/images/00001747.jpg: 480x640 1 face, 168.8ms\n",
            "image 1044/2204 /content/image/images/00001751.jpg: 640x576 1 face, 241.1ms\n",
            "image 1045/2204 /content/image/images/00001752.jpg: 640x544 1 face, 211.5ms\n",
            "image 1046/2204 /content/image/images/00001753.jpg: 640x480 1 face, 176.3ms\n",
            "image 1047/2204 /content/image/images/00001754.jpg: 640x480 1 face, 175.4ms\n",
            "image 1048/2204 /content/image/images/00001755.jpg: 480x640 1 face, 175.1ms\n",
            "image 1049/2204 /content/image/images/00001756.jpg: 448x640 1 face, 197.0ms\n",
            "image 1050/2204 /content/image/images/00001757.jpg: 640x640 1 face, 249.0ms\n",
            "image 1051/2204 /content/image/images/00001758.jpg: 640x480 1 face, 171.0ms\n",
            "image 1052/2204 /content/image/images/00001760.jpg: 448x640 1 face, 157.6ms\n",
            "image 1053/2204 /content/image/images/00001761.jpg: 480x640 1 face, 170.2ms\n",
            "image 1054/2204 /content/image/images/00001762.jpg: 640x352 1 face, 149.3ms\n",
            "image 1055/2204 /content/image/images/00001763.jpg: 640x448 1 face, 208.1ms\n",
            "image 1056/2204 /content/image/images/00001764.jpg: 576x640 1 face, 229.7ms\n",
            "image 1057/2204 /content/image/images/00001766.jpg: 480x640 2 faces, 174.8ms\n",
            "image 1058/2204 /content/image/images/00001767.jpg: 448x640 1 face, 163.9ms\n",
            "image 1059/2204 /content/image/images/00001768.jpg: 448x640 1 face, 159.4ms\n",
            "image 1060/2204 /content/image/images/00001769.jpg: 640x416 1 face, 169.6ms\n",
            "image 1061/2204 /content/image/images/00001770.jpg: 448x640 1 face, 176.4ms\n",
            "image 1062/2204 /content/image/images/00001771.jpg: 448x640 1 face, 159.0ms\n",
            "image 1063/2204 /content/image/images/00001772.jpg: 640x448 1 face, 161.1ms\n",
            "image 1064/2204 /content/image/images/00001773.jpg: 640x448 1 face, 190.7ms\n",
            "image 1065/2204 /content/image/images/00001775.jpg: 448x640 1 face, 158.1ms\n",
            "image 1066/2204 /content/image/images/00001776.jpg: 576x640 1 face, 223.5ms\n",
            "image 1067/2204 /content/image/images/00001778.jpg: 640x448 1 face, 166.8ms\n",
            "image 1068/2204 /content/image/images/00001779.jpg: 640x448 1 face, 160.9ms\n",
            "image 1069/2204 /content/image/images/00001781.jpg: 640x448 1 face, 172.6ms\n",
            "image 1070/2204 /content/image/images/00001782.jpg: 448x640 1 face, 172.3ms\n",
            "image 1071/2204 /content/image/images/00001783.jpg: 640x512 1 face, 209.9ms\n",
            "image 1072/2204 /content/image/images/00001785.jpg: 480x640 1 face, 195.0ms\n",
            "image 1073/2204 /content/image/images/00001786.jpg: 480x640 1 face, 167.4ms\n",
            "image 1074/2204 /content/image/images/00001787.jpg: 448x640 1 face, 157.1ms\n",
            "image 1075/2204 /content/image/images/00001788.jpg: 448x640 1 face, 161.4ms\n",
            "image 1076/2204 /content/image/images/00001789.jpg: 448x640 1 face, 179.2ms\n",
            "image 1077/2204 /content/image/images/00001790.jpg: 448x640 1 face, 165.6ms\n",
            "image 1078/2204 /content/image/images/00001791.jpg: 448x640 1 face, 157.6ms\n",
            "image 1079/2204 /content/image/images/00001792.jpg: 640x448 1 face, 172.5ms\n",
            "image 1080/2204 /content/image/images/00001794.jpg: 640x416 1 face, 180.4ms\n",
            "image 1081/2204 /content/image/images/00001795.jpg: 448x640 1 face, 161.3ms\n",
            "image 1082/2204 /content/image/images/00001796.jpg: 448x640 1 face, 176.4ms\n",
            "image 1083/2204 /content/image/images/00001797.jpg: 640x480 1 face, 181.0ms\n",
            "image 1084/2204 /content/image/images/00001798.jpg: 640x448 1 face, 173.1ms\n",
            "image 1085/2204 /content/image/images/00001799.jpg: 640x416 1 face, 187.1ms\n",
            "image 1086/2204 /content/image/images/00001801.jpg: 448x640 3 faces, 293.3ms\n",
            "image 1087/2204 /content/image/images/00001802.jpg: 640x448 1 face, 260.5ms\n",
            "image 1088/2204 /content/image/images/00001803.jpg: 448x640 1 face, 252.2ms\n",
            "image 1089/2204 /content/image/images/00001805.jpg: 480x640 1 face, 275.7ms\n",
            "image 1090/2204 /content/image/images/00001806.jpg: 448x640 1 face, 262.5ms\n",
            "image 1091/2204 /content/image/images/00001807.jpg: 448x640 1 face, 253.0ms\n",
            "image 1092/2204 /content/image/images/00001808.jpg: 448x640 1 face, 269.8ms\n",
            "image 1093/2204 /content/image/images/00001809.jpg: 448x640 1 face, 266.2ms\n",
            "image 1094/2204 /content/image/images/00001810.jpg: 640x448 1 face, 293.5ms\n",
            "image 1095/2204 /content/image/images/00001811.jpg: 640x448 1 face, 260.6ms\n",
            "image 1096/2204 /content/image/images/00001813.jpg: 640x448 1 face, 242.5ms\n",
            "image 1097/2204 /content/image/images/00001814.jpg: 448x640 4 faces, 164.6ms\n",
            "image 1098/2204 /content/image/images/00001815.jpg: 640x416 1 face, 194.6ms\n",
            "image 1099/2204 /content/image/images/00001817.jpg: 448x640 1 face, 164.4ms\n",
            "image 1100/2204 /content/image/images/00001819.jpg: 448x640 1 face, 163.6ms\n",
            "image 1101/2204 /content/image/images/00001820.jpg: 480x640 1 face, 176.9ms\n",
            "image 1102/2204 /content/image/images/00001821.jpg: 448x640 1 face, 164.5ms\n",
            "image 1103/2204 /content/image/images/00001822.jpg: 640x480 1 face, 176.5ms\n",
            "image 1104/2204 /content/image/images/00001823.jpg: 640x448 1 face, 182.4ms\n",
            "image 1105/2204 /content/image/images/00001824.jpg: 544x640 1 face, 196.3ms\n",
            "image 1106/2204 /content/image/images/00001825.jpg: 448x640 1 face, 157.9ms\n",
            "image 1107/2204 /content/image/images/00001826.jpg: 480x640 1 face, 214.9ms\n",
            "image 1108/2204 /content/image/images/00001827.jpg: 480x640 1 face, 164.2ms\n",
            "image 1109/2204 /content/image/images/00001829.jpg: 448x640 1 face, 175.0ms\n",
            "image 1110/2204 /content/image/images/00001830.jpg: 448x640 1 face, 157.3ms\n",
            "image 1111/2204 /content/image/images/00001832.jpg: 448x640 1 face, 157.5ms\n",
            "image 1112/2204 /content/image/images/00001833.jpg: 480x640 1 face, 184.8ms\n",
            "image 1113/2204 /content/image/images/00001834.jpg: 640x448 1 face, 179.4ms\n",
            "image 1114/2204 /content/image/images/00001835.jpg: 448x640 1 face, 182.1ms\n",
            "image 1115/2204 /content/image/images/00001836.jpg: 480x640 1 face, 175.4ms\n",
            "image 1116/2204 /content/image/images/00001837.jpg: 640x416 1 face, 162.4ms\n",
            "image 1117/2204 /content/image/images/00001838.jpg: 448x640 1 face, 159.3ms\n",
            "image 1118/2204 /content/image/images/00001839.jpg: 640x448 1 face, 159.5ms\n",
            "image 1119/2204 /content/image/images/00001840.jpg: 384x640 1 face, 141.8ms\n",
            "image 1120/2204 /content/image/images/00001841.jpg: 448x640 1 face, 177.1ms\n",
            "image 1121/2204 /content/image/images/00001842.jpg: 640x448 1 face, 164.8ms\n",
            "image 1122/2204 /content/image/images/00001843.jpg: 640x448 1 face, 180.2ms\n",
            "image 1123/2204 /content/image/images/00001844.jpg: 480x640 2 faces, 173.1ms\n",
            "image 1124/2204 /content/image/images/00001845.jpg: 480x640 1 face, 185.0ms\n",
            "image 1125/2204 /content/image/images/00001846.jpg: 480x640 1 face, 198.5ms\n",
            "image 1126/2204 /content/image/images/00001847.jpg: 640x448 1 face, 163.4ms\n",
            "image 1127/2204 /content/image/images/00001848.jpg: 480x640 1 face, 181.7ms\n",
            "image 1128/2204 /content/image/images/00001850.jpg: 640x448 1 face, 171.9ms\n",
            "image 1129/2204 /content/image/images/00001851.jpg: 448x640 1 face, 165.4ms\n",
            "image 1130/2204 /content/image/images/00001852.jpg: 384x640 2 faces, 144.4ms\n",
            "image 1131/2204 /content/image/images/00001853.jpg: 640x512 1 face, 199.6ms\n",
            "image 1132/2204 /content/image/images/00001854.jpg: 384x640 1 face, 139.4ms\n",
            "image 1133/2204 /content/image/images/00001855.jpg: 640x448 1 face, 168.9ms\n",
            "image 1134/2204 /content/image/images/00001856.jpg: 512x640 1 face, 193.9ms\n",
            "image 1135/2204 /content/image/images/00001858.jpg: 480x640 1 face, 182.1ms\n",
            "image 1136/2204 /content/image/images/00001859.jpg: 640x448 1 face, 180.4ms\n",
            "image 1137/2204 /content/image/images/00001860.jpg: 480x640 1 face, 172.0ms\n",
            "image 1138/2204 /content/image/images/00001861.jpg: 480x640 1 face, 192.1ms\n",
            "image 1139/2204 /content/image/images/00001862.jpg: 640x480 1 face, 172.9ms\n",
            "image 1140/2204 /content/image/images/00001864.jpg: 448x640 1 face, 160.7ms\n",
            "image 1141/2204 /content/image/images/00001865.jpg: 448x640 1 face, 175.7ms\n",
            "image 1142/2204 /content/image/images/00001866.jpg: 640x448 1 face, 167.6ms\n",
            "image 1143/2204 /content/image/images/00001868.jpg: 448x640 1 face, 172.5ms\n",
            "image 1144/2204 /content/image/images/00001869.jpg: 448x640 1 face, 167.6ms\n",
            "image 1145/2204 /content/image/images/00001870.jpg: 640x448 1 face, 166.4ms\n",
            "image 1146/2204 /content/image/images/00001871.jpg: 480x640 1 face, 173.6ms\n",
            "image 1147/2204 /content/image/images/00001872.jpg: 448x640 1 face, 183.7ms\n",
            "image 1148/2204 /content/image/images/00001873.jpg: 480x640 1 face, 242.4ms\n",
            "image 1149/2204 /content/image/images/00001874.jpg: 640x448 1 face, 256.7ms\n",
            "image 1150/2204 /content/image/images/00001876.jpg: 448x640 1 face, 241.8ms\n",
            "image 1151/2204 /content/image/images/00001877.jpg: 480x640 1 face, 305.2ms\n",
            "image 1152/2204 /content/image/images/00001878.jpg: 384x640 1 face, 227.3ms\n",
            "image 1153/2204 /content/image/images/00001879.jpg: 448x640 1 face, 249.8ms\n",
            "image 1154/2204 /content/image/images/00001881.jpg: 416x640 1 face, 225.3ms\n",
            "image 1155/2204 /content/image/images/00001882.jpg: 544x640 2 faces, 329.0ms\n",
            "image 1156/2204 /content/image/images/00001883.jpg: 480x640 1 face, 271.0ms\n",
            "image 1157/2204 /content/image/images/00001884.jpg: 640x480 1 face, 277.0ms\n",
            "image 1158/2204 /content/image/images/00001885.jpg: 448x640 1 face, 259.2ms\n",
            "image 1159/2204 /content/image/images/00001886.jpg: 640x640 1 face, 230.3ms\n",
            "image 1160/2204 /content/image/images/00001888.jpg: 448x640 1 face, 156.4ms\n",
            "image 1161/2204 /content/image/images/00001889.jpg: 448x640 1 face, 168.8ms\n",
            "image 1162/2204 /content/image/images/00001890.jpg: 480x640 1 face, 175.0ms\n",
            "image 1163/2204 /content/image/images/00001892.jpg: 640x448 1 face, 179.1ms\n",
            "image 1164/2204 /content/image/images/00001893.jpg: 640x416 1 face, 154.5ms\n",
            "image 1165/2204 /content/image/images/00001894.jpg: 480x640 1 face, 169.4ms\n",
            "image 1166/2204 /content/image/images/00001897.jpg: 480x640 1 face, 167.3ms\n",
            "image 1167/2204 /content/image/images/00001899.jpg: 480x640 1 face, 170.4ms\n",
            "image 1168/2204 /content/image/images/00001900.jpg: 448x640 1 face, 191.4ms\n",
            "image 1169/2204 /content/image/images/00001901.jpg: 640x448 1 face, 189.4ms\n",
            "image 1170/2204 /content/image/images/00001902.jpg: 416x640 1 face, 153.6ms\n",
            "image 1171/2204 /content/image/images/00001904.jpg: 640x416 1 face, 158.8ms\n",
            "image 1172/2204 /content/image/images/00001905.jpg: 448x640 1 face, 165.0ms\n",
            "image 1173/2204 /content/image/images/00001906.jpg: 640x448 1 face, 165.5ms\n",
            "image 1174/2204 /content/image/images/00001907.jpg: 448x640 1 face, 177.5ms\n",
            "image 1175/2204 /content/image/images/00001908.jpg: 640x448 1 face, 163.1ms\n",
            "image 1176/2204 /content/image/images/00001910.jpg: 640x448 1 face, 169.1ms\n",
            "image 1177/2204 /content/image/images/00001911.jpg: 384x640 3 faces, 147.8ms\n",
            "image 1178/2204 /content/image/images/00001912.jpg: 480x640 1 face, 170.5ms\n",
            "image 1179/2204 /content/image/images/00001913.jpg: 640x448 1 face, 206.9ms\n",
            "image 1180/2204 /content/image/images/00001914.jpg: 480x640 1 face, 170.0ms\n",
            "image 1181/2204 /content/image/images/00001916.jpg: 416x640 1 face, 150.6ms\n",
            "image 1182/2204 /content/image/images/00001917.jpg: 448x640 1 face, 158.3ms\n",
            "image 1183/2204 /content/image/images/00001918.jpg: 448x640 1 face, 165.2ms\n",
            "image 1184/2204 /content/image/images/00001920.jpg: 640x448 1 face, 167.4ms\n",
            "image 1185/2204 /content/image/images/00001921.jpg: 480x640 1 face, 217.0ms\n",
            "image 1186/2204 /content/image/images/00001922.jpg: 448x640 1 face, 159.5ms\n",
            "image 1187/2204 /content/image/images/00001923.jpg: 448x640 1 face, 159.7ms\n",
            "image 1188/2204 /content/image/images/00001924.jpg: 480x640 1 face, 195.8ms\n",
            "image 1189/2204 /content/image/images/00001925.jpg: 640x448 1 face, 162.8ms\n",
            "image 1190/2204 /content/image/images/00001926.jpg: 480x640 1 face, 201.7ms\n",
            "image 1191/2204 /content/image/images/00001929.jpg: 640x448 1 face, 167.4ms\n",
            "image 1192/2204 /content/image/images/00001930.jpg: 640x448 1 face, 162.6ms\n",
            "image 1193/2204 /content/image/images/00001931.jpg: 640x448 1 face, 178.8ms\n",
            "image 1194/2204 /content/image/images/00001933.jpg: 480x640 1 face, 213.8ms\n",
            "image 1195/2204 /content/image/images/00001934.jpg: 480x640 1 face, 210.0ms\n",
            "image 1196/2204 /content/image/images/00001935.jpg: 480x640 1 face, 179.9ms\n",
            "image 1197/2204 /content/image/images/00001937.jpg: 448x640 1 face, 176.2ms\n",
            "image 1198/2204 /content/image/images/00001938.jpg: 480x640 1 face, 212.8ms\n",
            "image 1199/2204 /content/image/images/00001939.jpg: 448x640 1 face, 173.5ms\n",
            "image 1200/2204 /content/image/images/00001940.jpg: 448x640 1 face, 179.3ms\n",
            "image 1201/2204 /content/image/images/00001941.jpg: 640x448 1 face, 165.9ms\n",
            "image 1202/2204 /content/image/images/00001942.jpg: 448x640 1 face, 169.4ms\n",
            "image 1203/2204 /content/image/images/00001943.jpg: 416x640 5 faces, 152.1ms\n",
            "image 1204/2204 /content/image/images/00001944.jpg: 448x640 1 face, 169.5ms\n",
            "image 1205/2204 /content/image/images/00001948.jpg: 640x448 1 face, 201.9ms\n",
            "image 1206/2204 /content/image/images/00001951.jpg: 448x640 1 face, 164.5ms\n",
            "image 1207/2204 /content/image/images/00001954.jpg: 448x640 1 face, 163.6ms\n",
            "image 1208/2204 /content/image/images/00001955.jpg: 640x544 2 faces, 207.7ms\n",
            "image 1209/2204 /content/image/images/00001956.jpg: 480x640 1 face, 264.9ms\n",
            "image 1210/2204 /content/image/images/00001957.jpg: 480x640 1 face, 278.5ms\n",
            "image 1211/2204 /content/image/images/00001958.jpg: 544x640 1 face, 313.4ms\n",
            "image 1212/2204 /content/image/images/00001959.jpg: 640x416 1 face, 248.0ms\n",
            "image 1213/2204 /content/image/images/00001960.jpg: 448x640 1 face, 257.1ms\n",
            "image 1214/2204 /content/image/images/00001961.jpg: 448x640 1 face, 240.7ms\n",
            "image 1215/2204 /content/image/images/00001962.jpg: 448x640 1 face, 253.6ms\n",
            "image 1216/2204 /content/image/images/00001964.jpg: 448x640 2 faces, 261.0ms\n",
            "image 1217/2204 /content/image/images/00001965.jpg: 448x640 1 face, 266.5ms\n",
            "image 1218/2204 /content/image/images/00001966.jpg: 480x640 1 face, 279.9ms\n",
            "image 1219/2204 /content/image/images/00001967.jpg: 448x640 1 face, 254.3ms\n",
            "image 1220/2204 /content/image/images/00001968.jpg: 448x640 1 face, 177.7ms\n",
            "image 1221/2204 /content/image/images/00001969.jpg: 640x448 1 face, 240.4ms\n",
            "image 1222/2204 /content/image/images/00001971.jpg: 480x640 1 face, 178.0ms\n",
            "image 1223/2204 /content/image/images/00001972.jpg: 480x640 1 face, 223.0ms\n",
            "image 1224/2204 /content/image/images/00001973.jpg: 640x448 1 face, 164.8ms\n",
            "image 1225/2204 /content/image/images/00001974.jpg: 448x640 1 face, 163.1ms\n",
            "image 1226/2204 /content/image/images/00001975.jpg: 448x640 1 face, 167.9ms\n",
            "image 1227/2204 /content/image/images/00001976.jpg: 512x640 1 face, 201.0ms\n",
            "image 1228/2204 /content/image/images/00001977.jpg: 448x640 1 face, 170.0ms\n",
            "image 1229/2204 /content/image/images/00001978.jpg: 640x544 1 face, 221.6ms\n",
            "image 1230/2204 /content/image/images/00001979.jpg: 448x640 1 face, 167.3ms\n",
            "image 1231/2204 /content/image/images/00001980.jpg: 512x640 1 face, 209.7ms\n",
            "image 1232/2204 /content/image/images/00001981.jpg: 640x416 1 face, 157.0ms\n",
            "image 1233/2204 /content/image/images/00001982.jpg: 448x640 1 face, 171.8ms\n",
            "image 1234/2204 /content/image/images/00001983.jpg: 448x640 1 face, 162.5ms\n",
            "image 1235/2204 /content/image/images/00001984.jpg: 448x640 1 face, 173.0ms\n",
            "image 1236/2204 /content/image/images/00001985.jpg: 384x640 1 face, 150.0ms\n",
            "image 1237/2204 /content/image/images/00001986.jpg: 480x640 1 face, 199.9ms\n",
            "image 1238/2204 /content/image/images/00001987.jpg: 544x640 1 face, 222.0ms\n",
            "image 1239/2204 /content/image/images/00001989.jpg: 480x640 1 face, 179.6ms\n",
            "image 1240/2204 /content/image/images/00001990.jpg: 640x448 1 face, 163.9ms\n",
            "image 1241/2204 /content/image/images/00001991.jpg: 640x448 1 face, 167.7ms\n",
            "image 1242/2204 /content/image/images/00001993.jpg: 544x640 1 face, 226.8ms\n",
            "image 1243/2204 /content/image/images/00001994.jpg: 640x416 1 face, 164.5ms\n",
            "image 1244/2204 /content/image/images/00001996.jpg: 480x640 1 face, 173.1ms\n",
            "image 1245/2204 /content/image/images/00001997.jpg: 512x640 1 face, 203.7ms\n",
            "image 1246/2204 /content/image/images/00001999.jpg: 384x640 1 face, 149.7ms\n",
            "image 1247/2204 /content/image/images/00002000.jpg: 384x640 2 faces, 164.5ms\n",
            "image 1248/2204 /content/image/images/00002001.jpg: 480x640 1 face, 175.1ms\n",
            "image 1249/2204 /content/image/images/00002002.jpg: 480x640 1 face, 183.4ms\n",
            "image 1250/2204 /content/image/images/00002003.jpg: 448x640 1 face, 162.8ms\n",
            "image 1251/2204 /content/image/images/00002004.jpg: 448x640 1 face, 163.4ms\n",
            "image 1252/2204 /content/image/images/00002005.jpg: 640x640 1 face, 248.9ms\n",
            "image 1253/2204 /content/image/images/00002006.jpg: 448x640 1 face, 159.1ms\n",
            "image 1254/2204 /content/image/images/00002007.jpg: 448x640 1 face, 168.8ms\n",
            "image 1255/2204 /content/image/images/00002008.jpg: 448x640 1 face, 160.5ms\n",
            "image 1256/2204 /content/image/images/00002009.jpg: 640x640 (no detections), 271.5ms\n",
            "image 1257/2204 /content/image/images/00002010.jpg: 448x640 1 face, 177.8ms\n",
            "image 1258/2204 /content/image/images/00002011.jpg: 448x640 1 face, 177.0ms\n",
            "image 1259/2204 /content/image/images/00002012.jpg: 480x640 1 face, 175.6ms\n",
            "image 1260/2204 /content/image/images/00002013.jpg: 640x448 1 face, 167.9ms\n",
            "image 1261/2204 /content/image/images/00002015.jpg: 640x448 1 face, 173.7ms\n",
            "image 1262/2204 /content/image/images/00002016.jpg: 640x416 1 face, 170.9ms\n",
            "image 1263/2204 /content/image/images/00002018.jpg: 640x640 1 face, 260.1ms\n",
            "image 1264/2204 /content/image/images/00002019.jpg: 448x640 2 faces, 162.4ms\n",
            "image 1265/2204 /content/image/images/00002020.jpg: 448x640 3 faces, 166.1ms\n",
            "image 1266/2204 /content/image/images/00002021.jpg: 384x640 1 face, 153.6ms\n",
            "image 1267/2204 /content/image/images/00002022.jpg: 384x640 1 face, 207.7ms\n",
            "image 1268/2204 /content/image/images/00002023.jpg: 640x512 1 face, 315.7ms\n",
            "image 1269/2204 /content/image/images/00002024.jpg: 480x640 1 face, 286.8ms\n",
            "image 1270/2204 /content/image/images/00002026.jpg: 640x448 1 face, 266.2ms\n",
            "image 1271/2204 /content/image/images/00002028.jpg: 448x640 1 face, 250.0ms\n",
            "image 1272/2204 /content/image/images/00002029.jpg: 640x448 1 face, 257.8ms\n",
            "image 1273/2204 /content/image/images/00002030.jpg: 640x640 2 faces, 372.4ms\n",
            "image 1274/2204 /content/image/images/00002031.jpg: 448x640 1 face, 278.8ms\n",
            "image 1275/2204 /content/image/images/00002032.jpg: 640x448 1 face, 259.1ms\n",
            "image 1276/2204 /content/image/images/00002033.jpg: 640x416 1 face, 245.6ms\n",
            "image 1277/2204 /content/image/images/00002034.jpg: 448x640 3 faces, 273.3ms\n",
            "image 1278/2204 /content/image/images/00002035.jpg: 480x640 1 face, 175.1ms\n",
            "image 1279/2204 /content/image/images/00002037.jpg: 448x640 1 face, 171.2ms\n",
            "image 1280/2204 /content/image/images/00002038.jpg: 512x640 2 faces, 187.3ms\n",
            "image 1281/2204 /content/image/images/00002040.jpg: 640x416 1 face, 158.0ms\n",
            "image 1282/2204 /content/image/images/00002042.jpg: 448x640 1 face, 163.4ms\n",
            "image 1283/2204 /content/image/images/00002043.jpg: 448x640 1 face, 176.9ms\n",
            "image 1284/2204 /content/image/images/00002044.jpg: 480x640 1 face, 169.1ms\n",
            "image 1285/2204 /content/image/images/00002045.jpg: 448x640 5 faces, 172.1ms\n",
            "image 1286/2204 /content/image/images/00002046.jpg: 480x640 1 face, 197.2ms\n",
            "image 1287/2204 /content/image/images/00002048.jpg: 448x640 1 face, 161.7ms\n",
            "image 1288/2204 /content/image/images/00002049.jpg: 480x640 1 face, 210.7ms\n",
            "image 1289/2204 /content/image/images/00002051.jpg: 640x448 1 face, 162.7ms\n",
            "image 1290/2204 /content/image/images/00002052.jpg: 480x640 1 face, 173.3ms\n",
            "image 1291/2204 /content/image/images/00002053.jpg: 448x640 1 face, 164.1ms\n",
            "image 1292/2204 /content/image/images/00002057.jpg: 640x448 1 face, 174.6ms\n",
            "image 1293/2204 /content/image/images/00002058.jpg: 448x640 3 faces, 184.4ms\n",
            "image 1294/2204 /content/image/images/00002059.jpg: 640x448 1 face, 166.5ms\n",
            "image 1295/2204 /content/image/images/00002060.jpg: 640x640 3 faces, 248.3ms\n",
            "image 1296/2204 /content/image/images/00002062.jpg: 480x640 1 face, 174.5ms\n",
            "image 1297/2204 /content/image/images/00002063.jpg: 640x416 1 face, 163.8ms\n",
            "image 1298/2204 /content/image/images/00002064.jpg: 480x640 1 face, 199.3ms\n",
            "image 1299/2204 /content/image/images/00002065.jpg: 544x640 1 face, 230.2ms\n",
            "image 1300/2204 /content/image/images/00002066.jpg: 480x640 1 face, 185.5ms\n",
            "image 1301/2204 /content/image/images/00002067.jpg: 448x640 1 face, 187.8ms\n",
            "image 1302/2204 /content/image/images/00002068.jpg: 416x640 1 face, 165.5ms\n",
            "image 1303/2204 /content/image/images/00002069.jpg: 544x640 1 face, 279.1ms\n",
            "image 1304/2204 /content/image/images/00002071.jpg: 640x416 1 face, 175.2ms\n",
            "image 1305/2204 /content/image/images/00002073.jpg: 448x640 1 face, 165.6ms\n",
            "image 1306/2204 /content/image/images/00002074.jpg: 448x640 1 face, 167.2ms\n",
            "image 1307/2204 /content/image/images/00002075.jpg: 448x640 1 face, 164.9ms\n",
            "image 1308/2204 /content/image/images/00002076.jpg: 480x640 1 face, 200.7ms\n",
            "image 1309/2204 /content/image/images/00002077.jpg: 640x448 1 face, 176.3ms\n",
            "image 1310/2204 /content/image/images/00002080.jpg: 640x448 1 face, 164.3ms\n",
            "image 1311/2204 /content/image/images/00002081.jpg: 640x480 1 face, 174.0ms\n",
            "image 1312/2204 /content/image/images/00002084.jpg: 448x640 1 face, 168.7ms\n",
            "image 1313/2204 /content/image/images/00002085.jpg: 640x448 1 face, 180.8ms\n",
            "image 1314/2204 /content/image/images/00002086.jpg: 640x448 1 face, 169.1ms\n",
            "image 1315/2204 /content/image/images/00002087.jpg: 480x640 1 face, 176.8ms\n",
            "image 1316/2204 /content/image/images/00002089.jpg: 512x640 1 face, 187.7ms\n",
            "image 1317/2204 /content/image/images/00002090.jpg: 640x448 1 face, 160.6ms\n",
            "image 1318/2204 /content/image/images/00002092.jpg: 448x640 1 face, 167.0ms\n",
            "image 1319/2204 /content/image/images/00002094.jpg: 640x448 1 face, 164.8ms\n",
            "image 1320/2204 /content/image/images/00002095.jpg: 480x640 1 face, 174.3ms\n",
            "image 1321/2204 /content/image/images/00002096.jpg: 448x640 1 face, 178.3ms\n",
            "image 1322/2204 /content/image/images/00002098.jpg: 640x352 1 face, 135.2ms\n",
            "image 1323/2204 /content/image/images/00002099.jpg: 576x640 2 faces, 212.5ms\n",
            "image 1324/2204 /content/image/images/00002101.jpg: 448x640 2 faces, 175.7ms\n",
            "image 1325/2204 /content/image/images/00002102.jpg: 448x640 1 face, 160.5ms\n",
            "image 1326/2204 /content/image/images/00002103.jpg: 480x640 1 face, 192.3ms\n",
            "image 1327/2204 /content/image/images/00002105.jpg: 448x640 1 face, 269.9ms\n",
            "image 1328/2204 /content/image/images/00002106.jpg: 448x640 1 face, 258.9ms\n",
            "image 1329/2204 /content/image/images/00002110.jpg: 384x640 2 faces, 217.5ms\n",
            "image 1330/2204 /content/image/images/00002111.jpg: 448x640 1 face, 260.3ms\n",
            "image 1331/2204 /content/image/images/00002113.jpg: 448x640 1 face, 242.1ms\n",
            "image 1332/2204 /content/image/images/00002114.jpg: 640x512 2 faces, 291.5ms\n",
            "image 1333/2204 /content/image/images/00002115.jpg: 448x640 1 face, 249.1ms\n",
            "image 1334/2204 /content/image/images/00002116.jpg: 640x416 1 face, 266.6ms\n",
            "image 1335/2204 /content/image/images/00002117.jpg: 576x640 2 faces, 339.5ms\n",
            "image 1336/2204 /content/image/images/00002118.jpg: 448x640 1 face, 273.3ms\n",
            "image 1337/2204 /content/image/images/00002119.jpg: 480x640 1 face, 253.0ms\n",
            "image 1338/2204 /content/image/images/00002120.jpg: 640x448 1 face, 162.4ms\n",
            "image 1339/2204 /content/image/images/00002121.jpg: 480x640 1 face, 169.1ms\n",
            "image 1340/2204 /content/image/images/00002122.jpg: 544x640 2 faces, 225.5ms\n",
            "image 1341/2204 /content/image/images/00002123.jpg: 640x448 1 face, 160.6ms\n",
            "image 1342/2204 /content/image/images/00002124.jpg: 480x640 1 face, 178.4ms\n",
            "image 1343/2204 /content/image/images/00002125.jpg: 448x640 1 face, 169.1ms\n",
            "image 1344/2204 /content/image/images/00002127.jpg: 448x640 2 faces, 160.4ms\n",
            "image 1345/2204 /content/image/images/00002128.jpg: 480x640 1 face, 212.2ms\n",
            "image 1346/2204 /content/image/images/00002129.jpg: 448x640 1 face, 157.0ms\n",
            "image 1347/2204 /content/image/images/00002130.jpg: 448x640 1 face, 162.5ms\n",
            "image 1348/2204 /content/image/images/00002131.jpg: 640x448 1 face, 176.7ms\n",
            "image 1349/2204 /content/image/images/00002132.jpg: 480x640 1 face, 188.4ms\n",
            "image 1350/2204 /content/image/images/00002133.jpg: 448x640 1 face, 195.0ms\n",
            "image 1351/2204 /content/image/images/00002134.jpg: 480x640 1 face, 174.7ms\n",
            "image 1352/2204 /content/image/images/00002135.jpg: 640x448 1 face, 171.3ms\n",
            "image 1353/2204 /content/image/images/00002136.jpg: 448x640 2 faces, 163.7ms\n",
            "image 1354/2204 /content/image/images/00002137.jpg: 640x448 1 face, 167.6ms\n",
            "image 1355/2204 /content/image/images/00002138.jpg: 480x640 1 face, 177.6ms\n",
            "image 1356/2204 /content/image/images/00002139.jpg: 448x640 1 face, 159.4ms\n",
            "image 1357/2204 /content/image/images/00002140.jpg: 640x416 1 face, 155.6ms\n",
            "image 1358/2204 /content/image/images/00002141.jpg: 640x480 1 face, 202.3ms\n",
            "image 1359/2204 /content/image/images/00002142.jpg: 384x640 3 faces, 141.0ms\n",
            "image 1360/2204 /content/image/images/00002143.jpg: 448x640 1 face, 157.7ms\n",
            "image 1361/2204 /content/image/images/00002144.jpg: 448x640 1 face, 205.8ms\n",
            "image 1362/2204 /content/image/images/00002145.jpg: 640x448 1 face, 188.1ms\n",
            "image 1363/2204 /content/image/images/00002146.jpg: 640x448 1 face, 158.1ms\n",
            "image 1364/2204 /content/image/images/00002147.jpg: 640x448 1 face, 162.2ms\n",
            "image 1365/2204 /content/image/images/00002150.jpg: 480x640 1 face, 180.2ms\n",
            "image 1366/2204 /content/image/images/00002151.jpg: 640x512 1 face, 203.1ms\n",
            "image 1367/2204 /content/image/images/00002152.jpg: 448x640 2 faces, 162.5ms\n",
            "image 1368/2204 /content/image/images/00002153.jpg: 640x448 1 face, 165.6ms\n",
            "image 1369/2204 /content/image/images/00002154.jpg: 448x640 1 face, 166.5ms\n",
            "image 1370/2204 /content/image/images/00002156.jpg: 640x448 1 face, 183.2ms\n",
            "image 1371/2204 /content/image/images/00002157.jpg: 640x576 (no detections), 234.8ms\n",
            "image 1372/2204 /content/image/images/00002160.jpg: 640x448 1 face, 167.8ms\n",
            "image 1373/2204 /content/image/images/00002161.jpg: 480x640 1 face, 174.1ms\n",
            "image 1374/2204 /content/image/images/00002162.jpg: 480x640 1 face, 174.0ms\n",
            "image 1375/2204 /content/image/images/00002163.jpg: 640x448 1 face, 162.1ms\n",
            "image 1376/2204 /content/image/images/00002165.jpg: 448x640 1 face, 176.3ms\n",
            "image 1377/2204 /content/image/images/00002167.jpg: 480x640 1 face, 184.2ms\n",
            "image 1378/2204 /content/image/images/00002168.jpg: 512x640 3 faces, 189.9ms\n",
            "image 1379/2204 /content/image/images/00002169.jpg: 640x544 1 face, 192.5ms\n",
            "image 1380/2204 /content/image/images/00002171.jpg: 352x640 1 face, 136.2ms\n",
            "image 1381/2204 /content/image/images/00002174.jpg: 640x512 1 face, 215.3ms\n",
            "image 1382/2204 /content/image/images/00002178.jpg: 448x640 2 faces, 158.6ms\n",
            "image 1383/2204 /content/image/images/00002179.jpg: 384x640 1 face, 140.8ms\n",
            "image 1384/2204 /content/image/images/00002180.jpg: 480x640 1 face, 188.4ms\n",
            "image 1385/2204 /content/image/images/00002181.jpg: 640x480 1 face, 176.6ms\n",
            "image 1386/2204 /content/image/images/00002183.jpg: 480x640 2 faces, 169.5ms\n",
            "image 1387/2204 /content/image/images/00002186.jpg: 640x416 1 face, 231.6ms\n",
            "image 1388/2204 /content/image/images/00002190.jpg: 448x640 2 faces, 267.7ms\n",
            "image 1389/2204 /content/image/images/00002191.jpg: 480x640 2 faces, 261.7ms\n",
            "image 1390/2204 /content/image/images/00002192.jpg: 384x640 3 faces, 227.6ms\n",
            "image 1391/2204 /content/image/images/00002195.jpg: 640x448 1 face, 253.4ms\n",
            "image 1392/2204 /content/image/images/00002197.jpg: 448x640 1 face, 245.1ms\n",
            "image 1393/2204 /content/image/images/00002198.jpg: 640x480 1 face, 256.9ms\n",
            "image 1394/2204 /content/image/images/00002199.jpg: 576x640 1 face, 335.9ms\n",
            "image 1395/2204 /content/image/images/00002201.jpg: 352x640 2 faces, 205.7ms\n",
            "image 1396/2204 /content/image/images/00002202.jpg: 384x640 1 face, 225.9ms\n",
            "image 1397/2204 /content/image/images/00002204.jpg: 448x640 1 face, 249.2ms\n",
            "image 1398/2204 /content/image/images/00002205.jpg: 640x416 1 face, 156.6ms\n",
            "image 1399/2204 /content/image/images/00002209.jpg: 640x448 1 face, 193.4ms\n",
            "image 1400/2204 /content/image/images/00002211.jpg: 480x640 1 face, 169.0ms\n",
            "image 1401/2204 /content/image/images/00002212.jpg: 640x448 1 face, 161.7ms\n",
            "image 1402/2204 /content/image/images/00002215.jpg: 512x640 2 faces, 187.4ms\n",
            "image 1403/2204 /content/image/images/00002218.jpg: 640x512 1 face, 201.2ms\n",
            "image 1404/2204 /content/image/images/00002219.jpg: 640x480 1 face, 167.8ms\n",
            "image 1405/2204 /content/image/images/00002220.jpg: 640x512 1 face, 185.8ms\n",
            "image 1406/2204 /content/image/images/00002223.jpg: 640x448 1 face, 159.7ms\n",
            "image 1407/2204 /content/image/images/00002224.jpg: 512x640 (no detections), 208.7ms\n",
            "image 1408/2204 /content/image/images/00002225.jpg: 640x480 (no detections), 172.3ms\n",
            "image 1409/2204 /content/image/images/00002227.jpg: 448x640 1 face, 159.1ms\n",
            "image 1410/2204 /content/image/images/00002228.jpg: 640x448 1 face, 161.9ms\n",
            "image 1411/2204 /content/image/images/00002229.jpg: 640x416 1 face, 153.6ms\n",
            "image 1412/2204 /content/image/images/00002230.jpg: 640x480 2 faces, 172.9ms\n",
            "image 1413/2204 /content/image/images/00002231.jpg: 512x640 4 faces, 192.9ms\n",
            "image 1414/2204 /content/image/images/00002232.jpg: 384x640 5 faces, 148.7ms\n",
            "image 1415/2204 /content/image/images/00002233.jpg: 640x480 1 face, 173.2ms\n",
            "image 1416/2204 /content/image/images/00002236.jpg: 448x640 2 faces, 163.3ms\n",
            "image 1417/2204 /content/image/images/00002237.jpg: 640x448 1 face, 162.7ms\n",
            "image 1418/2204 /content/image/images/00002239.jpg: 448x640 3 faces, 176.9ms\n",
            "image 1419/2204 /content/image/images/00002240.jpg: 448x640 1 face, 171.4ms\n",
            "image 1420/2204 /content/image/images/00002242.jpg: 480x640 2 faces, 171.4ms\n",
            "image 1421/2204 /content/image/images/00002243.jpg: 448x640 1 face, 166.7ms\n",
            "image 1422/2204 /content/image/images/00002244.jpg: 640x448 1 face, 163.2ms\n",
            "image 1423/2204 /content/image/images/00002245.jpg: 640x640 1 face, 239.3ms\n",
            "image 1424/2204 /content/image/images/00002246.jpg: 448x640 1 face, 164.7ms\n",
            "image 1425/2204 /content/image/images/00002247.jpg: 384x640 1 face, 143.3ms\n",
            "image 1426/2204 /content/image/images/00002249.jpg: 448x640 1 face, 166.4ms\n",
            "image 1427/2204 /content/image/images/00002254.jpg: 640x448 1 face, 164.5ms\n",
            "image 1428/2204 /content/image/images/00002258.jpg: 448x640 1 face, 163.2ms\n",
            "image 1429/2204 /content/image/images/00002259.jpg: 416x640 2 faces, 166.8ms\n",
            "image 1430/2204 /content/image/images/00002260.jpg: 384x640 1 face, 148.9ms\n",
            "image 1431/2204 /content/image/images/00002263.jpg: 416x640 1 face, 144.0ms\n",
            "image 1432/2204 /content/image/images/00002264.jpg: 640x480 1 face, 179.6ms\n",
            "image 1433/2204 /content/image/images/00002265.jpg: 544x640 3 faces, 219.1ms\n",
            "image 1434/2204 /content/image/images/00002267.jpg: 448x640 1 face, 159.7ms\n",
            "image 1435/2204 /content/image/images/00002269.jpg: 384x640 2 faces, 145.6ms\n",
            "image 1436/2204 /content/image/images/00002271.jpg: 608x640 1 face, 212.2ms\n",
            "image 1437/2204 /content/image/images/00002272.jpg: 480x640 1 face, 186.1ms\n",
            "image 1438/2204 /content/image/images/00002273.jpg: 544x640 1 face, 193.1ms\n",
            "image 1439/2204 /content/image/images/00002275.jpg: 448x640 1 face, 160.0ms\n",
            "image 1440/2204 /content/image/images/00002276.jpg: 640x480 1 face, 171.0ms\n",
            "image 1441/2204 /content/image/images/00002279.jpg: 640x448 1 face, 163.1ms\n",
            "image 1442/2204 /content/image/images/00002280.jpg: 480x640 2 faces, 177.8ms\n",
            "image 1443/2204 /content/image/images/00002281.jpg: 640x512 1 face, 187.7ms\n",
            "image 1444/2204 /content/image/images/00002282.jpg: 480x640 2 faces, 195.9ms\n",
            "image 1445/2204 /content/image/images/00002283.jpg: 640x640 1 face, 352.0ms\n",
            "image 1446/2204 /content/image/images/00002286.jpg: 480x640 1 face, 296.1ms\n",
            "image 1447/2204 /content/image/images/00002287.jpg: 640x448 1 face, 250.1ms\n",
            "image 1448/2204 /content/image/images/00002293.jpg: 640x448 1 face, 255.2ms\n",
            "image 1449/2204 /content/image/images/00002294.jpg: 640x480 1 face, 278.9ms\n",
            "image 1450/2204 /content/image/images/00002295.jpg: 640x448 1 face, 267.4ms\n",
            "image 1451/2204 /content/image/images/00002296.jpg: 448x640 1 face, 268.3ms\n",
            "image 1452/2204 /content/image/images/00002297.jpg: 640x480 1 face, 270.4ms\n",
            "image 1453/2204 /content/image/images/00002299.jpg: 640x480 1 face, 280.0ms\n",
            "image 1454/2204 /content/image/images/00002300.jpg: 640x512 1 face, 259.5ms\n",
            "image 1455/2204 /content/image/images/00002301.jpg: 640x448 1 face, 164.5ms\n",
            "image 1456/2204 /content/image/images/00002303.jpg: 640x448 2 faces, 175.1ms\n",
            "image 1457/2204 /content/image/images/00002305.jpg: 640x448 1 face, 178.9ms\n",
            "image 1458/2204 /content/image/images/00002306.jpg: 640x480 1 face, 177.7ms\n",
            "image 1459/2204 /content/image/images/00002307.jpg: 640x448 1 face, 165.0ms\n",
            "image 1460/2204 /content/image/images/00002310.jpg: 640x448 2 faces, 162.7ms\n",
            "image 1461/2204 /content/image/images/00002311.jpg: 640x448 1 face, 166.9ms\n",
            "image 1462/2204 /content/image/images/00002312.jpg: 640x416 1 face, 151.7ms\n",
            "image 1463/2204 /content/image/images/00002313.jpg: 640x448 1 face, 180.3ms\n",
            "image 1464/2204 /content/image/images/00002314.jpg: 640x480 2 faces, 173.0ms\n",
            "image 1465/2204 /content/image/images/00002317.jpg: 640x448 1 face, 162.6ms\n",
            "image 1466/2204 /content/image/images/00002318.jpg: 416x640 2 faces, 152.4ms\n",
            "image 1467/2204 /content/image/images/00002322.jpg: 320x640 1 face, 132.9ms\n",
            "image 1468/2204 /content/image/images/00002323.jpg: 544x640 1 face, 196.0ms\n",
            "image 1469/2204 /content/image/images/00002325.jpg: 480x640 1 face, 178.2ms\n",
            "image 1470/2204 /content/image/images/00002326.jpg: 640x480 1 face, 173.1ms\n",
            "image 1471/2204 /content/image/images/00002334.jpg: 640x448 1 face, 156.5ms\n",
            "image 1472/2204 /content/image/images/00002336.jpg: 640x512 1 face, 216.2ms\n",
            "image 1473/2204 /content/image/images/00002339.jpg: 448x640 1 face, 158.6ms\n",
            "image 1474/2204 /content/image/images/00002341.jpg: 416x640 1 face, 171.8ms\n",
            "image 1475/2204 /content/image/images/00002343.jpg: 640x640 4 faces, 231.4ms\n",
            "image 1476/2204 /content/image/images/00002348.jpg: 448x640 1 face, 159.7ms\n",
            "image 1477/2204 /content/image/images/00002349.jpg: 448x640 1 face, 160.1ms\n",
            "image 1478/2204 /content/image/images/00002350.jpg: 384x640 1 face, 140.3ms\n",
            "image 1479/2204 /content/image/images/00002351.jpg: 448x640 1 face, 177.3ms\n",
            "image 1480/2204 /content/image/images/00002353.jpg: 640x448 1 face, 163.8ms\n",
            "image 1481/2204 /content/image/images/00002354.jpg: 480x640 1 face, 169.2ms\n",
            "image 1482/2204 /content/image/images/00002356.jpg: 576x640 1 face, 203.9ms\n",
            "image 1483/2204 /content/image/images/00002357.jpg: 640x576 1 face, 201.8ms\n",
            "image 1484/2204 /content/image/images/00002358.jpg: 640x448 1 face, 182.3ms\n",
            "image 1485/2204 /content/image/images/00002359.jpg: 640x576 1 face, 201.7ms\n",
            "image 1486/2204 /content/image/images/00002360.jpg: 640x416 1 face, 157.8ms\n",
            "image 1487/2204 /content/image/images/00002364.jpg: 640x640 1 face, 219.5ms\n",
            "image 1488/2204 /content/image/images/00002365.jpg: 480x640 1 face, 180.3ms\n",
            "image 1489/2204 /content/image/images/00002366.jpg: 640x576 (no detections), 231.8ms\n",
            "image 1490/2204 /content/image/images/00002367.jpg: 320x640 1 face, 130.3ms\n",
            "image 1491/2204 /content/image/images/00002373.jpg: 640x448 1 face, 163.0ms\n",
            "image 1492/2204 /content/image/images/00002374.jpg: 640x576 2 faces, 197.6ms\n",
            "image 1493/2204 /content/image/images/00002375.jpg: 640x480 1 face, 176.1ms\n",
            "image 1494/2204 /content/image/images/00002376.jpg: 448x640 1 face, 178.5ms\n",
            "image 1495/2204 /content/image/images/00002379.jpg: 416x640 1 face, 150.9ms\n",
            "image 1496/2204 /content/image/images/00002380.jpg: 384x640 4 faces, 150.3ms\n",
            "image 1497/2204 /content/image/images/00002384.jpg: 640x480 1 face, 199.8ms\n",
            "image 1498/2204 /content/image/images/00002385.jpg: 608x640 2 faces, 217.6ms\n",
            "image 1499/2204 /content/image/images/00002387.jpg: 640x544 1 face, 212.0ms\n",
            "image 1500/2204 /content/image/images/00002390.jpg: 416x640 1 face, 149.3ms\n",
            "image 1501/2204 /content/image/images/00002391.jpg: 640x448 2 faces, 168.5ms\n",
            "image 1502/2204 /content/image/images/00002393.jpg: 512x640 1 face, 180.8ms\n",
            "image 1503/2204 /content/image/images/00002399.jpg: 448x640 1 face, 171.2ms\n",
            "image 1504/2204 /content/image/images/00002403.jpg: 640x416 1 face, 259.6ms\n",
            "image 1505/2204 /content/image/images/00002405.jpg: 448x640 1 face, 268.0ms\n",
            "image 1506/2204 /content/image/images/00002406.jpg: 480x640 1 face, 338.9ms\n",
            "image 1507/2204 /content/image/images/00002411.jpg: 448x640 1 face, 283.5ms\n",
            "image 1508/2204 /content/image/images/00002412.jpg: 448x640 3 faces, 287.6ms\n",
            "image 1509/2204 /content/image/images/00002413.jpg: 448x640 1 face, 297.2ms\n",
            "image 1510/2204 /content/image/images/00002414.jpg: 448x640 1 face, 258.0ms\n",
            "image 1511/2204 /content/image/images/00002415.jpg: 384x640 1 face, 269.3ms\n",
            "image 1512/2204 /content/image/images/00002416.jpg: 384x640 3 faces, 250.7ms\n",
            "image 1513/2204 /content/image/images/00002418.jpg: 448x640 1 face, 289.7ms\n",
            "image 1514/2204 /content/image/images/00002419.jpg: 448x640 1 face, 319.6ms\n",
            "image 1515/2204 /content/image/images/00002420.jpg: 640x448 1 face, 274.9ms\n",
            "image 1516/2204 /content/image/images/00002421.jpg: 544x640 2 faces, 376.1ms\n",
            "image 1517/2204 /content/image/images/00002422.jpg: 640x640 2 faces, 498.4ms\n",
            "image 1518/2204 /content/image/images/00002423.jpg: 480x640 1 face, 561.6ms\n",
            "image 1519/2204 /content/image/images/00002428.jpg: 480x640 1 face, 324.4ms\n",
            "image 1520/2204 /content/image/images/00002429.jpg: 640x640 1 face, 410.4ms\n",
            "image 1521/2204 /content/image/images/00002430.jpg: 480x640 1 face, 229.2ms\n",
            "image 1522/2204 /content/image/images/00002433.jpg: 640x640 1 face, 250.6ms\n",
            "image 1523/2204 /content/image/images/00002436.jpg: 640x512 1 face, 222.0ms\n",
            "image 1524/2204 /content/image/images/00002437.jpg: 640x448 1 face, 180.8ms\n",
            "image 1525/2204 /content/image/images/00002438.jpg: 640x512 (no detections), 221.9ms\n",
            "image 1526/2204 /content/image/images/00002440.jpg: 640x512 1 face, 273.2ms\n",
            "image 1527/2204 /content/image/images/00002441.jpg: 448x640 1 face, 196.0ms\n",
            "image 1528/2204 /content/image/images/00002445.jpg: 640x576 1 face, 290.8ms\n",
            "image 1529/2204 /content/image/images/00002446.jpg: 448x640 2 faces, 200.1ms\n",
            "image 1530/2204 /content/image/images/00002448.jpg: 480x640 2 faces, 218.8ms\n",
            "image 1531/2204 /content/image/images/00002449.jpg: 640x640 1 face, 266.6ms\n",
            "image 1532/2204 /content/image/images/00002451.jpg: 448x640 1 face, 176.0ms\n",
            "image 1533/2204 /content/image/images/00002452.jpg: 384x640 1 face, 144.2ms\n",
            "image 1534/2204 /content/image/images/00002454.jpg: 640x448 1 face, 167.4ms\n",
            "image 1535/2204 /content/image/images/00002456.jpg: 480x640 1 face, 171.0ms\n",
            "image 1536/2204 /content/image/images/00002459.jpg: 640x448 1 face, 165.0ms\n",
            "image 1537/2204 /content/image/images/00002462.jpg: 480x640 1 face, 204.7ms\n",
            "image 1538/2204 /content/image/images/00002466.jpg: 448x640 1 face, 158.2ms\n",
            "image 1539/2204 /content/image/images/00002468.jpg: 448x640 1 face, 160.0ms\n",
            "image 1540/2204 /content/image/images/00002471.jpg: 512x640 2 faces, 183.1ms\n",
            "image 1541/2204 /content/image/images/00002472.jpg: 480x640 2 faces, 172.9ms\n",
            "image 1542/2204 /content/image/images/00002474.jpg: 448x640 2 faces, 158.5ms\n",
            "image 1543/2204 /content/image/images/00002475.jpg: 416x640 1 face, 164.6ms\n",
            "image 1544/2204 /content/image/images/00002477.jpg: 640x512 2 faces, 187.4ms\n",
            "image 1545/2204 /content/image/images/00002478.jpg: 448x640 2 faces, 160.1ms\n",
            "image 1546/2204 /content/image/images/00002481.jpg: 448x640 1 face, 167.6ms\n",
            "image 1547/2204 /content/image/images/00002482.jpg: 512x640 2 faces, 185.9ms\n",
            "image 1548/2204 /content/image/images/00002483.jpg: 448x640 1 face, 181.5ms\n",
            "image 1549/2204 /content/image/images/00002484.jpg: 384x640 1 face, 146.7ms\n",
            "image 1550/2204 /content/image/images/00002485.jpg: 640x448 3 faces, 162.3ms\n",
            "image 1551/2204 /content/image/images/00002486.jpg: 448x640 1 face, 162.3ms\n",
            "image 1552/2204 /content/image/images/00002487.jpg: 640x448 1 face, 162.6ms\n",
            "image 1553/2204 /content/image/images/00002489.jpg: 448x640 1 face, 165.8ms\n",
            "image 1554/2204 /content/image/images/00002490.jpg: 448x640 2 faces, 180.4ms\n",
            "image 1555/2204 /content/image/images/00002491.jpg: 512x640 2 faces, 181.7ms\n",
            "image 1556/2204 /content/image/images/00002492.jpg: 640x480 3 faces, 169.6ms\n",
            "image 1557/2204 /content/image/images/00002493.jpg: 480x640 1 face, 171.9ms\n",
            "image 1558/2204 /content/image/images/00002495.jpg: 448x640 1 face, 186.4ms\n",
            "image 1559/2204 /content/image/images/00002496.jpg: 640x480 (no detections), 189.9ms\n",
            "image 1560/2204 /content/image/images/00002497.jpg: 448x640 1 face, 252.4ms\n",
            "image 1561/2204 /content/image/images/00002499.jpg: 544x640 1 face, 299.9ms\n",
            "image 1562/2204 /content/image/images/00002503.jpg: 448x640 1 face, 244.2ms\n",
            "image 1563/2204 /content/image/images/00002508.jpg: 640x448 1 face, 277.8ms\n",
            "image 1564/2204 /content/image/images/00002509.jpg: 640x544 1 face, 308.6ms\n",
            "image 1565/2204 /content/image/images/00002511.jpg: 480x640 1 face, 259.3ms\n",
            "image 1566/2204 /content/image/images/00002512.jpg: 384x640 1 face, 220.8ms\n",
            "image 1567/2204 /content/image/images/00002514.jpg: 640x480 1 face, 286.2ms\n",
            "image 1568/2204 /content/image/images/00002516.jpg: 448x640 1 face, 260.7ms\n",
            "image 1569/2204 /content/image/images/00002517.jpg: 320x640 4 faces, 215.3ms\n",
            "image 1570/2204 /content/image/images/00002518.jpg: 384x640 1 face, 200.1ms\n",
            "image 1571/2204 /content/image/images/00002521.jpg: 448x640 1 face, 169.1ms\n",
            "image 1572/2204 /content/image/images/00002524.jpg: 640x512 2 faces, 191.9ms\n",
            "image 1573/2204 /content/image/images/00002525.jpg: 448x640 1 face, 161.3ms\n",
            "image 1574/2204 /content/image/images/00002529.jpg: 640x544 1 face, 200.0ms\n",
            "image 1575/2204 /content/image/images/00002530.jpg: 448x640 1 face, 159.5ms\n",
            "image 1576/2204 /content/image/images/00002535.jpg: 480x640 1 face, 175.0ms\n",
            "image 1577/2204 /content/image/images/00002536.jpg: 480x640 1 face, 173.1ms\n",
            "image 1578/2204 /content/image/images/00002538.jpg: 448x640 1 face, 168.9ms\n",
            "image 1579/2204 /content/image/images/00002540.jpg: 640x544 1 face, 199.2ms\n",
            "image 1580/2204 /content/image/images/00002542.jpg: 448x640 1 face, 164.4ms\n",
            "image 1581/2204 /content/image/images/00002544.jpg: 416x640 1 face, 170.8ms\n",
            "image 1582/2204 /content/image/images/00002545.jpg: 640x448 1 face, 168.5ms\n",
            "image 1583/2204 /content/image/images/00002547.jpg: 544x640 1 face, 200.6ms\n",
            "image 1584/2204 /content/image/images/00002548.jpg: 448x640 1 face, 163.5ms\n",
            "image 1585/2204 /content/image/images/00002549.jpg: 640x640 2 faces, 224.9ms\n",
            "image 1586/2204 /content/image/images/00002550.jpg: 640x480 1 face, 185.2ms\n",
            "image 1587/2204 /content/image/images/00002553.jpg: 384x640 1 face, 142.8ms\n",
            "image 1588/2204 /content/image/images/00002554.jpg: 480x640 1 face, 192.0ms\n",
            "image 1589/2204 /content/image/images/00002555.jpg: 416x640 7 faces, 151.4ms\n",
            "image 1590/2204 /content/image/images/00002556.jpg: 448x640 1 face, 160.8ms\n",
            "image 1591/2204 /content/image/images/00002557.jpg: 480x640 1 face, 168.4ms\n",
            "image 1592/2204 /content/image/images/00002560.jpg: 448x640 1 face, 159.5ms\n",
            "image 1593/2204 /content/image/images/00002563.jpg: 448x640 3 faces, 174.7ms\n",
            "image 1594/2204 /content/image/images/00002564.jpg: 640x512 1 face, 190.0ms\n",
            "image 1595/2204 /content/image/images/00002565.jpg: 384x640 1 face, 141.5ms\n",
            "image 1596/2204 /content/image/images/00002566.jpg: 640x448 1 face, 170.1ms\n",
            "image 1597/2204 /content/image/images/00002571.jpg: 480x640 2 faces, 172.3ms\n",
            "image 1598/2204 /content/image/images/00002572.jpg: 640x448 1 face, 167.0ms\n",
            "image 1599/2204 /content/image/images/00002573.jpg: 480x640 2 faces, 178.6ms\n",
            "image 1600/2204 /content/image/images/00002574.jpg: 448x640 2 faces, 164.9ms\n",
            "image 1601/2204 /content/image/images/00002577.jpg: 640x448 1 face, 165.8ms\n",
            "image 1602/2204 /content/image/images/00002578.jpg: 448x640 1 face, 162.3ms\n",
            "image 1603/2204 /content/image/images/00002579.jpg: 320x640 2 faces, 117.1ms\n",
            "image 1604/2204 /content/image/images/00002580.jpg: 480x640 1 face, 190.2ms\n",
            "image 1605/2204 /content/image/images/00002581.jpg: 640x448 1 face, 165.4ms\n",
            "image 1606/2204 /content/image/images/00002583.jpg: 448x640 1 face, 173.6ms\n",
            "image 1607/2204 /content/image/images/00002584.jpg: 384x640 2 faces, 148.5ms\n",
            "image 1608/2204 /content/image/images/00002587.jpg: 640x480 1 face, 172.9ms\n",
            "image 1609/2204 /content/image/images/00002588.jpg: 640x640 1 face, 242.0ms\n",
            "image 1610/2204 /content/image/images/00002592.jpg: 640x448 1 face, 168.9ms\n",
            "image 1611/2204 /content/image/images/00002593.jpg: 640x448 1 face, 160.1ms\n",
            "image 1612/2204 /content/image/images/00002594.jpg: 640x448 1 face, 163.1ms\n",
            "image 1613/2204 /content/image/images/00002595.jpg: 448x640 1 face, 156.5ms\n",
            "image 1614/2204 /content/image/images/00002596.jpg: 448x640 1 face, 176.5ms\n",
            "image 1615/2204 /content/image/images/00002597.jpg: 640x448 1 face, 179.2ms\n",
            "image 1616/2204 /content/image/images/00002600.jpg: 640x480 1 face, 179.4ms\n",
            "image 1617/2204 /content/image/images/00002602.jpg: 448x640 1 face, 157.9ms\n",
            "image 1618/2204 /content/image/images/00002603.jpg: 384x640 1 face, 197.6ms\n",
            "image 1619/2204 /content/image/images/00002604.jpg: 480x640 1 face, 325.0ms\n",
            "image 1620/2204 /content/image/images/00002605.jpg: 480x640 1 face, 290.0ms\n",
            "image 1621/2204 /content/image/images/00002606.jpg: 480x640 1 face, 273.0ms\n",
            "image 1622/2204 /content/image/images/00002607.jpg: 448x640 3 faces, 252.5ms\n",
            "image 1623/2204 /content/image/images/00002608.jpg: 448x640 3 faces, 284.9ms\n",
            "image 1624/2204 /content/image/images/00002610.jpg: 448x640 2 faces, 274.9ms\n",
            "image 1625/2204 /content/image/images/00002611.jpg: 640x448 3 faces, 265.8ms\n",
            "image 1626/2204 /content/image/images/00002613.jpg: 448x640 2 faces, 257.0ms\n",
            "image 1627/2204 /content/image/images/00002615.jpg: 448x640 2 faces, 298.7ms\n",
            "image 1628/2204 /content/image/images/00002617.jpg: 448x640 1 face, 242.1ms\n",
            "image 1629/2204 /content/image/images/00002618.jpg: 448x640 1 face, 171.2ms\n",
            "image 1630/2204 /content/image/images/00002619.jpg: 448x640 1 face, 164.0ms\n",
            "image 1631/2204 /content/image/images/00002620.jpg: 480x640 2 faces, 197.2ms\n",
            "image 1632/2204 /content/image/images/00002621.jpg: 448x640 2 faces, 168.1ms\n",
            "image 1633/2204 /content/image/images/00002622.jpg: 448x640 2 faces, 160.6ms\n",
            "image 1634/2204 /content/image/images/00002624.jpg: 448x640 2 faces, 173.5ms\n",
            "image 1635/2204 /content/image/images/00002625.jpg: 640x384 2 faces, 152.8ms\n",
            "image 1636/2204 /content/image/images/00002626.jpg: 448x640 1 face, 163.9ms\n",
            "image 1637/2204 /content/image/images/00002628.jpg: 640x448 2 faces, 196.9ms\n",
            "image 1638/2204 /content/image/images/00002631.jpg: 448x640 1 face, 162.2ms\n",
            "image 1639/2204 /content/image/images/00002633.jpg: 448x640 2 faces, 173.9ms\n",
            "image 1640/2204 /content/image/images/00002634.jpg: 640x416 1 face, 160.9ms\n",
            "image 1641/2204 /content/image/images/00002636.jpg: 448x640 (no detections), 173.6ms\n",
            "image 1642/2204 /content/image/images/00002638.jpg: 448x640 1 face, 177.1ms\n",
            "image 1643/2204 /content/image/images/00002639.jpg: 544x640 1 face, 202.1ms\n",
            "image 1644/2204 /content/image/images/00002640.jpg: 448x640 1 face, 164.0ms\n",
            "image 1645/2204 /content/image/images/00002641.jpg: 640x448 1 face, 173.1ms\n",
            "image 1646/2204 /content/image/images/00002643.jpg: 640x448 1 face, 160.3ms\n",
            "image 1647/2204 /content/image/images/00002645.jpg: 576x640 1 face, 224.7ms\n",
            "image 1648/2204 /content/image/images/00002647.jpg: 640x512 1 face, 188.0ms\n",
            "image 1649/2204 /content/image/images/00002650.jpg: 352x640 1 face, 137.0ms\n",
            "image 1650/2204 /content/image/images/00002651.jpg: 448x640 2 faces, 171.6ms\n",
            "image 1651/2204 /content/image/images/00002652.jpg: 640x416 1 face, 155.6ms\n",
            "image 1652/2204 /content/image/images/00002653.jpg: 640x448 1 face, 169.6ms\n",
            "image 1653/2204 /content/image/images/00002654.jpg: 448x640 1 face, 181.5ms\n",
            "image 1654/2204 /content/image/images/00002655.jpg: 480x640 5 faces, 186.7ms\n",
            "image 1655/2204 /content/image/images/00002657.jpg: 640x448 1 face, 168.0ms\n",
            "image 1656/2204 /content/image/images/00002658.jpg: 640x448 2 faces, 160.3ms\n",
            "image 1657/2204 /content/image/images/00002659.jpg: 608x640 1 face, 254.8ms\n",
            "image 1658/2204 /content/image/images/00002660.jpg: 448x640 1 face, 161.2ms\n",
            "image 1659/2204 /content/image/images/00002662.jpg: 448x640 1 face, 172.1ms\n",
            "image 1660/2204 /content/image/images/00002663.jpg: 480x640 2 faces, 169.3ms\n",
            "image 1661/2204 /content/image/images/00002667.jpg: 448x640 1 face, 159.7ms\n",
            "image 1662/2204 /content/image/images/00002669.jpg: 448x640 5 faces, 170.3ms\n",
            "image 1663/2204 /content/image/images/00002670.jpg: 448x640 1 face, 175.3ms\n",
            "image 1664/2204 /content/image/images/00002672.jpg: 640x448 1 face, 162.0ms\n",
            "image 1665/2204 /content/image/images/00002674.jpg: 448x640 3 faces, 159.5ms\n",
            "image 1666/2204 /content/image/images/00002675.jpg: 448x640 1 face, 160.0ms\n",
            "image 1667/2204 /content/image/images/00002676.jpg: 640x448 1 face, 163.3ms\n",
            "image 1668/2204 /content/image/images/00002677.jpg: 448x640 1 face, 171.6ms\n",
            "image 1669/2204 /content/image/images/00002678.jpg: 448x640 2 faces, 168.0ms\n",
            "image 1670/2204 /content/image/images/00002679.jpg: 640x416 1 face, 155.5ms\n",
            "image 1671/2204 /content/image/images/00002680.jpg: 480x640 1 face, 173.7ms\n",
            "image 1672/2204 /content/image/images/00002681.jpg: 640x448 1 face, 169.9ms\n",
            "image 1673/2204 /content/image/images/00002682.jpg: 448x640 2 faces, 173.2ms\n",
            "image 1674/2204 /content/image/images/00002683.jpg: 640x512 1 face, 198.9ms\n",
            "image 1675/2204 /content/image/images/00002684.jpg: 448x640 2 faces, 160.2ms\n",
            "image 1676/2204 /content/image/images/00002685.jpg: 448x640 (no detections), 163.9ms\n",
            "image 1677/2204 /content/image/images/00002687.jpg: 448x640 6 faces, 173.1ms\n",
            "image 1678/2204 /content/image/images/00002689.jpg: 640x448 2 faces, 173.0ms\n",
            "image 1679/2204 /content/image/images/00002691.jpg: 640x640 2 faces, 305.1ms\n",
            "image 1680/2204 /content/image/images/00002692.jpg: 448x640 2 faces, 253.6ms\n",
            "image 1681/2204 /content/image/images/00002696.jpg: 640x448 1 face, 260.4ms\n",
            "image 1682/2204 /content/image/images/00002698.jpg: 480x640 2 faces, 261.0ms\n",
            "image 1683/2204 /content/image/images/00002701.jpg: 480x640 2 faces, 259.5ms\n",
            "image 1684/2204 /content/image/images/00002702.jpg: 640x448 1 face, 265.8ms\n",
            "image 1685/2204 /content/image/images/00002704.jpg: 448x640 2 faces, 256.3ms\n",
            "image 1686/2204 /content/image/images/00002705.jpg: 448x640 1 face, 254.7ms\n",
            "image 1687/2204 /content/image/images/00002706.jpg: 448x640 5 faces, 159.9ms\n",
            "image 1688/2204 /content/image/images/00002707.jpg: 448x640 1 face, 183.7ms\n",
            "image 1689/2204 /content/image/images/00002708.jpg: 416x640 5 faces, 149.4ms\n",
            "image 1690/2204 /content/image/images/00002710.jpg: 480x640 4 faces, 181.6ms\n",
            "image 1691/2204 /content/image/images/00002711.jpg: 384x640 1 face, 138.7ms\n",
            "image 1692/2204 /content/image/images/00002712.jpg: 448x640 1 face, 162.7ms\n",
            "image 1693/2204 /content/image/images/00002713.jpg: 448x640 2 faces, 178.0ms\n",
            "image 1694/2204 /content/image/images/00002714.jpg: 480x640 1 face, 178.5ms\n",
            "image 1695/2204 /content/image/images/00002715.jpg: 640x640 3 faces, 231.3ms\n",
            "image 1696/2204 /content/image/images/00002718.jpg: 512x640 1 face, 178.6ms\n",
            "image 1697/2204 /content/image/images/00002722.jpg: 448x640 1 face, 162.0ms\n",
            "image 1698/2204 /content/image/images/00002723.jpg: 640x448 1 face, 185.7ms\n",
            "image 1699/2204 /content/image/images/00002725.jpg: 640x448 1 face, 163.0ms\n",
            "image 1700/2204 /content/image/images/00002726.jpg: 640x448 6 faces, 168.5ms\n",
            "image 1701/2204 /content/image/images/00002727.jpg: 640x448 2 faces, 160.7ms\n",
            "image 1702/2204 /content/image/images/00002728.jpg: 640x416 1 face, 182.1ms\n",
            "image 1703/2204 /content/image/images/00002730.jpg: 448x640 1 face, 196.5ms\n",
            "image 1704/2204 /content/image/images/00002735.jpg: 640x448 1 face, 174.4ms\n",
            "image 1705/2204 /content/image/images/00002736.jpg: 480x640 6 faces, 178.3ms\n",
            "image 1706/2204 /content/image/images/00002737.jpg: 448x640 3 faces, 156.7ms\n",
            "image 1707/2204 /content/image/images/00002739.jpg: 448x640 1 face, 172.7ms\n",
            "image 1708/2204 /content/image/images/00002740.jpg: 448x640 1 face, 163.8ms\n",
            "image 1709/2204 /content/image/images/00002743.jpg: 448x640 1 face, 173.6ms\n",
            "image 1710/2204 /content/image/images/00002744.jpg: 640x448 1 face, 178.7ms\n",
            "image 1711/2204 /content/image/images/00002745.jpg: 448x640 3 faces, 157.5ms\n",
            "image 1712/2204 /content/image/images/00002748.jpg: 480x640 (no detections), 197.2ms\n",
            "image 1713/2204 /content/image/images/00002751.jpg: 448x640 2 faces, 161.1ms\n",
            "image 1714/2204 /content/image/images/00002753.jpg: 448x640 3 faces, 185.4ms\n",
            "image 1715/2204 /content/image/images/00002755.jpg: 448x640 1 face, 164.5ms\n",
            "image 1716/2204 /content/image/images/00002756.jpg: 480x640 5 faces, 174.3ms\n",
            "image 1717/2204 /content/image/images/00002758.jpg: 640x640 1 face, 238.0ms\n",
            "image 1718/2204 /content/image/images/00002759.jpg: 640x640 2 faces, 225.1ms\n",
            "image 1719/2204 /content/image/images/00002762.jpg: 640x640 1 face, 275.7ms\n",
            "image 1720/2204 /content/image/images/00002763.jpg: 640x512 1 face, 180.8ms\n",
            "image 1721/2204 /content/image/images/00002766.jpg: 448x640 1 face, 186.7ms\n",
            "image 1722/2204 /content/image/images/00002767.jpg: 448x640 1 face, 162.2ms\n",
            "image 1723/2204 /content/image/images/00002768.jpg: 320x640 1 face, 121.1ms\n",
            "image 1724/2204 /content/image/images/00002769.jpg: 448x640 1 face, 185.3ms\n",
            "image 1725/2204 /content/image/images/00002771.jpg: 512x640 (no detections), 187.7ms\n",
            "image 1726/2204 /content/image/images/00002772.jpg: 640x416 1 face, 165.9ms\n",
            "image 1727/2204 /content/image/images/00002775.jpg: 512x640 1 face, 199.6ms\n",
            "image 1728/2204 /content/image/images/00002776.jpg: 448x640 1 face, 179.0ms\n",
            "image 1729/2204 /content/image/images/00002777.jpg: 448x640 1 face, 158.9ms\n",
            "image 1730/2204 /content/image/images/00002781.jpg: 640x448 1 face, 169.5ms\n",
            "image 1731/2204 /content/image/images/00002782.jpg: 448x640 1 face, 180.2ms\n",
            "image 1732/2204 /content/image/images/00002783.jpg: 480x640 1 face, 174.7ms\n",
            "image 1733/2204 /content/image/images/00002784.jpg: 320x640 2 faces, 122.2ms\n",
            "image 1734/2204 /content/image/images/00002786.jpg: 448x640 1 face, 198.3ms\n",
            "image 1735/2204 /content/image/images/00002787.jpg: 640x576 2 faces, 251.8ms\n",
            "image 1736/2204 /content/image/images/00002788.jpg: 640x480 1 face, 271.4ms\n",
            "image 1737/2204 /content/image/images/00002795.jpg: 512x640 1 face, 329.7ms\n",
            "image 1738/2204 /content/image/images/00002796.jpg: 640x640 1 face, 361.1ms\n",
            "image 1739/2204 /content/image/images/00002797.jpg: 448x640 1 face, 249.2ms\n",
            "image 1740/2204 /content/image/images/00002798.jpg: 448x640 5 faces, 256.1ms\n",
            "image 1741/2204 /content/image/images/00002799.jpg: 448x640 1 face, 250.8ms\n",
            "image 1742/2204 /content/image/images/00002800.jpg: 448x640 4 faces, 255.9ms\n",
            "image 1743/2204 /content/image/images/00002801.jpg: 640x512 3 faces, 309.1ms\n",
            "image 1744/2204 /content/image/images/00002802.jpg: 384x640 5 faces, 239.8ms\n",
            "image 1745/2204 /content/image/images/00002803.jpg: 640x448 1 face, 199.4ms\n",
            "image 1746/2204 /content/image/images/00002804.jpg: 448x640 4 faces, 171.1ms\n",
            "image 1747/2204 /content/image/images/00002805.jpg: 480x640 (no detections), 177.4ms\n",
            "image 1748/2204 /content/image/images/00002807.jpg: 416x640 2 faces, 157.8ms\n",
            "image 1749/2204 /content/image/images/00002808.jpg: 448x640 1 face, 156.4ms\n",
            "image 1750/2204 /content/image/images/00002810.jpg: 544x640 1 face, 235.9ms\n",
            "image 1751/2204 /content/image/images/00002811.jpg: 448x640 3 faces, 165.6ms\n",
            "image 1752/2204 /content/image/images/00002814.jpg: 448x640 3 faces, 158.8ms\n",
            "image 1753/2204 /content/image/images/00002815.jpg: 448x640 1 face, 167.7ms\n",
            "image 1754/2204 /content/image/images/00002816.jpg: 448x640 1 face, 165.0ms\n",
            "image 1755/2204 /content/image/images/00002817.jpg: 448x640 3 faces, 183.0ms\n",
            "image 1756/2204 /content/image/images/00002821.jpg: 448x640 2 faces, 187.2ms\n",
            "image 1757/2204 /content/image/images/00002822.jpg: 448x640 2 faces, 181.2ms\n",
            "image 1758/2204 /content/image/images/00002823.jpg: 480x640 2 faces, 180.9ms\n",
            "image 1759/2204 /content/image/images/00002825.jpg: 448x640 1 face, 158.1ms\n",
            "image 1760/2204 /content/image/images/00002826.jpg: 480x640 1 face, 207.1ms\n",
            "image 1761/2204 /content/image/images/00002827.jpg: 448x640 1 face, 166.0ms\n",
            "image 1762/2204 /content/image/images/00002828.jpg: 384x640 1 face, 144.1ms\n",
            "image 1763/2204 /content/image/images/00002829.jpg: 448x640 1 face, 166.1ms\n",
            "image 1764/2204 /content/image/images/00002830.jpg: 640x448 3 faces, 159.9ms\n",
            "image 1765/2204 /content/image/images/00002836.jpg: 480x640 1 face, 177.6ms\n",
            "image 1766/2204 /content/image/images/00002837.jpg: 448x640 1 face, 181.7ms\n",
            "image 1767/2204 /content/image/images/00002839.jpg: 448x640 1 face, 173.0ms\n",
            "image 1768/2204 /content/image/images/00002841.jpg: 480x640 1 face, 177.4ms\n",
            "image 1769/2204 /content/image/images/00002842.jpg: 480x640 5 faces, 173.0ms\n",
            "image 1770/2204 /content/image/images/00002843.jpg: 480x640 1 face, 172.5ms\n",
            "image 1771/2204 /content/image/images/00002845.jpg: 640x448 1 face, 186.5ms\n",
            "image 1772/2204 /content/image/images/00002846.jpg: 640x448 1 face, 166.0ms\n",
            "image 1773/2204 /content/image/images/00002847.jpg: 640x640 1 face, 240.8ms\n",
            "image 1774/2204 /content/image/images/00002848.jpg: 640x480 1 face, 172.5ms\n",
            "image 1775/2204 /content/image/images/00002850.jpg: 640x448 1 face, 164.2ms\n",
            "image 1776/2204 /content/image/images/00002851.jpg: 384x640 1 face, 161.2ms\n",
            "image 1777/2204 /content/image/images/00002852.jpg: 448x640 1 face, 164.0ms\n",
            "image 1778/2204 /content/image/images/00002853.jpg: 448x640 2 faces, 176.5ms\n",
            "image 1779/2204 /content/image/images/00002854.jpg: 448x640 1 face, 163.3ms\n",
            "image 1780/2204 /content/image/images/00002855.jpg: 448x640 2 faces, 158.3ms\n",
            "image 1781/2204 /content/image/images/00002856.jpg: 448x640 1 face, 159.4ms\n",
            "image 1782/2204 /content/image/images/00002857.jpg: 448x640 5 faces, 186.9ms\n",
            "image 1783/2204 /content/image/images/00002858.jpg: 384x640 1 face, 147.0ms\n",
            "image 1784/2204 /content/image/images/00002860.jpg: 480x640 2 faces, 189.6ms\n",
            "image 1785/2204 /content/image/images/00002863.jpg: 640x640 1 face, 224.0ms\n",
            "image 1786/2204 /content/image/images/00002866.jpg: 480x640 6 faces, 168.4ms\n",
            "image 1787/2204 /content/image/images/00002867.jpg: 384x640 (no detections), 163.6ms\n",
            "image 1788/2204 /content/image/images/00002868.jpg: 640x448 1 face, 163.2ms\n",
            "image 1789/2204 /content/image/images/00002869.jpg: 640x448 1 face, 167.5ms\n",
            "image 1790/2204 /content/image/images/00002871.jpg: 640x416 2 faces, 150.8ms\n",
            "image 1791/2204 /content/image/images/00002872.jpg: 448x640 1 face, 158.8ms\n",
            "image 1792/2204 /content/image/images/00002874.jpg: 640x640 (no detections), 264.1ms\n",
            "image 1793/2204 /content/image/images/00002875.jpg: 480x640 1 face, 181.5ms\n",
            "image 1794/2204 /content/image/images/00002876.jpg: 448x640 2 faces, 162.3ms\n",
            "image 1795/2204 /content/image/images/00002877.jpg: 640x448 2 faces, 256.7ms\n",
            "image 1796/2204 /content/image/images/00002878.jpg: 448x640 1 face, 266.3ms\n",
            "image 1797/2204 /content/image/images/00002880.jpg: 480x640 1 face, 277.1ms\n",
            "image 1798/2204 /content/image/images/00002883.jpg: 448x640 2 faces, 253.7ms\n",
            "image 1799/2204 /content/image/images/00002884.jpg: 544x640 4 faces, 311.7ms\n",
            "image 1800/2204 /content/image/images/00002885.jpg: 480x640 5 faces, 275.3ms\n",
            "image 1801/2204 /content/image/images/00002887.jpg: 384x640 4 faces, 228.8ms\n",
            "image 1802/2204 /content/image/images/00002889.jpg: 448x640 1 face, 265.1ms\n",
            "image 1803/2204 /content/image/images/00002890.jpg: 640x448 1 face, 298.1ms\n",
            "image 1804/2204 /content/image/images/00002891.jpg: 480x640 1 face, 260.8ms\n",
            "image 1805/2204 /content/image/images/00002892.jpg: 384x640 1 face, 154.8ms\n",
            "image 1806/2204 /content/image/images/00002893.jpg: 480x640 2 faces, 174.6ms\n",
            "image 1807/2204 /content/image/images/00002896.jpg: 448x640 2 faces, 183.7ms\n",
            "image 1808/2204 /content/image/images/00002897.jpg: 448x640 1 face, 163.9ms\n",
            "image 1809/2204 /content/image/images/00002898.jpg: 448x640 1 face, 164.8ms\n",
            "image 1810/2204 /content/image/images/00002899.jpg: 640x640 1 face, 227.9ms\n",
            "image 1811/2204 /content/image/images/00002902.jpg: 640x640 1 face, 241.8ms\n",
            "image 1812/2204 /content/image/images/00002903.jpg: 640x480 1 face, 177.0ms\n",
            "image 1813/2204 /content/image/images/00002904.jpg: 448x640 1 face, 175.5ms\n",
            "image 1814/2204 /content/image/images/00002908.jpg: 640x448 1 face, 176.6ms\n",
            "image 1815/2204 /content/image/images/00002909.jpg: 320x640 1 face, 127.4ms\n",
            "image 1816/2204 /content/image/images/00002910.jpg: 448x640 4 faces, 163.4ms\n",
            "image 1817/2204 /content/image/images/00002911.jpg: 480x640 1 face, 180.2ms\n",
            "image 1818/2204 /content/image/images/00002912.jpg: 640x640 1 face, 235.1ms\n",
            "image 1819/2204 /content/image/images/00002914.jpg: 352x640 (no detections), 139.8ms\n",
            "image 1820/2204 /content/image/images/00002916.jpg: 640x416 2 faces, 174.3ms\n",
            "image 1821/2204 /content/image/images/00002918.jpg: 384x640 1 face, 145.1ms\n",
            "image 1822/2204 /content/image/images/00002919.jpg: 384x640 6 faces, 147.9ms\n",
            "image 1823/2204 /content/image/images/00002920.jpg: 448x640 1 face, 162.5ms\n",
            "image 1824/2204 /content/image/images/00002921.jpg: 448x640 1 face, 160.5ms\n",
            "image 1825/2204 /content/image/images/00002922.jpg: 640x448 1 face, 191.7ms\n",
            "image 1826/2204 /content/image/images/00002923.jpg: 448x640 2 faces, 165.2ms\n",
            "image 1827/2204 /content/image/images/00002926.jpg: 640x480 2 faces, 175.8ms\n",
            "image 1828/2204 /content/image/images/00002928.jpg: 352x640 4 faces, 142.2ms\n",
            "image 1829/2204 /content/image/images/00002930.jpg: 640x416 1 face, 156.1ms\n",
            "image 1830/2204 /content/image/images/00002931.jpg: 640x640 (no detections), 297.1ms\n",
            "image 1831/2204 /content/image/images/00002932.jpg: 448x640 2 faces, 166.2ms\n",
            "image 1832/2204 /content/image/images/00002934.jpg: 320x640 1 face, 141.1ms\n",
            "image 1833/2204 /content/image/images/00002937.jpg: 448x640 3 faces, 166.7ms\n",
            "image 1834/2204 /content/image/images/00002938.jpg: 384x640 5 faces, 149.6ms\n",
            "image 1835/2204 /content/image/images/00002939.jpg: 640x448 1 face, 169.2ms\n",
            "image 1836/2204 /content/image/images/00002940.jpg: 640x640 (no detections), 252.1ms\n",
            "image 1837/2204 /content/image/images/00002941.jpg: 640x448 1 face, 170.3ms\n",
            "image 1838/2204 /content/image/images/00002943.jpg: 448x640 3 faces, 166.4ms\n",
            "image 1839/2204 /content/image/images/00002944.jpg: 640x448 1 face, 167.4ms\n",
            "image 1840/2204 /content/image/images/00002945.jpg: 640x512 1 face, 203.7ms\n",
            "image 1841/2204 /content/image/images/00002949.jpg: 640x512 1 face, 223.6ms\n",
            "image 1842/2204 /content/image/images/00002952.jpg: 448x640 2 faces, 185.9ms\n",
            "image 1843/2204 /content/image/images/00002953.jpg: 640x544 1 face, 212.3ms\n",
            "image 1844/2204 /content/image/images/00002954.jpg: 640x448 3 faces, 169.6ms\n",
            "image 1845/2204 /content/image/images/00002956.jpg: 448x640 1 face, 163.2ms\n",
            "image 1846/2204 /content/image/images/00002959.jpg: 352x640 1 face, 155.4ms\n",
            "image 1847/2204 /content/image/images/00002960.jpg: 480x640 1 face, 179.2ms\n",
            "image 1848/2204 /content/image/images/00002962.jpg: 448x640 1 face, 170.9ms\n",
            "image 1849/2204 /content/image/images/00002963.jpg: 320x640 8 faces, 130.2ms\n",
            "image 1850/2204 /content/image/images/00002964.jpg: 384x640 (no detections), 150.7ms\n",
            "image 1851/2204 /content/image/images/00002965.jpg: 448x640 1 face, 236.3ms\n",
            "image 1852/2204 /content/image/images/00002966.jpg: 384x640 2 faces, 238.5ms\n",
            "image 1853/2204 /content/image/images/00002970.jpg: 640x640 1 face, 373.3ms\n",
            "image 1854/2204 /content/image/images/00002971.jpg: 480x640 1 face, 268.1ms\n",
            "image 1855/2204 /content/image/images/00002972.jpg: 448x640 2 faces, 258.8ms\n",
            "image 1856/2204 /content/image/images/00002974.jpg: 448x640 7 faces, 277.2ms\n",
            "image 1857/2204 /content/image/images/00002975.jpg: 448x640 1 face, 294.8ms\n",
            "image 1858/2204 /content/image/images/00002976.jpg: 640x640 (no detections), 403.7ms\n",
            "image 1859/2204 /content/image/images/00002978.jpg: 640x448 1 face, 265.4ms\n",
            "image 1860/2204 /content/image/images/00002979.jpg: 352x640 4 faces, 210.8ms\n",
            "image 1861/2204 /content/image/images/00002983.jpg: 512x640 (no detections), 232.4ms\n",
            "image 1862/2204 /content/image/images/00002984.jpg: 640x448 2 faces, 166.7ms\n",
            "image 1863/2204 /content/image/images/00002985.jpg: 448x640 2 faces, 169.2ms\n",
            "image 1864/2204 /content/image/images/00002986.jpg: 448x640 5 faces, 162.3ms\n",
            "image 1865/2204 /content/image/images/00002987.jpg: 320x640 2 faces, 126.4ms\n",
            "image 1866/2204 /content/image/images/00002988.jpg: 512x640 1 face, 186.6ms\n",
            "image 1867/2204 /content/image/images/00002989.jpg: 640x448 1 face, 163.0ms\n",
            "image 1868/2204 /content/image/images/00002990.jpg: 512x640 1 face, 193.5ms\n",
            "image 1869/2204 /content/image/images/00002991.jpg: 448x640 3 faces, 161.2ms\n",
            "image 1870/2204 /content/image/images/00002993.jpg: 640x640 1 face, 234.3ms\n",
            "image 1871/2204 /content/image/images/00002995.jpg: 448x640 1 face, 182.8ms\n",
            "image 1872/2204 /content/image/images/00002997.jpg: 448x640 3 faces, 174.4ms\n",
            "image 1873/2204 /content/image/images/00003000.jpg: 384x640 1 face, 148.9ms\n",
            "image 1874/2204 /content/image/images/00003001.jpg: 384x640 1 face, 146.6ms\n",
            "image 1875/2204 /content/image/images/00003002.jpg: 480x640 5 faces, 178.6ms\n",
            "image 1876/2204 /content/image/images/00003003.jpg: 448x640 3 faces, 188.7ms\n",
            "image 1877/2204 /content/image/images/00003004.jpg: 640x640 2 faces, 264.8ms\n",
            "image 1878/2204 /content/image/images/00003006.jpg: 640x640 2 faces, 233.6ms\n",
            "image 1879/2204 /content/image/images/00003008.jpg: 480x640 1 face, 179.0ms\n",
            "image 1880/2204 /content/image/images/00003009.jpg: 640x480 2 faces, 179.1ms\n",
            "image 1881/2204 /content/image/images/00003010.jpg: 512x640 2 faces, 194.9ms\n",
            "image 1882/2204 /content/image/images/00003012.jpg: 448x640 1 face, 160.9ms\n",
            "image 1883/2204 /content/image/images/00003016.jpg: 544x640 1 face, 222.8ms\n",
            "image 1884/2204 /content/image/images/00003017.jpg: 416x640 1 face, 158.9ms\n",
            "image 1885/2204 /content/image/images/00003018.jpg: 640x448 3 faces, 178.7ms\n",
            "image 1886/2204 /content/image/images/00003019.jpg: 448x640 1 face, 188.1ms\n",
            "image 1887/2204 /content/image/images/00003020.jpg: 384x640 4 faces, 150.6ms\n",
            "image 1888/2204 /content/image/images/00003021.jpg: 448x640 1 face, 166.1ms\n",
            "image 1889/2204 /content/image/images/00003023.jpg: 384x640 5 faces, 151.4ms\n",
            "image 1890/2204 /content/image/images/00003025.jpg: 640x640 1 face, 236.0ms\n",
            "image 1891/2204 /content/image/images/00003027.jpg: 448x640 2 faces, 176.1ms\n",
            "image 1892/2204 /content/image/images/00003030.jpg: 448x640 1 face, 157.7ms\n",
            "image 1893/2204 /content/image/images/00003031.jpg: 512x640 1 face, 187.5ms\n",
            "image 1894/2204 /content/image/images/00003033.jpg: 448x640 2 faces, 170.2ms\n",
            "image 1895/2204 /content/image/images/00003034.jpg: 640x448 1 face, 175.2ms\n",
            "image 1896/2204 /content/image/images/00003035.jpg: 480x640 3 faces, 199.2ms\n",
            "image 1897/2204 /content/image/images/00003036.jpg: 448x640 1 face, 159.8ms\n",
            "image 1898/2204 /content/image/images/00003038.jpg: 448x640 2 faces, 171.0ms\n",
            "image 1899/2204 /content/image/images/00003039.jpg: 448x640 2 faces, 168.5ms\n",
            "image 1900/2204 /content/image/images/00003041.jpg: 448x640 2 faces, 166.9ms\n",
            "image 1901/2204 /content/image/images/00003042.jpg: 480x640 (no detections), 196.8ms\n",
            "image 1902/2204 /content/image/images/00003043.jpg: 448x640 1 face, 169.0ms\n",
            "image 1903/2204 /content/image/images/00003044.jpg: 448x640 1 face, 163.2ms\n",
            "image 1904/2204 /content/image/images/00003045.jpg: 448x640 1 face, 191.5ms\n",
            "image 1905/2204 /content/image/images/00003046.jpg: 640x448 4 faces, 168.6ms\n",
            "image 1906/2204 /content/image/images/00003048.jpg: 448x640 2 faces, 162.7ms\n",
            "image 1907/2204 /content/image/images/00003049.jpg: 640x448 2 faces, 238.1ms\n",
            "image 1908/2204 /content/image/images/00003051.jpg: 448x640 1 face, 256.1ms\n",
            "image 1909/2204 /content/image/images/00003052.jpg: 640x512 2 faces, 311.0ms\n",
            "image 1910/2204 /content/image/images/00003053.jpg: 512x640 1 face, 289.0ms\n",
            "image 1911/2204 /content/image/images/00003054.jpg: 480x640 2 faces, 269.7ms\n",
            "image 1912/2204 /content/image/images/00003055.jpg: 480x640 2 faces, 269.2ms\n",
            "image 1913/2204 /content/image/images/00003056.jpg: 640x352 1 face, 218.5ms\n",
            "image 1914/2204 /content/image/images/00003057.jpg: 640x448 2 faces, 266.6ms\n",
            "image 1915/2204 /content/image/images/00003058.jpg: 640x640 2 faces, 372.5ms\n",
            "image 1916/2204 /content/image/images/00003059.jpg: 480x640 (no detections), 280.1ms\n",
            "image 1917/2204 /content/image/images/00003061.jpg: 640x512 1 face, 199.0ms\n",
            "image 1918/2204 /content/image/images/00003062.jpg: 480x640 (no detections), 179.8ms\n",
            "image 1919/2204 /content/image/images/00003065.jpg: 448x640 1 face, 168.1ms\n",
            "image 1920/2204 /content/image/images/00003066.jpg: 512x640 1 face, 230.5ms\n",
            "image 1921/2204 /content/image/images/00003067.jpg: 448x640 2 faces, 171.9ms\n",
            "image 1922/2204 /content/image/images/00003068.jpg: 448x640 1 face, 166.5ms\n",
            "image 1923/2204 /content/image/images/00003069.jpg: 448x640 7 faces, 179.9ms\n",
            "image 1924/2204 /content/image/images/00003070.jpg: 640x448 1 face, 161.3ms\n",
            "image 1925/2204 /content/image/images/00003071.jpg: 384x640 4 faces, 151.1ms\n",
            "image 1926/2204 /content/image/images/00003072.jpg: 448x640 2 faces, 163.8ms\n",
            "image 1927/2204 /content/image/images/00003073.jpg: 448x640 1 face, 169.1ms\n",
            "image 1928/2204 /content/image/images/00003074.jpg: 480x640 2 faces, 176.4ms\n",
            "image 1929/2204 /content/image/images/00003076.jpg: 640x512 1 face, 183.9ms\n",
            "image 1930/2204 /content/image/images/00003077.jpg: 640x416 3 faces, 168.0ms\n",
            "image 1931/2204 /content/image/images/00003080.jpg: 480x640 3 faces, 177.3ms\n",
            "image 1932/2204 /content/image/images/00003081.jpg: 640x480 1 face, 171.7ms\n",
            "image 1933/2204 /content/image/images/00003083.jpg: 640x448 1 face, 162.4ms\n",
            "image 1934/2204 /content/image/images/00003085.jpg: 640x448 2 faces, 171.9ms\n",
            "image 1935/2204 /content/image/images/00003086.jpg: 448x640 5 faces, 162.4ms\n",
            "image 1936/2204 /content/image/images/00003087.jpg: 320x640 1 face, 139.2ms\n",
            "image 1937/2204 /content/image/images/00003090.jpg: 640x640 1 face, 241.4ms\n",
            "image 1938/2204 /content/image/images/00003092.jpg: 640x448 1 face, 172.1ms\n",
            "image 1939/2204 /content/image/images/00003093.jpg: 640x512 2 faces, 196.6ms\n",
            "image 1940/2204 /content/image/images/00003095.jpg: 480x640 1 face, 178.7ms\n",
            "image 1941/2204 /content/image/images/00003097.jpg: 448x640 1 face, 178.0ms\n",
            "image 1942/2204 /content/image/images/00003098.jpg: 448x640 2 faces, 160.8ms\n",
            "image 1943/2204 /content/image/images/00003100.jpg: 512x640 1 face, 189.1ms\n",
            "image 1944/2204 /content/image/images/00003102.jpg: 448x640 6 faces, 165.8ms\n",
            "image 1945/2204 /content/image/images/00003103.jpg: 352x640 3 faces, 139.6ms\n",
            "image 1946/2204 /content/image/images/00003104.jpg: 448x640 1 face, 193.9ms\n",
            "image 1947/2204 /content/image/images/00003108.jpg: 640x640 3 faces, 245.8ms\n",
            "image 1948/2204 /content/image/images/00003110.jpg: 448x640 2 faces, 161.8ms\n",
            "image 1949/2204 /content/image/images/00003111.jpg: 448x640 2 faces, 161.5ms\n",
            "image 1950/2204 /content/image/images/00003112.jpg: 480x640 1 face, 172.3ms\n",
            "image 1951/2204 /content/image/images/00003113.jpg: 448x640 2 faces, 183.6ms\n",
            "image 1952/2204 /content/image/images/00003115.jpg: 640x448 1 face, 161.0ms\n",
            "image 1953/2204 /content/image/images/00003116.jpg: 448x640 1 face, 160.1ms\n",
            "image 1954/2204 /content/image/images/00003117.jpg: 448x640 2 faces, 156.0ms\n",
            "image 1955/2204 /content/image/images/00003121.jpg: 448x640 5 faces, 159.5ms\n",
            "image 1956/2204 /content/image/images/00003123.jpg: 640x512 1 face, 187.1ms\n",
            "image 1957/2204 /content/image/images/00003124.jpg: 640x448 2 faces, 179.3ms\n",
            "image 1958/2204 /content/image/images/00003126.jpg: 640x448 1 face, 165.7ms\n",
            "image 1959/2204 /content/image/images/00003127.jpg: 448x640 1 face, 161.9ms\n",
            "image 1960/2204 /content/image/images/00003128.jpg: 640x640 1 face, 247.3ms\n",
            "image 1961/2204 /content/image/images/00003130.jpg: 640x448 1 face, 171.5ms\n",
            "image 1962/2204 /content/image/images/00003131.jpg: 640x448 1 face, 165.6ms\n",
            "image 1963/2204 /content/image/images/00003132.jpg: 480x640 2 faces, 178.6ms\n",
            "image 1964/2204 /content/image/images/00003133.jpg: 448x640 1 face, 251.6ms\n",
            "image 1965/2204 /content/image/images/00003136.jpg: 448x640 1 face, 280.5ms\n",
            "image 1966/2204 /content/image/images/00003138.jpg: 448x640 1 face, 247.2ms\n",
            "image 1967/2204 /content/image/images/00003140.jpg: 384x640 1 face, 227.8ms\n",
            "image 1968/2204 /content/image/images/00003141.jpg: 448x640 7 faces, 261.4ms\n",
            "image 1969/2204 /content/image/images/00003142.jpg: 448x640 1 face, 245.3ms\n",
            "image 1970/2204 /content/image/images/00003143.jpg: 640x416 1 face, 235.1ms\n",
            "image 1971/2204 /content/image/images/00003144.jpg: 448x640 1 face, 266.8ms\n",
            "image 1972/2204 /content/image/images/00003145.jpg: 448x640 1 face, 276.3ms\n",
            "image 1973/2204 /content/image/images/00003146.jpg: 448x640 5 faces, 256.8ms\n",
            "image 1974/2204 /content/image/images/00003147.jpg: 640x448 1 face, 247.6ms\n",
            "image 1975/2204 /content/image/images/00003148.jpg: 480x640 1 face, 179.9ms\n",
            "image 1976/2204 /content/image/images/00003150.jpg: 448x640 3 faces, 167.7ms\n",
            "image 1977/2204 /content/image/images/00003151.jpg: 416x640 3 faces, 160.5ms\n",
            "image 1978/2204 /content/image/images/00003152.jpg: 448x640 2 faces, 165.4ms\n",
            "image 1979/2204 /content/image/images/00003153.jpg: 448x640 3 faces, 162.8ms\n",
            "image 1980/2204 /content/image/images/00003154.jpg: 448x640 1 face, 159.4ms\n",
            "image 1981/2204 /content/image/images/00003155.jpg: 448x640 1 face, 163.5ms\n",
            "image 1982/2204 /content/image/images/00003156.jpg: 640x640 (no detections), 244.6ms\n",
            "image 1983/2204 /content/image/images/00003159.jpg: 448x640 1 face, 162.9ms\n",
            "image 1984/2204 /content/image/images/00003160.jpg: 384x640 1 face, 147.3ms\n",
            "image 1985/2204 /content/image/images/00003161.jpg: 448x640 1 face, 164.8ms\n",
            "image 1986/2204 /content/image/images/00003162.jpg: 640x640 (no detections), 229.4ms\n",
            "image 1987/2204 /content/image/images/00003163.jpg: 640x448 1 face, 179.3ms\n",
            "image 1988/2204 /content/image/images/00003165.jpg: 640x608 11 faces, 213.3ms\n",
            "image 1989/2204 /content/image/images/00003166.jpg: 480x640 1 face, 177.1ms\n",
            "image 1990/2204 /content/image/images/00003167.jpg: 448x640 2 faces, 176.9ms\n",
            "image 1991/2204 /content/image/images/00003168.jpg: 480x640 1 face, 189.0ms\n",
            "image 1992/2204 /content/image/images/00003169.jpg: 640x640 1 face, 249.5ms\n",
            "image 1993/2204 /content/image/images/00003171.jpg: 640x448 1 face, 169.0ms\n",
            "image 1994/2204 /content/image/images/00003172.jpg: 640x608 11 faces, 222.9ms\n",
            "image 1995/2204 /content/image/images/00003173.jpg: 448x640 1 face, 160.3ms\n",
            "image 1996/2204 /content/image/images/00003175.jpg: 640x448 1 face, 169.6ms\n",
            "image 1997/2204 /content/image/images/00003177.jpg: 640x640 1 face, 238.3ms\n",
            "image 1998/2204 /content/image/images/00003178.jpg: 448x640 2 faces, 179.0ms\n",
            "image 1999/2204 /content/image/images/00003183.jpg: 352x640 2 faces, 132.8ms\n",
            "image 2000/2204 /content/image/images/00003184.jpg: 448x640 1 face, 166.0ms\n",
            "image 2001/2204 /content/image/images/00003185.jpg: 480x640 2 faces, 169.3ms\n",
            "image 2002/2204 /content/image/images/00003187.jpg: 448x640 2 faces, 178.8ms\n",
            "image 2003/2204 /content/image/images/00003188.jpg: 640x640 (no detections), 242.3ms\n",
            "image 2004/2204 /content/image/images/00003191.jpg: 448x640 1 face, 166.6ms\n",
            "image 2005/2204 /content/image/images/00003192.jpg: 448x640 2 faces, 167.4ms\n",
            "image 2006/2204 /content/image/images/00003193.jpg: 640x640 1 face, 229.7ms\n",
            "image 2007/2204 /content/image/images/00003194.jpg: 480x640 1 face, 197.1ms\n",
            "image 2008/2204 /content/image/images/00003196.jpg: 448x640 2 faces, 173.9ms\n",
            "image 2009/2204 /content/image/images/00003197.jpg: 448x640 1 face, 167.7ms\n",
            "image 2010/2204 /content/image/images/00003198.jpg: 448x640 5 faces, 179.8ms\n",
            "image 2011/2204 /content/image/images/00003200.jpg: 640x512 2 faces, 191.4ms\n",
            "image 2012/2204 /content/image/images/00003202.jpg: 640x448 1 face, 182.5ms\n",
            "image 2013/2204 /content/image/images/00003203.jpg: 448x640 6 faces, 171.6ms\n",
            "image 2014/2204 /content/image/images/00003206.jpg: 448x640 2 faces, 168.7ms\n",
            "image 2015/2204 /content/image/images/00003212.jpg: 640x640 1 face, 232.8ms\n",
            "image 2016/2204 /content/image/images/00003213.jpg: 448x640 1 face, 158.8ms\n",
            "image 2017/2204 /content/image/images/00003216.jpg: 448x640 1 face, 183.7ms\n",
            "image 2018/2204 /content/image/images/00003217.jpg: 448x640 1 face, 188.9ms\n",
            "image 2019/2204 /content/image/images/00003218.jpg: 448x640 1 face, 160.3ms\n",
            "image 2020/2204 /content/image/images/00003219.jpg: 640x416 1 face, 161.5ms\n",
            "image 2021/2204 /content/image/images/00003220.jpg: 448x640 (no detections), 168.4ms\n",
            "image 2022/2204 /content/image/images/00003222.jpg: 640x448 1 face, 178.5ms\n",
            "image 2023/2204 /content/image/images/00003224.jpg: 448x640 2 faces, 185.0ms\n",
            "image 2024/2204 /content/image/images/00003225.jpg: 480x640 1 face, 291.3ms\n",
            "image 2025/2204 /content/image/images/00003228.jpg: 448x640 1 face, 263.0ms\n",
            "image 2026/2204 /content/image/images/00003230.jpg: 448x640 1 face, 270.2ms\n",
            "image 2027/2204 /content/image/images/00003231.jpg: 640x640 2 faces, 363.2ms\n",
            "image 2028/2204 /content/image/images/00003232.jpg: 448x640 2 faces, 241.3ms\n",
            "image 2029/2204 /content/image/images/00003233.jpg: 640x640 1 face, 372.8ms\n",
            "image 2030/2204 /content/image/images/00003237.jpg: 640x544 1 face, 312.6ms\n",
            "image 2031/2204 /content/image/images/00003238.jpg: 448x640 1 face, 267.5ms\n",
            "image 2032/2204 /content/image/images/00003240.jpg: 480x640 3 faces, 286.8ms\n",
            "image 2033/2204 /content/image/images/00003243.jpg: 640x640 1 face, 329.0ms\n",
            "image 2034/2204 /content/image/images/00003244.jpg: 640x448 1 face, 173.0ms\n",
            "image 2035/2204 /content/image/images/00003245.jpg: 640x640 (no detections), 222.8ms\n",
            "image 2036/2204 /content/image/images/00003246.jpg: 448x640 2 faces, 162.3ms\n",
            "image 2037/2204 /content/image/images/00003247.jpg: 448x640 1 face, 181.3ms\n",
            "image 2038/2204 /content/image/images/00003248.jpg: 480x640 2 faces, 175.5ms\n",
            "image 2039/2204 /content/image/images/00003249.jpg: 640x448 2 faces, 173.7ms\n",
            "image 2040/2204 /content/image/images/00003254.jpg: 448x640 (no detections), 168.9ms\n",
            "image 2041/2204 /content/image/images/00003255.jpg: 640x640 2 faces, 236.4ms\n",
            "image 2042/2204 /content/image/images/00003256.jpg: 640x640 1 face, 247.2ms\n",
            "image 2043/2204 /content/image/images/00003258.jpg: 448x640 3 faces, 167.7ms\n",
            "image 2044/2204 /content/image/images/00003260.jpg: 640x448 2 faces, 165.4ms\n",
            "image 2045/2204 /content/image/images/00003261.jpg: 448x640 1 face, 161.5ms\n",
            "image 2046/2204 /content/image/images/00003262.jpg: 640x448 1 face, 165.7ms\n",
            "image 2047/2204 /content/image/images/00003263.jpg: 448x640 1 face, 166.0ms\n",
            "image 2048/2204 /content/image/images/00003264.jpg: 640x640 1 face, 245.5ms\n",
            "image 2049/2204 /content/image/images/00003266.jpg: 512x640 1 face, 180.4ms\n",
            "image 2050/2204 /content/image/images/00003267.jpg: 448x640 1 face, 167.9ms\n",
            "image 2051/2204 /content/image/images/00003268.jpg: 448x640 1 face, 172.3ms\n",
            "image 2052/2204 /content/image/images/00003269.jpg: 448x640 1 face, 169.8ms\n",
            "image 2053/2204 /content/image/images/00003273.jpg: 448x640 1 face, 182.6ms\n",
            "image 2054/2204 /content/image/images/00003275.jpg: 640x448 1 face, 175.5ms\n",
            "image 2055/2204 /content/image/images/00003276.jpg: 640x448 1 face, 176.4ms\n",
            "image 2056/2204 /content/image/images/00003277.jpg: 448x640 1 face, 174.4ms\n",
            "image 2057/2204 /content/image/images/00003279.jpg: 640x448 1 face, 180.7ms\n",
            "image 2058/2204 /content/image/images/00003283.jpg: 448x640 1 face, 180.8ms\n",
            "image 2059/2204 /content/image/images/00003284.jpg: 448x640 2 faces, 164.9ms\n",
            "image 2060/2204 /content/image/images/00003287.jpg: 640x640 3 faces, 241.1ms\n",
            "image 2061/2204 /content/image/images/00003288.jpg: 640x512 (no detections), 190.7ms\n",
            "image 2062/2204 /content/image/images/00003289.jpg: 640x416 2 faces, 165.1ms\n",
            "image 2063/2204 /content/image/images/00003291.jpg: 448x640 3 faces, 176.9ms\n",
            "image 2064/2204 /content/image/images/00003292.jpg: 448x640 1 face, 178.4ms\n",
            "image 2065/2204 /content/image/images/00003293.jpg: 640x480 (no detections), 177.9ms\n",
            "image 2066/2204 /content/image/images/00003295.jpg: 384x640 4 faces, 153.4ms\n",
            "image 2067/2204 /content/image/images/00003296.jpg: 448x640 2 faces, 163.9ms\n",
            "image 2068/2204 /content/image/images/00003297.jpg: 448x640 6 faces, 184.2ms\n",
            "image 2069/2204 /content/image/images/00003298.jpg: 448x640 2 faces, 170.1ms\n",
            "image 2070/2204 /content/image/images/00003299.jpg: 480x640 1 face, 175.9ms\n",
            "image 2071/2204 /content/image/images/00003300.jpg: 640x544 1 face, 196.7ms\n",
            "image 2072/2204 /content/image/images/00003301.jpg: 640x640 3 faces, 253.1ms\n",
            "image 2073/2204 /content/image/images/00003302.jpg: 640x640 1 face, 257.5ms\n",
            "image 2074/2204 /content/image/images/00003303.jpg: 384x640 3 faces, 143.6ms\n",
            "image 2075/2204 /content/image/images/00003304.jpg: 448x640 3 faces, 168.9ms\n",
            "image 2076/2204 /content/image/images/00003305.jpg: 640x448 1 face, 167.6ms\n",
            "image 2077/2204 /content/image/images/00003306.jpg: 640x576 1 face, 207.8ms\n",
            "image 2078/2204 /content/image/images/00003308.jpg: 640x448 2 faces, 183.1ms\n",
            "image 2079/2204 /content/image/images/00003309.jpg: 448x640 1 face, 168.9ms\n",
            "image 2080/2204 /content/image/images/00003310.jpg: 448x640 1 face, 165.5ms\n",
            "image 2081/2204 /content/image/images/00003311.jpg: 448x640 1 face, 185.8ms\n",
            "image 2082/2204 /content/image/images/00003312.jpg: 640x640 (no detections), 317.0ms\n",
            "image 2083/2204 /content/image/images/00003314.jpg: 640x448 1 face, 269.1ms\n",
            "image 2084/2204 /content/image/images/00003317.jpg: 480x640 4 faces, 289.2ms\n",
            "image 2085/2204 /content/image/images/00003319.jpg: 448x640 1 face, 269.1ms\n",
            "image 2086/2204 /content/image/images/00003320.jpg: 640x448 1 face, 262.4ms\n",
            "image 2087/2204 /content/image/images/00003323.jpg: 640x448 1 face, 253.7ms\n",
            "image 2088/2204 /content/image/images/00003325.jpg: 416x640 1 face, 248.9ms\n",
            "image 2089/2204 /content/image/images/00003326.jpg: 640x480 (no detections), 277.8ms\n",
            "image 2090/2204 /content/image/images/00003327.jpg: 448x640 1 face, 264.9ms\n",
            "image 2091/2204 /content/image/images/00003331.jpg: 480x640 2 faces, 268.6ms\n",
            "image 2092/2204 /content/image/images/00003332.jpg: 640x480 1 face, 204.4ms\n",
            "image 2093/2204 /content/image/images/00003333.jpg: 640x480 (no detections), 172.7ms\n",
            "image 2094/2204 /content/image/images/00003334.jpg: 448x640 1 face, 158.5ms\n",
            "image 2095/2204 /content/image/images/00003336.jpg: 416x640 1 face, 166.1ms\n",
            "image 2096/2204 /content/image/images/00003337.jpg: 640x640 (no detections), 234.7ms\n",
            "image 2097/2204 /content/image/images/00003339.jpg: 384x640 1 face, 164.8ms\n",
            "image 2098/2204 /content/image/images/00003342.jpg: 640x448 2 faces, 168.9ms\n",
            "image 2099/2204 /content/image/images/00003343.jpg: 640x640 1 face, 223.2ms\n",
            "image 2100/2204 /content/image/images/00003344.jpg: 640x640 (no detections), 245.2ms\n",
            "image 2101/2204 /content/image/images/00003348.jpg: 448x640 3 faces, 167.4ms\n",
            "image 2102/2204 /content/image/images/00003351.jpg: 640x448 1 face, 167.9ms\n",
            "image 2103/2204 /content/image/images/00003353.jpg: 480x640 1 face, 172.7ms\n",
            "image 2104/2204 /content/image/images/00003354.jpg: 640x640 1 face, 239.4ms\n",
            "image 2105/2204 /content/image/images/00003357.jpg: 640x416 2 faces, 169.3ms\n",
            "image 2106/2204 /content/image/images/00003358.jpg: 448x640 2 faces, 166.7ms\n",
            "image 2107/2204 /content/image/images/00003361.jpg: 448x640 8 faces, 174.6ms\n",
            "image 2108/2204 /content/image/images/00003362.jpg: 640x576 1 face, 206.6ms\n",
            "image 2109/2204 /content/image/images/00003364.jpg: 640x544 1 face, 192.5ms\n",
            "image 2110/2204 /content/image/images/00003365.jpg: 640x640 1 face, 256.8ms\n",
            "image 2111/2204 /content/image/images/00003368.jpg: 640x448 1 face, 169.7ms\n",
            "image 2112/2204 /content/image/images/00003369.jpg: 512x640 2 faces, 199.2ms\n",
            "image 2113/2204 /content/image/images/00003370.jpg: 640x480 1 face, 177.2ms\n",
            "image 2114/2204 /content/image/images/00003372.jpg: 640x448 1 face, 168.4ms\n",
            "image 2115/2204 /content/image/images/00003374.jpg: 640x640 2 faces, 232.6ms\n",
            "image 2116/2204 /content/image/images/00003377.jpg: 480x640 3 faces, 174.4ms\n",
            "image 2117/2204 /content/image/images/00003378.jpg: 448x640 6 faces, 171.9ms\n",
            "image 2118/2204 /content/image/images/00003379.jpg: 448x640 4 faces, 163.5ms\n",
            "image 2119/2204 /content/image/images/00003381.jpg: 448x640 (no detections), 158.6ms\n",
            "image 2120/2204 /content/image/images/00003384.jpg: 640x448 1 face, 184.0ms\n",
            "image 2121/2204 /content/image/images/00003385.jpg: 608x640 4 faces, 227.4ms\n",
            "image 2122/2204 /content/image/images/00003389.jpg: 448x640 2 faces, 160.8ms\n",
            "image 2123/2204 /content/image/images/00003390.jpg: 512x640 1 face, 197.0ms\n",
            "image 2124/2204 /content/image/images/00003393.jpg: 640x640 (no detections), 238.3ms\n",
            "image 2125/2204 /content/image/images/00003394.jpg: 480x640 4 faces, 173.9ms\n",
            "image 2126/2204 /content/image/images/00003395.jpg: 448x640 6 faces, 162.3ms\n",
            "image 2127/2204 /content/image/images/00003397.jpg: 640x448 1 face, 163.7ms\n",
            "image 2128/2204 /content/image/images/00003399.jpg: 480x640 1 face, 171.2ms\n",
            "image 2129/2204 /content/image/images/00003402.jpg: 640x448 1 face, 160.3ms\n",
            "image 2130/2204 /content/image/images/00003404.jpg: 640x448 1 face, 191.2ms\n",
            "image 2131/2204 /content/image/images/00003405.jpg: 448x640 3 faces, 160.7ms\n",
            "image 2132/2204 /content/image/images/00003406.jpg: 640x640 3 faces, 223.3ms\n",
            "image 2133/2204 /content/image/images/00003407.jpg: 480x640 2 faces, 171.9ms\n",
            "image 2134/2204 /content/image/images/00003410.jpg: 640x448 1 face, 165.2ms\n",
            "image 2135/2204 /content/image/images/00003413.jpg: 480x640 4 faces, 191.4ms\n",
            "image 2136/2204 /content/image/images/00003416.jpg: 640x448 1 face, 164.3ms\n",
            "image 2137/2204 /content/image/images/00003418.jpg: 640x640 (no detections), 228.8ms\n",
            "image 2138/2204 /content/image/images/00003421.jpg: 448x640 2 faces, 159.6ms\n",
            "image 2139/2204 /content/image/images/00003424.jpg: 448x640 4 faces, 159.1ms\n",
            "image 2140/2204 /content/image/images/00003425.jpg: 640x640 1 face, 264.1ms\n",
            "image 2141/2204 /content/image/images/00003426.jpg: 640x512 3 faces, 293.4ms\n",
            "image 2142/2204 /content/image/images/00003427.jpg: 448x640 1 face, 251.5ms\n",
            "image 2143/2204 /content/image/images/00003428.jpg: 640x640 1 face, 351.3ms\n",
            "image 2144/2204 /content/image/images/00003429.jpg: 640x448 3 faces, 299.2ms\n",
            "image 2145/2204 /content/image/images/00003430.jpg: 640x640 1 face, 339.9ms\n",
            "image 2146/2204 /content/image/images/00003431.jpg: 640x448 4 faces, 265.0ms\n",
            "image 2147/2204 /content/image/images/00003433.jpg: 640x448 1 face, 284.6ms\n",
            "image 2148/2204 /content/image/images/00003434.jpg: 640x576 1 face, 320.3ms\n",
            "image 2149/2204 /content/image/images/00003435.jpg: 640x448 2 faces, 259.3ms\n",
            "image 2150/2204 /content/image/images/00003436.jpg: 448x640 1 face, 217.8ms\n",
            "image 2151/2204 /content/image/images/00003437.jpg: 640x448 1 face, 180.4ms\n",
            "image 2152/2204 /content/image/images/00003438.jpg: 640x640 (no detections), 219.7ms\n",
            "image 2153/2204 /content/image/images/00003439.jpg: 448x640 1 face, 159.7ms\n",
            "image 2154/2204 /content/image/images/00003440.jpg: 640x448 1 face, 178.1ms\n",
            "image 2155/2204 /content/image/images/00003442.jpg: 640x480 1 face, 183.0ms\n",
            "image 2156/2204 /content/image/images/00003443.jpg: 640x480 1 face, 190.4ms\n",
            "image 2157/2204 /content/image/images/00003444.jpg: 640x640 1 face, 227.7ms\n",
            "image 2158/2204 /content/image/images/00003445.jpg: 640x512 1 face, 193.0ms\n",
            "image 2159/2204 /content/image/images/00003447.jpg: 448x640 1 face, 166.9ms\n",
            "image 2160/2204 /content/image/images/00003449.jpg: 640x448 1 face, 173.2ms\n",
            "image 2161/2204 /content/image/images/00003450.jpg: 640x448 2 faces, 179.4ms\n",
            "image 2162/2204 /content/image/images/00003451.jpg: 640x448 1 face, 177.8ms\n",
            "image 2163/2204 /content/image/images/00003452.jpg: 640x448 1 face, 167.2ms\n",
            "image 2164/2204 /content/image/images/00003453.jpg: 448x640 1 face, 170.2ms\n",
            "image 2165/2204 /content/image/images/00003454.jpg: 640x448 1 face, 166.1ms\n",
            "image 2166/2204 /content/image/images/00003456.jpg: 640x448 2 faces, 164.6ms\n",
            "image 2167/2204 /content/image/images/00003457.jpg: 640x448 1 face, 178.2ms\n",
            "image 2168/2204 /content/image/images/00003458.jpg: 640x576 3 faces, 220.5ms\n",
            "image 2169/2204 /content/image/images/00003459.jpg: 640x480 2 faces, 177.9ms\n",
            "image 2170/2204 /content/image/images/00003460.jpg: 640x448 1 face, 162.4ms\n",
            "image 2171/2204 /content/image/images/00003463.jpg: 448x640 1 face, 164.0ms\n",
            "image 2172/2204 /content/image/images/00003464.jpg: 640x480 1 face, 195.6ms\n",
            "image 2173/2204 /content/image/images/00003465.jpg: 640x416 1 face, 153.3ms\n",
            "image 2174/2204 /content/image/images/00003467.jpg: 448x640 2 faces, 160.8ms\n",
            "image 2175/2204 /content/image/images/00003470.jpg: 448x640 1 face, 163.8ms\n",
            "image 2176/2204 /content/image/images/00003471.jpg: 640x448 2 faces, 171.1ms\n",
            "image 2177/2204 /content/image/images/00003472.jpg: 384x640 3 faces, 149.1ms\n",
            "image 2178/2204 /content/image/images/00003473.jpg: 640x448 1 face, 177.3ms\n",
            "image 2179/2204 /content/image/images/00003475.jpg: 320x640 1 face, 131.1ms\n",
            "image 2180/2204 /content/image/images/00003476.jpg: 448x640 1 face, 169.7ms\n",
            "image 2181/2204 /content/image/images/00003477.jpg: 480x640 1 face, 181.1ms\n",
            "image 2182/2204 /content/image/images/00003478.jpg: 448x640 1 face, 169.3ms\n",
            "image 2183/2204 /content/image/images/00003480.jpg: 448x640 1 face, 166.6ms\n",
            "image 2184/2204 /content/image/images/00003481.jpg: 640x448 1 face, 175.0ms\n",
            "image 2185/2204 /content/image/images/00003482.jpg: 448x640 1 face, 228.1ms\n",
            "image 2186/2204 /content/image/images/00003483.jpg: 640x448 1 face, 261.6ms\n",
            "image 2187/2204 /content/image/images/00003484.jpg: 640x448 1 face, 264.8ms\n",
            "image 2188/2204 /content/image/images/00003486.jpg: 448x640 1 face, 266.8ms\n",
            "image 2189/2204 /content/image/images/00003487.jpg: 640x640 (no detections), 352.1ms\n",
            "image 2190/2204 /content/image/images/00003489.jpg: 640x512 1 face, 291.3ms\n",
            "image 2191/2204 /content/image/images/00003492.jpg: 640x448 1 face, 254.2ms\n",
            "image 2192/2204 /content/image/images/00003496.jpg: 640x512 (no detections), 328.8ms\n",
            "image 2193/2204 /content/image/images/00003497.jpg: 640x448 1 face, 285.5ms\n",
            "image 2194/2204 /content/image/images/00003498.jpg: 640x448 1 face, 262.0ms\n",
            "image 2195/2204 /content/image/images/00003500.jpg: 640x640 1 face, 313.8ms\n",
            "image 2196/2204 /content/image/images/00003501.jpg: 640x416 1 face, 154.0ms\n",
            "image 2197/2204 /content/image/images/00003502.jpg: 480x640 1 face, 243.9ms\n",
            "image 2198/2204 /content/image/images/00003504.jpg: 640x448 1 face, 260.3ms\n",
            "image 2199/2204 /content/image/images/00003505.jpg: 448x640 3 faces, 251.7ms\n",
            "image 2200/2204 /content/image/images/00003507.jpg: 640x640 1 face, 360.3ms\n",
            "image 2201/2204 /content/image/images/00003510.jpg: 640x480 2 faces, 268.4ms\n",
            "image 2202/2204 /content/image/images/00003513.jpg: 448x640 1 face, 252.4ms\n",
            "image 2203/2204 /content/image/images/00003514.jpg: 640x448 1 face, 263.0ms\n",
            "image 2204/2204 /content/image/images/00003517.jpg: 640x640 (no detections), 369.0ms\n",
            "Speed: 4.2ms preprocess, 196.0ms inference, 1.3ms postprocess per image at shape (1, 3, 640, 640)\n",
            "Results saved to \u001b[1mruns/detect/predict\u001b[0m\n"
          ]
        }
      ],
      "source": [
        "from ultralytics import YOLO\n",
        "\n",
        "# Load your trained model\n",
        "model = YOLO(\"best (3).pt\")\n",
        "\n",
        "# Predict on an image\n",
        "results = model.predict(\"/content/image/images/\", save=True, conf=0.5)\n"
      ]
    },
    {
      "cell_type": "code",
      "execution_count": null,
      "metadata": {
        "colab": {
          "base_uri": "https://localhost:8080/"
        },
        "id": "d9FT6tQUNVws",
        "outputId": "b6e5508e-b9e3-4609-b002-98c429147116"
      },
      "outputs": [
        {
          "name": "stdout",
          "output_type": "stream",
          "text": [
            "Collecting streamlit\n",
            "  Downloading streamlit-1.47.1-py3-none-any.whl.metadata (9.0 kB)\n",
            "Collecting streamlit_option_menu\n",
            "  Downloading streamlit_option_menu-0.4.0-py3-none-any.whl.metadata (2.5 kB)\n",
            "Requirement already satisfied: altair<6,>=4.0 in /usr/local/lib/python3.11/dist-packages (from streamlit) (5.5.0)\n",
            "Requirement already satisfied: blinker<2,>=1.5.0 in /usr/local/lib/python3.11/dist-packages (from streamlit) (1.9.0)\n",
            "Requirement already satisfied: cachetools<7,>=4.0 in /usr/local/lib/python3.11/dist-packages (from streamlit) (5.5.2)\n",
            "Requirement already satisfied: click<9,>=7.0 in /usr/local/lib/python3.11/dist-packages (from streamlit) (8.2.1)\n",
            "Requirement already satisfied: numpy<3,>=1.23 in /usr/local/lib/python3.11/dist-packages (from streamlit) (2.0.2)\n",
            "Requirement already satisfied: packaging<26,>=20 in /usr/local/lib/python3.11/dist-packages (from streamlit) (25.0)\n",
            "Requirement already satisfied: pandas<3,>=1.4.0 in /usr/local/lib/python3.11/dist-packages (from streamlit) (2.2.2)\n",
            "Requirement already satisfied: pillow<12,>=7.1.0 in /usr/local/lib/python3.11/dist-packages (from streamlit) (11.3.0)\n",
            "Requirement already satisfied: protobuf<7,>=3.20 in /usr/local/lib/python3.11/dist-packages (from streamlit) (5.29.5)\n",
            "Requirement already satisfied: pyarrow>=7.0 in /usr/local/lib/python3.11/dist-packages (from streamlit) (18.1.0)\n",
            "Requirement already satisfied: requests<3,>=2.27 in /usr/local/lib/python3.11/dist-packages (from streamlit) (2.32.3)\n",
            "Requirement already satisfied: tenacity<10,>=8.1.0 in /usr/local/lib/python3.11/dist-packages (from streamlit) (8.5.0)\n",
            "Requirement already satisfied: toml<2,>=0.10.1 in /usr/local/lib/python3.11/dist-packages (from streamlit) (0.10.2)\n",
            "Requirement already satisfied: typing-extensions<5,>=4.4.0 in /usr/local/lib/python3.11/dist-packages (from streamlit) (4.14.1)\n",
            "Collecting watchdog<7,>=2.1.5 (from streamlit)\n",
            "  Downloading watchdog-6.0.0-py3-none-manylinux2014_x86_64.whl.metadata (44 kB)\n",
            "\u001b[2K     \u001b[90m━━━━━━━━━━━━━━━━━━━━━━━━━━━━━━━━━━━━━━━━\u001b[0m \u001b[32m44.3/44.3 kB\u001b[0m \u001b[31m1.9 MB/s\u001b[0m eta \u001b[36m0:00:00\u001b[0m\n",
            "\u001b[?25hRequirement already satisfied: gitpython!=3.1.19,<4,>=3.0.7 in /usr/local/lib/python3.11/dist-packages (from streamlit) (3.1.45)\n",
            "Collecting pydeck<1,>=0.8.0b4 (from streamlit)\n",
            "  Downloading pydeck-0.9.1-py2.py3-none-any.whl.metadata (4.1 kB)\n",
            "Requirement already satisfied: tornado!=6.5.0,<7,>=6.0.3 in /usr/local/lib/python3.11/dist-packages (from streamlit) (6.4.2)\n",
            "Requirement already satisfied: jinja2 in /usr/local/lib/python3.11/dist-packages (from altair<6,>=4.0->streamlit) (3.1.6)\n",
            "Requirement already satisfied: jsonschema>=3.0 in /usr/local/lib/python3.11/dist-packages (from altair<6,>=4.0->streamlit) (4.25.0)\n",
            "Requirement already satisfied: narwhals>=1.14.2 in /usr/local/lib/python3.11/dist-packages (from altair<6,>=4.0->streamlit) (1.48.1)\n",
            "Requirement already satisfied: gitdb<5,>=4.0.1 in /usr/local/lib/python3.11/dist-packages (from gitpython!=3.1.19,<4,>=3.0.7->streamlit) (4.0.12)\n",
            "Requirement already satisfied: python-dateutil>=2.8.2 in /usr/local/lib/python3.11/dist-packages (from pandas<3,>=1.4.0->streamlit) (2.9.0.post0)\n",
            "Requirement already satisfied: pytz>=2020.1 in /usr/local/lib/python3.11/dist-packages (from pandas<3,>=1.4.0->streamlit) (2025.2)\n",
            "Requirement already satisfied: tzdata>=2022.7 in /usr/local/lib/python3.11/dist-packages (from pandas<3,>=1.4.0->streamlit) (2025.2)\n",
            "Requirement already satisfied: charset-normalizer<4,>=2 in /usr/local/lib/python3.11/dist-packages (from requests<3,>=2.27->streamlit) (3.4.2)\n",
            "Requirement already satisfied: idna<4,>=2.5 in /usr/local/lib/python3.11/dist-packages (from requests<3,>=2.27->streamlit) (3.10)\n",
            "Requirement already satisfied: urllib3<3,>=1.21.1 in /usr/local/lib/python3.11/dist-packages (from requests<3,>=2.27->streamlit) (2.5.0)\n",
            "Requirement already satisfied: certifi>=2017.4.17 in /usr/local/lib/python3.11/dist-packages (from requests<3,>=2.27->streamlit) (2025.7.14)\n",
            "Requirement already satisfied: smmap<6,>=3.0.1 in /usr/local/lib/python3.11/dist-packages (from gitdb<5,>=4.0.1->gitpython!=3.1.19,<4,>=3.0.7->streamlit) (5.0.2)\n",
            "Requirement already satisfied: MarkupSafe>=2.0 in /usr/local/lib/python3.11/dist-packages (from jinja2->altair<6,>=4.0->streamlit) (3.0.2)\n",
            "Requirement already satisfied: attrs>=22.2.0 in /usr/local/lib/python3.11/dist-packages (from jsonschema>=3.0->altair<6,>=4.0->streamlit) (25.3.0)\n",
            "Requirement already satisfied: jsonschema-specifications>=2023.03.6 in /usr/local/lib/python3.11/dist-packages (from jsonschema>=3.0->altair<6,>=4.0->streamlit) (2025.4.1)\n",
            "Requirement already satisfied: referencing>=0.28.4 in /usr/local/lib/python3.11/dist-packages (from jsonschema>=3.0->altair<6,>=4.0->streamlit) (0.36.2)\n",
            "Requirement already satisfied: rpds-py>=0.7.1 in /usr/local/lib/python3.11/dist-packages (from jsonschema>=3.0->altair<6,>=4.0->streamlit) (0.26.0)\n",
            "Requirement already satisfied: six>=1.5 in /usr/local/lib/python3.11/dist-packages (from python-dateutil>=2.8.2->pandas<3,>=1.4.0->streamlit) (1.17.0)\n",
            "Downloading streamlit-1.47.1-py3-none-any.whl (9.9 MB)\n",
            "\u001b[2K   \u001b[90m━━━━━━━━━━━━━━━━━━━━━━━━━━━━━━━━━━━━━━━━\u001b[0m \u001b[32m9.9/9.9 MB\u001b[0m \u001b[31m40.4 MB/s\u001b[0m eta \u001b[36m0:00:00\u001b[0m\n",
            "\u001b[?25hDownloading streamlit_option_menu-0.4.0-py3-none-any.whl (829 kB)\n",
            "\u001b[2K   \u001b[90m━━━━━━━━━━━━━━━━━━━━━━━━━━━━━━━━━━━━━━━━\u001b[0m \u001b[32m829.3/829.3 kB\u001b[0m \u001b[31m37.2 MB/s\u001b[0m eta \u001b[36m0:00:00\u001b[0m\n",
            "\u001b[?25hDownloading pydeck-0.9.1-py2.py3-none-any.whl (6.9 MB)\n",
            "\u001b[2K   \u001b[90m━━━━━━━━━━━━━━━━━━━━━━━━━━━━━━━━━━━━━━━━\u001b[0m \u001b[32m6.9/6.9 MB\u001b[0m \u001b[31m33.8 MB/s\u001b[0m eta \u001b[36m0:00:00\u001b[0m\n",
            "\u001b[?25hDownloading watchdog-6.0.0-py3-none-manylinux2014_x86_64.whl (79 kB)\n",
            "\u001b[2K   \u001b[90m━━━━━━━━━━━━━━━━━━━━━━━━━━━━━━━━━━━━━━━━\u001b[0m \u001b[32m79.1/79.1 kB\u001b[0m \u001b[31m5.9 MB/s\u001b[0m eta \u001b[36m0:00:00\u001b[0m\n",
            "\u001b[?25hInstalling collected packages: watchdog, pydeck, streamlit, streamlit_option_menu\n",
            "Successfully installed pydeck-0.9.1 streamlit-1.47.1 streamlit_option_menu-0.4.0 watchdog-6.0.0\n"
          ]
        }
      ],
      "source": [
        "!pip install streamlit streamlit_option_menu"
      ]
    },
    {
      "cell_type": "code",
      "execution_count": null,
      "metadata": {
        "colab": {
          "base_uri": "https://localhost:8080/"
        },
        "id": "W4cRKdVUNkja",
        "outputId": "12dc9bad-8b13-49de-b364-cf2161619a33"
      },
      "outputs": [
        {
          "name": "stdout",
          "output_type": "stream",
          "text": [
            "Overwriting app.py\n"
          ]
        }
      ],
      "source": [
        "%%writefile app.py\n",
        "\n",
        "\n",
        "# app.py\n",
        "import streamlit as st\n",
        "import pandas as pd\n",
        "import os\n",
        "from PIL import Image\n",
        "import plotly.express as px\n",
        "from ultralytics import YOLO\n",
        "from IPython.display import display\n",
        "\n",
        "# Load YOLOv8 Model\n",
        "model = YOLO(\"best (3).pt\")\n",
        "\n",
        "# Load CSV dataset\n",
        "df = pd.read_csv(\"faces.csv\")\n",
        "\n",
        "# Sidebar\n",
        "st.sidebar.title(\"Navigation\")\n",
        "menu = st.sidebar.radio(\"Go to\", [\"Data\", \"EDA\", \"Prediction\"])\n",
        "\n",
        "# 1. DATA PAGE\n",
        "if menu == \"Data\":\n",
        "    st.title(\"📂 Dataset and Model Performance\")\n",
        "\n",
        "    st.subheader(\"Raw Bounding Box Dataset\")\n",
        "    st.dataframe(df.head(10))\n",
        "\n",
        "    # Show some metrics\n",
        "    st.subheader(\"📊 Model Metrics\")\n",
        "    st.metric(label=\"mAP@0.5\", value=\"0.91\")\n",
        "    st.metric(label=\"Precision\", value=\"0.91\")\n",
        "    st.metric(label=\"Recall\", value=\"0.47\")\n",
        "\n",
        "# 2. EDA PAGE\n",
        "elif menu == \"EDA\":\n",
        "    st.title(\"📊 Exploratory Data Analysis (EDA) - Face Detection Dataset\")\n",
        "\n",
        "    # 1. Image Count\n",
        "    st.subheader(\"📁 Total Images and Faces in Dataset\")\n",
        "    total_images = df['image_name'].nunique()\n",
        "    total_faces = len(df)\n",
        "    st.markdown(f\"- **Total Unique Images**: {total_images}\")\n",
        "    st.markdown(f\"- **Total Faces (Bounding Boxes)**: {total_faces}\")\n",
        "\n",
        "    # 2. Face Count per Image\n",
        "    st.subheader(\"🧍 Faces per Image\")\n",
        "    face_count_df = df['image_name'].value_counts().reset_index()\n",
        "    face_count_df.columns = ['image_name', 'face_count']\n",
        "    fig_face_count = px.histogram(face_count_df, x='face_count', nbins=20,\n",
        "                                   title=\"Distribution of Number of Faces per Image\")\n",
        "    st.plotly_chart(fig_face_count)\n",
        "\n",
        "    # 3. Bounding Box Accuracy (Width & Height Distribution)\n",
        "    st.subheader(\"🧱 Bounding Box Size Distribution\")\n",
        "    df['width'] = df['x1'] - df['x0']\n",
        "    df['height'] = df['y1'] - df['y0']\n",
        "    fig_size = px.scatter(df, x=\"width\", y=\"height\",\n",
        "                          title=\"Bounding Box Width vs Height\",\n",
        "                          labels={\"width\": \"Box Width\", \"height\": \"Box Height\"})\n",
        "    st.plotly_chart(fig_size)\n",
        "\n",
        "    # 4. Label Consistency Check\n",
        "    st.subheader(\"🔖 Label Consistency\")\n",
        "    df['class'] = 'face'  # If all objects are faces\n",
        "    if 'class' in df.columns:\n",
        "\n",
        "        label_counts = df['class'].value_counts().reset_index()\n",
        "        label_counts.columns = ['Label', 'Count']\n",
        "        fig_label = px.bar(label_counts, x='Label', y='Count', title=\"Class Distribution\")\n",
        "        st.plotly_chart(fig_label)\n",
        "    else:\n",
        "        st.warning(\"No 'class' column found to check label consistency.\")\n",
        "\n",
        "    # 5. Resize/Cropping Need Check\n",
        "    st.subheader(\"📐 Resize Requirement Check\")\n",
        "    st.markdown(\"Minimum and Maximum Bounding Box Sizes (W x H):\")\n",
        "    st.write(f\"🔹 Min Width: {df['width'].min()}, Max Width: {df['width'].max()}\")\n",
        "    st.write(f\"🔹 Min Height: {df['height'].min()}, Max Height: {df['height'].max()}\")\n",
        "\n",
        "    # 6. Image Resolution Preview\n",
        "    st.subheader(\"🖼️ Image Resolution Check (Random Samples)\")\n",
        "    import random\n",
        "    sample_imgs = df['image_name'].drop_duplicates().sample(3, random_state=42)\n",
        "    for img in sample_imgs:\n",
        "        img_path = f\"/content/image/images/{img}\"\n",
        "        if os.path.exists(img_path):\n",
        "            image = Image.open(img_path)\n",
        "            st.image(image, caption=f\"{img} - Size: {image.size}\", use_column_width=True)\n",
        "        else:\n",
        "            st.warning(f\"Image not found: {img}\")\n",
        "\n",
        "\n",
        "# 3. PREDICTION PAGE\n",
        "elif menu == \"Prediction\":\n",
        "    st.title(\"🎯 Face Detection Prediction\")\n",
        "\n",
        "    uploaded_file = st.file_uploader(\"Upload an Image\", type=[\"jpg\", \"png\", \"jpeg\"])\n",
        "\n",
        "    if uploaded_file is not None:\n",
        "        from PIL import Image\n",
        "        import io\n",
        "\n",
        "        image = Image.open(uploaded_file)\n",
        "        image = image.convert(\"RGB\")  # Ensure 3-channel\n",
        "        image.save(\"uploaded.jpg\")\n",
        "\n",
        "        st.image(\"uploaded.jpg\", caption=\"Uploaded Image\", use_column_width=True)\n",
        "\n",
        "        if st.button(\"Detect Faces\"):\n",
        "            # Predict using YOLO\n",
        "            results = model.predict(\"uploaded.jpg\", save=True, conf=0.5)\n",
        "\n",
        "            # Load latest detected image\n",
        "            import glob\n",
        "            import os\n",
        "\n",
        "            predict_paths = sorted(glob.glob(\"runs/detect/predict*/uploaded.jpg\"), key=os.path.getmtime, reverse=True)\n",
        "\n",
        "            if predict_paths:\n",
        "                st.image(predict_paths[0], caption=\"Detected Image\", use_column_width=True)\n",
        "            else:\n",
        "                st.warning(\"No detected image found.\")\n",
        "\n",
        "\n"
      ]
    },
    {
      "cell_type": "code",
      "execution_count": null,
      "metadata": {
        "colab": {
          "base_uri": "https://localhost:8080/"
        },
        "id": "rKG466DaOoi8",
        "outputId": "ce1a1b0d-1cdc-4f0f-8f04-43955edfbda7"
      },
      "outputs": [
        {
          "name": "stdout",
          "output_type": "stream",
          "text": [
            "34.23.120.243\n"
          ]
        }
      ],
      "source": [
        "!wget -q -O - ipv4.icanhazip.com"
      ]
    },
    {
      "cell_type": "code",
      "execution_count": null,
      "metadata": {
        "colab": {
          "background_save": true,
          "base_uri": "https://localhost:8080/"
        },
        "id": "p4oyfZdPOfSp",
        "outputId": "b422b8eb-b1f9-42bf-80f5-aaa7fa43df0b"
      },
      "outputs": [
        {
          "name": "stdout",
          "output_type": "stream",
          "text": [
            "\u001b[1G\u001b[0K⠙\n",
            "Collecting usage statistics. To deactivate, set browser.gatherUsageStats to false.\n",
            "\u001b[0m\n",
            "\u001b[1G\u001b[0K⠹\u001b[1G\u001b[0K⠸\u001b[1G\u001b[0K⠼\u001b[1G\u001b[0K⠴\u001b[1G\u001b[0K⠦\u001b[1G\u001b[0K⠧\u001b[1G\u001b[0K⠇\u001b[1G\u001b[0K⠏\u001b[1G\u001b[0K⠋\u001b[0m\n",
            "\u001b[34m\u001b[1m  You can now view your Streamlit app in your browser.\u001b[0m\n",
            "\u001b[0m\n",
            "\u001b[34m  Local URL: \u001b[0m\u001b[1mhttp://localhost:8501\u001b[0m\n",
            "\u001b[34m  Network URL: \u001b[0m\u001b[1mhttp://172.28.0.12:8501\u001b[0m\n",
            "\u001b[34m  External URL: \u001b[0m\u001b[1mhttp://34.23.120.243:8501\u001b[0m\n",
            "\u001b[0m\n",
            "\u001b[1G\u001b[0K⠙\u001b[1G\u001b[0K⠹\u001b[1G\u001b[0K⠸\u001b[1G\u001b[0K⠼\u001b[1G\u001b[0K⠴\u001b[1G\u001b[0K⠦\u001b[1G\u001b[0K⠧\u001b[1G\u001b[0K⠇\u001b[1G\u001b[0K⠏\u001b[1G\u001b[0K⠋\u001b[1G\u001b[0K\u001b[1G\u001b[0JNeed to install the following packages:\n",
            "localtunnel@2.0.2\n",
            "Ok to proceed? (y) \u001b[20Gy\n",
            "\n",
            "\u001b[1G\u001b[0K⠙\u001b[1G\u001b[0K⠹\u001b[1G\u001b[0K⠸\u001b[1G\u001b[0K⠼\u001b[1G\u001b[0K⠴\u001b[1G\u001b[0K⠦\u001b[1G\u001b[0K⠧\u001b[1G\u001b[0K⠇\u001b[1G\u001b[0K⠏\u001b[1G\u001b[0K⠋\u001b[1G\u001b[0K⠙\u001b[1G\u001b[0K⠹\u001b[1G\u001b[0K⠸\u001b[1G\u001b[0K⠼\u001b[1G\u001b[0K⠴\u001b[1G\u001b[0K⠦\u001b[1G\u001b[0K⠧\u001b[1G\u001b[0K⠇\u001b[1G\u001b[0K⠏\u001b[1G\u001b[0K⠋\u001b[1G\u001b[0K⠙\u001b[1G\u001b[0K⠹\u001b[1G\u001b[0K⠸\u001b[1G\u001b[0K⠼\u001b[1G\u001b[0K⠴\u001b[1G\u001b[0K⠦\u001b[1G\u001b[0K⠧\u001b[1G\u001b[0Kyour url is: https://silent-terms-think.loca.lt\n",
            "2025-08-02 05:24:37.841 The `use_column_width` parameter has been deprecated and will be removed in a future release. Please utilize the `use_container_width` parameter instead.\n",
            "2025-08-02 05:24:37.863 The `use_column_width` parameter has been deprecated and will be removed in a future release. Please utilize the `use_container_width` parameter instead.\n",
            "2025-08-02 05:24:37.890 The `use_column_width` parameter has been deprecated and will be removed in a future release. Please utilize the `use_container_width` parameter instead.\n",
            "2025-08-02 05:26:48.462 The `use_column_width` parameter has been deprecated and will be removed in a future release. Please utilize the `use_container_width` parameter instead.\n",
            "2025-08-02 05:26:57.769 The `use_column_width` parameter has been deprecated and will be removed in a future release. Please utilize the `use_container_width` parameter instead.\n",
            "\n",
            "image 1/1 /content/uploaded.jpg: 448x640 1 face, 177.0ms\n",
            "Speed: 5.5ms preprocess, 177.0ms inference, 2.0ms postprocess per image at shape (1, 3, 448, 640)\n",
            "Results saved to \u001b[1mruns/detect/predict2\u001b[0m\n",
            "2025-08-02 05:27:01.593 The `use_column_width` parameter has been deprecated and will be removed in a future release. Please utilize the `use_container_width` parameter instead.\n",
            "2025-08-02 05:30:24.890 The `use_column_width` parameter has been deprecated and will be removed in a future release. Please utilize the `use_container_width` parameter instead.\n",
            "2025-08-02 05:30:31.094 The `use_column_width` parameter has been deprecated and will be removed in a future release. Please utilize the `use_container_width` parameter instead.\n",
            "\n",
            "image 1/1 /content/uploaded.jpg: 448x640 5 faces, 178.2ms\n",
            "Speed: 4.8ms preprocess, 178.2ms inference, 1.3ms postprocess per image at shape (1, 3, 448, 640)\n",
            "Results saved to \u001b[1mruns/detect/predict3\u001b[0m\n",
            "2025-08-02 05:30:32.354 The `use_column_width` parameter has been deprecated and will be removed in a future release. Please utilize the `use_container_width` parameter instead.\n",
            "2025-08-02 05:31:17.718 The `use_column_width` parameter has been deprecated and will be removed in a future release. Please utilize the `use_container_width` parameter instead.\n",
            "2025-08-02 05:31:24.380 The `use_column_width` parameter has been deprecated and will be removed in a future release. Please utilize the `use_container_width` parameter instead.\n",
            "\n",
            "image 1/1 /content/uploaded.jpg: 448x640 2 faces, 164.4ms\n",
            "Speed: 5.3ms preprocess, 164.4ms inference, 1.2ms postprocess per image at shape (1, 3, 448, 640)\n",
            "Results saved to \u001b[1mruns/detect/predict4\u001b[0m\n",
            "2025-08-02 05:31:25.572 The `use_column_width` parameter has been deprecated and will be removed in a future release. Please utilize the `use_container_width` parameter instead.\n",
            "2025-08-02 05:31:45.925 The `use_column_width` parameter has been deprecated and will be removed in a future release. Please utilize the `use_container_width` parameter instead.\n",
            "2025-08-02 05:31:45.937 The `use_column_width` parameter has been deprecated and will be removed in a future release. Please utilize the `use_container_width` parameter instead.\n",
            "2025-08-02 05:31:45.958 The `use_column_width` parameter has been deprecated and will be removed in a future release. Please utilize the `use_container_width` parameter instead.\n"
          ]
        }
      ],
      "source": [
        "! streamlit run app.py & npx localtunnel --port 8501"
      ]
    }
  ],
  "metadata": {
    "accelerator": "GPU",
    "colab": {
      "gpuType": "T4",
      "provenance": [],
      "authorship_tag": "ABX9TyMOpvsEOkIUs/3CsjjtO9uc",
      "include_colab_link": true
    },
    "kernelspec": {
      "display_name": "Python 3",
      "name": "python3"
    },
    "language_info": {
      "name": "python"
    }
  },
  "nbformat": 4,
  "nbformat_minor": 0
}